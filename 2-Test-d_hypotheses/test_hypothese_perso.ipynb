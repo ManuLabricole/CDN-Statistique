{
 "cells": [
  {
   "cell_type": "code",
   "execution_count": 125,
   "id": "462c941d",
   "metadata": {},
   "outputs": [],
   "source": [
    "import numpy as np\n",
    "import pandas as pd\n",
    "\n",
    "from ipywidgets import interact, interactive, fixed, interact_manual\n",
    "import ipywidgets as widgets\n",
    "\n",
    "import scipy\n",
    "import scipy.stats as stats\n",
    "\n",
    "import matplotlib.pyplot as plt\n",
    "import seaborn as sns\n",
    "\n",
    "import os"
   ]
  },
  {
   "cell_type": "code",
   "execution_count": 126,
   "id": "2df0d0fb",
   "metadata": {},
   "outputs": [
    {
     "data": {
      "image/png": "[encoded data removed]",
      "text/plain": [
       "<Figure size 1152x72 with 1 Axes>"
      ]
     },
     "metadata": {},
     "output_type": "display_data"
    }
   ],
   "source": [
    "colors = sns.color_palette(\"tab20\", 16)\n",
    "sns.palplot(colors)\n",
    "sns.set_style(\"darkgrid\")"
   ]
  },
  {
   "cell_type": "code",
   "execution_count": 127,
   "id": "1e925d0f",
   "metadata": {},
   "outputs": [],
   "source": [
    "cwd = os.getcwd()"
   ]
  },
  {
   "cell_type": "markdown",
   "id": "6c3c4c85",
   "metadata": {},
   "source": [
    "# Iteration 1 - Etude du bruit et d'un son"
   ]
  },
  {
   "cell_type": "markdown",
   "id": "3d601460",
   "metadata": {},
   "source": [
    "# A Etude du bruit\n",
    "\n",
    "Avant de commencer à réfléchir à un quelconque test de detection de son, vous décidez d'étudier le bruit de fond. Le bruit c'est en fait tout ce qui ne vous intéresse pas, une fluctuation très faiblement audible (écouter le fichier wav) et qui ne vous dérange pas pendant votre sommeil (vous vivez dans un endroit calme). Ce qui vous intéresse in fine, ce sont les sons (on distingue donc bien les notions de son et de bruit). Mais pour espérer les détecter des **sons**, il vous faut d'abord caractériser **le bruit**."
   ]
  },
  {
   "cell_type": "markdown",
   "id": "157208ad",
   "metadata": {},
   "source": [
    "##  A.0 - Ecouter le fichier \"bruit.wav\" dans un lecteur audio"
   ]
  },
  {
   "cell_type": "raw",
   "id": "0be32fcc",
   "metadata": {},
   "source": [
    "--> Le son a juste 1s de miaulement de chat\n",
    "--> Objectif : retrouver ce signal dans des courbes"
   ]
  },
  {
   "cell_type": "markdown",
   "id": "36cfc59c",
   "metadata": {},
   "source": [
    "## A.1 - Importer le bruit \"bruit_seul.txt\" dans un array numpy\n",
    "\n",
    "Vous pouvez utiliser la fonction loadtxt de numpy"
   ]
  },
  {
   "cell_type": "code",
   "execution_count": 128,
   "id": "c74297cf",
   "metadata": {},
   "outputs": [],
   "source": [
    "bruit_seul_txt = \"bruit_seul.txt\"\n",
    "son_txt = \"son.txt\""
   ]
  },
  {
   "cell_type": "code",
   "execution_count": 129,
   "id": "6f89f1d3",
   "metadata": {},
   "outputs": [],
   "source": [
    "os.chdir(cwd)\n",
    "os.chdir(cwd+\"/Data\")\n",
    "\n",
    "bruit = np.loadtxt(bruit_seul_txt)\n",
    "son = np.loadtxt(son_txt)\n",
    "\n",
    "\n",
    "os.chdir(cwd)"
   ]
  },
  {
   "cell_type": "code",
   "execution_count": 130,
   "id": "c8cc8c76",
   "metadata": {},
   "outputs": [],
   "source": [
    "df_bruit = pd.DataFrame(bruit, columns = ['bruit_freq'])\n",
    "df_son = pd.DataFrame(son, columns = ['son_freq'])"
   ]
  },
  {
   "cell_type": "markdown",
   "id": "be005f4b",
   "metadata": {},
   "source": [
    "### Analyses des dataframe"
   ]
  },
  {
   "cell_type": "code",
   "execution_count": 131,
   "id": "d1137e67",
   "metadata": {},
   "outputs": [
    {
     "name": "stdout",
     "output_type": "stream",
     "text": [
      "(1000000, 1) (1000000, 1)\n"
     ]
    }
   ],
   "source": [
    "print(df_son.shape,df_bruit.shape)"
   ]
  },
  {
   "cell_type": "code",
   "execution_count": 132,
   "id": "0e6e9067",
   "metadata": {},
   "outputs": [
    {
     "data": {
      "text/plain": [
       "son_freq    float64\n",
       "dtype: object"
      ]
     },
     "execution_count": 132,
     "metadata": {},
     "output_type": "execute_result"
    }
   ],
   "source": [
    "#df_bruit_seul.dtypes\n",
    "df_son.dtypes"
   ]
  },
  {
   "cell_type": "code",
   "execution_count": 133,
   "id": "23a14fc4",
   "metadata": {},
   "outputs": [
    {
     "name": "stdout",
     "output_type": "stream",
     "text": [
      "(-5.3159256969415605,) (-5.3159256969415605,)\n"
     ]
    }
   ],
   "source": [
    "print(df_son.value_counts().idxmax(), df_bruit.value_counts().idxmax())"
   ]
  },
  {
   "cell_type": "code",
   "execution_count": 134,
   "id": "9476d744",
   "metadata": {},
   "outputs": [
    {
     "data": {
      "text/html": [
       "<div>\n",
       "<style scoped>\n",
       "    .dataframe tbody tr th:only-of-type {\n",
       "        vertical-align: middle;\n",
       "    }\n",
       "\n",
       "    .dataframe tbody tr th {\n",
       "        vertical-align: top;\n",
       "    }\n",
       "\n",
       "    .dataframe thead th {\n",
       "        text-align: right;\n",
       "    }\n",
       "</style>\n",
       "<table border=\"1\" class=\"dataframe\">\n",
       "  <thead>\n",
       "    <tr style=\"text-align: right;\">\n",
       "      <th></th>\n",
       "      <th>son_freq</th>\n",
       "    </tr>\n",
       "  </thead>\n",
       "  <tbody>\n",
       "    <tr>\n",
       "      <th>0</th>\n",
       "      <td>0.276235</td>\n",
       "    </tr>\n",
       "    <tr>\n",
       "      <th>1</th>\n",
       "      <td>-0.237085</td>\n",
       "    </tr>\n",
       "    <tr>\n",
       "      <th>2</th>\n",
       "      <td>-1.098637</td>\n",
       "    </tr>\n",
       "    <tr>\n",
       "      <th>3</th>\n",
       "      <td>0.049679</td>\n",
       "    </tr>\n",
       "    <tr>\n",
       "      <th>4</th>\n",
       "      <td>-0.109675</td>\n",
       "    </tr>\n",
       "  </tbody>\n",
       "</table>\n",
       "</div>"
      ],
      "text/plain": [
       "   son_freq\n",
       "0  0.276235\n",
       "1 -0.237085\n",
       "2 -1.098637\n",
       "3  0.049679\n",
       "4 -0.109675"
      ]
     },
     "execution_count": 134,
     "metadata": {},
     "output_type": "execute_result"
    }
   ],
   "source": [
    "df_son.head()"
   ]
  },
  {
   "cell_type": "code",
   "execution_count": 135,
   "id": "e6e84c14",
   "metadata": {},
   "outputs": [
    {
     "name": "stdout",
     "output_type": "stream",
     "text": [
      "---------> df_son information\n"
     ]
    },
    {
     "data": {
      "text/html": [
       "<div>\n",
       "<style scoped>\n",
       "    .dataframe tbody tr th:only-of-type {\n",
       "        vertical-align: middle;\n",
       "    }\n",
       "\n",
       "    .dataframe tbody tr th {\n",
       "        vertical-align: top;\n",
       "    }\n",
       "\n",
       "    .dataframe thead th {\n",
       "        text-align: right;\n",
       "    }\n",
       "</style>\n",
       "<table border=\"1\" class=\"dataframe\">\n",
       "  <thead>\n",
       "    <tr style=\"text-align: right;\">\n",
       "      <th></th>\n",
       "      <th>son_freq</th>\n",
       "    </tr>\n",
       "  </thead>\n",
       "  <tbody>\n",
       "    <tr>\n",
       "      <th>count</th>\n",
       "      <td>1000000.000000</td>\n",
       "    </tr>\n",
       "    <tr>\n",
       "      <th>mean</th>\n",
       "      <td>0.000903</td>\n",
       "    </tr>\n",
       "    <tr>\n",
       "      <th>std</th>\n",
       "      <td>1.003336</td>\n",
       "    </tr>\n",
       "    <tr>\n",
       "      <th>min</th>\n",
       "      <td>-5.315926</td>\n",
       "    </tr>\n",
       "    <tr>\n",
       "      <th>25%</th>\n",
       "      <td>-0.675015</td>\n",
       "    </tr>\n",
       "    <tr>\n",
       "      <th>50%</th>\n",
       "      <td>-0.000128</td>\n",
       "    </tr>\n",
       "    <tr>\n",
       "      <th>75%</th>\n",
       "      <td>0.676895</td>\n",
       "    </tr>\n",
       "    <tr>\n",
       "      <th>max</th>\n",
       "      <td>5.736037</td>\n",
       "    </tr>\n",
       "  </tbody>\n",
       "</table>\n",
       "</div>"
      ],
      "text/plain": [
       "             son_freq\n",
       "count  1000000.000000\n",
       "mean         0.000903\n",
       "std          1.003336\n",
       "min         -5.315926\n",
       "25%         -0.675015\n",
       "50%         -0.000128\n",
       "75%          0.676895\n",
       "max          5.736037"
      ]
     },
     "metadata": {},
     "output_type": "display_data"
    },
    {
     "name": "stdout",
     "output_type": "stream",
     "text": [
      "---------> df_bruit information\n"
     ]
    },
    {
     "data": {
      "text/html": [
       "<div>\n",
       "<style scoped>\n",
       "    .dataframe tbody tr th:only-of-type {\n",
       "        vertical-align: middle;\n",
       "    }\n",
       "\n",
       "    .dataframe tbody tr th {\n",
       "        vertical-align: top;\n",
       "    }\n",
       "\n",
       "    .dataframe thead th {\n",
       "        text-align: right;\n",
       "    }\n",
       "</style>\n",
       "<table border=\"1\" class=\"dataframe\">\n",
       "  <thead>\n",
       "    <tr style=\"text-align: right;\">\n",
       "      <th></th>\n",
       "      <th>son_freq</th>\n",
       "    </tr>\n",
       "  </thead>\n",
       "  <tbody>\n",
       "    <tr>\n",
       "      <th>count</th>\n",
       "      <td>1000000.000000</td>\n",
       "    </tr>\n",
       "    <tr>\n",
       "      <th>mean</th>\n",
       "      <td>0.000903</td>\n",
       "    </tr>\n",
       "    <tr>\n",
       "      <th>std</th>\n",
       "      <td>1.003336</td>\n",
       "    </tr>\n",
       "    <tr>\n",
       "      <th>min</th>\n",
       "      <td>-5.315926</td>\n",
       "    </tr>\n",
       "    <tr>\n",
       "      <th>25%</th>\n",
       "      <td>-0.675015</td>\n",
       "    </tr>\n",
       "    <tr>\n",
       "      <th>50%</th>\n",
       "      <td>-0.000128</td>\n",
       "    </tr>\n",
       "    <tr>\n",
       "      <th>75%</th>\n",
       "      <td>0.676895</td>\n",
       "    </tr>\n",
       "    <tr>\n",
       "      <th>max</th>\n",
       "      <td>5.736037</td>\n",
       "    </tr>\n",
       "  </tbody>\n",
       "</table>\n",
       "</div>"
      ],
      "text/plain": [
       "             son_freq\n",
       "count  1000000.000000\n",
       "mean         0.000903\n",
       "std          1.003336\n",
       "min         -5.315926\n",
       "25%         -0.675015\n",
       "50%         -0.000128\n",
       "75%          0.676895\n",
       "max          5.736037"
      ]
     },
     "metadata": {},
     "output_type": "display_data"
    }
   ],
   "source": [
    "print(\"---------> df_son information\")\n",
    "display(df_son.describe())\n",
    "print(\"---------> df_bruit information\")\n",
    "display(df_son.describe())"
   ]
  },
  {
   "cell_type": "raw",
   "id": "9d7814b7",
   "metadata": {},
   "source": [
    "--> Les dataframe semblent similaires en tout point statistique\n",
    "--> Il faut chercher des patternes"
   ]
  },
  {
   "cell_type": "markdown",
   "id": "8c02c415",
   "metadata": {},
   "source": [
    "## A.2 - Plotter l'amplitude mesurée (en vr) en fonction du temps pour la première seconde d'enregistrement\n",
    "On rappelle que la fréquence d'échantillonnage est 48 kHz"
   ]
  },
  {
   "cell_type": "code",
   "execution_count": 136,
   "id": "13dda518",
   "metadata": {},
   "outputs": [],
   "source": [
    "freq_ech = 48000 #Frequence en Hz"
   ]
  },
  {
   "cell_type": "code",
   "execution_count": 137,
   "id": "3230069c",
   "metadata": {},
   "outputs": [
    {
     "data": {
      "text/plain": [
       "<AxesSubplot:>"
      ]
     },
     "execution_count": 137,
     "metadata": {},
     "output_type": "execute_result"
    },
    {
     "data": {
      "image/png": "[encoded data removed]",
      "text/plain": [
       "<Figure size 864x432 with 1 Axes>"
      ]
     },
     "metadata": {},
     "output_type": "display_data"
    }
   ],
   "source": [
    "df_bruit.loc[:48000].abs().plot(figsize=(12,6))"
   ]
  },
  {
   "cell_type": "code",
   "execution_count": 138,
   "id": "daace698",
   "metadata": {},
   "outputs": [],
   "source": [
    "def add_new_index(df):\n",
    "    duration = len(df) / freq_ech\n",
    "    # Create a new index with a frequency of 1 sample per 48000 Hz\n",
    "    new_index = pd.Index(np.arange(0, duration, 1/freq_ech), name='time')\n",
    "    df = df.set_index(new_index)\n",
    "    return df"
   ]
  },
  {
   "cell_type": "code",
   "execution_count": 139,
   "id": "35a26588",
   "metadata": {},
   "outputs": [
    {
     "name": "stdout",
     "output_type": "stream",
     "text": [
      "On retrouve bien notre enregistrement de 20s\n"
     ]
    },
    {
     "data": {
      "text/html": [
       "<div>\n",
       "<style scoped>\n",
       "    .dataframe tbody tr th:only-of-type {\n",
       "        vertical-align: middle;\n",
       "    }\n",
       "\n",
       "    .dataframe tbody tr th {\n",
       "        vertical-align: top;\n",
       "    }\n",
       "\n",
       "    .dataframe thead th {\n",
       "        text-align: right;\n",
       "    }\n",
       "</style>\n",
       "<table border=\"1\" class=\"dataframe\">\n",
       "  <thead>\n",
       "    <tr style=\"text-align: right;\">\n",
       "      <th></th>\n",
       "      <th>bruit_freq</th>\n",
       "    </tr>\n",
       "    <tr>\n",
       "      <th>time</th>\n",
       "      <th></th>\n",
       "    </tr>\n",
       "  </thead>\n",
       "  <tbody>\n",
       "    <tr>\n",
       "      <th>0.000000</th>\n",
       "      <td>0.492209</td>\n",
       "    </tr>\n",
       "    <tr>\n",
       "      <th>0.000021</th>\n",
       "      <td>0.189033</td>\n",
       "    </tr>\n",
       "    <tr>\n",
       "      <th>0.000042</th>\n",
       "      <td>1.509044</td>\n",
       "    </tr>\n",
       "    <tr>\n",
       "      <th>0.000063</th>\n",
       "      <td>0.677286</td>\n",
       "    </tr>\n",
       "    <tr>\n",
       "      <th>0.000083</th>\n",
       "      <td>-0.402110</td>\n",
       "    </tr>\n",
       "    <tr>\n",
       "      <th>...</th>\n",
       "      <td>...</td>\n",
       "    </tr>\n",
       "    <tr>\n",
       "      <th>20.833229</th>\n",
       "      <td>-0.500145</td>\n",
       "    </tr>\n",
       "    <tr>\n",
       "      <th>20.833250</th>\n",
       "      <td>-0.288808</td>\n",
       "    </tr>\n",
       "    <tr>\n",
       "      <th>20.833271</th>\n",
       "      <td>-0.142364</td>\n",
       "    </tr>\n",
       "    <tr>\n",
       "      <th>20.833292</th>\n",
       "      <td>0.443795</td>\n",
       "    </tr>\n",
       "    <tr>\n",
       "      <th>20.833312</th>\n",
       "      <td>0.665205</td>\n",
       "    </tr>\n",
       "  </tbody>\n",
       "</table>\n",
       "<p>1000000 rows × 1 columns</p>\n",
       "</div>"
      ],
      "text/plain": [
       "           bruit_freq\n",
       "time                 \n",
       "0.000000     0.492209\n",
       "0.000021     0.189033\n",
       "0.000042     1.509044\n",
       "0.000063     0.677286\n",
       "0.000083    -0.402110\n",
       "...               ...\n",
       "20.833229   -0.500145\n",
       "20.833250   -0.288808\n",
       "20.833271   -0.142364\n",
       "20.833292    0.443795\n",
       "20.833312    0.665205\n",
       "\n",
       "[1000000 rows x 1 columns]"
      ]
     },
     "execution_count": 139,
     "metadata": {},
     "output_type": "execute_result"
    }
   ],
   "source": [
    "df_son = add_new_index(df_son)\n",
    "df_bruit = add_new_index(df_bruit)\n",
    "print(\"On retrouve bien notre enregistrement de 20s\")\n",
    "df_bruit"
   ]
  },
  {
   "cell_type": "markdown",
   "id": "6f567ce8",
   "metadata": {},
   "source": [
    "### Amplitude absolue premiere seconde"
   ]
  },
  {
   "cell_type": "code",
   "execution_count": 140,
   "id": "6fc3f6c8",
   "metadata": {},
   "outputs": [
    {
     "data": {
      "text/html": [
       "<div>\n",
       "<style scoped>\n",
       "    .dataframe tbody tr th:only-of-type {\n",
       "        vertical-align: middle;\n",
       "    }\n",
       "\n",
       "    .dataframe tbody tr th {\n",
       "        vertical-align: top;\n",
       "    }\n",
       "\n",
       "    .dataframe thead th {\n",
       "        text-align: right;\n",
       "    }\n",
       "</style>\n",
       "<table border=\"1\" class=\"dataframe\">\n",
       "  <thead>\n",
       "    <tr style=\"text-align: right;\">\n",
       "      <th></th>\n",
       "      <th>bruit_freq</th>\n",
       "    </tr>\n",
       "    <tr>\n",
       "      <th>time</th>\n",
       "      <th></th>\n",
       "    </tr>\n",
       "  </thead>\n",
       "  <tbody>\n",
       "    <tr>\n",
       "      <th>0.000000</th>\n",
       "      <td>0.492209</td>\n",
       "    </tr>\n",
       "    <tr>\n",
       "      <th>0.000021</th>\n",
       "      <td>0.189033</td>\n",
       "    </tr>\n",
       "    <tr>\n",
       "      <th>0.000042</th>\n",
       "      <td>1.509044</td>\n",
       "    </tr>\n",
       "    <tr>\n",
       "      <th>0.000063</th>\n",
       "      <td>0.677286</td>\n",
       "    </tr>\n",
       "    <tr>\n",
       "      <th>0.000083</th>\n",
       "      <td>-0.402110</td>\n",
       "    </tr>\n",
       "  </tbody>\n",
       "</table>\n",
       "</div>"
      ],
      "text/plain": [
       "          bruit_freq\n",
       "time                \n",
       "0.000000    0.492209\n",
       "0.000021    0.189033\n",
       "0.000042    1.509044\n",
       "0.000063    0.677286\n",
       "0.000083   -0.402110"
      ]
     },
     "execution_count": 140,
     "metadata": {},
     "output_type": "execute_result"
    },
    {
     "data": {
      "image/png": "[encoded data removed]",
      "text/plain": [
       "<Figure size 864x432 with 1 Axes>"
      ]
     },
     "metadata": {},
     "output_type": "display_data"
    },
    {
     "data": {
      "image/png": "[encoded data removed]",
      "text/plain": [
       "<Figure size 864x432 with 1 Axes>"
      ]
     },
     "metadata": {},
     "output_type": "display_data"
    }
   ],
   "source": [
    "df_bruit.loc[:20].plot(figsize=(12,6))\n",
    "df_bruit.loc[:1].abs().plot(figsize=(12,6))\n",
    "df_bruit.head()"
   ]
  },
  {
   "cell_type": "markdown",
   "id": "bf18be61",
   "metadata": {},
   "source": [
    "## A.3 - Afficher les probability density function (PDF) et  la cumulative distribution function (CDF) empiriques de l'amplitude du bruit en va"
   ]
  },
  {
   "cell_type": "code",
   "execution_count": 141,
   "id": "98f93a3b",
   "metadata": {},
   "outputs": [
    {
     "data": {
      "text/html": [
       "<div>\n",
       "<style scoped>\n",
       "    .dataframe tbody tr th:only-of-type {\n",
       "        vertical-align: middle;\n",
       "    }\n",
       "\n",
       "    .dataframe tbody tr th {\n",
       "        vertical-align: top;\n",
       "    }\n",
       "\n",
       "    .dataframe thead th {\n",
       "        text-align: right;\n",
       "    }\n",
       "</style>\n",
       "<table border=\"1\" class=\"dataframe\">\n",
       "  <thead>\n",
       "    <tr style=\"text-align: right;\">\n",
       "      <th></th>\n",
       "      <th>bruit_freq</th>\n",
       "    </tr>\n",
       "    <tr>\n",
       "      <th>time</th>\n",
       "      <th></th>\n",
       "    </tr>\n",
       "  </thead>\n",
       "  <tbody>\n",
       "    <tr>\n",
       "      <th>0.000000</th>\n",
       "      <td>0.492209</td>\n",
       "    </tr>\n",
       "    <tr>\n",
       "      <th>0.000021</th>\n",
       "      <td>0.189033</td>\n",
       "    </tr>\n",
       "    <tr>\n",
       "      <th>0.000042</th>\n",
       "      <td>1.509044</td>\n",
       "    </tr>\n",
       "    <tr>\n",
       "      <th>0.000063</th>\n",
       "      <td>0.677286</td>\n",
       "    </tr>\n",
       "    <tr>\n",
       "      <th>0.000083</th>\n",
       "      <td>0.402110</td>\n",
       "    </tr>\n",
       "    <tr>\n",
       "      <th>...</th>\n",
       "      <td>...</td>\n",
       "    </tr>\n",
       "    <tr>\n",
       "      <th>20.833229</th>\n",
       "      <td>0.500145</td>\n",
       "    </tr>\n",
       "    <tr>\n",
       "      <th>20.833250</th>\n",
       "      <td>0.288808</td>\n",
       "    </tr>\n",
       "    <tr>\n",
       "      <th>20.833271</th>\n",
       "      <td>0.142364</td>\n",
       "    </tr>\n",
       "    <tr>\n",
       "      <th>20.833292</th>\n",
       "      <td>0.443795</td>\n",
       "    </tr>\n",
       "    <tr>\n",
       "      <th>20.833312</th>\n",
       "      <td>0.665205</td>\n",
       "    </tr>\n",
       "  </tbody>\n",
       "</table>\n",
       "<p>1000000 rows × 1 columns</p>\n",
       "</div>"
      ],
      "text/plain": [
       "           bruit_freq\n",
       "time                 \n",
       "0.000000     0.492209\n",
       "0.000021     0.189033\n",
       "0.000042     1.509044\n",
       "0.000063     0.677286\n",
       "0.000083     0.402110\n",
       "...               ...\n",
       "20.833229    0.500145\n",
       "20.833250    0.288808\n",
       "20.833271    0.142364\n",
       "20.833292    0.443795\n",
       "20.833312    0.665205\n",
       "\n",
       "[1000000 rows x 1 columns]"
      ]
     },
     "execution_count": 141,
     "metadata": {},
     "output_type": "execute_result"
    }
   ],
   "source": [
    "df_bruit.abs()"
   ]
  },
  {
   "cell_type": "code",
   "execution_count": 142,
   "id": "ce2c6c70",
   "metadata": {},
   "outputs": [
    {
     "data": {
      "text/html": [
       "<div>\n",
       "<style scoped>\n",
       "    .dataframe tbody tr th:only-of-type {\n",
       "        vertical-align: middle;\n",
       "    }\n",
       "\n",
       "    .dataframe tbody tr th {\n",
       "        vertical-align: top;\n",
       "    }\n",
       "\n",
       "    .dataframe thead th {\n",
       "        text-align: right;\n",
       "    }\n",
       "</style>\n",
       "<table border=\"1\" class=\"dataframe\">\n",
       "  <thead>\n",
       "    <tr style=\"text-align: right;\">\n",
       "      <th></th>\n",
       "      <th>bruit_freq</th>\n",
       "    </tr>\n",
       "    <tr>\n",
       "      <th>time</th>\n",
       "      <th></th>\n",
       "    </tr>\n",
       "  </thead>\n",
       "  <tbody>\n",
       "    <tr>\n",
       "      <th>0.000000</th>\n",
       "      <td>0.492209</td>\n",
       "    </tr>\n",
       "    <tr>\n",
       "      <th>0.000021</th>\n",
       "      <td>0.681243</td>\n",
       "    </tr>\n",
       "    <tr>\n",
       "      <th>0.000042</th>\n",
       "      <td>2.190287</td>\n",
       "    </tr>\n",
       "    <tr>\n",
       "      <th>0.000063</th>\n",
       "      <td>2.867573</td>\n",
       "    </tr>\n",
       "    <tr>\n",
       "      <th>0.000083</th>\n",
       "      <td>3.269684</td>\n",
       "    </tr>\n",
       "    <tr>\n",
       "      <th>...</th>\n",
       "      <td>...</td>\n",
       "    </tr>\n",
       "    <tr>\n",
       "      <th>20.833229</th>\n",
       "      <td>797885.063824</td>\n",
       "    </tr>\n",
       "    <tr>\n",
       "      <th>20.833250</th>\n",
       "      <td>797885.352633</td>\n",
       "    </tr>\n",
       "    <tr>\n",
       "      <th>20.833271</th>\n",
       "      <td>797885.494996</td>\n",
       "    </tr>\n",
       "    <tr>\n",
       "      <th>20.833292</th>\n",
       "      <td>797885.938791</td>\n",
       "    </tr>\n",
       "    <tr>\n",
       "      <th>20.833312</th>\n",
       "      <td>797886.603996</td>\n",
       "    </tr>\n",
       "  </tbody>\n",
       "</table>\n",
       "<p>1000000 rows × 1 columns</p>\n",
       "</div>"
      ],
      "text/plain": [
       "              bruit_freq\n",
       "time                    \n",
       "0.000000        0.492209\n",
       "0.000021        0.681243\n",
       "0.000042        2.190287\n",
       "0.000063        2.867573\n",
       "0.000083        3.269684\n",
       "...                  ...\n",
       "20.833229  797885.063824\n",
       "20.833250  797885.352633\n",
       "20.833271  797885.494996\n",
       "20.833292  797885.938791\n",
       "20.833312  797886.603996\n",
       "\n",
       "[1000000 rows x 1 columns]"
      ]
     },
     "execution_count": 142,
     "metadata": {},
     "output_type": "execute_result"
    }
   ],
   "source": [
    "df_bruit.abs().cumsum()"
   ]
  },
  {
   "cell_type": "code",
   "execution_count": 143,
   "id": "d50e06a8",
   "metadata": {},
   "outputs": [
    {
     "data": {
      "image/png": "[encoded data removed]",
      "text/plain": [
       "<Figure size 720x360 with 2 Axes>"
      ]
     },
     "metadata": {},
     "output_type": "display_data"
    }
   ],
   "source": [
    "fig, axs = plt.subplots(1, 2, figsize=(10, 5))\n",
    "\n",
    "fig.suptitle(\"Probqbility Density VS Cumulqtive distribution\", fontsize=20)\n",
    "sns.set_style(\"darkgrid\")\n",
    "\n",
    "df = df_bruit\n",
    "\n",
    "# plot the probability density on the right axis\n",
    "df_bruit.abs().plot(\n",
    "    ax=axs[0],\n",
    "    kind='density',\n",
    "    color=colors[2]\n",
    ")\n",
    "\n",
    "axs[0].set_title('PDF du Bruit en VA')\n",
    "axs[0].set_xlabel('Value')\n",
    "axs[0].set_ylabel('Density')\n",
    "axs[0].legend(\"oui\")\n",
    "\n",
    "\n",
    "# plot the cumulative shape on the left axis\n",
    "df_bruit.abs().hist(\n",
    "    ax=axs[1],\n",
    "    bins=1000, \n",
    "    histtype='step', \n",
    "    density=True,\n",
    "    cumulative=1,\n",
    "    label='Reversed emp.',\n",
    "    color=colors[1]\n",
    ")\n",
    "\n",
    "axs[1].set_title('CDF du Bruit en VA')\n",
    "axs[1].set_xlabel('Index')\n",
    "axs[1].set_ylabel('Cumulative Sum')\n",
    "\n",
    "\n",
    "# adjust the layout and display the plot\n",
    "plt.tight_layout()\n",
    "plt.show()"
   ]
  },
  {
   "cell_type": "markdown",
   "id": "03553cef",
   "metadata": {},
   "source": [
    "## A.4 - Identifier les 2 lois de probabilités obtenues à la question précédente "
   ]
  },
  {
   "cell_type": "markdown",
   "id": "0ff56c83",
   "metadata": {},
   "source": [
    "### a - Pouvez-vous identifier les 2 fonctions ?\n",
    "\n",
    "Au vu de la forme des 2 fonctions, à quelles fonction analytiques ressemblent-elles ? Si vous avez une idée précise, identifiez la et donnez ses coefficients caractéristiques.\n",
    "Sinon rendez-vous question suivante :)"
   ]
  },
  {
   "cell_type": "code",
   "execution_count": 144,
   "id": "ef51f071",
   "metadata": {},
   "outputs": [
    {
     "data": {
      "text/html": [
       "<div>\n",
       "<style scoped>\n",
       "    .dataframe tbody tr th:only-of-type {\n",
       "        vertical-align: middle;\n",
       "    }\n",
       "\n",
       "    .dataframe tbody tr th {\n",
       "        vertical-align: top;\n",
       "    }\n",
       "\n",
       "    .dataframe thead th {\n",
       "        text-align: right;\n",
       "    }\n",
       "</style>\n",
       "<table border=\"1\" class=\"dataframe\">\n",
       "  <thead>\n",
       "    <tr style=\"text-align: right;\">\n",
       "      <th></th>\n",
       "      <th>bruit_freq</th>\n",
       "    </tr>\n",
       "  </thead>\n",
       "  <tbody>\n",
       "    <tr>\n",
       "      <th>count</th>\n",
       "      <td>1000000.000000</td>\n",
       "    </tr>\n",
       "    <tr>\n",
       "      <th>mean</th>\n",
       "      <td>0.797887</td>\n",
       "    </tr>\n",
       "    <tr>\n",
       "      <th>std</th>\n",
       "      <td>0.602644</td>\n",
       "    </tr>\n",
       "    <tr>\n",
       "      <th>min</th>\n",
       "      <td>0.000002</td>\n",
       "    </tr>\n",
       "    <tr>\n",
       "      <th>25%</th>\n",
       "      <td>0.318673</td>\n",
       "    </tr>\n",
       "    <tr>\n",
       "      <th>50%</th>\n",
       "      <td>0.674425</td>\n",
       "    </tr>\n",
       "    <tr>\n",
       "      <th>75%</th>\n",
       "      <td>1.150025</td>\n",
       "    </tr>\n",
       "    <tr>\n",
       "      <th>max</th>\n",
       "      <td>5.315926</td>\n",
       "    </tr>\n",
       "  </tbody>\n",
       "</table>\n",
       "</div>"
      ],
      "text/plain": [
       "           bruit_freq\n",
       "count  1000000.000000\n",
       "mean         0.797887\n",
       "std          0.602644\n",
       "min          0.000002\n",
       "25%          0.318673\n",
       "50%          0.674425\n",
       "75%          1.150025\n",
       "max          5.315926"
      ]
     },
     "execution_count": 144,
     "metadata": {},
     "output_type": "execute_result"
    }
   ],
   "source": [
    "df_bruit.abs().describe()"
   ]
  },
  {
   "cell_type": "raw",
   "id": "e4e37c65",
   "metadata": {},
   "source": [
    "--> Loin normale pour la pdf : \n",
    "-----> Centré : 0.79\n",
    "-----> Ecart type : 0.6"
   ]
  },
  {
   "cell_type": "markdown",
   "id": "292e80f0",
   "metadata": {},
   "source": [
    "### b - Calculez la moyenne et l'écart type du bruit (pas en valeur absolue cette fois)\n",
    "Info : la classe `nd_array` du module `numpy` possède des méthodes qui font ça directement."
   ]
  },
  {
   "cell_type": "code",
   "execution_count": 145,
   "id": "a1d59e03",
   "metadata": {},
   "outputs": [
    {
     "data": {
      "text/html": [
       "<div>\n",
       "<style scoped>\n",
       "    .dataframe tbody tr th:only-of-type {\n",
       "        vertical-align: middle;\n",
       "    }\n",
       "\n",
       "    .dataframe tbody tr th {\n",
       "        vertical-align: top;\n",
       "    }\n",
       "\n",
       "    .dataframe thead th {\n",
       "        text-align: right;\n",
       "    }\n",
       "</style>\n",
       "<table border=\"1\" class=\"dataframe\">\n",
       "  <thead>\n",
       "    <tr style=\"text-align: right;\">\n",
       "      <th></th>\n",
       "      <th>bruit_freq</th>\n",
       "    </tr>\n",
       "  </thead>\n",
       "  <tbody>\n",
       "    <tr>\n",
       "      <th>count</th>\n",
       "      <td>1000000.000000</td>\n",
       "    </tr>\n",
       "    <tr>\n",
       "      <th>mean</th>\n",
       "      <td>0.002100</td>\n",
       "    </tr>\n",
       "    <tr>\n",
       "      <th>std</th>\n",
       "      <td>0.999899</td>\n",
       "    </tr>\n",
       "    <tr>\n",
       "      <th>min</th>\n",
       "      <td>-5.315926</td>\n",
       "    </tr>\n",
       "    <tr>\n",
       "      <th>25%</th>\n",
       "      <td>-0.672359</td>\n",
       "    </tr>\n",
       "    <tr>\n",
       "      <th>50%</th>\n",
       "      <td>0.000987</td>\n",
       "    </tr>\n",
       "    <tr>\n",
       "      <th>75%</th>\n",
       "      <td>0.676680</td>\n",
       "    </tr>\n",
       "    <tr>\n",
       "      <th>max</th>\n",
       "      <td>5.086007</td>\n",
       "    </tr>\n",
       "  </tbody>\n",
       "</table>\n",
       "</div>"
      ],
      "text/plain": [
       "           bruit_freq\n",
       "count  1000000.000000\n",
       "mean         0.002100\n",
       "std          0.999899\n",
       "min         -5.315926\n",
       "25%         -0.672359\n",
       "50%          0.000987\n",
       "75%          0.676680\n",
       "max          5.086007"
      ]
     },
     "execution_count": 145,
     "metadata": {},
     "output_type": "execute_result"
    }
   ],
   "source": [
    "df_bruit.describe()"
   ]
  },
  {
   "cell_type": "raw",
   "id": "0c222566",
   "metadata": {},
   "source": [
    "--> Les valeurs sont centrées réduites"
   ]
  },
  {
   "cell_type": "markdown",
   "id": "cd7c3edb",
   "metadata": {},
   "source": [
    "### c - 1 - Sur le même graphe, affichez la PDF de $ \\mid bruit \\mid $ et la gaussienne de moyenne et d'écart type calculée question précédente"
   ]
  },
  {
   "cell_type": "code",
   "execution_count": 146,
   "id": "dfd68f9c",
   "metadata": {},
   "outputs": [
    {
     "data": {
      "image/png": "[encoded data removed]",
      "text/plain": [
       "<Figure size 864x432 with 2 Axes>"
      ]
     },
     "metadata": {},
     "output_type": "display_data"
    }
   ],
   "source": [
    "fig, ax = plt.subplots(1, 1, figsize=(12, 6))\n",
    "fig.suptitle(\"Comparison PDF( |bruit| ) and a standartdized Gaussian\", fontsize=15)\n",
    "sns.set_style(\"darkgrid\")\n",
    "ax = fig.subplots()\n",
    "\n",
    "df_bruit_mean = df_bruit.mean()[0]\n",
    "df_bruit_std = df_bruit.std()[0]\n",
    " \n",
    "# Calculating probability density function (PDF)\n",
    "x=np.linspace(-4,4)\n",
    "pdf = stats.norm.pdf(x, df_bruit_mean, df_bruit_std)\n",
    "\n",
    "# Drawing a graph\n",
    "ax.plot(x,\n",
    "        pdf, \n",
    "        color=colors[2],\n",
    "        label=\"Gaussian\"\n",
    "       )\n",
    "df_bruit.abs().plot(\n",
    "    ax=ax,\n",
    "    kind='density',\n",
    "    color=colors[0],\n",
    "    label=\"PDF - |bruit|\"\n",
    ")\n",
    "ax.set_ylim([0, 1])\n",
    "ax.set_xlabel(\"Amplitude\", size=12)    \n",
    "ax.set_ylabel(\"Probability\", size=12)     \n",
    "ax.legend()\n",
    "\n",
    "plt.show()"
   ]
  },
  {
   "cell_type": "markdown",
   "id": "7437e3da",
   "metadata": {},
   "source": [
    "### c - 2 - Expliquez la différence entre les deux courbes.\n"
   ]
  },
  {
   "cell_type": "raw",
   "id": "22ce3bff",
   "metadata": {},
   "source": [
    "--> Les deux Graphs sont centrés en zero\n",
    "--> Cependant on voit que la courbe pour le |bruit| a une probabilité double en zero en positif puisque qu'on q augmenté leur nombre en utilisant la valeur absolue\n",
    "--> Les courbes se croisent en x=0 puisque cette probqbilité n'est pas effecté par la | |"
   ]
  },
  {
   "cell_type": "markdown",
   "id": "7dd5da85",
   "metadata": {},
   "source": [
    "## A.5 - Evaluer la probabilité des amplitudes du bruit pour différentes plages d'amplitudes\n",
    "\n",
    "Ici comme très souvent on différencie le bruit du son. Le bruit est une fluctuation statistique, alors que le son est porteur d'information.\n",
    "\n",
    "On va considérer dans la suite de cette itération que le bruit est parfaitement caractérisé par une loi demi-normale, de moyenne $\\mu =0$ et d'écart type $\\sigma = 1 $. Sa fonction de densité (PDF) est :\n",
    "$$ f(x) = \\frac{2}{\\sigma \\sqrt{2 \\pi}} \\mathrm{e}^{- \\frac{1}{2} \\left( \\frac{ (x - \\mu)^2}{\\sigma^2} \\right)  }$$\n",
    "\n",
    "On utilisera donc pour répondre aux questions suivantes (A.5) les CDF et PDF analytiques (c'est à dire théoriques) puisque l'on fait l'hypothèse que notre bruit est régi par une distribution demi-normale.\n",
    "\n",
    "Vous pouvez explorer la doc de scipy.stats pour trouver les fonctions associées à diverses distributions : https://docs.scipy.org/doc/scipy/tutorial/stats.html"
   ]
  },
  {
   "cell_type": "markdown",
   "id": "dc681caf",
   "metadata": {},
   "source": [
    "### a -  Donner la formule analytique de la fonction de répartition (CDF) de la loi demi-normale\n",
    "(Pour les plus matheux elle peut se déduire de la PDF, sinon wikipedia est votre ami)."
   ]
  },
  {
   "cell_type": "markdown",
   "id": "024be5bc",
   "metadata": {},
   "source": [
    "On va considérer dans la suite de cette itération que le bruit est parfaitement caractérisé par une loi demi-normale, de moyenne $\\mu =0$ et d'écart type $\\sigma = 1 $. Sa fonction de densité (PDF) est :\n",
    "$$ f(x) = 2* \\frac{2}{\\sigma \\sqrt{2 \\pi}} \\mathrm{e}^{- \\frac{1}{2} \\left( \\frac{ (x)^2}{\\sigma^2} \\right)  } si x>0$$\n",
    "$$ 0, si x<0 $$"
   ]
  },
  {
   "cell_type": "markdown",
   "id": "73978fa4",
   "metadata": {},
   "source": [
    "### b - 1 Probabilités sur les amplitudes du bruit\n",
    "\n",
    "* Quelle est la probabilité d'observer des amplitudes comprises dans $[0 , \\sigma]$  ?\n",
    "* Même question pour $[0 , 2\\sigma]$\n",
    "* Même question pour $[0, 3\\sigma]$\n"
   ]
  },
  {
   "cell_type": "code",
   "execution_count": 147,
   "id": "962c48d5",
   "metadata": {},
   "outputs": [],
   "source": [
    "mu = 0\n",
    "sigma = 1"
   ]
  },
  {
   "cell_type": "markdown",
   "id": "7eb9a7f6",
   "metadata": {},
   "source": [
    "#### CDF --> Prend un amplitude et renvoie une proba\n",
    "--> C'est l'air sous la courbe de [-inf, a]"
   ]
  },
  {
   "cell_type": "code",
   "execution_count": 148,
   "id": "1fa3bbe7",
   "metadata": {},
   "outputs": [],
   "source": [
    "def prob_interval(val_inf, val_sup):\n",
    "\n",
    "    a = val_inf\n",
    "    b = val_sup\n",
    "\n",
    "    dist = stats.halfnorm(scale=sigma, loc=mu)\n",
    "    prob = dist.cdf(b) - dist.cdf(a)\n",
    "    return prob"
   ]
  },
  {
   "cell_type": "code",
   "execution_count": 149,
   "id": "7701087f",
   "metadata": {},
   "outputs": [
    {
     "name": "stdout",
     "output_type": "stream",
     "text": [
      "0.6827 %\n",
      "0.9545 %\n",
      "0.9973 %\n"
     ]
    }
   ],
   "source": [
    "print(f\"{round(prob_interval(0,sigma),4)} %\")\n",
    "print(f\"{round(prob_interval(0,2*sigma),4)} %\")\n",
    "print(f\"{round(prob_interval(0,3*sigma),4)} %\")"
   ]
  },
  {
   "cell_type": "markdown",
   "id": "0c7b4a17",
   "metadata": {},
   "source": [
    "### b - 2 Probabilités sur les amplitudes du bruit\n",
    "\n",
    "À l'inverse on s'intéresse maintenant aux amplitudes comprises dans l'intervalle  $[a,\\infty]$ (avec $a > 0$).\n",
    "\n",
    "Déterminer les valeur de a pour que la probabilité de d'observer une amplitude supérieure à $a$ (donc comprise dans $[a,\\infty]$) soit de :\n",
    "\n",
    "- 5 %\n",
    "- 1%\n",
    "- 0.1%\n"
   ]
  },
  {
   "cell_type": "markdown",
   "id": "1c06d541",
   "metadata": {},
   "source": [
    "#### "
   ]
  },
  {
   "cell_type": "markdown",
   "id": "8758f5e8",
   "metadata": {},
   "source": [
    "#### A l'inverse, on peut récupérer l'amplitude A, à partir de la proba --> ppf(P(a)) = amp\n",
    "--> Cependant il faut etre prudent. La ppf prend en entrée la probabilité P(a) d'avoir une valeur entre [0, amp]\n",
    "--> Si l'on veut récupérer la probabilité d'être entre [amp, +inf] il faut donc changer la probabilité en input\n",
    "--> on regardera ppf(1-P(a))"
   ]
  },
  {
   "cell_type": "code",
   "execution_count": 150,
   "id": "4a7061c0",
   "metadata": {},
   "outputs": [],
   "source": [
    "def find_a_given_prob(prob):\n",
    "    a=0\n",
    "    probTemp=1\n",
    "    while probTemp > prob :\n",
    "        probTemp = stats.halfnorm.sf(a, scale=sigma, loc=mu)\n",
    "        a += 0.001\n",
    "    print(f\"a = {round(a, 3)} --> probabilty : {probTemp}\")    \n",
    "    return a"
   ]
  },
  {
   "cell_type": "code",
   "execution_count": 151,
   "id": "02917f58",
   "metadata": {},
   "outputs": [
    {
     "name": "stdout",
     "output_type": "stream",
     "text": [
      "a = 1.961 --> probabilty : 0.04999579029645318\n",
      "a = 2.577 --> probabilty : 0.009995064631475037\n",
      "a = 3.292 --> probabilty : 0.0009983191327647134\n"
     ]
    },
    {
     "data": {
      "text/plain": [
       "3.2919999999997485"
      ]
     },
     "execution_count": 151,
     "metadata": {},
     "output_type": "execute_result"
    }
   ],
   "source": [
    "find_a_given_prob(0.05)\n",
    "find_a_given_prob(0.01)\n",
    "find_a_given_prob(0.001)"
   ]
  },
  {
   "cell_type": "code",
   "execution_count": 152,
   "id": "cd766875",
   "metadata": {},
   "outputs": [
    {
     "name": "stdout",
     "output_type": "stream",
     "text": [
      "1.959963984540054\n",
      "2.5758293035489004\n",
      "3.2905267314919255\n"
     ]
    }
   ],
   "source": [
    "print(stats.halfnorm.ppf(1-0.05, scale=sigma, loc=mu))\n",
    "print(stats.halfnorm.ppf(1-0.01, scale=sigma, loc=mu))\n",
    "print(stats.halfnorm.ppf(1-0.001, scale=sigma, loc=mu))"
   ]
  },
  {
   "cell_type": "raw",
   "id": "446e853b",
   "metadata": {},
   "source": [
    "--> sf(x, scale) : Returns the probability that a random variable from the half-normal distribution is greater than or equal to x. \n",
    "\n",
    "--> cdf(x, scale) : is the cumulative distribution function, which gives the probability that a random variable from the distribution is less than or equal to x."
   ]
  },
  {
   "cell_type": "markdown",
   "id": "d93832fb",
   "metadata": {},
   "source": [
    "# B - Etude d'un son\n",
    "\n",
    "Vous avez réalisé un enregistrement pendant la nuit. En inspectant rapidement la courbe amplitude(temps), il vous semble voir quelque chose de particulier, et vous soupçonnez fortement qu'il ne s'agisse pas du bruit mais d'un son (une tentative d'effraction ?). Vous trouverez l'extrait en question dans le fichier \"son.wav\"."
   ]
  },
  {
   "cell_type": "code",
   "execution_count": 153,
   "id": "c8dd9144",
   "metadata": {},
   "outputs": [
    {
     "data": {
      "text/html": [
       "<div>\n",
       "<style scoped>\n",
       "    .dataframe tbody tr th:only-of-type {\n",
       "        vertical-align: middle;\n",
       "    }\n",
       "\n",
       "    .dataframe tbody tr th {\n",
       "        vertical-align: top;\n",
       "    }\n",
       "\n",
       "    .dataframe thead th {\n",
       "        text-align: right;\n",
       "    }\n",
       "</style>\n",
       "<table border=\"1\" class=\"dataframe\">\n",
       "  <thead>\n",
       "    <tr style=\"text-align: right;\">\n",
       "      <th></th>\n",
       "      <th>son_freq</th>\n",
       "    </tr>\n",
       "    <tr>\n",
       "      <th>time</th>\n",
       "      <th></th>\n",
       "    </tr>\n",
       "  </thead>\n",
       "  <tbody>\n",
       "    <tr>\n",
       "      <th>0.000000</th>\n",
       "      <td>0.276235</td>\n",
       "    </tr>\n",
       "    <tr>\n",
       "      <th>0.000021</th>\n",
       "      <td>-0.237085</td>\n",
       "    </tr>\n",
       "    <tr>\n",
       "      <th>0.000042</th>\n",
       "      <td>-1.098637</td>\n",
       "    </tr>\n",
       "    <tr>\n",
       "      <th>0.000063</th>\n",
       "      <td>0.049679</td>\n",
       "    </tr>\n",
       "    <tr>\n",
       "      <th>0.000083</th>\n",
       "      <td>-0.109675</td>\n",
       "    </tr>\n",
       "    <tr>\n",
       "      <th>...</th>\n",
       "      <td>...</td>\n",
       "    </tr>\n",
       "    <tr>\n",
       "      <th>20.833229</th>\n",
       "      <td>-0.066749</td>\n",
       "    </tr>\n",
       "    <tr>\n",
       "      <th>20.833250</th>\n",
       "      <td>1.040575</td>\n",
       "    </tr>\n",
       "    <tr>\n",
       "      <th>20.833271</th>\n",
       "      <td>-0.747036</td>\n",
       "    </tr>\n",
       "    <tr>\n",
       "      <th>20.833292</th>\n",
       "      <td>0.400601</td>\n",
       "    </tr>\n",
       "    <tr>\n",
       "      <th>20.833312</th>\n",
       "      <td>0.014198</td>\n",
       "    </tr>\n",
       "  </tbody>\n",
       "</table>\n",
       "<p>1000000 rows × 1 columns</p>\n",
       "</div>"
      ],
      "text/plain": [
       "           son_freq\n",
       "time               \n",
       "0.000000   0.276235\n",
       "0.000021  -0.237085\n",
       "0.000042  -1.098637\n",
       "0.000063   0.049679\n",
       "0.000083  -0.109675\n",
       "...             ...\n",
       "20.833229 -0.066749\n",
       "20.833250  1.040575\n",
       "20.833271 -0.747036\n",
       "20.833292  0.400601\n",
       "20.833312  0.014198\n",
       "\n",
       "[1000000 rows x 1 columns]"
      ]
     },
     "execution_count": 153,
     "metadata": {},
     "output_type": "execute_result"
    }
   ],
   "source": [
    "df_son"
   ]
  },
  {
   "cell_type": "markdown",
   "id": "03dab7bd",
   "metadata": {},
   "source": [
    "## B.1 -  Importez le fichier \"son.txt\" dans un array numpy et faites un plot comparant un zone exclusivement bruitée et une zone de son"
   ]
  },
  {
   "cell_type": "code",
   "execution_count": 154,
   "id": "3f42ee99",
   "metadata": {},
   "outputs": [
    {
     "data": {
      "text/plain": [
       "<AxesSubplot:xlabel='time'>"
      ]
     },
     "execution_count": 154,
     "metadata": {},
     "output_type": "execute_result"
    },
    {
     "data": {
      "image/png": "[encoded data removed]",
      "text/plain": [
       "<Figure size 864x432 with 1 Axes>"
      ]
     },
     "metadata": {},
     "output_type": "display_data"
    }
   ],
   "source": [
    "fig, ax = plt.subplots(1, 1, figsize=(12, 6))\n",
    "df_son.abs().loc[8:15].plot(\n",
    "    ax=ax,\n",
    "    color=colors[0],\n",
    "    alpha=1\n",
    ")\n",
    "df_bruit.abs().loc[8:15].plot(\n",
    "    ax=ax,\n",
    "    color=colors[1],\n",
    "    alpha=0.8\n",
    ")"
   ]
  },
  {
   "cell_type": "raw",
   "id": "993c3148",
   "metadata": {},
   "source": [
    "--> Apparament un bruit special entre 10s et 11s"
   ]
  },
  {
   "cell_type": "markdown",
   "id": "ca7b6199",
   "metadata": {},
   "source": [
    "## B.2 -  Identifier approximativement la zone de son et afficher la PDF et la CDF empiriques de l'amplitude (en va), quelle différence avec celles du bruit ?"
   ]
  },
  {
   "cell_type": "markdown",
   "id": "c2314a9e",
   "metadata": {},
   "source": [
    "### Comparaison des PDF et CDF"
   ]
  },
  {
   "cell_type": "code",
   "execution_count": 155,
   "id": "1341687c",
   "metadata": {},
   "outputs": [
    {
     "data": {
      "image/png": "[encoded data removed]",
      "text/plain": [
       "<Figure size 864x432 with 2 Axes>"
      ]
     },
     "metadata": {},
     "output_type": "display_data"
    }
   ],
   "source": [
    "fig, axs = plt.subplots(1, 2, figsize=(12, 6))\n",
    "\n",
    "fig.suptitle(\"Probability Density VS Cumulative distribution - SON\", fontsize=20)\n",
    "sns.set_style(\"darkgrid\")\n",
    "\n",
    "df = df_son\n",
    "\n",
    "# plot the probability density on the right axis\n",
    "df_son.plot(\n",
    "    ax=axs[0],\n",
    "    kind='density',\n",
    "    color=colors[0],\n",
    "    label=\"Son\"\n",
    ")\n",
    "df_bruit.plot(\n",
    "    ax=axs[0],\n",
    "    kind='density',\n",
    "    color=colors[4],\n",
    "    label=\"Bruit\"\n",
    ")\n",
    "\n",
    "axs[0].set_title('PDF du Son en VA')\n",
    "axs[0].set_xlabel('Value')\n",
    "axs[0].set_ylabel('Density')\n",
    "axs[0].legend(\"oui\")\n",
    "\n",
    "\n",
    "# plot the cumulative shape on the left axis\n",
    "df.abs().hist(\n",
    "    ax=axs[1],\n",
    "    bins=1000, \n",
    "    histtype='step', \n",
    "    density=True,\n",
    "    cumulative=1,\n",
    "    label='Empirique',\n",
    "    color=colors[1]\n",
    ")\n",
    "\n",
    "axs[1].set_title('CDF du Son en VA')\n",
    "axs[1].set_xlabel('Index')\n",
    "axs[1].set_ylabel('Cumulative Sum')\n",
    "axs[1].legend()\n",
    "axs[0].legend()\n",
    "\n",
    "# adjust the layout and display the plot\n",
    "plt.tight_layout()\n",
    "plt.show()"
   ]
  },
  {
   "cell_type": "code",
   "execution_count": 156,
   "id": "6b73f771",
   "metadata": {},
   "outputs": [
    {
     "data": {
      "image/png": "[encoded data removed]",
      "text/plain": [
       "<Figure size 864x432 with 2 Axes>"
      ]
     },
     "metadata": {},
     "output_type": "display_data"
    }
   ],
   "source": [
    "fig, ax = plt.subplots(2, 1, figsize=(12, 6))\n",
    "\n",
    "fig.suptitle(\"Histogramme comparison\", fontsize=20)\n",
    "sns.set_style(\"darkgrid\")\n",
    "\n",
    "bins_size=50\n",
    "\n",
    "# plot the probability density on the right axis\n",
    "df_son.loc[10:11].hist(\n",
    "    ax=ax[0],\n",
    "    bins=bins_size,\n",
    "    density=True,\n",
    "    color=colors[0],\n",
    "    alpha=1,\n",
    "    label=\"Son\"\n",
    ")\n",
    "df_bruit.loc[10:11].hist(\n",
    "    ax=ax[0],\n",
    "    bins=bins_size,\n",
    "    density=True,\n",
    "    color=colors[4],\n",
    "    alpha=0.5,\n",
    "    label=\"Bruit\"\n",
    ")\n",
    "\n",
    "# plot the probability density on the right axis\n",
    "df_son.loc[10:11].hist(\n",
    "    ax=ax[1],\n",
    "    bins=bins_size,\n",
    "    density=True,\n",
    "    cumulative=1,\n",
    "    color=colors[0],\n",
    "    alpha=1,\n",
    "    label=\"Son\"\n",
    ")\n",
    "df_bruit.loc[10:11].hist(\n",
    "    ax=ax[1],\n",
    "    bins=bins_size,\n",
    "    density=True,\n",
    "    cumulative=1,\n",
    "    color=colors[4],\n",
    "    alpha=0.5,\n",
    "    label=\"Bruit\"\n",
    ")\n",
    "\n",
    "\n",
    "ax[0].set_title('CDF du Son en VA')\n",
    "ax[0].set_xlabel('Index')\n",
    "ax[0].set_ylabel('Cumulative Sum')\n",
    "ax[0].legend()\n",
    "\n",
    "\n",
    "# adjust the layout and display the plot\n",
    "plt.tight_layout()\n",
    "plt.show()"
   ]
  },
  {
   "cell_type": "raw",
   "id": "8763a918",
   "metadata": {},
   "source": [
    "--> Effectivement la courbe du bruit est plus concentrée autour de 0\n",
    "--> Donc la courbe du son elle est plus écrasée - Moins en zéro, plus sur le téco\n",
    "--> Ceci pour expliquer les valeurs \"aberrantes\" du au pic de son"
   ]
  },
  {
   "cell_type": "markdown",
   "id": "e0327c89",
   "metadata": {},
   "source": [
    "## B.3 - Afficher pour différents seuils d’amplitude (en va) les index où l’amplitude est supérieure à ce seuil (en plottant avec deux couleurs différentes par exemple). \n",
    "\n",
    "Conclure sur la possibilité d'identifier l'intervalle du son avec cette méthode."
   ]
  },
  {
   "cell_type": "code",
   "execution_count": 157,
   "id": "8b68a411",
   "metadata": {},
   "outputs": [],
   "source": [
    "tresholdParam = 0.11"
   ]
  },
  {
   "cell_type": "code",
   "execution_count": 158,
   "id": "1aa75414",
   "metadata": {},
   "outputs": [],
   "source": [
    "treshold = df_son.abs().quantile(0.9*(1+tresholdParam))[0]\n",
    "treshold = 4"
   ]
  },
  {
   "cell_type": "code",
   "execution_count": 159,
   "id": "e32605c7",
   "metadata": {},
   "outputs": [
    {
     "data": {
      "text/plain": [
       "son_freq\n",
       "False       999904\n",
       "True            96\n",
       "dtype: int64"
      ]
     },
     "execution_count": 159,
     "metadata": {},
     "output_type": "execute_result"
    }
   ],
   "source": [
    "mask = (df_son.abs()[\"son_freq\"] > treshold).to_frame()\n",
    "mask.value_counts()"
   ]
  },
  {
   "cell_type": "code",
   "execution_count": 160,
   "id": "79b8083d",
   "metadata": {},
   "outputs": [
    {
     "data": {
      "text/plain": [
       "96"
      ]
     },
     "execution_count": 160,
     "metadata": {},
     "output_type": "execute_result"
    }
   ],
   "source": [
    "indices = mask.index[mask[\"son_freq\"] == True].tolist()\n",
    "len(indices)"
   ]
  },
  {
   "cell_type": "code",
   "execution_count": 161,
   "id": "9f2a85c8",
   "metadata": {},
   "outputs": [],
   "source": [
    "def get_indices_from_treshold(treshold):\n",
    "    mask = (df_son.abs()[\"son_freq\"] > treshold).to_frame()\n",
    "    indices = mask.index[mask[\"son_freq\"] == True].tolist()\n",
    "    return indices"
   ]
  },
  {
   "cell_type": "code",
   "execution_count": 162,
   "id": "48aec32b",
   "metadata": {},
   "outputs": [
    {
     "data": {
      "application/vnd.jupyter.widget-view+json": {
       "model_id": "c30c3447963c447f8f93523458c202ce",
       "version_major": 2,
       "version_minor": 0
      },
      "text/plain": [
       "interactive(children=(FloatSlider(value=4.5, description='val', max=6.0, min=4.0, step=0.5), Output()), _dom_c…"
      ]
     },
     "metadata": {},
     "output_type": "display_data"
    }
   ],
   "source": [
    "from ipywidgets import interact, interactive, fixed, interact_manual\n",
    "import ipywidgets as widgets\n",
    "\n",
    "\n",
    "slider = widgets.FloatSlider(value=4.5, min=4,max=6, step=0.5)\n",
    "@interact(val = slider)\n",
    "def densityplot(val):\n",
    "    indices = get_indices_from_treshold(val)\n",
    "    fig, ax = plt.subplots(1, 1, figsize=(12, 6))\n",
    "    \n",
    "    fig.suptitle(\"|Son| avec les valeurs au dessus du treshold\", fontsize=20)\n",
    "    sns.set_style(\"darkgrid\")\n",
    "    \n",
    "    df = df_son.abs().loc[10:12]\n",
    "    \n",
    "    # plot the probability density on the right axis\n",
    "    sns.lineplot(\n",
    "        ax=ax,\n",
    "        data=df,\n",
    "        color=colors[0],\n",
    "        label=\"Son\",\n",
    "        alpha=0.8\n",
    "    )\n",
    "    \n",
    "    for i in indices:\n",
    "        plt.axvline(x=i, color=colors[2], linestyle='--')\n",
    "    \n",
    "    plt.axhline(y=treshold, color=colors[4])\n",
    "    \n",
    "    ax.set_title('PDF du Son en VA')\n",
    "    ax.set_xlabel('Value')\n",
    "    ax.set_ylabel('Density')\n",
    "    ax.legend(\"oui\")\n",
    "    \n",
    "    \n",
    "    ax.legend()\n",
    "    \n",
    "    # adjust the layout and display the plot\n",
    "    plt.tight_layout()\n",
    "    print(f\"Computed with {val}\")\n",
    "    print(f\"{len(indices)} values found\")\n",
    "    plt.show()\n",
    "    \n",
    "    return val"
   ]
  },
  {
   "cell_type": "markdown",
   "id": "eb17017d",
   "metadata": {},
   "source": [
    "----"
   ]
  },
  {
   "cell_type": "raw",
   "id": "f1bb1adb",
   "metadata": {},
   "source": [
    "--> Meme en essayant d'affiner le treshold on trouve toujours quelques valeurs aberantes"
   ]
  },
  {
   "cell_type": "markdown",
   "id": "3485b23c",
   "metadata": {},
   "source": [
    "-----"
   ]
  },
  {
   "cell_type": "code",
   "execution_count": 163,
   "id": "cdaf3520",
   "metadata": {},
   "outputs": [
    {
     "data": {
      "text/plain": [
       "4.5"
      ]
     },
     "execution_count": 163,
     "metadata": {},
     "output_type": "execute_result"
    }
   ],
   "source": [
    "slider.value"
   ]
  },
  {
   "cell_type": "markdown",
   "id": "905cfa09",
   "metadata": {},
   "source": [
    "# Itération 2 - Test d'hypothèse\n",
    "\n",
    "Plutôt que de faire des tests sur les occurences ponctuelles d'amplitude supérieure à une valeur seuil, vous décidez de faire une étude similaire portant sur le nombre d'occurences durant un certain temps. De cette manière, si le bruit atteint ponctuellement une amplitude importante, on peut se douter qu'il a très peu de chance de réitérer cet \"exploit\" beaucoup de fois dans un intervalle de temps court. Tout l'enjeu sera de quantifier cette \"chance\" (ie cette probabilité).\n",
    "\n",
    "# A - Un peu de proba\n",
    "\n",
    "\n",
    "* On note une limite d'amplitude $a_l$. La probabilité d'obtenir sur une unique mesure (on peut dire tirage comme pour les jeux de hasard) une amplitude $a$, telle que $a \\geq a_l $ est notée $p$.\n",
    "* On note $n$, le nombre d'amplitudes mesurées sur un intervalle (échantillon).\n",
    "* On note $k$ un entier positif inférieur ou égal à $n$. \n",
    "\n",
    "\n",
    "\n",
    "## A.1 - Donnez la formule de $P_k^{n}$, la probabilité de  tirer $k$ fois une amplitude supérieure ou égale à $a_l$ lors de $n$ tirages.\n",
    "\n",
    "Les plus affamés d'entre vous peuvent la démontrer. Sinon une recherche sur internet suffira largement.\n"
   ]
  },
  {
   "cell_type": "markdown",
   "id": "30b4c7a0",
   "metadata": {},
   "source": [
    "$$ P(A^N_k) =  \\binom{N}{k} \\cdot p^kq^{N-k}$$\n"
   ]
  },
  {
   "cell_type": "raw",
   "id": "bfb4f28e",
   "metadata": {},
   "source": [
    "--> Bernouilli Est un lancé True / False\n",
    "--> p est la probabilité de True\n",
    "--> Le graph est deux points :\n",
    "------> (randomeX1, p)\n",
    "------> (randomeX2, 1-p)"
   ]
  },
  {
   "cell_type": "code",
   "execution_count": 164,
   "id": "254cbac5",
   "metadata": {},
   "outputs": [
    {
     "name": "stdout",
     "output_type": "stream",
     "text": [
      "1.0\n"
     ]
    },
    {
     "data": {
      "image/png": "[encoded data removed]",
      "text/plain": [
       "<Figure size 432x288 with 1 Axes>"
      ]
     },
     "metadata": {},
     "output_type": "display_data"
    }
   ],
   "source": [
    "p=0.2\n",
    "fig, ax = plt.subplots(1, 1)\n",
    "mean, var, skew, kurt = stats.bernoulli.stats(p, moments='mvsk')\n",
    "\n",
    "x = range(-1,2)\n",
    "ax.plot(x, stats.bernoulli.pmf(x, p), 'bo', ms=8, label='bernoulli pmf')\n",
    "ax.vlines(x, 0, stats.bernoulli.pmf(x, p), colors='b', lw=5, alpha=0.5)\n",
    "\n",
    "print(stats.bernoulli.ppf(1, p))"
   ]
  },
  {
   "cell_type": "markdown",
   "id": "4eee34f5",
   "metadata": {},
   "source": [
    "## A.3 - Soit $n =20 $ : Analyse des probabilités de succès k dépendant de p\n"
   ]
  },
  {
   "cell_type": "markdown",
   "id": "9fda083c",
   "metadata": {},
   "source": [
    "### a - Pour plusieurs valeurs de $p$, calculez $P_k^{n}$ pour chaque $k=1..n$\n"
   ]
  },
  {
   "cell_type": "code",
   "execution_count": 165,
   "id": "247f2bf2",
   "metadata": {},
   "outputs": [
    {
     "name": "stdout",
     "output_type": "stream",
     "text": [
      "1.0000000000000009\n",
      "eeeeeeet pas vraiment --> 1\n"
     ]
    }
   ],
   "source": [
    "n = 20\n",
    "p = 0.2\n",
    "\n",
    "# En abscisse on veut le nombre k de succés\n",
    "# On va calculer la pmf de chaque x en prenant l'hypothèse que l'expérience suit une loi binomiale\n",
    "x = range(n+1)\n",
    "px = stats.binom.pmf(x, n, p)\n",
    "\n",
    "\n",
    "ptot = sum(px)\n",
    "print(ptot)\n",
    "print(\"eeeeeeet pas vraiment --> 1\")"
   ]
  },
  {
   "cell_type": "markdown",
   "id": "279be6db",
   "metadata": {},
   "source": [
    "###  b - Affichez en une sur un plot en barre"
   ]
  },
  {
   "cell_type": "code",
   "execution_count": 166,
   "id": "7aef1c37",
   "metadata": {},
   "outputs": [
    {
     "data": {
      "text/plain": [
       "<BarContainer object of 21 artists>"
      ]
     },
     "execution_count": 166,
     "metadata": {},
     "output_type": "execute_result"
    },
    {
     "data": {
      "image/png": "[encoded data removed]",
      "text/plain": [
       "<Figure size 432x288 with 1 Axes>"
      ]
     },
     "metadata": {},
     "output_type": "display_data"
    }
   ],
   "source": [
    "plt.bar(x,px)"
   ]
  },
  {
   "cell_type": "code",
   "execution_count": 167,
   "id": "4729d495",
   "metadata": {},
   "outputs": [
    {
     "data": {
      "image/png": "[encoded data removed]",
      "text/plain": [
       "<Figure size 1296x432 with 1 Axes>"
      ]
     },
     "metadata": {},
     "output_type": "display_data"
    },
    {
     "name": "stdout",
     "output_type": "stream",
     "text": [
      "p représente la probabilité d'être True\n",
      "Plus la probabilité est grande, plus la probabilité d'obtenir k réussite sur n augmente\n",
      "Exemple : Avec 90% de chance de réussir, la probabilité d'obtenir 18 lancés True est de 0.3\n"
     ]
    }
   ],
   "source": [
    "fig, ax = plt.subplots(1, 1, figsize=(18,6))\n",
    "\n",
    "n = 200\n",
    "mean, var, skew, kurt = stats.binom.stats(n, p, moments='mvsk')\n",
    "\n",
    "x = range(n+1)\n",
    "\n",
    "for i, p in enumerate(np.arange(0.1, 1.0, 0.1).tolist()):\n",
    "    p = round(p,1)\n",
    "    #On calcule chaque probabilité pour chaque x\n",
    "    ax.plot(\n",
    "        x, \n",
    "        stats.binom.pmf(x, n, p),\n",
    "        color=colors[i],\n",
    "        label=p)\n",
    "ax.set_xlabel(\"k\", fontsize=10)\n",
    "ax.set_ylabel(\"Probabilité\", fontsize=10)\n",
    "ax.legend()\n",
    "plt.show()\n",
    "print(\"p représente la probabilité d'être True\")\n",
    "print(\"Plus la probabilité est grande, plus la probabilité d'obtenir k réussite sur n augmente\")\n",
    "print(\"Exemple : Avec 90% de chance de réussir, la probabilité d'obtenir 18 lancés True est de 0.3\")"
   ]
  },
  {
   "cell_type": "markdown",
   "id": "3dd4e3de",
   "metadata": {},
   "source": [
    "# B - Construction du test d'hypothèse\n",
    "\n",
    "Vous voulez donc construire votre test d'hypothèse. On s'appuiera pour ce test sur la loi binomiale étudiée partie A. Pour cela, vous avez besoin de définir une hypothèse nulle, une hypothèse alternative, ainsi qu'un critère de significativité.\n",
    "\n",
    "* Il faudra identifier l'amplitude $a_l$ correspondant à une probabilité $p$. Cette probabilité correspond à la probabilité, sur une seule mesure du bruit, d'obtenir une amplitude supérieure ou égale à $a_l$. Donc vous devrez décider d'abord de la valeur de $p$ pour en déduire $a_l$ (si vous êtes confus, revoyez la partie 4-b de l'itération 1).\n",
    "* Vous aurez besoin de choisir un $n$. Vous comptabiliserez pour un intervalle comprenant $n$ mesures, le nombre $N_a$ de fois que vous aurez obtenu une mesure $a \\geq a_l$.\n",
    "\n",
    "Mais d'abord :\n",
    "\n",
    "## B.1 - Questions théoriques (sans code)\n",
    "\n",
    "### a - Caractérisez l'hypothèse nulle de votre test $H_{0} $"
   ]
  },
  {
   "cell_type": "raw",
   "id": "4da73843",
   "metadata": {},
   "source": [
    "--> Les amplitudes observées ne représente que des patterns de bruit"
   ]
  },
  {
   "cell_type": "markdown",
   "id": "f788f536",
   "metadata": {},
   "source": [
    "### b - Caractérisez l'hypothèse alternative $H_1$ (ou $H_a$ selon les gouts)"
   ]
  },
  {
   "cell_type": "raw",
   "id": "81448934",
   "metadata": {},
   "source": [
    "--> Les amplitudes observées ne peuvent pas être que du bruit"
   ]
  },
  {
   "cell_type": "markdown",
   "id": "693cc5a9",
   "metadata": {},
   "source": [
    "### c - Identifier l'élément mesurable (i.e. la statistique) qui permettra de réaliser le test"
   ]
  },
  {
   "cell_type": "raw",
   "id": "2741e221",
   "metadata": {},
   "source": [
    "--> Nombre de depassement par intervale"
   ]
  },
  {
   "cell_type": "markdown",
   "id": "799d4a84",
   "metadata": {},
   "source": [
    "### d - Rappeler la loi de probabilité de cet élément mesurable (ie cette statistique \"sous\" $H_0$)"
   ]
  },
  {
   "cell_type": "raw",
   "id": "a5b806f9",
   "metadata": {},
   "source": [
    "--> Nombre de depassement vérifie une loi de binomiale de probabilité 0.01% (cf treshold 2.57)\n",
    "--> de taille N = 100\n",
    "--> Il y a 1% des amplitudes qui dépasse 2.57"
   ]
  },
  {
   "cell_type": "markdown",
   "id": "b1ccdf1b",
   "metadata": {},
   "source": [
    "\n",
    "### e -  Définir la p-value d'un test (donner la formule), et la valeur qu'elle prend pour ce test en particulier\n"
   ]
  },
  {
   "cell_type": "raw",
   "id": "92c845d7",
   "metadata": {},
   "source": [
    "--> Pour tester on va choisir une amplitude treshold\n",
    "--> Dans notre cas treshold = 2.57\n",
    "\n",
    "--> On va analyser des échantillons. Compter le nombre de amp > 2.57 et en calculer le pourcentage\n",
    "--> On calculera p-value = 1 - binom.cdf(nbObs-1)"
   ]
  },
  {
   "cell_type": "markdown",
   "id": "0ca17492",
   "metadata": {},
   "source": [
    "\n",
    "### f - Étant donné le seuil de significativité $\\alpha$, identifier dans quelles situations $H_0$ sera rejetée, ou bien  non rejetée."
   ]
  },
  {
   "cell_type": "raw",
   "id": "80635574",
   "metadata": {},
   "source": [
    "--> Dans le cadre de la loi deminormale de notre bruit, la probabilité d'obtenir des amplitudes >2.57 est de 5%\n",
    "--> On a pour ca calculer la halfnorm.ppf(5%) pour mu=0\n",
    "alpha : p-value(2.57) = 5%"
   ]
  },
  {
   "cell_type": "markdown",
   "id": "dac282fa",
   "metadata": {},
   "source": [
    "## B.2 Réaliser un test d'hypothèse :\n",
    "\n",
    "Comme énoncé au début de cette partie B, il faut choisir une valeur pour $p$ et pour $n$. On se fixera $n = 100$, et $p = 0.01$. On se donnera également $\\alpha = 0.05 $.\n",
    "\n",
    "On commencera d'abord par travailler sur un intervalle de 100 mesures au milieu du signal sonore, entre les indices : $[505400, 505500]$.\n",
    "\n",
    "### B.2.a - Plotter la PMF loi de probabilité de l'élément mesurable \"sous\" $H_0$"
   ]
  },
  {
   "cell_type": "code",
   "execution_count": 203,
   "id": "55341ff5",
   "metadata": {},
   "outputs": [],
   "source": [
    "interval = [505400,505500]\n",
    "df_test = df_son.abs()"
   ]
  },
  {
   "cell_type": "code",
   "execution_count": 204,
   "id": "5ea9b886",
   "metadata": {},
   "outputs": [
    {
     "data": {
      "text/plain": [
       "0.6324947944827675"
      ]
     },
     "execution_count": 204,
     "metadata": {},
     "output_type": "execute_result"
    }
   ],
   "source": [
    "df_test.reset_index(drop=True)\n",
    "df_test.iloc[5000][\"son_freq\"]"
   ]
  },
  {
   "cell_type": "code",
   "execution_count": 205,
   "id": "e2590140",
   "metadata": {},
   "outputs": [],
   "source": [
    "treshold = 2.57\n",
    "\n",
    "def get_number_outliers(intervalInf, intervalSup):\n",
    "    outliers = 0\n",
    "    inf = intervalInf\n",
    "    sup = intervalSup\n",
    "    for value in range(inf,sup):\n",
    "        amp = df_test.iloc[value][\"son_freq\"]\n",
    "        if amp > treshold:\n",
    "            outliers += 1\n",
    "    print(f\"On compte --> {outliers} <-- valeurs > 2.57\")\n",
    "    return outliers"
   ]
  },
  {
   "cell_type": "code",
   "execution_count": 206,
   "id": "5a57a71d",
   "metadata": {},
   "outputs": [
    {
     "name": "stdout",
     "output_type": "stream",
     "text": [
      "On compte --> 11 <-- valeurs > 2.57\n"
     ]
    }
   ],
   "source": [
    "outliers = get_number_outliers(505400, 505500)"
   ]
  },
  {
   "cell_type": "code",
   "execution_count": 208,
   "id": "de200d94",
   "metadata": {},
   "outputs": [
    {
     "data": {
      "text/plain": [
       "6.255518436582008e-09"
      ]
     },
     "execution_count": 208,
     "metadata": {},
     "output_type": "execute_result"
    }
   ],
   "source": [
    "x = outliers-1\n",
    "n=100\n",
    "p=0.01\n",
    "\n",
    "prob = 1 - stats.binom.cdf(x, n, p)\n",
    "prob"
   ]
  },
  {
   "cell_type": "code",
   "execution_count": 209,
   "id": "59d333dd",
   "metadata": {},
   "outputs": [
    {
     "data": {
      "text/plain": [
       "5.809779483726614"
      ]
     },
     "execution_count": 209,
     "metadata": {},
     "output_type": "execute_result"
    }
   ],
   "source": [
    "stats.halfnorm.ppf(1-prob)"
   ]
  },
  {
   "cell_type": "code",
   "execution_count": null,
   "id": "b488f4ac",
   "metadata": {},
   "outputs": [],
   "source": []
  }
 ],
 "metadata": {
  "kernelspec": {
   "display_name": "Python 3 (ipykernel)",
   "language": "python",
   "name": "python3"
  },
  "language_info": {
   "codemirror_mode": {
    "name": "ipython",
    "version": 3
   },
   "file_extension": ".py",
   "mimetype": "text/x-python",
   "name": "python",
   "nbconvert_exporter": "python",
   "pygments_lexer": "ipython3",
   "version": "3.9.7"
  }
 },
 "nbformat": 4,
 "nbformat_minor": 5
}

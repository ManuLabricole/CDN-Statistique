{
 "cells": [
  {
   "cell_type": "code",
   "execution_count": 230,
   "id": "5d01d5ef",
   "metadata": {},
   "outputs": [],
   "source": [
    "import numpy as np\n",
    "import pandas as pd\n",
    "import scipy\n",
    "import scipy.stats as stats\n",
    "import matplotlib.pyplot as plt\n",
    "import seaborn as sns\n",
    "import os"
   ]
  },
  {
   "cell_type": "code",
   "execution_count": 252,
   "id": "5d64e418",
   "metadata": {},
   "outputs": [
    {
     "data": {
      "image/png": "[encoded data removed]",
      "text/plain": [
       "<Figure size 1600x100 with 1 Axes>"
      ]
     },
     "metadata": {},
     "output_type": "display_data"
    }
   ],
   "source": [
    "colors = sns.color_palette(\"tab20_r\", 16)\n",
    "sns.palplot(colors)\n",
    "sns.set_style(\"darkgrid\")"
   ]
  },
  {
   "cell_type": "code",
   "execution_count": 231,
   "id": "e2d43e62",
   "metadata": {},
   "outputs": [],
   "source": [
    "cwd = os.getcwd()"
   ]
  },
  {
   "cell_type": "markdown",
   "id": "2cd62d50",
   "metadata": {},
   "source": [
    "# Iteration 1 - Etude du bruit et d'un son"
   ]
  },
  {
   "cell_type": "markdown",
   "id": "1f012bc4",
   "metadata": {},
   "source": [
    "# A Etude du bruit\n",
    "\n",
    "Avant de commencer à réfléchir à un quelconque test de detection de son, vous décidez d'étudier le bruit de fond. Le bruit c'est en fait tout ce qui ne vous intéresse pas, une fluctuation très faiblement audible (écouter le fichier wav) et qui ne vous dérange pas pendant votre sommeil (vous vivez dans un endroit calme). Ce qui vous intéresse in fine, ce sont les sons (on distingue donc bien les notions de son et de bruit). Mais pour espérer les détecter des **sons**, il vous faut d'abord caractériser **le bruit**."
   ]
  },
  {
   "cell_type": "markdown",
   "id": "a23c59f5",
   "metadata": {},
   "source": [
    "##  A.0 - Ecouter le fichier \"bruit.wav\" dans un lecteur audio"
   ]
  },
  {
   "cell_type": "raw",
   "id": "22c3029f",
   "metadata": {},
   "source": [
    "--> Le son a juste 1s de miaulement de chat\n",
    "--> Objectif : retrouver ce signal dans des courbes"
   ]
  },
  {
   "cell_type": "markdown",
   "id": "71c62a85",
   "metadata": {},
   "source": [
    "## A.1 - Importer le bruit \"bruit_seul.txt\" dans un array numpy\n",
    "\n",
    "Vous pouvez utiliser la fonction loadtxt de numpy"
   ]
  },
  {
   "cell_type": "code",
   "execution_count": 180,
   "id": "33b9c2b3",
   "metadata": {},
   "outputs": [],
   "source": [
    "bruit_seul_txt = \"bruit_seul.txt\"\n",
    "son_txt = \"son.txt\""
   ]
  },
  {
   "cell_type": "code",
   "execution_count": 181,
   "id": "91981734",
   "metadata": {},
   "outputs": [],
   "source": [
    "os.chdir(cwd)\n",
    "os.chdir(cwd+\"/Data\")\n",
    "\n",
    "bruit = np.loadtxt(bruit_seul_txt)\n",
    "son = np.loadtxt(son_txt)\n",
    "\n",
    "\n",
    "os.chdir(cwd)"
   ]
  },
  {
   "cell_type": "code",
   "execution_count": 182,
   "id": "57b5fae4",
   "metadata": {},
   "outputs": [],
   "source": [
    "df_bruit = pd.DataFrame(bruit, columns = ['bruit_freq'])\n",
    "df_son = pd.DataFrame(son, columns = ['son_freq'])"
   ]
  },
  {
   "cell_type": "markdown",
   "id": "986e3f95",
   "metadata": {},
   "source": [
    "### Analyses des dataframe"
   ]
  },
  {
   "cell_type": "code",
   "execution_count": 183,
   "id": "e3de740a",
   "metadata": {},
   "outputs": [
    {
     "name": "stdout",
     "output_type": "stream",
     "text": [
      "(1000000, 1) (1000000, 1)\n"
     ]
    }
   ],
   "source": [
    "print(df_son.shape,df_bruit.shape)"
   ]
  },
  {
   "cell_type": "code",
   "execution_count": 184,
   "id": "cb968236",
   "metadata": {},
   "outputs": [
    {
     "data": {
      "text/plain": [
       "son_freq    float64\n",
       "dtype: object"
      ]
     },
     "execution_count": 184,
     "metadata": {},
     "output_type": "execute_result"
    }
   ],
   "source": [
    "#df_bruit_seul.dtypes\n",
    "df_son.dtypes"
   ]
  },
  {
   "cell_type": "code",
   "execution_count": 185,
   "id": "8f9873a9",
   "metadata": {},
   "outputs": [
    {
     "name": "stdout",
     "output_type": "stream",
     "text": [
      "(-5.3159256969415605,) (-5.3159256969415605,)\n"
     ]
    }
   ],
   "source": [
    "print(df_son.value_counts().idxmax(), df_bruit.value_counts().idxmax())"
   ]
  },
  {
   "cell_type": "code",
   "execution_count": 186,
   "id": "08f1798c",
   "metadata": {},
   "outputs": [
    {
     "data": {
      "text/html": [
       "<div>\n",
       "<style scoped>\n",
       "    .dataframe tbody tr th:only-of-type {\n",
       "        vertical-align: middle;\n",
       "    }\n",
       "\n",
       "    .dataframe tbody tr th {\n",
       "        vertical-align: top;\n",
       "    }\n",
       "\n",
       "    .dataframe thead th {\n",
       "        text-align: right;\n",
       "    }\n",
       "</style>\n",
       "<table border=\"1\" class=\"dataframe\">\n",
       "  <thead>\n",
       "    <tr style=\"text-align: right;\">\n",
       "      <th></th>\n",
       "      <th>son_freq</th>\n",
       "    </tr>\n",
       "  </thead>\n",
       "  <tbody>\n",
       "    <tr>\n",
       "      <th>0</th>\n",
       "      <td>0.276235</td>\n",
       "    </tr>\n",
       "    <tr>\n",
       "      <th>1</th>\n",
       "      <td>-0.237085</td>\n",
       "    </tr>\n",
       "    <tr>\n",
       "      <th>2</th>\n",
       "      <td>-1.098637</td>\n",
       "    </tr>\n",
       "    <tr>\n",
       "      <th>3</th>\n",
       "      <td>0.049679</td>\n",
       "    </tr>\n",
       "    <tr>\n",
       "      <th>4</th>\n",
       "      <td>-0.109675</td>\n",
       "    </tr>\n",
       "  </tbody>\n",
       "</table>\n",
       "</div>"
      ],
      "text/plain": [
       "   son_freq\n",
       "0  0.276235\n",
       "1 -0.237085\n",
       "2 -1.098637\n",
       "3  0.049679\n",
       "4 -0.109675"
      ]
     },
     "execution_count": 186,
     "metadata": {},
     "output_type": "execute_result"
    }
   ],
   "source": [
    "df_son.head()"
   ]
  },
  {
   "cell_type": "code",
   "execution_count": 187,
   "id": "ea0f5052",
   "metadata": {},
   "outputs": [
    {
     "name": "stdout",
     "output_type": "stream",
     "text": [
      "---------> df_son information\n"
     ]
    },
    {
     "data": {
      "text/html": [
       "<div>\n",
       "<style scoped>\n",
       "    .dataframe tbody tr th:only-of-type {\n",
       "        vertical-align: middle;\n",
       "    }\n",
       "\n",
       "    .dataframe tbody tr th {\n",
       "        vertical-align: top;\n",
       "    }\n",
       "\n",
       "    .dataframe thead th {\n",
       "        text-align: right;\n",
       "    }\n",
       "</style>\n",
       "<table border=\"1\" class=\"dataframe\">\n",
       "  <thead>\n",
       "    <tr style=\"text-align: right;\">\n",
       "      <th></th>\n",
       "      <th>son_freq</th>\n",
       "    </tr>\n",
       "  </thead>\n",
       "  <tbody>\n",
       "    <tr>\n",
       "      <th>count</th>\n",
       "      <td>1000000.000000</td>\n",
       "    </tr>\n",
       "    <tr>\n",
       "      <th>mean</th>\n",
       "      <td>0.000903</td>\n",
       "    </tr>\n",
       "    <tr>\n",
       "      <th>std</th>\n",
       "      <td>1.003336</td>\n",
       "    </tr>\n",
       "    <tr>\n",
       "      <th>min</th>\n",
       "      <td>-5.315926</td>\n",
       "    </tr>\n",
       "    <tr>\n",
       "      <th>25%</th>\n",
       "      <td>-0.675015</td>\n",
       "    </tr>\n",
       "    <tr>\n",
       "      <th>50%</th>\n",
       "      <td>-0.000128</td>\n",
       "    </tr>\n",
       "    <tr>\n",
       "      <th>75%</th>\n",
       "      <td>0.676895</td>\n",
       "    </tr>\n",
       "    <tr>\n",
       "      <th>max</th>\n",
       "      <td>5.736037</td>\n",
       "    </tr>\n",
       "  </tbody>\n",
       "</table>\n",
       "</div>"
      ],
      "text/plain": [
       "             son_freq\n",
       "count  1000000.000000\n",
       "mean         0.000903\n",
       "std          1.003336\n",
       "min         -5.315926\n",
       "25%         -0.675015\n",
       "50%         -0.000128\n",
       "75%          0.676895\n",
       "max          5.736037"
      ]
     },
     "metadata": {},
     "output_type": "display_data"
    },
    {
     "name": "stdout",
     "output_type": "stream",
     "text": [
      "---------> df_bruit information\n"
     ]
    },
    {
     "data": {
      "text/html": [
       "<div>\n",
       "<style scoped>\n",
       "    .dataframe tbody tr th:only-of-type {\n",
       "        vertical-align: middle;\n",
       "    }\n",
       "\n",
       "    .dataframe tbody tr th {\n",
       "        vertical-align: top;\n",
       "    }\n",
       "\n",
       "    .dataframe thead th {\n",
       "        text-align: right;\n",
       "    }\n",
       "</style>\n",
       "<table border=\"1\" class=\"dataframe\">\n",
       "  <thead>\n",
       "    <tr style=\"text-align: right;\">\n",
       "      <th></th>\n",
       "      <th>son_freq</th>\n",
       "    </tr>\n",
       "  </thead>\n",
       "  <tbody>\n",
       "    <tr>\n",
       "      <th>count</th>\n",
       "      <td>1000000.000000</td>\n",
       "    </tr>\n",
       "    <tr>\n",
       "      <th>mean</th>\n",
       "      <td>0.000903</td>\n",
       "    </tr>\n",
       "    <tr>\n",
       "      <th>std</th>\n",
       "      <td>1.003336</td>\n",
       "    </tr>\n",
       "    <tr>\n",
       "      <th>min</th>\n",
       "      <td>-5.315926</td>\n",
       "    </tr>\n",
       "    <tr>\n",
       "      <th>25%</th>\n",
       "      <td>-0.675015</td>\n",
       "    </tr>\n",
       "    <tr>\n",
       "      <th>50%</th>\n",
       "      <td>-0.000128</td>\n",
       "    </tr>\n",
       "    <tr>\n",
       "      <th>75%</th>\n",
       "      <td>0.676895</td>\n",
       "    </tr>\n",
       "    <tr>\n",
       "      <th>max</th>\n",
       "      <td>5.736037</td>\n",
       "    </tr>\n",
       "  </tbody>\n",
       "</table>\n",
       "</div>"
      ],
      "text/plain": [
       "             son_freq\n",
       "count  1000000.000000\n",
       "mean         0.000903\n",
       "std          1.003336\n",
       "min         -5.315926\n",
       "25%         -0.675015\n",
       "50%         -0.000128\n",
       "75%          0.676895\n",
       "max          5.736037"
      ]
     },
     "metadata": {},
     "output_type": "display_data"
    }
   ],
   "source": [
    "print(\"---------> df_son information\")\n",
    "display(df_son.describe())\n",
    "print(\"---------> df_bruit information\")\n",
    "display(df_son.describe())"
   ]
  },
  {
   "cell_type": "raw",
   "id": "aa6f592d",
   "metadata": {},
   "source": [
    "--> Les dataframe semblent similaires en tout point statistique\n",
    "--> Il faut chercher des patternes"
   ]
  },
  {
   "cell_type": "markdown",
   "id": "0b1c98d1",
   "metadata": {},
   "source": [
    "## A.2 - Plotter l'amplitude mesurée (en vr) en fonction du temps pour la première seconde d'enregistrement\n",
    "On rappelle que la fréquence d'échantillonnage est 48 kHz"
   ]
  },
  {
   "cell_type": "code",
   "execution_count": 188,
   "id": "8225aea4",
   "metadata": {},
   "outputs": [],
   "source": [
    "freq_ech = 48000 #Frequence en Hz"
   ]
  },
  {
   "cell_type": "code",
   "execution_count": 189,
   "id": "26b8aafc",
   "metadata": {},
   "outputs": [
    {
     "data": {
      "text/plain": [
       "<AxesSubplot:>"
      ]
     },
     "execution_count": 189,
     "metadata": {},
     "output_type": "execute_result"
    },
    {
     "data": {
      "image/png": "[encoded data removed]",
      "text/plain": [
       "<Figure size 1200x600 with 1 Axes>"
      ]
     },
     "metadata": {},
     "output_type": "display_data"
    }
   ],
   "source": [
    "df_bruit.loc[:48000].abs().plot(figsize=(12,6))"
   ]
  },
  {
   "cell_type": "code",
   "execution_count": 190,
   "id": "1af5f2b5",
   "metadata": {},
   "outputs": [],
   "source": [
    "def add_new_index(df):\n",
    "    duration = len(df) / freq_ech\n",
    "    # Create a new index with a frequency of 1 sample per 48000 Hz\n",
    "    new_index = pd.Index(np.arange(0, duration, 1/freq_ech), name='time')\n",
    "    df = df.set_index(new_index)\n",
    "    return df"
   ]
  },
  {
   "cell_type": "code",
   "execution_count": 191,
   "id": "62dd0305",
   "metadata": {},
   "outputs": [
    {
     "name": "stdout",
     "output_type": "stream",
     "text": [
      "On retrouve bien notre enregistrement de 20s\n"
     ]
    },
    {
     "data": {
      "text/html": [
       "<div>\n",
       "<style scoped>\n",
       "    .dataframe tbody tr th:only-of-type {\n",
       "        vertical-align: middle;\n",
       "    }\n",
       "\n",
       "    .dataframe tbody tr th {\n",
       "        vertical-align: top;\n",
       "    }\n",
       "\n",
       "    .dataframe thead th {\n",
       "        text-align: right;\n",
       "    }\n",
       "</style>\n",
       "<table border=\"1\" class=\"dataframe\">\n",
       "  <thead>\n",
       "    <tr style=\"text-align: right;\">\n",
       "      <th></th>\n",
       "      <th>bruit_freq</th>\n",
       "    </tr>\n",
       "    <tr>\n",
       "      <th>time</th>\n",
       "      <th></th>\n",
       "    </tr>\n",
       "  </thead>\n",
       "  <tbody>\n",
       "    <tr>\n",
       "      <th>0.000000</th>\n",
       "      <td>0.492209</td>\n",
       "    </tr>\n",
       "    <tr>\n",
       "      <th>0.000021</th>\n",
       "      <td>0.189033</td>\n",
       "    </tr>\n",
       "    <tr>\n",
       "      <th>0.000042</th>\n",
       "      <td>1.509044</td>\n",
       "    </tr>\n",
       "    <tr>\n",
       "      <th>0.000063</th>\n",
       "      <td>0.677286</td>\n",
       "    </tr>\n",
       "    <tr>\n",
       "      <th>0.000083</th>\n",
       "      <td>-0.402110</td>\n",
       "    </tr>\n",
       "    <tr>\n",
       "      <th>...</th>\n",
       "      <td>...</td>\n",
       "    </tr>\n",
       "    <tr>\n",
       "      <th>20.833229</th>\n",
       "      <td>-0.500145</td>\n",
       "    </tr>\n",
       "    <tr>\n",
       "      <th>20.833250</th>\n",
       "      <td>-0.288808</td>\n",
       "    </tr>\n",
       "    <tr>\n",
       "      <th>20.833271</th>\n",
       "      <td>-0.142364</td>\n",
       "    </tr>\n",
       "    <tr>\n",
       "      <th>20.833292</th>\n",
       "      <td>0.443795</td>\n",
       "    </tr>\n",
       "    <tr>\n",
       "      <th>20.833312</th>\n",
       "      <td>0.665205</td>\n",
       "    </tr>\n",
       "  </tbody>\n",
       "</table>\n",
       "<p>1000000 rows × 1 columns</p>\n",
       "</div>"
      ],
      "text/plain": [
       "           bruit_freq\n",
       "time                 \n",
       "0.000000     0.492209\n",
       "0.000021     0.189033\n",
       "0.000042     1.509044\n",
       "0.000063     0.677286\n",
       "0.000083    -0.402110\n",
       "...               ...\n",
       "20.833229   -0.500145\n",
       "20.833250   -0.288808\n",
       "20.833271   -0.142364\n",
       "20.833292    0.443795\n",
       "20.833312    0.665205\n",
       "\n",
       "[1000000 rows x 1 columns]"
      ]
     },
     "execution_count": 191,
     "metadata": {},
     "output_type": "execute_result"
    }
   ],
   "source": [
    "df_son = add_new_index(df_son)\n",
    "df_bruit = add_new_index(df_bruit)\n",
    "df_son_index\n",
    "print(\"On retrouve bien notre enregistrement de 20s\")\n",
    "df_bruit"
   ]
  },
  {
   "cell_type": "markdown",
   "id": "1a1a2ad4",
   "metadata": {},
   "source": [
    "### Amplitude absolue premiere seconde"
   ]
  },
  {
   "cell_type": "code",
   "execution_count": 192,
   "id": "a31c0df4",
   "metadata": {},
   "outputs": [
    {
     "data": {
      "text/html": [
       "<div>\n",
       "<style scoped>\n",
       "    .dataframe tbody tr th:only-of-type {\n",
       "        vertical-align: middle;\n",
       "    }\n",
       "\n",
       "    .dataframe tbody tr th {\n",
       "        vertical-align: top;\n",
       "    }\n",
       "\n",
       "    .dataframe thead th {\n",
       "        text-align: right;\n",
       "    }\n",
       "</style>\n",
       "<table border=\"1\" class=\"dataframe\">\n",
       "  <thead>\n",
       "    <tr style=\"text-align: right;\">\n",
       "      <th></th>\n",
       "      <th>bruit_freq</th>\n",
       "    </tr>\n",
       "    <tr>\n",
       "      <th>time</th>\n",
       "      <th></th>\n",
       "    </tr>\n",
       "  </thead>\n",
       "  <tbody>\n",
       "    <tr>\n",
       "      <th>0.000000</th>\n",
       "      <td>0.492209</td>\n",
       "    </tr>\n",
       "    <tr>\n",
       "      <th>0.000021</th>\n",
       "      <td>0.189033</td>\n",
       "    </tr>\n",
       "    <tr>\n",
       "      <th>0.000042</th>\n",
       "      <td>1.509044</td>\n",
       "    </tr>\n",
       "    <tr>\n",
       "      <th>0.000063</th>\n",
       "      <td>0.677286</td>\n",
       "    </tr>\n",
       "    <tr>\n",
       "      <th>0.000083</th>\n",
       "      <td>-0.402110</td>\n",
       "    </tr>\n",
       "  </tbody>\n",
       "</table>\n",
       "</div>"
      ],
      "text/plain": [
       "          bruit_freq\n",
       "time                \n",
       "0.000000    0.492209\n",
       "0.000021    0.189033\n",
       "0.000042    1.509044\n",
       "0.000063    0.677286\n",
       "0.000083   -0.402110"
      ]
     },
     "execution_count": 192,
     "metadata": {},
     "output_type": "execute_result"
    },
    {
     "data": {
      "image/png": "[encoded data removed]",
      "text/plain": [
       "<Figure size 1200x600 with 1 Axes>"
      ]
     },
     "metadata": {},
     "output_type": "display_data"
    },
    {
     "data": {
      "image/png": "[encoded data removed]",
      "text/plain": [
       "<Figure size 1200x600 with 1 Axes>"
      ]
     },
     "metadata": {},
     "output_type": "display_data"
    }
   ],
   "source": [
    "df_bruit.loc[:20].plot(figsize=(12,6))\n",
    "df_bruit.loc[:1].abs().plot(figsize=(12,6))\n",
    "df_bruit.head()"
   ]
  },
  {
   "cell_type": "markdown",
   "id": "415da50a",
   "metadata": {},
   "source": [
    "## A.3 - Afficher les probability density function (PDF) et  la cumulative distribution function (CDF) empiriques de l'amplitude du bruit en va"
   ]
  },
  {
   "cell_type": "code",
   "execution_count": 193,
   "id": "af6109af",
   "metadata": {},
   "outputs": [
    {
     "data": {
      "text/html": [
       "<div>\n",
       "<style scoped>\n",
       "    .dataframe tbody tr th:only-of-type {\n",
       "        vertical-align: middle;\n",
       "    }\n",
       "\n",
       "    .dataframe tbody tr th {\n",
       "        vertical-align: top;\n",
       "    }\n",
       "\n",
       "    .dataframe thead th {\n",
       "        text-align: right;\n",
       "    }\n",
       "</style>\n",
       "<table border=\"1\" class=\"dataframe\">\n",
       "  <thead>\n",
       "    <tr style=\"text-align: right;\">\n",
       "      <th></th>\n",
       "      <th>bruit_freq</th>\n",
       "    </tr>\n",
       "    <tr>\n",
       "      <th>time</th>\n",
       "      <th></th>\n",
       "    </tr>\n",
       "  </thead>\n",
       "  <tbody>\n",
       "    <tr>\n",
       "      <th>0.000000</th>\n",
       "      <td>0.492209</td>\n",
       "    </tr>\n",
       "    <tr>\n",
       "      <th>0.000021</th>\n",
       "      <td>0.189033</td>\n",
       "    </tr>\n",
       "    <tr>\n",
       "      <th>0.000042</th>\n",
       "      <td>1.509044</td>\n",
       "    </tr>\n",
       "    <tr>\n",
       "      <th>0.000063</th>\n",
       "      <td>0.677286</td>\n",
       "    </tr>\n",
       "    <tr>\n",
       "      <th>0.000083</th>\n",
       "      <td>0.402110</td>\n",
       "    </tr>\n",
       "    <tr>\n",
       "      <th>...</th>\n",
       "      <td>...</td>\n",
       "    </tr>\n",
       "    <tr>\n",
       "      <th>20.833229</th>\n",
       "      <td>0.500145</td>\n",
       "    </tr>\n",
       "    <tr>\n",
       "      <th>20.833250</th>\n",
       "      <td>0.288808</td>\n",
       "    </tr>\n",
       "    <tr>\n",
       "      <th>20.833271</th>\n",
       "      <td>0.142364</td>\n",
       "    </tr>\n",
       "    <tr>\n",
       "      <th>20.833292</th>\n",
       "      <td>0.443795</td>\n",
       "    </tr>\n",
       "    <tr>\n",
       "      <th>20.833312</th>\n",
       "      <td>0.665205</td>\n",
       "    </tr>\n",
       "  </tbody>\n",
       "</table>\n",
       "<p>1000000 rows × 1 columns</p>\n",
       "</div>"
      ],
      "text/plain": [
       "           bruit_freq\n",
       "time                 \n",
       "0.000000     0.492209\n",
       "0.000021     0.189033\n",
       "0.000042     1.509044\n",
       "0.000063     0.677286\n",
       "0.000083     0.402110\n",
       "...               ...\n",
       "20.833229    0.500145\n",
       "20.833250    0.288808\n",
       "20.833271    0.142364\n",
       "20.833292    0.443795\n",
       "20.833312    0.665205\n",
       "\n",
       "[1000000 rows x 1 columns]"
      ]
     },
     "execution_count": 193,
     "metadata": {},
     "output_type": "execute_result"
    }
   ],
   "source": [
    "df_bruit.abs()"
   ]
  },
  {
   "cell_type": "code",
   "execution_count": 194,
   "id": "7787c006",
   "metadata": {},
   "outputs": [
    {
     "data": {
      "text/html": [
       "<div>\n",
       "<style scoped>\n",
       "    .dataframe tbody tr th:only-of-type {\n",
       "        vertical-align: middle;\n",
       "    }\n",
       "\n",
       "    .dataframe tbody tr th {\n",
       "        vertical-align: top;\n",
       "    }\n",
       "\n",
       "    .dataframe thead th {\n",
       "        text-align: right;\n",
       "    }\n",
       "</style>\n",
       "<table border=\"1\" class=\"dataframe\">\n",
       "  <thead>\n",
       "    <tr style=\"text-align: right;\">\n",
       "      <th></th>\n",
       "      <th>bruit_freq</th>\n",
       "    </tr>\n",
       "    <tr>\n",
       "      <th>time</th>\n",
       "      <th></th>\n",
       "    </tr>\n",
       "  </thead>\n",
       "  <tbody>\n",
       "    <tr>\n",
       "      <th>0.000000</th>\n",
       "      <td>0.492209</td>\n",
       "    </tr>\n",
       "    <tr>\n",
       "      <th>0.000021</th>\n",
       "      <td>0.681243</td>\n",
       "    </tr>\n",
       "    <tr>\n",
       "      <th>0.000042</th>\n",
       "      <td>2.190287</td>\n",
       "    </tr>\n",
       "    <tr>\n",
       "      <th>0.000063</th>\n",
       "      <td>2.867573</td>\n",
       "    </tr>\n",
       "    <tr>\n",
       "      <th>0.000083</th>\n",
       "      <td>3.269684</td>\n",
       "    </tr>\n",
       "    <tr>\n",
       "      <th>...</th>\n",
       "      <td>...</td>\n",
       "    </tr>\n",
       "    <tr>\n",
       "      <th>20.833229</th>\n",
       "      <td>797885.063824</td>\n",
       "    </tr>\n",
       "    <tr>\n",
       "      <th>20.833250</th>\n",
       "      <td>797885.352633</td>\n",
       "    </tr>\n",
       "    <tr>\n",
       "      <th>20.833271</th>\n",
       "      <td>797885.494996</td>\n",
       "    </tr>\n",
       "    <tr>\n",
       "      <th>20.833292</th>\n",
       "      <td>797885.938791</td>\n",
       "    </tr>\n",
       "    <tr>\n",
       "      <th>20.833312</th>\n",
       "      <td>797886.603996</td>\n",
       "    </tr>\n",
       "  </tbody>\n",
       "</table>\n",
       "<p>1000000 rows × 1 columns</p>\n",
       "</div>"
      ],
      "text/plain": [
       "              bruit_freq\n",
       "time                    \n",
       "0.000000        0.492209\n",
       "0.000021        0.681243\n",
       "0.000042        2.190287\n",
       "0.000063        2.867573\n",
       "0.000083        3.269684\n",
       "...                  ...\n",
       "20.833229  797885.063824\n",
       "20.833250  797885.352633\n",
       "20.833271  797885.494996\n",
       "20.833292  797885.938791\n",
       "20.833312  797886.603996\n",
       "\n",
       "[1000000 rows x 1 columns]"
      ]
     },
     "execution_count": 194,
     "metadata": {},
     "output_type": "execute_result"
    }
   ],
   "source": [
    "df_bruit.abs().cumsum()"
   ]
  },
  {
   "cell_type": "code",
   "execution_count": 257,
   "id": "d5b1bd47",
   "metadata": {},
   "outputs": [
    {
     "data": {
      "image/png": "[encoded data removed]",
      "text/plain": [
       "<Figure size 1000x500 with 2 Axes>"
      ]
     },
     "metadata": {},
     "output_type": "display_data"
    }
   ],
   "source": [
    "fig, axs = plt.subplots(1, 2, figsize=(10, 5))\n",
    "\n",
    "fig.suptitle(\"Probqbility Density VS Cumulqtive distribution\", fontsize=20)\n",
    "sns.set_style(\"darkgrid\")\n",
    "\n",
    "df = df_bruit\n",
    "\n",
    "# plot the probability density on the right axis\n",
    "df_bruit.abs().plot(\n",
    "    ax=axs[0],\n",
    "    kind='density',\n",
    "    color=colors[2]\n",
    ")\n",
    "\n",
    "axs[0].set_title('PDF du Bruit en VA')\n",
    "axs[0].set_xlabel('Value')\n",
    "axs[0].set_ylabel('Density')\n",
    "axs[0].legend(\"oui\")\n",
    "\n",
    "\n",
    "# plot the cumulative shape on the left axis\n",
    "df_bruit.abs().hist(\n",
    "    ax=axs[1],\n",
    "    bins=1000, \n",
    "    histtype='step', \n",
    "    density=True,\n",
    "    cumulative=1,\n",
    "    label='Reversed emp.',\n",
    "    color=colors[1]\n",
    ")\n",
    "\n",
    "axs[1].set_title('CDF du Bruit en VA')\n",
    "axs[1].set_xlabel('Index')\n",
    "axs[1].set_ylabel('Cumulative Sum')\n",
    "\n",
    "\n",
    "# adjust the layout and display the plot\n",
    "plt.tight_layout()\n",
    "plt.show()"
   ]
  },
  {
   "cell_type": "markdown",
   "id": "ad27d372",
   "metadata": {},
   "source": [
    "## A.4 - Identifier les 2 lois de probabilités obtenues à la question précédente "
   ]
  },
  {
   "cell_type": "markdown",
   "id": "a36baad8",
   "metadata": {},
   "source": [
    "### a - Pouvez-vous identifier les 2 fonctions ?\n",
    "\n",
    "Au vu de la forme des 2 fonctions, à quelles fonction analytiques ressemblent-elles ? Si vous avez une idée précise, identifiez la et donnez ses coefficients caractéristiques.\n",
    "Sinon rendez-vous question suivante :)"
   ]
  },
  {
   "cell_type": "code",
   "execution_count": 196,
   "id": "07f88cbe",
   "metadata": {},
   "outputs": [
    {
     "data": {
      "text/html": [
       "<div>\n",
       "<style scoped>\n",
       "    .dataframe tbody tr th:only-of-type {\n",
       "        vertical-align: middle;\n",
       "    }\n",
       "\n",
       "    .dataframe tbody tr th {\n",
       "        vertical-align: top;\n",
       "    }\n",
       "\n",
       "    .dataframe thead th {\n",
       "        text-align: right;\n",
       "    }\n",
       "</style>\n",
       "<table border=\"1\" class=\"dataframe\">\n",
       "  <thead>\n",
       "    <tr style=\"text-align: right;\">\n",
       "      <th></th>\n",
       "      <th>bruit_freq</th>\n",
       "    </tr>\n",
       "  </thead>\n",
       "  <tbody>\n",
       "    <tr>\n",
       "      <th>count</th>\n",
       "      <td>1000000.000000</td>\n",
       "    </tr>\n",
       "    <tr>\n",
       "      <th>mean</th>\n",
       "      <td>0.797887</td>\n",
       "    </tr>\n",
       "    <tr>\n",
       "      <th>std</th>\n",
       "      <td>0.602644</td>\n",
       "    </tr>\n",
       "    <tr>\n",
       "      <th>min</th>\n",
       "      <td>0.000002</td>\n",
       "    </tr>\n",
       "    <tr>\n",
       "      <th>25%</th>\n",
       "      <td>0.318673</td>\n",
       "    </tr>\n",
       "    <tr>\n",
       "      <th>50%</th>\n",
       "      <td>0.674425</td>\n",
       "    </tr>\n",
       "    <tr>\n",
       "      <th>75%</th>\n",
       "      <td>1.150025</td>\n",
       "    </tr>\n",
       "    <tr>\n",
       "      <th>max</th>\n",
       "      <td>5.315926</td>\n",
       "    </tr>\n",
       "  </tbody>\n",
       "</table>\n",
       "</div>"
      ],
      "text/plain": [
       "           bruit_freq\n",
       "count  1000000.000000\n",
       "mean         0.797887\n",
       "std          0.602644\n",
       "min          0.000002\n",
       "25%          0.318673\n",
       "50%          0.674425\n",
       "75%          1.150025\n",
       "max          5.315926"
      ]
     },
     "execution_count": 196,
     "metadata": {},
     "output_type": "execute_result"
    }
   ],
   "source": [
    "df_bruit.abs().describe()"
   ]
  },
  {
   "cell_type": "raw",
   "id": "fa725043",
   "metadata": {},
   "source": [
    "--> Loin normale pour la pdf : \n",
    "-----> Centré : 0.79\n",
    "-----> Ecart type : 0.6"
   ]
  },
  {
   "cell_type": "markdown",
   "id": "acfb1ea9",
   "metadata": {},
   "source": [
    "### b - Calculez la moyenne et l'écart type du bruit (pas en valeur absolue cette fois)\n",
    "Info : la classe `nd_array` du module `numpy` possède des méthodes qui font ça directement."
   ]
  },
  {
   "cell_type": "code",
   "execution_count": 232,
   "id": "271ae51a",
   "metadata": {},
   "outputs": [
    {
     "data": {
      "text/html": [
       "<div>\n",
       "<style scoped>\n",
       "    .dataframe tbody tr th:only-of-type {\n",
       "        vertical-align: middle;\n",
       "    }\n",
       "\n",
       "    .dataframe tbody tr th {\n",
       "        vertical-align: top;\n",
       "    }\n",
       "\n",
       "    .dataframe thead th {\n",
       "        text-align: right;\n",
       "    }\n",
       "</style>\n",
       "<table border=\"1\" class=\"dataframe\">\n",
       "  <thead>\n",
       "    <tr style=\"text-align: right;\">\n",
       "      <th></th>\n",
       "      <th>bruit_freq</th>\n",
       "    </tr>\n",
       "  </thead>\n",
       "  <tbody>\n",
       "    <tr>\n",
       "      <th>count</th>\n",
       "      <td>1000000.000000</td>\n",
       "    </tr>\n",
       "    <tr>\n",
       "      <th>mean</th>\n",
       "      <td>0.002100</td>\n",
       "    </tr>\n",
       "    <tr>\n",
       "      <th>std</th>\n",
       "      <td>0.999899</td>\n",
       "    </tr>\n",
       "    <tr>\n",
       "      <th>min</th>\n",
       "      <td>-5.315926</td>\n",
       "    </tr>\n",
       "    <tr>\n",
       "      <th>25%</th>\n",
       "      <td>-0.672359</td>\n",
       "    </tr>\n",
       "    <tr>\n",
       "      <th>50%</th>\n",
       "      <td>0.000987</td>\n",
       "    </tr>\n",
       "    <tr>\n",
       "      <th>75%</th>\n",
       "      <td>0.676680</td>\n",
       "    </tr>\n",
       "    <tr>\n",
       "      <th>max</th>\n",
       "      <td>5.086007</td>\n",
       "    </tr>\n",
       "  </tbody>\n",
       "</table>\n",
       "</div>"
      ],
      "text/plain": [
       "           bruit_freq\n",
       "count  1000000.000000\n",
       "mean         0.002100\n",
       "std          0.999899\n",
       "min         -5.315926\n",
       "25%         -0.672359\n",
       "50%          0.000987\n",
       "75%          0.676680\n",
       "max          5.086007"
      ]
     },
     "execution_count": 232,
     "metadata": {},
     "output_type": "execute_result"
    }
   ],
   "source": [
    "df_bruit.describe()"
   ]
  },
  {
   "cell_type": "raw",
   "id": "d316a9a2",
   "metadata": {},
   "source": [
    "--> Les valeurs sont centrées réduites"
   ]
  },
  {
   "cell_type": "markdown",
   "id": "c2f334f7",
   "metadata": {},
   "source": [
    "### c - 1 - Sur le même graphe, affichez la PDF de $ \\mid bruit \\mid $ et la gaussienne de moyenne et d'écart type calculée question précédente"
   ]
  },
  {
   "cell_type": "code",
   "execution_count": 266,
   "id": "e18d5648",
   "metadata": {},
   "outputs": [
    {
     "data": {
      "image/png": "[encoded data removed]",
      "text/plain": [
       "<Figure size 1200x600 with 2 Axes>"
      ]
     },
     "metadata": {},
     "output_type": "display_data"
    }
   ],
   "source": [
    "fig, ax = plt.subplots(1, 1, figsize=(12, 6))\n",
    "fig.suptitle(\"Comparison PDF( |bruit| ) and a standartdized Gaussian\", fontsize=15)\n",
    "sns.set_style(\"darkgrid\")\n",
    "ax = fig.subplots()\n",
    "\n",
    "df_bruit_mean = df_bruit.mean()[0]\n",
    "df_bruit_std = df_bruit.std()[0]\n",
    " \n",
    "# Calculating probability density function (PDF)\n",
    "x=np.linspace(-4,4)\n",
    "pdf = stats.norm.pdf(x, df_mean, df_std)\n",
    "\n",
    "# Drawing a graph\n",
    "ax.plot(x,\n",
    "        pdf, \n",
    "        color=colors[2],\n",
    "        label=\"Gaussian\"\n",
    "       )\n",
    "df_bruit.abs().plot(\n",
    "    ax=ax,\n",
    "    kind='density',\n",
    "    color=colors[0],\n",
    "    label=\"PDF - |bruit|\"\n",
    ")\n",
    "ax.set_ylim([0, 1])\n",
    "ax.set_xlabel(\"Amplitude\", size=12)    \n",
    "ax.set_ylabel(\"Probability\", size=12)     \n",
    "ax.legend()\n",
    "\n",
    "plt.show()"
   ]
  },
  {
   "cell_type": "markdown",
   "id": "cef228fe",
   "metadata": {},
   "source": [
    "### c - 2 - Expliquez la différence entre les deux courbes.\n"
   ]
  },
  {
   "cell_type": "raw",
   "id": "3c0b35fe",
   "metadata": {},
   "source": [
    "--> Les deux Graphs sont centrés en zero\n",
    "--> Cependant on voit que la courbe pour le |bruit| a une probabilité double en zero en positif puisque qu'on q augmenté leur nombre en utilisant la valeur absolue\n",
    "--> Les courbes se croisent en x=0 puisque cette probqbilité n'est pas effecté par la | |"
   ]
  },
  {
   "cell_type": "markdown",
   "id": "4275552a",
   "metadata": {},
   "source": [
    "## A.5 - Evaluer la probabilité des amplitudes du bruit pour différentes plages d'amplitudes\n",
    "\n",
    "Ici comme très souvent on différencie le bruit du son. Le bruit est une fluctuation statistique, alors que le son est porteur d'information.\n",
    "\n",
    "On va considérer dans la suite de cette itération que le bruit est parfaitement caractérisé par une loi demi-normale, de moyenne $\\mu =0$ et d'écart type $\\sigma = 1 $. Sa fonction de densité (PDF) est :\n",
    "$$ f(x) = \\frac{2}{\\sigma \\sqrt{2 \\pi}} \\mathrm{e}^{- \\frac{1}{2} \\left( \\frac{ (x - \\mu)^2}{\\sigma^2} \\right)  }$$\n",
    "\n",
    "On utilisera donc pour répondre aux questions suivantes (A.5) les CDF et PDF analytiques (c'est à dire théoriques) puisque l'on fait l'hypothèse que notre bruit est régi par une distribution demi-normale.\n",
    "\n",
    "Vous pouvez explorer la doc de scipy.stats pour trouver les fonctions associées à diverses distributions : https://docs.scipy.org/doc/scipy/tutorial/stats.html"
   ]
  },
  {
   "cell_type": "markdown",
   "id": "aef2f145",
   "metadata": {},
   "source": [
    "### a -  Donner la formule analytique de la fonction de répartition (CDF) de la loi demi-normale\n",
    "(Pour les plus matheux elle peut se déduire de la PDF, sinon wikipedia est votre ami)."
   ]
  },
  {
   "cell_type": "markdown",
   "id": "7f41cf3a",
   "metadata": {},
   "source": [
    "On va considérer dans la suite de cette itération que le bruit est parfaitement caractérisé par une loi demi-normale, de moyenne $\\mu =0$ et d'écart type $\\sigma = 1 $. Sa fonction de densité (PDF) est :\n",
    "$$ f(x) = 2* \\frac{2}{\\sigma \\sqrt{2 \\pi}} \\mathrm{e}^{- \\frac{1}{2} \\left( \\frac{ (x)^2}{\\sigma^2} \\right)  } si x>0$$\n",
    "$$ 0, si x<0 $$"
   ]
  },
  {
   "cell_type": "markdown",
   "id": "8b01d91f",
   "metadata": {},
   "source": [
    "### b - 1 Probabilités sur les amplitudes du bruit\n",
    "\n",
    "* Quelle est la probabilité d'observer des amplitudes comprises dans $[0 , \\sigma]$  ?\n",
    "* Même question pour $[0 , 2\\sigma]$\n",
    "* Même question pour $[0, 3\\sigma]$\n"
   ]
  },
  {
   "cell_type": "code",
   "execution_count": 267,
   "id": "9cac8d21",
   "metadata": {},
   "outputs": [],
   "source": [
    "mu = 0\n",
    "sigma = 1"
   ]
  },
  {
   "cell_type": "code",
   "execution_count": 271,
   "id": "1d3cd84c",
   "metadata": {},
   "outputs": [],
   "source": [
    "def prob_interval(val_inf, val_sup):\n",
    "\n",
    "    a = val_inf\n",
    "    b = val_sup\n",
    "\n",
    "    dist = stats.halfnorm(scale=sigma, loc=mu)\n",
    "    prob = dist.cdf(b) - dist.cdf(a)\n",
    "    return prob"
   ]
  },
  {
   "cell_type": "code",
   "execution_count": 282,
   "id": "c5f708f9",
   "metadata": {},
   "outputs": [
    {
     "name": "stdout",
     "output_type": "stream",
     "text": [
      "0.6827 %\n",
      "0.9545 %\n",
      "0.9973 %\n"
     ]
    }
   ],
   "source": [
    "print(f\"{round(prob_interval(0,sigma),4)} %\")\n",
    "print(f\"{round(prob_interval(0,2*sigma),4)} %\")\n",
    "print(f\"{round(prob_interval(0,3*sigma),4)} %\")"
   ]
  },
  {
   "cell_type": "markdown",
   "id": "901c6c9d",
   "metadata": {},
   "source": [
    "### b - 2 Probabilités sur les amplitudes du bruit\n",
    "\n",
    "À l'inverse on s'intéresse maintenant aux amplitudes comprises dans l'intervalle  $[a,\\infty]$ (avec $a > 0$).\n",
    "\n",
    "Déterminer les valeur de a pour que la probabilité de d'observer une amplitude supérieure à $a$ (donc comprise dans $[a,\\infty]$) soit de :\n",
    "\n",
    "- 5 %\n",
    "- 1%\n",
    "- 0.1%\n"
   ]
  },
  {
   "cell_type": "code",
   "execution_count": 303,
   "id": "e7f151b9",
   "metadata": {},
   "outputs": [],
   "source": [
    "def find_a_given_prob(prob):\n",
    "    a=0\n",
    "    probTemp=1\n",
    "    while probTemp > prob :\n",
    "        probTemp = stats.halfnorm.sf(a, scale=sigma, loc=mu)\n",
    "        a += 0.001\n",
    "    print(f\"a = {a} --> probabilty : {probTemp}\")    \n",
    "    return a"
   ]
  },
  {
   "cell_type": "code",
   "execution_count": 304,
   "id": "36d10edb",
   "metadata": {},
   "outputs": [
    {
     "name": "stdout",
     "output_type": "stream",
     "text": [
      "a = 1.9609999999998948 --> probabilty : 0.04999579029645318\n",
      "a = 2.576999999999827 --> probabilty : 0.009995064631475037\n",
      "a = 3.2919999999997485 --> probabilty : 0.0009983191327647134\n"
     ]
    },
    {
     "data": {
      "text/plain": [
       "3.2919999999997485"
      ]
     },
     "execution_count": 304,
     "metadata": {},
     "output_type": "execute_result"
    }
   ],
   "source": [
    "find_a_given_prob(0.05)\n",
    "find_a_given_prob(0.01)\n",
    "find_a_given_prob(0.001)"
   ]
  },
  {
   "cell_type": "raw",
   "id": "4c75ba3f",
   "metadata": {},
   "source": [
    "--> sf(x, scale) : Returns the probability that a random variable from the half-normal distribution is greater than or equal to x. \n",
    "\n",
    "--> cdf(x, scale) : is the cumulative distribution function, which gives the probability that a random variable from the distribution is less than or equal to x."
   ]
  },
  {
   "cell_type": "markdown",
   "id": "fc901bb3",
   "metadata": {},
   "source": [
    "# B - Etude d'un son\n",
    "\n",
    "Vous avez réalisé un enregistrement pendant la nuit. En inspectant rapidement la courbe amplitude(temps), il vous semble voir quelque chose de particulier, et vous soupçonnez fortement qu'il ne s'agisse pas du bruit mais d'un son (une tentative d'effraction ?). Vous trouverez l'extrait en question dans le fichier \"son.wav\"."
   ]
  },
  {
   "cell_type": "code",
   "execution_count": null,
   "id": "f9064745",
   "metadata": {},
   "outputs": [],
   "source": []
  }
 ],
 "metadata": {
  "kernelspec": {
   "display_name": "Python 3 (ipykernel)",
   "language": "python",
   "name": "python3"
  },
  "language_info": {
   "codemirror_mode": {
    "name": "ipython",
    "version": 3
   },
   "file_extension": ".py",
   "mimetype": "text/x-python",
   "name": "python",
   "nbconvert_exporter": "python",
   "pygments_lexer": "ipython3",
   "version": "3.9.13"
  }
 },
 "nbformat": 4,
 "nbformat_minor": 5
}

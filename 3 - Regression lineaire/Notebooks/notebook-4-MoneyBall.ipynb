{
 "cells": [
  {
   "cell_type": "code",
   "execution_count": 4,
   "id": "6002d3bc",
   "metadata": {},
   "outputs": [],
   "source": [
    "import numpy as np\n",
    "import pandas as pd\n",
    "import os\n",
    "import matplotlib.pyplot as plt\n",
    "import seaborn as sns\n",
    "\n",
    "from sklearn.metrics import mean_absolute_error, mean_squared_error, r2_score, median_absolute_error\n",
    "from sklearn.model_selection import train_test_split\n",
    "from sklearn.model_selection import cross_val_score, cross_val_predict, train_test_split, GridSearchCV, RandomizedSearchCV\n",
    "\n",
    "from sklearn.linear_model import Ridge, Lasso, LinearRegression\n",
    "\n",
    "from scipy.stats import linregress\n",
    "import statsmodels.api as sm\n"
   ]
  },
  {
   "cell_type": "markdown",
   "id": "17936d6c",
   "metadata": {},
   "source": [
    "------"
   ]
  },
  {
   "cell_type": "code",
   "execution_count": 7,
   "id": "f8841f34",
   "metadata": {},
   "outputs": [
    {
     "data": {
      "image/png": "[encoded data removed]",
      "text/plain": [
       "<Figure size 1152x72 with 1 Axes>"
      ]
     },
     "metadata": {},
     "output_type": "display_data"
    }
   ],
   "source": [
    "import warnings\n",
    "warnings.simplefilter(action='ignore', category=FutureWarning)\n",
    "\n",
    "colors = sns.color_palette(\"tab20_r\", 16)\n",
    "sns.palplot(colors)"
   ]
  },
  {
   "cell_type": "markdown",
   "id": "b4074eca",
   "metadata": {},
   "source": [
    "----"
   ]
  },
  {
   "cell_type": "markdown",
   "id": "f280236a",
   "metadata": {},
   "source": [
    "# Excercise 2: Moneyball\n",
    "\n",
    "Moneyball, as well as being a fantastic story, is also a true story of statistical methods being applied in a real world context to make predictions for decision making. [The film Moneyball](https://www.youtube.com/watch?v=-4QPVo0UIzc) is well worth a watch if you have time. As well as in baseball most major competitive sports teams are now using data science to improve their performance, e.g. [football](http://outsideoftheboot.com/2013/06/26/rise-of-data-analysis-in-football/),...\n",
    "\n",
    "In this excercise you have been hired by Oakland Athletics general manager Billy Beane. Your first mission is to predict the salary each player will make based on other information that is available. This will allow Billy to understand what price he should pay for players in the next transfer season.\n",
    "\n",
    "You must:\n",
    "* Import and prepare the data\n",
    "* Create a train and test set\n",
    "* Implement a regularised model of your choice (Ridge or Lasso)\n",
    "* Choose optimal parameters for your regularised model\n",
    "* Estimate test-error using k-fold cross validation\n",
    "* Calculate the true test-error\n",
    "* Run a base line model to compare your model results. Base line model is the most simple approach based on strategy of choice (mean or other). It is then used as reference to conclude whether more complex models are better or not: see DummyRegressor in the sklearn library.\n",
    "\n",
    "HINT 1\n",
    "* Some values are missing. You can drop these rows.\n",
    "\n",
    "HINT 2\n",
    "* Some columns do not contain numerical values. You can drop these columns. In the Machine Learning model you'll learn more about labeling categorical data"
   ]
  },
  {
   "cell_type": "markdown",
   "id": "22006d2e",
   "metadata": {},
   "source": [
    "## Import and Prepare"
   ]
  },
  {
   "cell_type": "code",
   "execution_count": 11,
   "id": "a41e97a8",
   "metadata": {},
   "outputs": [],
   "source": [
    "hitters = pd.read_csv('./data/hitters.csv')"
   ]
  },
  {
   "cell_type": "code",
   "execution_count": 12,
   "id": "af896d95",
   "metadata": {},
   "outputs": [
    {
     "data": {
      "text/plain": [
       "(322, 21)"
      ]
     },
     "execution_count": 12,
     "metadata": {},
     "output_type": "execute_result"
    }
   ],
   "source": [
    "hitters.shape"
   ]
  },
  {
   "cell_type": "code",
   "execution_count": null,
   "id": "2be949f1",
   "metadata": {},
   "outputs": [],
   "source": []
  }
 ],
 "metadata": {
  "kernelspec": {
   "display_name": "Python 3 (ipykernel)",
   "language": "python",
   "name": "python3"
  },
  "language_info": {
   "codemirror_mode": {
    "name": "ipython",
    "version": 3
   },
   "file_extension": ".py",
   "mimetype": "text/x-python",
   "name": "python",
   "nbconvert_exporter": "python",
   "pygments_lexer": "ipython3",
   "version": "3.9.7"
  }
 },
 "nbformat": 4,
 "nbformat_minor": 5
}

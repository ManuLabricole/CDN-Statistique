{
 "cells": [
  {
   "cell_type": "markdown",
   "id": "c714f4bd",
   "metadata": {},
   "source": [
    "# Regularisation\n",
    "\n",
    "An alternative to choosing models which contains smaller numbers of features is to use a method that *constrains* or *regularises* the coefficent estimates assigned to each feature, or that shrinks the coefficient towards zero. This technique is very similar to *least squares* which we have been using until now. Please refer to Section in 6.2 **ISTL** for a fuller explanation of this.\n",
    "\n",
    "When we move to use a regularised linear regression for prediction the additional term means that we now have a model parameter that requires setting or tuning. These terms are referred to as *hyperparameters* in machine learning. In practice this introduces another additional unknown parameter which we must choose somewhere in our modelling. It is common practice to run several models, each with different values of this hyperparameter, and then assess the error of each using cross validation for comparison.\n",
    "\n",
    "**Lasso vs Ridge** (just for information curiosity, no need to go in depth or spend to much time to understand the maths)\n",
    "\n",
    "For now we will focus on how to implement Lasso and Ridge regression in sklearn. These are both types of regularised linear regression.\n",
    "\n",
    "Lasso: objectif is to minimize\n",
    "$$ RSS + \\lambda \\sum |\\beta | $$\n",
    "* can force coefficients exactly to zero: behaves thus as variable selection\n",
    "\n",
    "\n",
    "Ridge: objectif is to minimize\n",
    "$$ RSS + \\lambda \\sum \\beta_i^2 $$\n",
    "* does not force coefficients exactly to zero\n",
    "* interestig when there are more predictors than observations\n",
    "\n",
    "see further reading ILS, search for Ridge and Lasso"
   ]
  },
  {
   "cell_type": "markdown",
   "id": "0686820e",
   "metadata": {},
   "source": [
    "-----"
   ]
  },
  {
   "cell_type": "code",
   "execution_count": 21,
   "id": "c9e4e9bc",
   "metadata": {},
   "outputs": [],
   "source": [
    "import numpy as np\n",
    "import pandas as pd\n",
    "import os\n",
    "import matplotlib.pyplot as plt\n",
    "import seaborn as sns\n",
    "\n",
    "from sklearn.metrics import mean_absolute_error, mean_squared_error, r2_score, median_absolute_error\n",
    "\n",
    "from sklearn.model_selection import train_test_split\n",
    "from sklearn.model_selection import cross_val_score\n",
    "from sklearn.model_selection import train_test_split\n",
    "from sklearn.model_selection import cross_val_predict\n",
    "\n",
    "from sklearn.linear_model import LinearRegression\n",
    "\n",
    "from scipy.stats import linregress\n",
    "import statsmodels.api as sm\n",
    "import warnings\n"
   ]
  },
  {
   "cell_type": "markdown",
   "id": "4b33d551",
   "metadata": {},
   "source": [
    "----"
   ]
  },
  {
   "cell_type": "code",
   "execution_count": 60,
   "id": "5e1300cf",
   "metadata": {},
   "outputs": [
    {
     "data": {
      "image/png": "[encoded data removed]",
      "text/plain": [
       "<Figure size 1152x72 with 1 Axes>"
      ]
     },
     "metadata": {
      "needs_background": "light"
     },
     "output_type": "display_data"
    }
   ],
   "source": [
    "warnings.simplefilter(action='ignore', category=FutureWarning)\n",
    "\n",
    "colors = sns.color_palette(\"tab20_r\", 16)\n",
    "sns.palplot(colors)\n",
    "sns.set_style(\"darkgrid\")"
   ]
  },
  {
   "cell_type": "markdown",
   "id": "9444af14",
   "metadata": {},
   "source": [
    "-----"
   ]
  },
  {
   "cell_type": "code",
   "execution_count": 10,
   "id": "748f21e7",
   "metadata": {
    "scrolled": true
   },
   "outputs": [
    {
     "data": {
      "text/html": [
       "<div>\n",
       "<style scoped>\n",
       "    .dataframe tbody tr th:only-of-type {\n",
       "        vertical-align: middle;\n",
       "    }\n",
       "\n",
       "    .dataframe tbody tr th {\n",
       "        vertical-align: top;\n",
       "    }\n",
       "\n",
       "    .dataframe thead th {\n",
       "        text-align: right;\n",
       "    }\n",
       "</style>\n",
       "<table border=\"1\" class=\"dataframe\">\n",
       "  <thead>\n",
       "    <tr style=\"text-align: right;\">\n",
       "      <th></th>\n",
       "      <th>Income</th>\n",
       "      <th>Limit</th>\n",
       "      <th>Cards</th>\n",
       "      <th>Age</th>\n",
       "      <th>Education</th>\n",
       "      <th>Gender</th>\n",
       "      <th>Student</th>\n",
       "      <th>Married</th>\n",
       "      <th>Balance</th>\n",
       "      <th>African American</th>\n",
       "      <th>Asian</th>\n",
       "      <th>Caucasian</th>\n",
       "    </tr>\n",
       "  </thead>\n",
       "  <tbody>\n",
       "    <tr>\n",
       "      <th>0</th>\n",
       "      <td>14.891</td>\n",
       "      <td>3606</td>\n",
       "      <td>2</td>\n",
       "      <td>34</td>\n",
       "      <td>11</td>\n",
       "      <td>0</td>\n",
       "      <td>0</td>\n",
       "      <td>1</td>\n",
       "      <td>333</td>\n",
       "      <td>0</td>\n",
       "      <td>0</td>\n",
       "      <td>1</td>\n",
       "    </tr>\n",
       "    <tr>\n",
       "      <th>1</th>\n",
       "      <td>106.025</td>\n",
       "      <td>6645</td>\n",
       "      <td>3</td>\n",
       "      <td>82</td>\n",
       "      <td>15</td>\n",
       "      <td>1</td>\n",
       "      <td>1</td>\n",
       "      <td>1</td>\n",
       "      <td>903</td>\n",
       "      <td>0</td>\n",
       "      <td>1</td>\n",
       "      <td>0</td>\n",
       "    </tr>\n",
       "    <tr>\n",
       "      <th>2</th>\n",
       "      <td>104.593</td>\n",
       "      <td>7075</td>\n",
       "      <td>4</td>\n",
       "      <td>71</td>\n",
       "      <td>11</td>\n",
       "      <td>0</td>\n",
       "      <td>0</td>\n",
       "      <td>0</td>\n",
       "      <td>580</td>\n",
       "      <td>0</td>\n",
       "      <td>1</td>\n",
       "      <td>0</td>\n",
       "    </tr>\n",
       "    <tr>\n",
       "      <th>3</th>\n",
       "      <td>148.924</td>\n",
       "      <td>9504</td>\n",
       "      <td>3</td>\n",
       "      <td>36</td>\n",
       "      <td>11</td>\n",
       "      <td>1</td>\n",
       "      <td>0</td>\n",
       "      <td>0</td>\n",
       "      <td>964</td>\n",
       "      <td>0</td>\n",
       "      <td>1</td>\n",
       "      <td>0</td>\n",
       "    </tr>\n",
       "    <tr>\n",
       "      <th>4</th>\n",
       "      <td>55.882</td>\n",
       "      <td>4897</td>\n",
       "      <td>2</td>\n",
       "      <td>68</td>\n",
       "      <td>16</td>\n",
       "      <td>0</td>\n",
       "      <td>0</td>\n",
       "      <td>1</td>\n",
       "      <td>331</td>\n",
       "      <td>0</td>\n",
       "      <td>0</td>\n",
       "      <td>1</td>\n",
       "    </tr>\n",
       "    <tr>\n",
       "      <th>...</th>\n",
       "      <td>...</td>\n",
       "      <td>...</td>\n",
       "      <td>...</td>\n",
       "      <td>...</td>\n",
       "      <td>...</td>\n",
       "      <td>...</td>\n",
       "      <td>...</td>\n",
       "      <td>...</td>\n",
       "      <td>...</td>\n",
       "      <td>...</td>\n",
       "      <td>...</td>\n",
       "      <td>...</td>\n",
       "    </tr>\n",
       "    <tr>\n",
       "      <th>395</th>\n",
       "      <td>12.096</td>\n",
       "      <td>4100</td>\n",
       "      <td>3</td>\n",
       "      <td>32</td>\n",
       "      <td>13</td>\n",
       "      <td>0</td>\n",
       "      <td>0</td>\n",
       "      <td>1</td>\n",
       "      <td>560</td>\n",
       "      <td>0</td>\n",
       "      <td>0</td>\n",
       "      <td>1</td>\n",
       "    </tr>\n",
       "    <tr>\n",
       "      <th>396</th>\n",
       "      <td>13.364</td>\n",
       "      <td>3838</td>\n",
       "      <td>5</td>\n",
       "      <td>65</td>\n",
       "      <td>17</td>\n",
       "      <td>0</td>\n",
       "      <td>0</td>\n",
       "      <td>0</td>\n",
       "      <td>480</td>\n",
       "      <td>1</td>\n",
       "      <td>0</td>\n",
       "      <td>0</td>\n",
       "    </tr>\n",
       "    <tr>\n",
       "      <th>397</th>\n",
       "      <td>57.872</td>\n",
       "      <td>4171</td>\n",
       "      <td>5</td>\n",
       "      <td>67</td>\n",
       "      <td>12</td>\n",
       "      <td>1</td>\n",
       "      <td>0</td>\n",
       "      <td>1</td>\n",
       "      <td>138</td>\n",
       "      <td>0</td>\n",
       "      <td>0</td>\n",
       "      <td>1</td>\n",
       "    </tr>\n",
       "    <tr>\n",
       "      <th>398</th>\n",
       "      <td>37.728</td>\n",
       "      <td>2525</td>\n",
       "      <td>1</td>\n",
       "      <td>44</td>\n",
       "      <td>13</td>\n",
       "      <td>0</td>\n",
       "      <td>0</td>\n",
       "      <td>1</td>\n",
       "      <td>0</td>\n",
       "      <td>0</td>\n",
       "      <td>0</td>\n",
       "      <td>1</td>\n",
       "    </tr>\n",
       "    <tr>\n",
       "      <th>399</th>\n",
       "      <td>18.701</td>\n",
       "      <td>5524</td>\n",
       "      <td>5</td>\n",
       "      <td>64</td>\n",
       "      <td>7</td>\n",
       "      <td>1</td>\n",
       "      <td>0</td>\n",
       "      <td>0</td>\n",
       "      <td>966</td>\n",
       "      <td>0</td>\n",
       "      <td>1</td>\n",
       "      <td>0</td>\n",
       "    </tr>\n",
       "  </tbody>\n",
       "</table>\n",
       "<p>400 rows × 12 columns</p>\n",
       "</div>"
      ],
      "text/plain": [
       "      Income  Limit  Cards  Age  Education  Gender  Student  Married  Balance  \\\n",
       "0     14.891   3606      2   34         11       0        0        1      333   \n",
       "1    106.025   6645      3   82         15       1        1        1      903   \n",
       "2    104.593   7075      4   71         11       0        0        0      580   \n",
       "3    148.924   9504      3   36         11       1        0        0      964   \n",
       "4     55.882   4897      2   68         16       0        0        1      331   \n",
       "..       ...    ...    ...  ...        ...     ...      ...      ...      ...   \n",
       "395   12.096   4100      3   32         13       0        0        1      560   \n",
       "396   13.364   3838      5   65         17       0        0        0      480   \n",
       "397   57.872   4171      5   67         12       1        0        1      138   \n",
       "398   37.728   2525      1   44         13       0        0        1        0   \n",
       "399   18.701   5524      5   64          7       1        0        0      966   \n",
       "\n",
       "     African American  Asian  Caucasian  \n",
       "0                   0      0          1  \n",
       "1                   0      1          0  \n",
       "2                   0      1          0  \n",
       "3                   0      1          0  \n",
       "4                   0      0          1  \n",
       "..                ...    ...        ...  \n",
       "395                 0      0          1  \n",
       "396                 1      0          0  \n",
       "397                 0      0          1  \n",
       "398                 0      0          1  \n",
       "399                 0      1          0  \n",
       "\n",
       "[400 rows x 12 columns]"
      ]
     },
     "metadata": {},
     "output_type": "display_data"
    },
    {
     "data": {
      "text/plain": [
       "0      283\n",
       "1      483\n",
       "2      514\n",
       "3      681\n",
       "4      357\n",
       "      ... \n",
       "395    307\n",
       "396    296\n",
       "397    321\n",
       "398    192\n",
       "399    415\n",
       "Name: Rating, Length: 400, dtype: int64"
      ]
     },
     "metadata": {},
     "output_type": "display_data"
    }
   ],
   "source": [
    "credit = pd.read_csv('./data/credit_modified.csv')\n",
    "rating = credit.pop('Rating')\n",
    "credit.shape\n",
    "display(credit)\n",
    "display(rating)"
   ]
  },
  {
   "cell_type": "code",
   "execution_count": 16,
   "id": "4df7c2c1",
   "metadata": {},
   "outputs": [
    {
     "name": "stdout",
     "output_type": "stream",
     "text": [
      "mean --> 354.94\n",
      "std ---> 154.72414259174906\n"
     ]
    },
    {
     "data": {
      "image/png": "[encoded data removed]",
      "text/plain": [
       "<Figure size 432x288 with 1 Axes>"
      ]
     },
     "metadata": {
      "needs_background": "light"
     },
     "output_type": "display_data"
    }
   ],
   "source": [
    "plt.hist(rating, bins=50);\n",
    "print(\"mean -->\",rating.mean())\n",
    "print(\"std --->\",rating.std())"
   ]
  },
  {
   "cell_type": "markdown",
   "id": "3b13b5bb",
   "metadata": {},
   "source": [
    "## Lasso regression in sklearn\n",
    "\n",
    "In this example we aim to predict credit rating of individual customers. To train and predict using a Lasso regression we follow much the same procedure as we have seen before in `scikit-learn`."
   ]
  },
  {
   "cell_type": "code",
   "execution_count": 18,
   "id": "cf9c0163",
   "metadata": {},
   "outputs": [],
   "source": [
    "from sklearn.linear_model import Lasso"
   ]
  },
  {
   "cell_type": "code",
   "execution_count": 19,
   "id": "a3aa948b",
   "metadata": {},
   "outputs": [],
   "source": [
    "X_train, X_test, y_train, y_test = train_test_split(credit, rating, random_state = 91)"
   ]
  },
  {
   "cell_type": "markdown",
   "id": "67136ada",
   "metadata": {},
   "source": [
    "#### Creation Lasso model --> DIFFERENT DE LINEAR & CO <--"
   ]
  },
  {
   "cell_type": "code",
   "execution_count": 22,
   "id": "9d17afbf",
   "metadata": {},
   "outputs": [
    {
     "name": "stdout",
     "output_type": "stream",
     "text": [
      "mean MSE: 148.36580248151398\n",
      "std MSE: 22.577610846122518\n"
     ]
    }
   ],
   "source": [
    "lasso = Lasso(alpha = 10)"
   ]
  },
  {
   "cell_type": "code",
   "execution_count": 24,
   "id": "1e48d1c3",
   "metadata": {},
   "outputs": [
    {
     "name": "stdout",
     "output_type": "stream",
     "text": [
      "mean MSE: 148.36580248151398\n",
      "std MSE: 22.577610846122518\n"
     ]
    }
   ],
   "source": [
    "cv_scores = cross_val_score(lasso, X_train, y_train, cv = 5, scoring='neg_mean_squared_error')\n",
    "print('mean MSE:',np.mean(-cv_scores))\n",
    "print('std MSE:',np.std(-cv_scores))"
   ]
  },
  {
   "cell_type": "markdown",
   "id": "0441fbe9",
   "metadata": {},
   "source": [
    "#### Importance of the Alpha parameter"
   ]
  },
  {
   "cell_type": "code",
   "execution_count": 30,
   "id": "d7297ae1",
   "metadata": {},
   "outputs": [],
   "source": [
    "alpha_list = []\n",
    "MSE_mean_list = []\n",
    "MSE_std_list = []\n",
    "\n",
    "\n",
    "for alpha in range(5,100,5):\n",
    "    lasso = Lasso(alpha = alpha)\n",
    "    cv_scores = cross_val_score(lasso, X_train, y_train, cv = 5, scoring='neg_mean_squared_error')\n",
    "    MSE_mean = np.mean(-cv_scores)\n",
    "    MSE_std = np.std(-cv_scores)\n",
    "    \n",
    "    alpha_list.append(alpha)\n",
    "    MSE_mean_list.append(MSE_mean)\n",
    "    MSE_std_list.append(MSE_std)\n"
   ]
  },
  {
   "cell_type": "code",
   "execution_count": 32,
   "id": "b8dc9a2b",
   "metadata": {},
   "outputs": [
    {
     "data": {
      "text/plain": [
       "<matplotlib.legend.Legend at 0x7f88a1b00160>"
      ]
     },
     "execution_count": 32,
     "metadata": {},
     "output_type": "execute_result"
    },
    {
     "data": {
      "image/png": "[encoded data removed]",
      "text/plain": [
       "<Figure size 1296x648 with 1 Axes>"
      ]
     },
     "metadata": {
      "needs_background": "light"
     },
     "output_type": "display_data"
    }
   ],
   "source": [
    "fig, ax = plt.subplots(figsize=(18,9))\n",
    "fig.suptitle(\"Evolution du MSE en fonction de alpha\", fontsize=20)\n",
    "\n",
    "sns.lineplot(\n",
    "    x = alpha_list, \n",
    "    y=MSE_mean_list,\n",
    "    label=\"MSE\",\n",
    "    linestyle=\"-\",\n",
    "    marker = \"o\"\n",
    ")\n",
    "\n",
    "ax.set_xlabel(\"alpha\", fontsize=15)\n",
    "ax.set_ylabel(\"MSE\", fontsize=15)\n",
    "ax.legend(fontsize=15)"
   ]
  },
  {
   "cell_type": "code",
   "execution_count": 33,
   "id": "ef04febe",
   "metadata": {},
   "outputs": [
    {
     "data": {
      "text/plain": [
       "<matplotlib.legend.Legend at 0x7f88814612b0>"
      ]
     },
     "execution_count": 33,
     "metadata": {},
     "output_type": "execute_result"
    },
    {
     "data": {
      "image/png": "[encoded data removed]",
      "text/plain": [
       "<Figure size 1296x648 with 1 Axes>"
      ]
     },
     "metadata": {
      "needs_background": "light"
     },
     "output_type": "display_data"
    }
   ],
   "source": [
    "fig, ax = plt.subplots(figsize=(18,9))\n",
    "fig.suptitle(\"Evolution du std(MSE) en fonction de alpha\", fontsize=20)\n",
    "\n",
    "sns.lineplot(\n",
    "    x = alpha_list, \n",
    "    y=MSE_std_list,\n",
    "    label=\"MSE\",\n",
    "    linestyle=\"-\",\n",
    "    marker = \"o\"\n",
    ")\n",
    "\n",
    "ax.set_xlabel(\"alpha\", fontsize=15)\n",
    "ax.set_ylabel(\"std(MSE)\", fontsize=15)\n",
    "ax.legend(fontsize=15)"
   ]
  },
  {
   "cell_type": "markdown",
   "id": "87091311",
   "metadata": {},
   "source": [
    "#### Using Lasso with grid search\n",
    "\n",
    "In practice we do not want to vary hyperparameters by hand to find which value is best (the model with minimum cross validation error). Of course `scikit-learn` has a function that automates this for you. Using `GridSearchCV` we pass a dictionary of parameter values we wish to investigate. The function will fit each model we have listed and calculate the cross validation error of each. It provides all the results through the object it returns."
   ]
  },
  {
   "cell_type": "code",
   "execution_count": 50,
   "id": "f2e9651c",
   "metadata": {},
   "outputs": [
    {
     "data": {
      "text/html": [
       "<div>\n",
       "<style scoped>\n",
       "    .dataframe tbody tr th:only-of-type {\n",
       "        vertical-align: middle;\n",
       "    }\n",
       "\n",
       "    .dataframe tbody tr th {\n",
       "        vertical-align: top;\n",
       "    }\n",
       "\n",
       "    .dataframe thead th {\n",
       "        text-align: right;\n",
       "    }\n",
       "</style>\n",
       "<table border=\"1\" class=\"dataframe\">\n",
       "  <thead>\n",
       "    <tr style=\"text-align: right;\">\n",
       "      <th></th>\n",
       "      <th>mean_fit_time</th>\n",
       "      <th>std_fit_time</th>\n",
       "      <th>mean_score_time</th>\n",
       "      <th>std_score_time</th>\n",
       "      <th>param_alpha</th>\n",
       "      <th>params</th>\n",
       "      <th>split0_test_score</th>\n",
       "      <th>split1_test_score</th>\n",
       "      <th>split2_test_score</th>\n",
       "      <th>split3_test_score</th>\n",
       "      <th>split4_test_score</th>\n",
       "      <th>split5_test_score</th>\n",
       "      <th>split6_test_score</th>\n",
       "      <th>split7_test_score</th>\n",
       "      <th>split8_test_score</th>\n",
       "      <th>split9_test_score</th>\n",
       "      <th>mean_test_score</th>\n",
       "      <th>std_test_score</th>\n",
       "      <th>rank_test_score</th>\n",
       "    </tr>\n",
       "  </thead>\n",
       "  <tbody>\n",
       "    <tr>\n",
       "      <th>0</th>\n",
       "      <td>0.002429</td>\n",
       "      <td>0.000229</td>\n",
       "      <td>0.000662</td>\n",
       "      <td>0.000134</td>\n",
       "      <td>0.001</td>\n",
       "      <td>{'alpha': 0.001}</td>\n",
       "      <td>-134.693531</td>\n",
       "      <td>-105.857049</td>\n",
       "      <td>-101.376944</td>\n",
       "      <td>-87.569097</td>\n",
       "      <td>-78.913304</td>\n",
       "      <td>-76.137420</td>\n",
       "      <td>-109.786540</td>\n",
       "      <td>-103.885686</td>\n",
       "      <td>-106.104721</td>\n",
       "      <td>-113.455931</td>\n",
       "      <td>-101.778022</td>\n",
       "      <td>16.450021</td>\n",
       "      <td>3</td>\n",
       "    </tr>\n",
       "    <tr>\n",
       "      <th>1</th>\n",
       "      <td>0.001993</td>\n",
       "      <td>0.000071</td>\n",
       "      <td>0.000563</td>\n",
       "      <td>0.000005</td>\n",
       "      <td>0.01</td>\n",
       "      <td>{'alpha': 0.01}</td>\n",
       "      <td>-134.553201</td>\n",
       "      <td>-105.948212</td>\n",
       "      <td>-101.096381</td>\n",
       "      <td>-87.881139</td>\n",
       "      <td>-78.937345</td>\n",
       "      <td>-76.585584</td>\n",
       "      <td>-109.682491</td>\n",
       "      <td>-103.106018</td>\n",
       "      <td>-106.112572</td>\n",
       "      <td>-113.688788</td>\n",
       "      <td>-101.759173</td>\n",
       "      <td>16.329243</td>\n",
       "      <td>2</td>\n",
       "    </tr>\n",
       "    <tr>\n",
       "      <th>2</th>\n",
       "      <td>0.001639</td>\n",
       "      <td>0.000128</td>\n",
       "      <td>0.000649</td>\n",
       "      <td>0.000031</td>\n",
       "      <td>0.1</td>\n",
       "      <td>{'alpha': 0.1}</td>\n",
       "      <td>-133.132694</td>\n",
       "      <td>-106.809300</td>\n",
       "      <td>-98.722275</td>\n",
       "      <td>-91.394863</td>\n",
       "      <td>-79.351692</td>\n",
       "      <td>-78.012317</td>\n",
       "      <td>-108.680986</td>\n",
       "      <td>-96.604537</td>\n",
       "      <td>-106.093953</td>\n",
       "      <td>-115.062267</td>\n",
       "      <td>-101.386489</td>\n",
       "      <td>15.688554</td>\n",
       "      <td>1</td>\n",
       "    </tr>\n",
       "    <tr>\n",
       "      <th>3</th>\n",
       "      <td>0.001177</td>\n",
       "      <td>0.000041</td>\n",
       "      <td>0.000572</td>\n",
       "      <td>0.000023</td>\n",
       "      <td>1</td>\n",
       "      <td>{'alpha': 1}</td>\n",
       "      <td>-127.851853</td>\n",
       "      <td>-111.017555</td>\n",
       "      <td>-92.827631</td>\n",
       "      <td>-106.006184</td>\n",
       "      <td>-89.048154</td>\n",
       "      <td>-82.339570</td>\n",
       "      <td>-105.158164</td>\n",
       "      <td>-94.934777</td>\n",
       "      <td>-102.310102</td>\n",
       "      <td>-122.139519</td>\n",
       "      <td>-103.363351</td>\n",
       "      <td>13.605513</td>\n",
       "      <td>4</td>\n",
       "    </tr>\n",
       "    <tr>\n",
       "      <th>4</th>\n",
       "      <td>0.001084</td>\n",
       "      <td>0.000010</td>\n",
       "      <td>0.000552</td>\n",
       "      <td>0.000003</td>\n",
       "      <td>3</td>\n",
       "      <td>{'alpha': 3}</td>\n",
       "      <td>-132.499698</td>\n",
       "      <td>-117.173048</td>\n",
       "      <td>-106.238114</td>\n",
       "      <td>-112.301661</td>\n",
       "      <td>-94.847286</td>\n",
       "      <td>-76.537019</td>\n",
       "      <td>-102.509314</td>\n",
       "      <td>-98.851062</td>\n",
       "      <td>-105.902336</td>\n",
       "      <td>-131.338637</td>\n",
       "      <td>-107.819817</td>\n",
       "      <td>15.910751</td>\n",
       "      <td>5</td>\n",
       "    </tr>\n",
       "    <tr>\n",
       "      <th>5</th>\n",
       "      <td>0.001008</td>\n",
       "      <td>0.000007</td>\n",
       "      <td>0.000551</td>\n",
       "      <td>0.000003</td>\n",
       "      <td>10</td>\n",
       "      <td>{'alpha': 10}</td>\n",
       "      <td>-182.681016</td>\n",
       "      <td>-155.361568</td>\n",
       "      <td>-179.884644</td>\n",
       "      <td>-148.842090</td>\n",
       "      <td>-141.841896</td>\n",
       "      <td>-86.351859</td>\n",
       "      <td>-129.718484</td>\n",
       "      <td>-131.176340</td>\n",
       "      <td>-143.631521</td>\n",
       "      <td>-181.271903</td>\n",
       "      <td>-148.076132</td>\n",
       "      <td>28.028584</td>\n",
       "      <td>6</td>\n",
       "    </tr>\n",
       "    <tr>\n",
       "      <th>6</th>\n",
       "      <td>0.000906</td>\n",
       "      <td>0.000006</td>\n",
       "      <td>0.000551</td>\n",
       "      <td>0.000004</td>\n",
       "      <td>100</td>\n",
       "      <td>{'alpha': 100}</td>\n",
       "      <td>-188.380866</td>\n",
       "      <td>-143.744333</td>\n",
       "      <td>-184.078341</td>\n",
       "      <td>-145.491583</td>\n",
       "      <td>-157.301014</td>\n",
       "      <td>-103.112064</td>\n",
       "      <td>-146.957766</td>\n",
       "      <td>-126.231725</td>\n",
       "      <td>-143.006029</td>\n",
       "      <td>-181.543599</td>\n",
       "      <td>-151.984732</td>\n",
       "      <td>25.542857</td>\n",
       "      <td>7</td>\n",
       "    </tr>\n",
       "    <tr>\n",
       "      <th>7</th>\n",
       "      <td>0.000961</td>\n",
       "      <td>0.000087</td>\n",
       "      <td>0.000627</td>\n",
       "      <td>0.000117</td>\n",
       "      <td>1000</td>\n",
       "      <td>{'alpha': 1000}</td>\n",
       "      <td>-188.587767</td>\n",
       "      <td>-146.517162</td>\n",
       "      <td>-180.483375</td>\n",
       "      <td>-143.257202</td>\n",
       "      <td>-158.504388</td>\n",
       "      <td>-103.017203</td>\n",
       "      <td>-150.127246</td>\n",
       "      <td>-121.916885</td>\n",
       "      <td>-144.912869</td>\n",
       "      <td>-185.805136</td>\n",
       "      <td>-152.312923</td>\n",
       "      <td>26.074170</td>\n",
       "      <td>8</td>\n",
       "    </tr>\n",
       "  </tbody>\n",
       "</table>\n",
       "</div>"
      ],
      "text/plain": [
       "   mean_fit_time  std_fit_time  mean_score_time  std_score_time param_alpha  \\\n",
       "0       0.002429      0.000229         0.000662        0.000134       0.001   \n",
       "1       0.001993      0.000071         0.000563        0.000005        0.01   \n",
       "2       0.001639      0.000128         0.000649        0.000031         0.1   \n",
       "3       0.001177      0.000041         0.000572        0.000023           1   \n",
       "4       0.001084      0.000010         0.000552        0.000003           3   \n",
       "5       0.001008      0.000007         0.000551        0.000003          10   \n",
       "6       0.000906      0.000006         0.000551        0.000004         100   \n",
       "7       0.000961      0.000087         0.000627        0.000117        1000   \n",
       "\n",
       "             params  split0_test_score  split1_test_score  split2_test_score  \\\n",
       "0  {'alpha': 0.001}        -134.693531        -105.857049        -101.376944   \n",
       "1   {'alpha': 0.01}        -134.553201        -105.948212        -101.096381   \n",
       "2    {'alpha': 0.1}        -133.132694        -106.809300         -98.722275   \n",
       "3      {'alpha': 1}        -127.851853        -111.017555         -92.827631   \n",
       "4      {'alpha': 3}        -132.499698        -117.173048        -106.238114   \n",
       "5     {'alpha': 10}        -182.681016        -155.361568        -179.884644   \n",
       "6    {'alpha': 100}        -188.380866        -143.744333        -184.078341   \n",
       "7   {'alpha': 1000}        -188.587767        -146.517162        -180.483375   \n",
       "\n",
       "   split3_test_score  split4_test_score  split5_test_score  split6_test_score  \\\n",
       "0         -87.569097         -78.913304         -76.137420        -109.786540   \n",
       "1         -87.881139         -78.937345         -76.585584        -109.682491   \n",
       "2         -91.394863         -79.351692         -78.012317        -108.680986   \n",
       "3        -106.006184         -89.048154         -82.339570        -105.158164   \n",
       "4        -112.301661         -94.847286         -76.537019        -102.509314   \n",
       "5        -148.842090        -141.841896         -86.351859        -129.718484   \n",
       "6        -145.491583        -157.301014        -103.112064        -146.957766   \n",
       "7        -143.257202        -158.504388        -103.017203        -150.127246   \n",
       "\n",
       "   split7_test_score  split8_test_score  split9_test_score  mean_test_score  \\\n",
       "0        -103.885686        -106.104721        -113.455931      -101.778022   \n",
       "1        -103.106018        -106.112572        -113.688788      -101.759173   \n",
       "2         -96.604537        -106.093953        -115.062267      -101.386489   \n",
       "3         -94.934777        -102.310102        -122.139519      -103.363351   \n",
       "4         -98.851062        -105.902336        -131.338637      -107.819817   \n",
       "5        -131.176340        -143.631521        -181.271903      -148.076132   \n",
       "6        -126.231725        -143.006029        -181.543599      -151.984732   \n",
       "7        -121.916885        -144.912869        -185.805136      -152.312923   \n",
       "\n",
       "   std_test_score  rank_test_score  \n",
       "0       16.450021                3  \n",
       "1       16.329243                2  \n",
       "2       15.688554                1  \n",
       "3       13.605513                4  \n",
       "4       15.910751                5  \n",
       "5       28.028584                6  \n",
       "6       25.542857                7  \n",
       "7       26.074170                8  "
      ]
     },
     "execution_count": 50,
     "metadata": {},
     "output_type": "execute_result"
    }
   ],
   "source": [
    "from sklearn.model_selection import GridSearchCV\n",
    "lasso = Lasso(max_iter=10000)\n",
    "\n",
    "param_grid = [\n",
    " {'alpha': [0.001, 0.01, 0.1, 1, 3, 10, 100, 1000]}\n",
    " ]\n",
    "\n",
    "grid_search = GridSearchCV(lasso, param_grid, cv=10, scoring='neg_mean_squared_error')\n",
    "grid_search.fit(X_train, y_train)\n",
    "\n",
    "grid_results_lasso = pd.DataFrame(grid_search.cv_results_)\n",
    "grid_results_lasso"
   ]
  },
  {
   "cell_type": "markdown",
   "id": "314cf4df",
   "metadata": {},
   "source": [
    "#### Best model"
   ]
  },
  {
   "cell_type": "code",
   "execution_count": 51,
   "id": "1533f313",
   "metadata": {},
   "outputs": [
    {
     "data": {
      "text/plain": [
       "Lasso(alpha=0.1, max_iter=10000)"
      ]
     },
     "execution_count": 51,
     "metadata": {},
     "output_type": "execute_result"
    }
   ],
   "source": [
    "grid_search.best_estimator_"
   ]
  },
  {
   "cell_type": "code",
   "execution_count": 52,
   "id": "d93a9439",
   "metadata": {},
   "outputs": [
    {
     "data": {
      "text/plain": [
       "2"
      ]
     },
     "execution_count": 52,
     "metadata": {},
     "output_type": "execute_result"
    }
   ],
   "source": [
    "grid_search.best_index_\n",
    "#grid_search.cv_results_"
   ]
  },
  {
   "cell_type": "markdown",
   "id": "49761f10",
   "metadata": {},
   "source": [
    "#### How Many time the lasso model will be fitted"
   ]
  },
  {
   "cell_type": "raw",
   "id": "91cde1fe",
   "metadata": {},
   "source": [
    "--> On test 8 alpha et on demande 10 cv soit 80 modèles testés\n",
    "--> On récupère l'index du plus performant d'après notre critère\n",
    "--> Le critère donnée est MSE"
   ]
  },
  {
   "cell_type": "markdown",
   "id": "5ce50b5b",
   "metadata": {},
   "source": [
    "# Model selection"
   ]
  },
  {
   "cell_type": "markdown",
   "id": "695ae924",
   "metadata": {},
   "source": [
    "#### Task 5: Ridge regression in sklearn\n",
    "\n",
    "Another type of regularised linear model is know as *Ridge regression*.\n",
    "\n",
    "* Repeat the model prediction process above on the credit data but use a ridge regression model.\n",
    "* Try replacing `GridSearchCV` with `RandomizedSearchCV`\n",
    "* How do these functions differ?"
   ]
  },
  {
   "cell_type": "code",
   "execution_count": 53,
   "id": "7806bee9",
   "metadata": {},
   "outputs": [
    {
     "name": "stdout",
     "output_type": "stream",
     "text": [
      "mean MSE: 101.17975030394422\n",
      "std MSE: 14.479629303595352\n"
     ]
    }
   ],
   "source": [
    "from sklearn.model_selection import RandomizedSearchCV\n",
    "from sklearn.linear_model import Ridge\n",
    "\n",
    "ridge = Ridge(alpha=0.5)\n",
    "cv_scores = cross_val_score(ridge, X_train, y_train, cv = 5, scoring='neg_mean_squared_error')\n",
    "print('mean MSE:',np.mean(-cv_scores))\n",
    "print('std MSE:',np.std(-cv_scores))"
   ]
  },
  {
   "cell_type": "code",
   "execution_count": 54,
   "id": "7ac9fe86",
   "metadata": {},
   "outputs": [
    {
     "data": {
      "text/html": [
       "<div>\n",
       "<style scoped>\n",
       "    .dataframe tbody tr th:only-of-type {\n",
       "        vertical-align: middle;\n",
       "    }\n",
       "\n",
       "    .dataframe tbody tr th {\n",
       "        vertical-align: top;\n",
       "    }\n",
       "\n",
       "    .dataframe thead th {\n",
       "        text-align: right;\n",
       "    }\n",
       "</style>\n",
       "<table border=\"1\" class=\"dataframe\">\n",
       "  <thead>\n",
       "    <tr style=\"text-align: right;\">\n",
       "      <th></th>\n",
       "      <th>mean_fit_time</th>\n",
       "      <th>std_fit_time</th>\n",
       "      <th>mean_score_time</th>\n",
       "      <th>std_score_time</th>\n",
       "      <th>param_alpha</th>\n",
       "      <th>params</th>\n",
       "      <th>split0_test_score</th>\n",
       "      <th>split1_test_score</th>\n",
       "      <th>split2_test_score</th>\n",
       "      <th>split3_test_score</th>\n",
       "      <th>split4_test_score</th>\n",
       "      <th>split5_test_score</th>\n",
       "      <th>split6_test_score</th>\n",
       "      <th>split7_test_score</th>\n",
       "      <th>split8_test_score</th>\n",
       "      <th>split9_test_score</th>\n",
       "      <th>mean_test_score</th>\n",
       "      <th>std_test_score</th>\n",
       "      <th>rank_test_score</th>\n",
       "    </tr>\n",
       "  </thead>\n",
       "  <tbody>\n",
       "    <tr>\n",
       "      <th>0</th>\n",
       "      <td>0.001577</td>\n",
       "      <td>0.000567</td>\n",
       "      <td>0.000915</td>\n",
       "      <td>0.000281</td>\n",
       "      <td>0.001</td>\n",
       "      <td>{'alpha': 0.001}</td>\n",
       "      <td>-134.709207</td>\n",
       "      <td>-105.847146</td>\n",
       "      <td>-101.408319</td>\n",
       "      <td>-87.535423</td>\n",
       "      <td>-78.910802</td>\n",
       "      <td>-76.088537</td>\n",
       "      <td>-109.798419</td>\n",
       "      <td>-103.970825</td>\n",
       "      <td>-106.104415</td>\n",
       "      <td>-113.431271</td>\n",
       "      <td>-101.780436</td>\n",
       "      <td>16.463655</td>\n",
       "      <td>6</td>\n",
       "    </tr>\n",
       "    <tr>\n",
       "      <th>1</th>\n",
       "      <td>0.000901</td>\n",
       "      <td>0.000062</td>\n",
       "      <td>0.000584</td>\n",
       "      <td>0.000021</td>\n",
       "      <td>0.01</td>\n",
       "      <td>{'alpha': 0.01}</td>\n",
       "      <td>-134.708083</td>\n",
       "      <td>-105.847646</td>\n",
       "      <td>-101.405663</td>\n",
       "      <td>-87.537922</td>\n",
       "      <td>-78.910278</td>\n",
       "      <td>-76.089237</td>\n",
       "      <td>-109.797587</td>\n",
       "      <td>-103.951593</td>\n",
       "      <td>-106.104574</td>\n",
       "      <td>-113.432645</td>\n",
       "      <td>-101.778523</td>\n",
       "      <td>16.463002</td>\n",
       "      <td>5</td>\n",
       "    </tr>\n",
       "    <tr>\n",
       "      <th>2</th>\n",
       "      <td>0.000886</td>\n",
       "      <td>0.000036</td>\n",
       "      <td>0.000581</td>\n",
       "      <td>0.000025</td>\n",
       "      <td>0.1</td>\n",
       "      <td>{'alpha': 0.1}</td>\n",
       "      <td>-134.696920</td>\n",
       "      <td>-105.852592</td>\n",
       "      <td>-101.379213</td>\n",
       "      <td>-87.562901</td>\n",
       "      <td>-78.905195</td>\n",
       "      <td>-76.096104</td>\n",
       "      <td>-109.789211</td>\n",
       "      <td>-103.762049</td>\n",
       "      <td>-106.106093</td>\n",
       "      <td>-113.446278</td>\n",
       "      <td>-101.759656</td>\n",
       "      <td>16.456623</td>\n",
       "      <td>4</td>\n",
       "    </tr>\n",
       "    <tr>\n",
       "      <th>3</th>\n",
       "      <td>0.000842</td>\n",
       "      <td>0.000008</td>\n",
       "      <td>0.000558</td>\n",
       "      <td>0.000009</td>\n",
       "      <td>1</td>\n",
       "      <td>{'alpha': 1}</td>\n",
       "      <td>-134.591854</td>\n",
       "      <td>-105.896229</td>\n",
       "      <td>-101.125522</td>\n",
       "      <td>-87.810393</td>\n",
       "      <td>-78.868133</td>\n",
       "      <td>-76.152928</td>\n",
       "      <td>-109.700721</td>\n",
       "      <td>-102.109819</td>\n",
       "      <td>-106.115508</td>\n",
       "      <td>-113.572360</td>\n",
       "      <td>-101.594347</td>\n",
       "      <td>16.404872</td>\n",
       "      <td>3</td>\n",
       "    </tr>\n",
       "    <tr>\n",
       "      <th>4</th>\n",
       "      <td>0.000850</td>\n",
       "      <td>0.000031</td>\n",
       "      <td>0.000556</td>\n",
       "      <td>0.000007</td>\n",
       "      <td>3</td>\n",
       "      <td>{'alpha': 3}</td>\n",
       "      <td>-134.391253</td>\n",
       "      <td>-105.965205</td>\n",
       "      <td>-100.621625</td>\n",
       "      <td>-88.340987</td>\n",
       "      <td>-78.849639</td>\n",
       "      <td>-76.222951</td>\n",
       "      <td>-109.483397</td>\n",
       "      <td>-99.544295</td>\n",
       "      <td>-106.108819</td>\n",
       "      <td>-113.805661</td>\n",
       "      <td>-101.333383</td>\n",
       "      <td>16.332863</td>\n",
       "      <td>2</td>\n",
       "    </tr>\n",
       "    <tr>\n",
       "      <th>5</th>\n",
       "      <td>0.000901</td>\n",
       "      <td>0.000099</td>\n",
       "      <td>0.000581</td>\n",
       "      <td>0.000028</td>\n",
       "      <td>10</td>\n",
       "      <td>{'alpha': 10}</td>\n",
       "      <td>-133.890522</td>\n",
       "      <td>-106.090432</td>\n",
       "      <td>-99.320843</td>\n",
       "      <td>-89.982387</td>\n",
       "      <td>-79.071589</td>\n",
       "      <td>-76.191060</td>\n",
       "      <td>-108.669389</td>\n",
       "      <td>-95.536294</td>\n",
       "      <td>-105.969953</td>\n",
       "      <td>-114.432072</td>\n",
       "      <td>-100.915454</td>\n",
       "      <td>16.192486</td>\n",
       "      <td>1</td>\n",
       "    </tr>\n",
       "    <tr>\n",
       "      <th>6</th>\n",
       "      <td>0.000949</td>\n",
       "      <td>0.000093</td>\n",
       "      <td>0.000620</td>\n",
       "      <td>0.000047</td>\n",
       "      <td>100</td>\n",
       "      <td>{'alpha': 100}</td>\n",
       "      <td>-134.083288</td>\n",
       "      <td>-108.689604</td>\n",
       "      <td>-99.945650</td>\n",
       "      <td>-100.567871</td>\n",
       "      <td>-82.857511</td>\n",
       "      <td>-72.598275</td>\n",
       "      <td>-102.841444</td>\n",
       "      <td>-94.279222</td>\n",
       "      <td>-106.194183</td>\n",
       "      <td>-121.853714</td>\n",
       "      <td>-102.391076</td>\n",
       "      <td>16.678747</td>\n",
       "      <td>7</td>\n",
       "    </tr>\n",
       "    <tr>\n",
       "      <th>7</th>\n",
       "      <td>0.000844</td>\n",
       "      <td>0.000010</td>\n",
       "      <td>0.000557</td>\n",
       "      <td>0.000005</td>\n",
       "      <td>1000</td>\n",
       "      <td>{'alpha': 1000}</td>\n",
       "      <td>-159.394337</td>\n",
       "      <td>-130.276230</td>\n",
       "      <td>-139.267945</td>\n",
       "      <td>-127.599179</td>\n",
       "      <td>-104.683784</td>\n",
       "      <td>-68.050042</td>\n",
       "      <td>-105.482490</td>\n",
       "      <td>-112.287832</td>\n",
       "      <td>-123.522302</td>\n",
       "      <td>-154.546831</td>\n",
       "      <td>-122.511097</td>\n",
       "      <td>25.363301</td>\n",
       "      <td>8</td>\n",
       "    </tr>\n",
       "  </tbody>\n",
       "</table>\n",
       "</div>"
      ],
      "text/plain": [
       "   mean_fit_time  std_fit_time  mean_score_time  std_score_time param_alpha  \\\n",
       "0       0.001577      0.000567         0.000915        0.000281       0.001   \n",
       "1       0.000901      0.000062         0.000584        0.000021        0.01   \n",
       "2       0.000886      0.000036         0.000581        0.000025         0.1   \n",
       "3       0.000842      0.000008         0.000558        0.000009           1   \n",
       "4       0.000850      0.000031         0.000556        0.000007           3   \n",
       "5       0.000901      0.000099         0.000581        0.000028          10   \n",
       "6       0.000949      0.000093         0.000620        0.000047         100   \n",
       "7       0.000844      0.000010         0.000557        0.000005        1000   \n",
       "\n",
       "             params  split0_test_score  split1_test_score  split2_test_score  \\\n",
       "0  {'alpha': 0.001}        -134.709207        -105.847146        -101.408319   \n",
       "1   {'alpha': 0.01}        -134.708083        -105.847646        -101.405663   \n",
       "2    {'alpha': 0.1}        -134.696920        -105.852592        -101.379213   \n",
       "3      {'alpha': 1}        -134.591854        -105.896229        -101.125522   \n",
       "4      {'alpha': 3}        -134.391253        -105.965205        -100.621625   \n",
       "5     {'alpha': 10}        -133.890522        -106.090432         -99.320843   \n",
       "6    {'alpha': 100}        -134.083288        -108.689604         -99.945650   \n",
       "7   {'alpha': 1000}        -159.394337        -130.276230        -139.267945   \n",
       "\n",
       "   split3_test_score  split4_test_score  split5_test_score  split6_test_score  \\\n",
       "0         -87.535423         -78.910802         -76.088537        -109.798419   \n",
       "1         -87.537922         -78.910278         -76.089237        -109.797587   \n",
       "2         -87.562901         -78.905195         -76.096104        -109.789211   \n",
       "3         -87.810393         -78.868133         -76.152928        -109.700721   \n",
       "4         -88.340987         -78.849639         -76.222951        -109.483397   \n",
       "5         -89.982387         -79.071589         -76.191060        -108.669389   \n",
       "6        -100.567871         -82.857511         -72.598275        -102.841444   \n",
       "7        -127.599179        -104.683784         -68.050042        -105.482490   \n",
       "\n",
       "   split7_test_score  split8_test_score  split9_test_score  mean_test_score  \\\n",
       "0        -103.970825        -106.104415        -113.431271      -101.780436   \n",
       "1        -103.951593        -106.104574        -113.432645      -101.778523   \n",
       "2        -103.762049        -106.106093        -113.446278      -101.759656   \n",
       "3        -102.109819        -106.115508        -113.572360      -101.594347   \n",
       "4         -99.544295        -106.108819        -113.805661      -101.333383   \n",
       "5         -95.536294        -105.969953        -114.432072      -100.915454   \n",
       "6         -94.279222        -106.194183        -121.853714      -102.391076   \n",
       "7        -112.287832        -123.522302        -154.546831      -122.511097   \n",
       "\n",
       "   std_test_score  rank_test_score  \n",
       "0       16.463655                6  \n",
       "1       16.463002                5  \n",
       "2       16.456623                4  \n",
       "3       16.404872                3  \n",
       "4       16.332863                2  \n",
       "5       16.192486                1  \n",
       "6       16.678747                7  \n",
       "7       25.363301                8  "
      ]
     },
     "execution_count": 54,
     "metadata": {},
     "output_type": "execute_result"
    }
   ],
   "source": [
    "param_grid = [\n",
    " {'alpha': [0.001, 0.01, 0.1, 1, 3, 10, 100, 1000]}\n",
    " ]\n",
    "\n",
    "grid_search = GridSearchCV(ridge, param_grid, cv=10, scoring='neg_mean_squared_error')\n",
    "grid_search.fit(X_train, y_train)\n",
    "grid_results_ridge = pd.DataFrame(grid_search.cv_results_)\n",
    "grid_results_ridge"
   ]
  },
  {
   "cell_type": "markdown",
   "id": "bae1f85e",
   "metadata": {},
   "source": [
    "#### Comparaison Ridge vs Lasso"
   ]
  },
  {
   "cell_type": "code",
   "execution_count": 57,
   "id": "f0394356",
   "metadata": {},
   "outputs": [
    {
     "data": {
      "text/plain": [
       "0    0.001\n",
       "1     0.01\n",
       "2      0.1\n",
       "3        1\n",
       "4        3\n",
       "5       10\n",
       "6      100\n",
       "7     1000\n",
       "Name: param_alpha, dtype: object"
      ]
     },
     "execution_count": 57,
     "metadata": {},
     "output_type": "execute_result"
    }
   ],
   "source": [
    "grid_results_lasso[\"param_alpha\"]"
   ]
  },
  {
   "cell_type": "code",
   "execution_count": 70,
   "id": "ce6cc451",
   "metadata": {},
   "outputs": [
    {
     "data": {
      "text/plain": [
       "<AxesSubplot:xlabel='param_alpha', ylabel='mean_test_score'>"
      ]
     },
     "execution_count": 70,
     "metadata": {},
     "output_type": "execute_result"
    },
    {
     "data": {
      "image/png": "[encoded data removed]",
      "text/plain": [
       "<Figure size 1296x648 with 1 Axes>"
      ]
     },
     "metadata": {},
     "output_type": "display_data"
    }
   ],
   "source": [
    "fig, ax = plt.subplots(nrows=1, ncols=1,figsize=(18,9))\n",
    "fig.suptitle(\"Comparaison des méthodes Lasso et Ridge - Alpha\", fontsize=20)\n",
    "\n",
    "sns.lineplot( \n",
    "    data = grid_results_ridge,\n",
    "    x=\"param_alpha\", \n",
    "    y=\"mean_test_score\", \n",
    "    label=\"Ridge\",\n",
    "    color=colors[4],\n",
    "    lw=5,\n",
    "    marker=\"o\"\n",
    ")\n",
    "\n",
    "sns.lineplot( \n",
    "    data = grid_results_lasso,\n",
    "    x=\"param_alpha\", \n",
    "    y=\"mean_test_score\", \n",
    "    label=\"Lasso\",\n",
    "    color=colors[0],\n",
    "    lw=5\n",
    ")"
   ]
  },
  {
   "cell_type": "code",
   "execution_count": null,
   "id": "8a8435a6",
   "metadata": {},
   "outputs": [],
   "source": []
  }
 ],
 "metadata": {
  "kernelspec": {
   "display_name": "Python 3 (ipykernel)",
   "language": "python",
   "name": "python3"
  },
  "language_info": {
   "codemirror_mode": {
    "name": "ipython",
    "version": 3
   },
   "file_extension": ".py",
   "mimetype": "text/x-python",
   "name": "python",
   "nbconvert_exporter": "python",
   "pygments_lexer": "ipython3",
   "version": "3.9.7"
  }
 },
 "nbformat": 4,
 "nbformat_minor": 5
}

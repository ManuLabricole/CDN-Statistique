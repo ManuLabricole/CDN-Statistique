{
 "cells": [
  {
   "cell_type": "markdown",
   "id": "c0351503",
   "metadata": {},
   "source": [
    "# Linear Regression - Classical appoach\n",
    "\n",
    "The objective of this notebook is to introduce the *classical approach to linear regression*. It will help you understand:\n",
    "* When you would use a classical statistical approach as opposed to a *machine learning* approach\n",
    "* How to implement classic linear regression in python\n",
    "* How to use the [statsmodels](https://www.statsmodels.org/stable/index.html) library\n",
    "* How to select variables to include in a model using a classical *model selection* approach\n",
    "* How to implement and interpret residual plots for model checking"
   ]
  },
  {
   "cell_type": "markdown",
   "id": "a34d73c5",
   "metadata": {},
   "source": [
    "### Excercise 1 - defining types of problems\n",
    "\n",
    "Write down, for each case below, whether you would use a **classical statistical** approach or a **ML prediction** approach to solve the problem.\n",
    "\n",
    "1. A company approaches you who are interested in conducting a direct-marketing campaign. The goal is to identify individuals who will respond positively to a mailing, based on observations of demographic variables measured on each individual. They will then only mail those who they think will respond positively to mailing in order to have maximum impact for minimum cost.\n",
    "\n",
    "<img src=\"./images/letters.jpg\" width=\"300px\">\n",
    "\n",
    "\n",
    "2. You have been contacted by Nicolas Cage. He has many offers for roles in new upcoming movies but cannot accept them all. He wishes to use historical data to determine which of the movies being offered are likely to be the greatest success. He defines sucess as the greater amount of money a movie made. He explains he wants to know which factors, i.e. number of award winning actresses, budget, movie length etc, are most important in determining a movies' success.\n",
    "\n",
    "<img src=\"./images/Nic.jpg\" width=\"300px\">\n",
    "\n",
    "\n",
    "3. An international charity \"Water for All\" has contacted you. They have been collecting usage, current status (working/not-working) & maintence data on rural-community water pumps across several countries in Africa. They wish to know if it possible to use mathmatical models to understand when future failure of each water pump will occur. This will allow them to dispatch their teams in advance to provide protective maintenance to prevent the pump failure.\n",
    "\n",
    "<img src=\"./images/water_pump.jpg\" width=\"300px\">\n",
    "\n",
    "\n",
    "4. You have just been employed by the Grenoble police department as their first data scientist. They are excited for you to arrive as they have been told by a very expensive management consulant that 'data science' is the future of policing. They have collated all information they have on the dates, times, geographic location and hand written reports of historical crimes in Grenoble over the last decade. They are waiting for you to tell them where the next crime will happen so they can dispatch their officers in advance to catch the bad guys before the crime occurs!\n",
    "\n",
    "\n",
    "5. *The Irresistable Cholocolate Company* has begun testing new recipes of chocolate. They have hired Sean Bean as their new head of research. With his insistence their consumer model is now to make chocolate so irresistable that customers have no choice but finish it as soon as possible, and then have to buy more... hence increasing sales. Their new recipe contains a *secret ingredient*, which is not disclosed. It is unclear if the new recipe will pass legal standards, but regardless, the research team have begun consumer testing. They have been creating chocolate bars with different proportions of this ingredient and have been measuring the time it takes for customers to consume the whole bar. Mr Bean would like to know more about how the proportion of the secret ingredient added affects the time taken to consume the bar. This will allow his research team to perfect the new recipe. \n",
    "\n",
    "<img src=\"./images/choc.jpg\" width=\"200px\">"
   ]
  },
  {
   "cell_type": "raw",
   "id": "7132b4c5",
   "metadata": {},
   "source": [
    "Your answers here: (choose 'classical' or 'ML')**\n",
    "--> Classical\n",
    "--> Classical\n",
    "--> ML\n",
    "--> ML\n",
    "--> Classical"
   ]
  },
  {
   "cell_type": "code",
   "execution_count": 8,
   "id": "0b27ef2a",
   "metadata": {},
   "outputs": [],
   "source": [
    "import pandas as pd\n",
    "import numpy as np\n",
    "import scipy\n",
    "from scipy.stats import linregress\n",
    "\n",
    "import statsmodels.api as sm\n",
    "import matplotlib.pyplot as plt\n",
    "\n",
    "import os\n",
    "\n",
    "%matplotlib inline"
   ]
  },
  {
   "cell_type": "code",
   "execution_count": 20,
   "id": "8cefdff1",
   "metadata": {},
   "outputs": [
    {
     "data": {
      "image/png": "[encoded data removed]",
      "text/plain": [
       "<Figure size 1152x72 with 1 Axes>"
      ]
     },
     "metadata": {
      "needs_background": "light"
     },
     "output_type": "display_data"
    }
   ],
   "source": [
    "from matplotlib import rcParams\n",
    "import seaborn as sns\n",
    "\n",
    "colors = sns.color_palette('rocket', n_colors=12)\n",
    "colors = sns.color_palette(\"tab10\", n_colors=12)\n",
    "colors = sns.color_palette(\"tab20_r\", 16)\n",
    "sns.palplot(colors)\n",
    "sns.set_style(\"darkgrid\")"
   ]
  },
  {
   "cell_type": "code",
   "execution_count": 60,
   "id": "ca76ef95",
   "metadata": {},
   "outputs": [],
   "source": [
    "cwd = os.getcwd()"
   ]
  },
  {
   "cell_type": "markdown",
   "id": "6e3382e7",
   "metadata": {},
   "source": [
    "## Implementing linear regression in python\n",
    "\n",
    "The rest of this notebook is focussed only on using a classic linear regression approach.\n",
    "\n",
    "Let's make some random data for us to work on."
   ]
  },
  {
   "cell_type": "markdown",
   "id": "0208b2b3",
   "metadata": {},
   "source": [
    "#### Exemple 1"
   ]
  },
  {
   "cell_type": "code",
   "execution_count": 12,
   "id": "2b7fa1ba",
   "metadata": {},
   "outputs": [],
   "source": [
    "x = np.random.normal(size = 40)\n",
    "y = 1.6*x + np.random.normal(size = 40)\n",
    "\n",
    "slope, intercept, r_value, p_value, std_err = linregress(x, y)"
   ]
  },
  {
   "cell_type": "code",
   "execution_count": 13,
   "id": "5523f095",
   "metadata": {},
   "outputs": [
    {
     "data": {
      "image/png": "[encoded data removed]",
      "text/plain": [
       "<Figure size 432x288 with 1 Axes>"
      ]
     },
     "metadata": {
      "needs_background": "light"
     },
     "output_type": "display_data"
    }
   ],
   "source": [
    "plt.plot(x, y, 'o', label='random data')\n",
    "plt.xlabel('x')\n",
    "plt.ylabel('y')\n",
    "plt.legend();"
   ]
  },
  {
   "cell_type": "code",
   "execution_count": 14,
   "id": "cd523e23",
   "metadata": {},
   "outputs": [
    {
     "data": {
      "text/plain": [
       "1.7223829901638732"
      ]
     },
     "execution_count": 14,
     "metadata": {},
     "output_type": "execute_result"
    },
    {
     "data": {
      "image/png": "[encoded data removed]",
      "text/plain": [
       "<Figure size 432x288 with 1 Axes>"
      ]
     },
     "metadata": {
      "needs_background": "light"
     },
     "output_type": "display_data"
    }
   ],
   "source": [
    "plt.plot(x, y, 'o', label='original data')\n",
    "plt.plot(x, intercept + slope*x, 'r', label='fitted line')\n",
    "plt.plot(x, slope*x, 'green', label='fitted line only slope')\n",
    "plt.xlabel('x')\n",
    "plt.ylabel('y')\n",
    "plt.grid(True)\n",
    "plt.legend();\n",
    "slope"
   ]
  },
  {
   "cell_type": "code",
   "execution_count": 17,
   "id": "02d4b4ae",
   "metadata": {},
   "outputs": [
    {
     "name": "stdout",
     "output_type": "stream",
     "text": [
      "La pente de la droite y= ax + b est 1.7223829901638732\n"
     ]
    }
   ],
   "source": [
    "print(f\"La pente de la droite y= ax + b est {slope}\")"
   ]
  },
  {
   "cell_type": "code",
   "execution_count": 18,
   "id": "39748fc5",
   "metadata": {},
   "outputs": [
    {
     "name": "stdout",
     "output_type": "stream",
     "text": [
      "L'ordonnée à l'origine de la droite y= ax + b est -0.0075553369813233795\n"
     ]
    }
   ],
   "source": [
    "print(f\"L'ordonnée à l'origine de la droite y= ax + b est {intercept}\")"
   ]
  },
  {
   "cell_type": "markdown",
   "id": "32580c5c",
   "metadata": {},
   "source": [
    "#### Exemple 2"
   ]
  },
  {
   "cell_type": "markdown",
   "id": "6ba98727",
   "metadata": {},
   "source": [
    "* conduct a linear regresison for the arrays y2, y2 below\n",
    "* print slope, intercept, correlation coefficient\n",
    "* make a scatter plot of the data and the fitted regression model"
   ]
  },
  {
   "cell_type": "code",
   "execution_count": 19,
   "id": "163220ed",
   "metadata": {},
   "outputs": [],
   "source": [
    "x2 = np.array([ 0.22827309,  1.0268903 , -0.83958485, -0.59118152, -0.9568883 ,\n",
    "       -0.22232569, -0.61991511,  1.83790458, -2.05323076,  0.86858305,\n",
    "       -0.92073444, -0.23231186,  2.1529569 , -1.33466147,  0.07637965,\n",
    "       -1.24608928,  1.20227231, -1.04994158,  1.05661011, -0.41967767,\n",
    "        2.29484234, -2.59448738,  2.8227564 ,  0.68088892, -1.57769345,\n",
    "       -1.97625359,  0.53333982, -0.29086971, -0.51351967,  1.98262608,\n",
    "        0.22600105, -1.83990496,  1.60767083,  0.38829194,  0.39973206,\n",
    "        0.4054766 ,  0.21700177, -0.6334391 ,  0.24662153, -1.93954552])\n",
    "\n",
    "y2 = np.array([-0.18269538, -3.2202988 ,  1.33454079,  0.0630553 ,  1.6085824 ,\n",
    "       -0.21392876,  0.58013809, -2.95481368,  2.772595  ,  0.88925045,\n",
    "        2.29120304,  1.96443982, -3.42629745,  3.35625955,  1.07883913,\n",
    "        1.24503731, -2.10728298,  1.65268524, -1.57941313,  1.73556883,\n",
    "       -2.25436816,  3.15079347, -5.2922891 , -0.57261505,  0.89058007,\n",
    "        2.88268935, -0.22134391,  0.95599233,  1.17298232, -3.20390167,\n",
    "       -0.64017069,  0.32593461, -1.32103579,  0.6240868 , -0.35272815,\n",
    "       -1.49437497,  0.20989395,  0.27261366, -0.40530206,  4.48897751])"
   ]
  },
  {
   "cell_type": "code",
   "execution_count": 71,
   "id": "c9878033",
   "metadata": {},
   "outputs": [],
   "source": [
    "slope2, intercept2, r_value2, p_value2, std_err2 = linregress(x2, y2)"
   ]
  },
  {
   "cell_type": "code",
   "execution_count": 64,
   "id": "abeea389",
   "metadata": {},
   "outputs": [
    {
     "name": "stdout",
     "output_type": "stream",
     "text": [
      "Coefficent de corrélation : (-0.8887557239380882, 1.9238922670275166e-14)\n"
     ]
    },
    {
     "data": {
      "image/png": "[encoded data removed]",
      "text/plain": [
       "<Figure size 1008x432 with 1 Axes>"
      ]
     },
     "metadata": {},
     "output_type": "display_data"
    }
   ],
   "source": [
    "fig = plt.figure(figsize=(14, 6))\n",
    "fig.suptitle(\"Scatter x2 | y2\", fontsize=20)\n",
    "sns.set_style(\"darkgrid\")\n",
    "ax = fig.subplots()\n",
    "\n",
    "ax = sns.scatterplot(\n",
    "    x=x2, \n",
    "    y=y2,\n",
    "    color=colors[5],\n",
    "    alpha=1,\n",
    "    s=100\n",
    ")\n",
    "ax = sns.lineplot(\n",
    "    x=x2, \n",
    "    y=x2*slope2,\n",
    "    color=colors[7], \n",
    "    lw=3\n",
    ")\n",
    "ax = sns.lineplot(\n",
    "    x=x2, \n",
    "    y=x2*slope2 + intercept2,\n",
    "    color=colors[9],\n",
    "    lw=3\n",
    ")\n",
    "\n",
    "ax.set_xlabel(\"x2\", loc=\"center\", fontsize=15)\n",
    "ax.set_ylabel(\"y2\", loc=\"center\", fontsize=15)#, c=colors[color1])\n",
    "fig.legend([ \"slope alone\",\"slope with intercept\", \"data\"],loc=(0.83, 0.75))\n",
    "\n",
    "coef = scipy.stats.pearsonr(x2, y2)\n",
    "print(f\"Coefficent de corrélation : {coef}\")"
   ]
  },
  {
   "cell_type": "markdown",
   "id": "eb29e3c7",
   "metadata": {},
   "source": [
    "## Four different datasets: different regression results?\n",
    "\n",
    "We can be tempted to pass the exploratory data analysis step and directly apply a linear regression model to find quick results."
   ]
  },
  {
   "cell_type": "markdown",
   "id": "9a756dd4",
   "metadata": {},
   "source": [
    "**Task 3:**\n",
    "\n",
    "The file four_datasets.csv in the folder data contains four small datasets. Find a linear regression model four each of the four sets, **without plotting the data first**. Compare the coefficients. What do you conclude base on this?"
   ]
  },
  {
   "cell_type": "code",
   "execution_count": 68,
   "id": "889a1184",
   "metadata": {},
   "outputs": [],
   "source": [
    "def import_df(name):\n",
    "    filename = name\n",
    "    df = pd.read_csv(cwd + \"/data/\" + filename)\n",
    "    return df"
   ]
  },
  {
   "cell_type": "code",
   "execution_count": 69,
   "id": "12976dda",
   "metadata": {},
   "outputs": [],
   "source": [
    "df_four = import_df(\"four_datasets.csv\")"
   ]
  },
  {
   "cell_type": "code",
   "execution_count": 70,
   "id": "afb1f78b",
   "metadata": {},
   "outputs": [
    {
     "data": {
      "text/html": [
       "<div>\n",
       "<style scoped>\n",
       "    .dataframe tbody tr th:only-of-type {\n",
       "        vertical-align: middle;\n",
       "    }\n",
       "\n",
       "    .dataframe tbody tr th {\n",
       "        vertical-align: top;\n",
       "    }\n",
       "\n",
       "    .dataframe thead th {\n",
       "        text-align: right;\n",
       "    }\n",
       "</style>\n",
       "<table border=\"1\" class=\"dataframe\">\n",
       "  <thead>\n",
       "    <tr style=\"text-align: right;\">\n",
       "      <th></th>\n",
       "      <th>x1</th>\n",
       "      <th>y1</th>\n",
       "      <th>x2</th>\n",
       "      <th>y2</th>\n",
       "      <th>x3</th>\n",
       "      <th>y3</th>\n",
       "      <th>x4</th>\n",
       "      <th>y4</th>\n",
       "    </tr>\n",
       "  </thead>\n",
       "  <tbody>\n",
       "    <tr>\n",
       "      <th>0</th>\n",
       "      <td>10</td>\n",
       "      <td>8.04</td>\n",
       "      <td>10</td>\n",
       "      <td>9.14</td>\n",
       "      <td>10</td>\n",
       "      <td>7.46</td>\n",
       "      <td>8</td>\n",
       "      <td>6.58</td>\n",
       "    </tr>\n",
       "    <tr>\n",
       "      <th>1</th>\n",
       "      <td>8</td>\n",
       "      <td>6.95</td>\n",
       "      <td>8</td>\n",
       "      <td>8.14</td>\n",
       "      <td>8</td>\n",
       "      <td>6.77</td>\n",
       "      <td>8</td>\n",
       "      <td>5.76</td>\n",
       "    </tr>\n",
       "    <tr>\n",
       "      <th>2</th>\n",
       "      <td>13</td>\n",
       "      <td>7.58</td>\n",
       "      <td>13</td>\n",
       "      <td>8.74</td>\n",
       "      <td>13</td>\n",
       "      <td>12.74</td>\n",
       "      <td>8</td>\n",
       "      <td>7.71</td>\n",
       "    </tr>\n",
       "    <tr>\n",
       "      <th>3</th>\n",
       "      <td>9</td>\n",
       "      <td>8.81</td>\n",
       "      <td>9</td>\n",
       "      <td>8.77</td>\n",
       "      <td>9</td>\n",
       "      <td>7.11</td>\n",
       "      <td>8</td>\n",
       "      <td>8.84</td>\n",
       "    </tr>\n",
       "    <tr>\n",
       "      <th>4</th>\n",
       "      <td>11</td>\n",
       "      <td>8.33</td>\n",
       "      <td>11</td>\n",
       "      <td>9.26</td>\n",
       "      <td>11</td>\n",
       "      <td>7.81</td>\n",
       "      <td>8</td>\n",
       "      <td>8.47</td>\n",
       "    </tr>\n",
       "    <tr>\n",
       "      <th>5</th>\n",
       "      <td>14</td>\n",
       "      <td>9.96</td>\n",
       "      <td>14</td>\n",
       "      <td>8.10</td>\n",
       "      <td>14</td>\n",
       "      <td>8.84</td>\n",
       "      <td>8</td>\n",
       "      <td>7.04</td>\n",
       "    </tr>\n",
       "    <tr>\n",
       "      <th>6</th>\n",
       "      <td>6</td>\n",
       "      <td>7.24</td>\n",
       "      <td>6</td>\n",
       "      <td>6.13</td>\n",
       "      <td>6</td>\n",
       "      <td>6.08</td>\n",
       "      <td>8</td>\n",
       "      <td>5.25</td>\n",
       "    </tr>\n",
       "    <tr>\n",
       "      <th>7</th>\n",
       "      <td>4</td>\n",
       "      <td>4.26</td>\n",
       "      <td>4</td>\n",
       "      <td>3.10</td>\n",
       "      <td>4</td>\n",
       "      <td>5.39</td>\n",
       "      <td>19</td>\n",
       "      <td>12.50</td>\n",
       "    </tr>\n",
       "    <tr>\n",
       "      <th>8</th>\n",
       "      <td>12</td>\n",
       "      <td>10.84</td>\n",
       "      <td>12</td>\n",
       "      <td>9.13</td>\n",
       "      <td>12</td>\n",
       "      <td>8.15</td>\n",
       "      <td>8</td>\n",
       "      <td>5.56</td>\n",
       "    </tr>\n",
       "    <tr>\n",
       "      <th>9</th>\n",
       "      <td>7</td>\n",
       "      <td>4.82</td>\n",
       "      <td>7</td>\n",
       "      <td>7.26</td>\n",
       "      <td>7</td>\n",
       "      <td>6.42</td>\n",
       "      <td>8</td>\n",
       "      <td>7.91</td>\n",
       "    </tr>\n",
       "    <tr>\n",
       "      <th>10</th>\n",
       "      <td>5</td>\n",
       "      <td>5.68</td>\n",
       "      <td>5</td>\n",
       "      <td>4.74</td>\n",
       "      <td>5</td>\n",
       "      <td>5.73</td>\n",
       "      <td>8</td>\n",
       "      <td>6.89</td>\n",
       "    </tr>\n",
       "  </tbody>\n",
       "</table>\n",
       "</div>"
      ],
      "text/plain": [
       "    x1     y1  x2    y2  x3     y3  x4     y4\n",
       "0   10   8.04  10  9.14  10   7.46   8   6.58\n",
       "1    8   6.95   8  8.14   8   6.77   8   5.76\n",
       "2   13   7.58  13  8.74  13  12.74   8   7.71\n",
       "3    9   8.81   9  8.77   9   7.11   8   8.84\n",
       "4   11   8.33  11  9.26  11   7.81   8   8.47\n",
       "5   14   9.96  14  8.10  14   8.84   8   7.04\n",
       "6    6   7.24   6  6.13   6   6.08   8   5.25\n",
       "7    4   4.26   4  3.10   4   5.39  19  12.50\n",
       "8   12  10.84  12  9.13  12   8.15   8   5.56\n",
       "9    7   4.82   7  7.26   7   6.42   8   7.91\n",
       "10   5   5.68   5  4.74   5   5.73   8   6.89"
      ]
     },
     "execution_count": 70,
     "metadata": {},
     "output_type": "execute_result"
    }
   ],
   "source": [
    "df_four"
   ]
  },
  {
   "cell_type": "code",
   "execution_count": null,
   "id": "66b96027",
   "metadata": {},
   "outputs": [],
   "source": []
  },
  {
   "cell_type": "code",
   "execution_count": null,
   "id": "7aa0d166",
   "metadata": {},
   "outputs": [],
   "source": []
  },
  {
   "cell_type": "code",
   "execution_count": null,
   "id": "fea2072c",
   "metadata": {},
   "outputs": [],
   "source": []
  }
 ],
 "metadata": {
  "kernelspec": {
   "display_name": "Python 3 (ipykernel)",
   "language": "python",
   "name": "python3"
  },
  "language_info": {
   "codemirror_mode": {
    "name": "ipython",
    "version": 3
   },
   "file_extension": ".py",
   "mimetype": "text/x-python",
   "name": "python",
   "nbconvert_exporter": "python",
   "pygments_lexer": "ipython3",
   "version": "3.9.7"
  }
 },
 "nbformat": 4,
 "nbformat_minor": 5
}

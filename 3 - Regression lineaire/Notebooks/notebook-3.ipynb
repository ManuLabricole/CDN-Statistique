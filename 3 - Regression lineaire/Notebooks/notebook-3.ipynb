{
 "cells": [
  {
   "cell_type": "code",
   "execution_count": 42,
   "id": "93ca84b1",
   "metadata": {},
   "outputs": [],
   "source": [
    "import pandas as pd\n",
    "import numpy as np\n",
    "import os\n",
    "\n",
    "from sklearn.model_selection import train_test_split\n",
    "from sklearn.model_selection import cross_val_predict\n",
    "\n",
    "import matplotlib.pyplot as plt\n",
    "import seaborn as sns"
   ]
  },
  {
   "cell_type": "markdown",
   "id": "1ac38af6",
   "metadata": {},
   "source": [
    "# Lexique"
   ]
  },
  {
   "cell_type": "markdown",
   "id": "a0520152",
   "metadata": {},
   "source": [
    "- Intercept\n",
    "In linear regression, the intercept represents the point where the regression line intersects the y-axis when x equals zero. It is also known as the constant term.\n",
    "\n",
    "- Slope\n",
    "The slope of a regression line represents the rate at which the dependent variable changes with respect to changes in the independent variable. In other words, it represents the amount by which the dependent variable changes when the independent variable increases by one unit.\n",
    "\n",
    "- Coefficients\n",
    "In a linear regression model, the coefficients represent the values assigned to each of the predictor variables in the model. They indicate the strength and direction of the relationship between the predictor variables and the dependent variable.\n",
    "\n",
    "- Residual sum of squares (RSS)\n",
    "The residual sum of squares is a measure of the differences between the observed values and the predicted values of the dependent variable in a regression model. It represents the sum of the squared differences between the actual values and the predicted values.\n",
    "\n",
    "- Supervised/Unsupervised learning\n",
    "Supervised learning is a machine learning approach in which the model is trained on labeled data, where the desired output is known for each input. Unsupervised learning, on the other hand, is a machine learning approach in which the model is trained on unlabeled data, and the goal is to identify patterns or relationships within the data.\n",
    "\n",
    "- Classification/Regression\n",
    "Classification is a type of supervised learning in which the goal is to predict a categorical variable, such as yes or no, or different classes of objects. Regression, on the other hand, is a type of supervised learning in which the goal is to predict a continuous variable, such as temperature, price, or time.\n",
    "\n",
    "- Parametric/Non-parametric\n",
    "Parametric models assume a specific distribution for the data, such as a normal distribution, and the parameters of the model are estimated based on that assumption. Non-parametric models do not make any assumptions about the underlying distribution of the data.\n",
    "\n",
    "- Overfitting/Underfitting\n",
    "Overfitting occurs when a model is too complex and captures the noise in the data, leading to poor generalization performance on new data. Underfitting occurs when a model is too simple and does not capture the underlying patterns in the data, leading to poor performance on the training data.\n",
    "\n",
    "- Bias/Variance tradeoff\n",
    "The bias-variance tradeoff is a fundamental concept in machine learning that refers to the tradeoff between the complexity of the model and its ability to generalize to new data. A model with high bias tends to underfit the data, while a model with high variance tends to overfit the data.\n",
    "\n",
    "- Cross-validation\n",
    "Cross-validation is a technique used to evaluate the performance of a machine learning model by partitioning the data into training and testing sets, and then testing the model on multiple different partitions to obtain an estimate of its generalization performance."
   ]
  },
  {
   "cell_type": "markdown",
   "id": "f0da4b1c",
   "metadata": {},
   "source": [
    "# Cross Validation, Model Selection & Regularisation\n",
    "\n",
    "In this notebook we will introduce the concepts below, and how they can be implemented in `scikit-learn`.\n",
    "* Cross validation - a method for estimating the test error rate when test data is not available\n",
    "* Model selection - how we use cross validation to select which model (from a selection) we should use for a particular data set\n",
    "* Regularisation - an adaptation of linear regression to make it more flexible\n",
    "\n",
    "[This video](https://www.youtube.com/watch?v=DQWI1kvmwRg) describes some of the ideas you will face in the coming notebook. The ideas we are covering here are described much more throughly in **ISLR** (see suggested sections in module overview).\n",
    "\n",
    "https://trevorhastie.github.io/ISLR/"
   ]
  },
  {
   "cell_type": "markdown",
   "id": "13bd9ad2",
   "metadata": {},
   "source": [
    "------"
   ]
  },
  {
   "cell_type": "markdown",
   "id": "68f92c8b",
   "metadata": {},
   "source": [
    "# Cross Validation"
   ]
  },
  {
   "cell_type": "markdown",
   "id": "459bb945",
   "metadata": {},
   "source": [
    "### K-fold cross validation"
   ]
  },
  {
   "cell_type": "markdown",
   "id": "e2554223",
   "metadata": {},
   "source": [
    "#### Task 1\n",
    "\n",
    "* Have a look at the code below and check you understand what is going on. (Add some print statements in various places to help.)"
   ]
  },
  {
   "cell_type": "code",
   "execution_count": 35,
   "id": "c99ac052",
   "metadata": {},
   "outputs": [],
   "source": [
    "from sklearn.model_selection import KFold"
   ]
  },
  {
   "cell_type": "code",
   "execution_count": 36,
   "id": "dc8b3d08",
   "metadata": {},
   "outputs": [],
   "source": [
    "X = np.array([['A', 'B'], ['C', 'D'], ['E', 'F'], ['G', 'H']])\n",
    "y = np.array([1, 2, 3, 4])\n",
    "kf = KFold(n_splits=3) # here we choose the number of folds (or splits) we will make\n",
    "kf.get_n_splits(X)\n",
    "\n",
    "for train_index, valid_index in kf.split(X): # kf.split(X) is an iterable which gives us the indices of the data in each fold\n",
    "    X_train, X_valid = X[train_index], X[valid_index]\n",
    "    y_train, y_valid = y[train_index], y[valid_index]"
   ]
  },
  {
   "cell_type": "markdown",
   "id": "a12e6b74",
   "metadata": {},
   "source": [
    "- n_splits=3: \n",
    "Specifies that the dataset will be split into 3 folds or subsets. In other words, the cross-validation process will be repeated 3 times, with each fold used once for testing and the other 2 folds used for training.\n",
    "\n",
    "- random_state=None\n",
    "Specifies that no specific seed will be used for the random number generator. If you want to ensure that the same random splits are generated each time you run the code, you can set this parameter to an integer value.\n",
    "\n",
    "- shuffle=False\n",
    "Specifies that the data will not be shuffled before splitting it into folds. If you want to shuffle the data before splitting it, you can set this parameter to True.\n"
   ]
  },
  {
   "cell_type": "code",
   "execution_count": 4,
   "id": "4f527cdb",
   "metadata": {},
   "outputs": [
    {
     "data": {
      "text/plain": [
       "KFold(n_splits=3, random_state=None, shuffle=False)"
      ]
     },
     "execution_count": 4,
     "metadata": {},
     "output_type": "execute_result"
    }
   ],
   "source": [
    "kf"
   ]
  },
  {
   "cell_type": "raw",
   "id": "523cd401",
   "metadata": {},
   "source": [
    "--> Then we split in n splits our X variable\n",
    "--> We create a list with the index of the variable we will use to fit"
   ]
  },
  {
   "cell_type": "code",
   "execution_count": 5,
   "id": "921608fc",
   "metadata": {},
   "outputs": [
    {
     "name": "stdout",
     "output_type": "stream",
     "text": [
      "Train index -->  [2 3]\n",
      "Subset X -----> [['E' 'F']\n",
      " ['G' 'H']]\n",
      "Valid index -->  [0 1]\n",
      "Subset valid -> [['A' 'B']\n",
      " ['C' 'D']]\n",
      "Train index -->  [0 1 3]\n",
      "Subset X -----> [['A' 'B']\n",
      " ['C' 'D']\n",
      " ['G' 'H']]\n",
      "Valid index -->  [2]\n",
      "Subset valid -> [['E' 'F']]\n",
      "Train index -->  [0 1 2]\n",
      "Subset X -----> [['A' 'B']\n",
      " ['C' 'D']\n",
      " ['E' 'F']]\n",
      "Valid index -->  [3]\n",
      "Subset valid -> [['G' 'H']]\n"
     ]
    }
   ],
   "source": [
    "for train_index, valid_index in kf.split(X):\n",
    "    print(\"Train index --> \", train_index)\n",
    "    print(\"Subset X ----->\", X[train_index])\n",
    "    print(\"Valid index --> \", valid_index)\n",
    "    print(\"Subset valid ->\", X[valid_index])"
   ]
  },
  {
   "cell_type": "raw",
   "id": "f9e468dc",
   "metadata": {},
   "source": [
    "--> On a bien créé des subsets de 1 à 3 éléments\n",
    "--> On crée 5 subsets\n",
    "--> La somme des subsets Valid Et Train est égale à l'ensemble des données de X"
   ]
  },
  {
   "cell_type": "markdown",
   "id": "524b121f",
   "metadata": {},
   "source": [
    "#### Task 2\n",
    "* try adding print statements for the size of the dataframes in each split\n",
    "* try increasing the number of splits and re-run your code\n",
    "* use the code below to print a car name contained in the train and validation data set, for each split\n",
    "\n"
   ]
  },
  {
   "cell_type": "code",
   "execution_count": 6,
   "id": "5bac35a2",
   "metadata": {},
   "outputs": [
    {
     "data": {
      "text/plain": [
       "(392, 9)"
      ]
     },
     "execution_count": 6,
     "metadata": {},
     "output_type": "execute_result"
    }
   ],
   "source": [
    "auto = pd.read_csv('./data/Auto.csv')\n",
    "auto = auto[auto.horsepower != '?']\n",
    "auto['horsepower'] = auto.horsepower.astype(int)\n",
    "auto.reset_index(inplace=True, drop=True)\n",
    "auto.shape"
   ]
  },
  {
   "cell_type": "code",
   "execution_count": 7,
   "id": "8b860817",
   "metadata": {},
   "outputs": [],
   "source": [
    "mpg = auto.pop('mpg') # mpg will be our target and so we remove this into a seperate array"
   ]
  },
  {
   "cell_type": "code",
   "execution_count": 8,
   "id": "54c76c7d",
   "metadata": {},
   "outputs": [
    {
     "name": "stdout",
     "output_type": "stream",
     "text": [
      "KFold(n_splits=10, random_state=None, shuffle=False)\n",
      "\n",
      "°°°°°°°°°°°°°°°°°°°°°°°°°°°°°°°°°°°°°°°°°°°°°°°°°°°°°°°°°°°°°°°°°°°°°°°°°°°°°°°°°°°°°°\n",
      "Complementarity of Index\n",
      "Train index -->\n",
      "\n",
      "[ 40  41  42  43  44  45  46  47  48  49  50  51  52  53  54  55  56  57\n",
      "  58  59  60  61  62  63  64  65  66  67  68  69  70  71  72  73  74  75\n",
      "  76  77  78  79  80  81  82  83  84  85  86  87  88  89  90  91  92  93\n",
      "  94  95  96  97  98  99 100 101 102 103 104 105 106 107 108 109 110 111\n",
      " 112 113 114 115 116 117 118 119 120 121 122 123 124 125 126 127 128 129\n",
      " 130 131 132 133 134 135 136 137 138 139 140 141 142 143 144 145 146 147\n",
      " 148 149 150 151 152 153 154 155 156 157 158 159 160 161 162 163 164 165\n",
      " 166 167 168 169 170 171 172 173 174 175 176 177 178 179 180 181 182 183\n",
      " 184 185 186 187 188 189 190 191 192 193 194 195 196 197 198 199 200 201\n",
      " 202 203 204 205 206 207 208 209 210 211 212 213 214 215 216 217 218 219\n",
      " 220 221 222 223 224 225 226 227 228 229 230 231 232 233 234 235 236 237\n",
      " 238 239 240 241 242 243 244 245 246 247 248 249 250 251 252 253 254 255\n",
      " 256 257 258 259 260 261 262 263 264 265 266 267 268 269 270 271 272 273\n",
      " 274 275 276 277 278 279 280 281 282 283 284 285 286 287 288 289 290 291\n",
      " 292 293 294 295 296 297 298 299 300 301 302 303 304 305 306 307 308 309\n",
      " 310 311 312 313 314 315 316 317 318 319 320 321 322 323 324 325 326 327\n",
      " 328 329 330 331 332 333 334 335 336 337 338 339 340 341 342 343 344 345\n",
      " 346 347 348 349 350 351 352 353 354 355 356 357 358 359 360 361 362 363\n",
      " 364 365 366 367 368 369 370 371 372 373 374 375 376 377 378 379 380 381\n",
      " 382 383 384 385 386 387 388 389 390 391]\n",
      "Valid index --> \n",
      "\n",
      "[ 0  1  2  3  4  5  6  7  8  9 10 11 12 13 14 15 16 17 18 19 20 21 22 23\n",
      " 24 25 26 27 28 29 30 31 32 33 34 35 36 37 38 39]\n",
      "\n",
      "---------------------------------------------------------\n",
      "\n",
      "Somme des listes d'index --> \n",
      "S = 352+40 = 392\n",
      "\n",
      "---------------------------------------------------------\n",
      "TRAIN set Car data :\n",
      "The car name at index --> 46 <-- is --> pontiac firebird\n",
      "\n",
      "---------------------------------------------------------\n",
      "VALID set Car data :\n",
      "The car name at index --> 6 <-- is --> chevrolet impala\n",
      "\n",
      "°°°°°°°°°°°°°°°°°°°°°°°°°°°°°°°°°°°°°°°°°°°°°°°°°°°°°°°°°°°°°°°°°°°°°°°°°°°°°°°°°°°°°°\n",
      "°°°°°°°°°°°°°°°°°°°°°°°°°°°°°°°°°°°°°°°°°°°°°°°°°°°°°°°°°°°°°°°°°°°°°°°°°°°°°°°°°°°°°°\n",
      "Complementarity of Index\n",
      "Train index -->\n",
      "\n",
      "[  0   1   2   3   4   5   6   7   8   9  10  11  12  13  14  15  16  17\n",
      "  18  19  20  21  22  23  24  25  26  27  28  29  30  31  32  33  34  35\n",
      "  36  37  38  39  80  81  82  83  84  85  86  87  88  89  90  91  92  93\n",
      "  94  95  96  97  98  99 100 101 102 103 104 105 106 107 108 109 110 111\n",
      " 112 113 114 115 116 117 118 119 120 121 122 123 124 125 126 127 128 129\n",
      " 130 131 132 133 134 135 136 137 138 139 140 141 142 143 144 145 146 147\n",
      " 148 149 150 151 152 153 154 155 156 157 158 159 160 161 162 163 164 165\n",
      " 166 167 168 169 170 171 172 173 174 175 176 177 178 179 180 181 182 183\n",
      " 184 185 186 187 188 189 190 191 192 193 194 195 196 197 198 199 200 201\n",
      " 202 203 204 205 206 207 208 209 210 211 212 213 214 215 216 217 218 219\n",
      " 220 221 222 223 224 225 226 227 228 229 230 231 232 233 234 235 236 237\n",
      " 238 239 240 241 242 243 244 245 246 247 248 249 250 251 252 253 254 255\n",
      " 256 257 258 259 260 261 262 263 264 265 266 267 268 269 270 271 272 273\n",
      " 274 275 276 277 278 279 280 281 282 283 284 285 286 287 288 289 290 291\n",
      " 292 293 294 295 296 297 298 299 300 301 302 303 304 305 306 307 308 309\n",
      " 310 311 312 313 314 315 316 317 318 319 320 321 322 323 324 325 326 327\n",
      " 328 329 330 331 332 333 334 335 336 337 338 339 340 341 342 343 344 345\n",
      " 346 347 348 349 350 351 352 353 354 355 356 357 358 359 360 361 362 363\n",
      " 364 365 366 367 368 369 370 371 372 373 374 375 376 377 378 379 380 381\n",
      " 382 383 384 385 386 387 388 389 390 391]\n",
      "Valid index --> \n",
      "\n",
      "[40 41 42 43 44 45 46 47 48 49 50 51 52 53 54 55 56 57 58 59 60 61 62 63\n",
      " 64 65 66 67 68 69 70 71 72 73 74 75 76 77 78 79]\n",
      "\n",
      "---------------------------------------------------------\n",
      "\n",
      "Somme des listes d'index --> \n",
      "S = 352+40 = 392\n",
      "\n",
      "---------------------------------------------------------\n",
      "TRAIN set Car data :\n",
      "The car name at index --> 6 <-- is --> chevrolet impala\n",
      "\n",
      "---------------------------------------------------------\n",
      "VALID set Car data :\n",
      "The car name at index --> 46 <-- is --> pontiac firebird\n",
      "\n",
      "°°°°°°°°°°°°°°°°°°°°°°°°°°°°°°°°°°°°°°°°°°°°°°°°°°°°°°°°°°°°°°°°°°°°°°°°°°°°°°°°°°°°°°\n",
      "°°°°°°°°°°°°°°°°°°°°°°°°°°°°°°°°°°°°°°°°°°°°°°°°°°°°°°°°°°°°°°°°°°°°°°°°°°°°°°°°°°°°°°\n",
      "Complementarity of Index\n",
      "Train index -->\n",
      "\n",
      "[  0   1   2   3   4   5   6   7   8   9  10  11  12  13  14  15  16  17\n",
      "  18  19  20  21  22  23  24  25  26  27  28  29  30  31  32  33  34  35\n",
      "  36  37  38  39  40  41  42  43  44  45  46  47  48  49  50  51  52  53\n",
      "  54  55  56  57  58  59  60  61  62  63  64  65  66  67  68  69  70  71\n",
      "  72  73  74  75  76  77  78  79 119 120 121 122 123 124 125 126 127 128\n",
      " 129 130 131 132 133 134 135 136 137 138 139 140 141 142 143 144 145 146\n",
      " 147 148 149 150 151 152 153 154 155 156 157 158 159 160 161 162 163 164\n",
      " 165 166 167 168 169 170 171 172 173 174 175 176 177 178 179 180 181 182\n",
      " 183 184 185 186 187 188 189 190 191 192 193 194 195 196 197 198 199 200\n",
      " 201 202 203 204 205 206 207 208 209 210 211 212 213 214 215 216 217 218\n",
      " 219 220 221 222 223 224 225 226 227 228 229 230 231 232 233 234 235 236\n",
      " 237 238 239 240 241 242 243 244 245 246 247 248 249 250 251 252 253 254\n",
      " 255 256 257 258 259 260 261 262 263 264 265 266 267 268 269 270 271 272\n",
      " 273 274 275 276 277 278 279 280 281 282 283 284 285 286 287 288 289 290\n",
      " 291 292 293 294 295 296 297 298 299 300 301 302 303 304 305 306 307 308\n",
      " 309 310 311 312 313 314 315 316 317 318 319 320 321 322 323 324 325 326\n",
      " 327 328 329 330 331 332 333 334 335 336 337 338 339 340 341 342 343 344\n",
      " 345 346 347 348 349 350 351 352 353 354 355 356 357 358 359 360 361 362\n",
      " 363 364 365 366 367 368 369 370 371 372 373 374 375 376 377 378 379 380\n",
      " 381 382 383 384 385 386 387 388 389 390 391]\n",
      "Valid index --> \n",
      "\n",
      "[ 80  81  82  83  84  85  86  87  88  89  90  91  92  93  94  95  96  97\n",
      "  98  99 100 101 102 103 104 105 106 107 108 109 110 111 112 113 114 115\n",
      " 116 117 118]\n",
      "\n",
      "---------------------------------------------------------\n",
      "\n",
      "Somme des listes d'index --> \n",
      "S = 353+39 = 392\n",
      "\n",
      "---------------------------------------------------------\n",
      "TRAIN set Car data :\n",
      "The car name at index --> 6 <-- is --> chevrolet impala\n",
      "\n",
      "---------------------------------------------------------\n",
      "VALID set Car data :\n",
      "The car name at index --> 86 <-- is --> chevrolet malibu\n",
      "\n",
      "°°°°°°°°°°°°°°°°°°°°°°°°°°°°°°°°°°°°°°°°°°°°°°°°°°°°°°°°°°°°°°°°°°°°°°°°°°°°°°°°°°°°°°\n",
      "°°°°°°°°°°°°°°°°°°°°°°°°°°°°°°°°°°°°°°°°°°°°°°°°°°°°°°°°°°°°°°°°°°°°°°°°°°°°°°°°°°°°°°\n",
      "Complementarity of Index\n",
      "Train index -->\n",
      "\n",
      "[  0   1   2   3   4   5   6   7   8   9  10  11  12  13  14  15  16  17\n",
      "  18  19  20  21  22  23  24  25  26  27  28  29  30  31  32  33  34  35\n",
      "  36  37  38  39  40  41  42  43  44  45  46  47  48  49  50  51  52  53\n",
      "  54  55  56  57  58  59  60  61  62  63  64  65  66  67  68  69  70  71\n",
      "  72  73  74  75  76  77  78  79  80  81  82  83  84  85  86  87  88  89\n",
      "  90  91  92  93  94  95  96  97  98  99 100 101 102 103 104 105 106 107\n",
      " 108 109 110 111 112 113 114 115 116 117 118 158 159 160 161 162 163 164\n",
      " 165 166 167 168 169 170 171 172 173 174 175 176 177 178 179 180 181 182\n",
      " 183 184 185 186 187 188 189 190 191 192 193 194 195 196 197 198 199 200\n",
      " 201 202 203 204 205 206 207 208 209 210 211 212 213 214 215 216 217 218\n",
      " 219 220 221 222 223 224 225 226 227 228 229 230 231 232 233 234 235 236\n",
      " 237 238 239 240 241 242 243 244 245 246 247 248 249 250 251 252 253 254\n",
      " 255 256 257 258 259 260 261 262 263 264 265 266 267 268 269 270 271 272\n",
      " 273 274 275 276 277 278 279 280 281 282 283 284 285 286 287 288 289 290\n",
      " 291 292 293 294 295 296 297 298 299 300 301 302 303 304 305 306 307 308\n",
      " 309 310 311 312 313 314 315 316 317 318 319 320 321 322 323 324 325 326\n",
      " 327 328 329 330 331 332 333 334 335 336 337 338 339 340 341 342 343 344\n",
      " 345 346 347 348 349 350 351 352 353 354 355 356 357 358 359 360 361 362\n",
      " 363 364 365 366 367 368 369 370 371 372 373 374 375 376 377 378 379 380\n",
      " 381 382 383 384 385 386 387 388 389 390 391]\n",
      "Valid index --> \n",
      "\n",
      "[119 120 121 122 123 124 125 126 127 128 129 130 131 132 133 134 135 136\n",
      " 137 138 139 140 141 142 143 144 145 146 147 148 149 150 151 152 153 154\n",
      " 155 156 157]\n",
      "\n",
      "---------------------------------------------------------\n",
      "\n",
      "Somme des listes d'index --> \n",
      "S = 353+39 = 392\n",
      "\n",
      "---------------------------------------------------------\n",
      "TRAIN set Car data :\n",
      "The car name at index --> 6 <-- is --> chevrolet impala\n",
      "\n",
      "---------------------------------------------------------\n",
      "VALID set Car data :\n",
      "The car name at index --> 125 <-- is --> amc hornet\n",
      "\n",
      "°°°°°°°°°°°°°°°°°°°°°°°°°°°°°°°°°°°°°°°°°°°°°°°°°°°°°°°°°°°°°°°°°°°°°°°°°°°°°°°°°°°°°°\n",
      "°°°°°°°°°°°°°°°°°°°°°°°°°°°°°°°°°°°°°°°°°°°°°°°°°°°°°°°°°°°°°°°°°°°°°°°°°°°°°°°°°°°°°°\n",
      "Complementarity of Index\n",
      "Train index -->\n",
      "\n",
      "[  0   1   2   3   4   5   6   7   8   9  10  11  12  13  14  15  16  17\n",
      "  18  19  20  21  22  23  24  25  26  27  28  29  30  31  32  33  34  35\n",
      "  36  37  38  39  40  41  42  43  44  45  46  47  48  49  50  51  52  53\n",
      "  54  55  56  57  58  59  60  61  62  63  64  65  66  67  68  69  70  71\n",
      "  72  73  74  75  76  77  78  79  80  81  82  83  84  85  86  87  88  89\n",
      "  90  91  92  93  94  95  96  97  98  99 100 101 102 103 104 105 106 107\n",
      " 108 109 110 111 112 113 114 115 116 117 118 119 120 121 122 123 124 125\n",
      " 126 127 128 129 130 131 132 133 134 135 136 137 138 139 140 141 142 143\n",
      " 144 145 146 147 148 149 150 151 152 153 154 155 156 157 197 198 199 200\n",
      " 201 202 203 204 205 206 207 208 209 210 211 212 213 214 215 216 217 218\n",
      " 219 220 221 222 223 224 225 226 227 228 229 230 231 232 233 234 235 236\n",
      " 237 238 239 240 241 242 243 244 245 246 247 248 249 250 251 252 253 254\n",
      " 255 256 257 258 259 260 261 262 263 264 265 266 267 268 269 270 271 272\n",
      " 273 274 275 276 277 278 279 280 281 282 283 284 285 286 287 288 289 290\n",
      " 291 292 293 294 295 296 297 298 299 300 301 302 303 304 305 306 307 308\n",
      " 309 310 311 312 313 314 315 316 317 318 319 320 321 322 323 324 325 326\n",
      " 327 328 329 330 331 332 333 334 335 336 337 338 339 340 341 342 343 344\n",
      " 345 346 347 348 349 350 351 352 353 354 355 356 357 358 359 360 361 362\n",
      " 363 364 365 366 367 368 369 370 371 372 373 374 375 376 377 378 379 380\n",
      " 381 382 383 384 385 386 387 388 389 390 391]\n",
      "Valid index --> \n",
      "\n",
      "[158 159 160 161 162 163 164 165 166 167 168 169 170 171 172 173 174 175\n",
      " 176 177 178 179 180 181 182 183 184 185 186 187 188 189 190 191 192 193\n",
      " 194 195 196]\n",
      "\n",
      "---------------------------------------------------------\n",
      "\n",
      "Somme des listes d'index --> \n",
      "S = 353+39 = 392\n",
      "\n",
      "---------------------------------------------------------\n",
      "TRAIN set Car data :\n",
      "The car name at index --> 6 <-- is --> chevrolet impala\n",
      "\n",
      "---------------------------------------------------------\n",
      "VALID set Car data :\n",
      "The car name at index --> 164 <-- is --> ford mustang ii\n",
      "\n",
      "°°°°°°°°°°°°°°°°°°°°°°°°°°°°°°°°°°°°°°°°°°°°°°°°°°°°°°°°°°°°°°°°°°°°°°°°°°°°°°°°°°°°°°\n",
      "°°°°°°°°°°°°°°°°°°°°°°°°°°°°°°°°°°°°°°°°°°°°°°°°°°°°°°°°°°°°°°°°°°°°°°°°°°°°°°°°°°°°°°\n",
      "Complementarity of Index\n",
      "Train index -->\n",
      "\n",
      "[  0   1   2   3   4   5   6   7   8   9  10  11  12  13  14  15  16  17\n",
      "  18  19  20  21  22  23  24  25  26  27  28  29  30  31  32  33  34  35\n",
      "  36  37  38  39  40  41  42  43  44  45  46  47  48  49  50  51  52  53\n",
      "  54  55  56  57  58  59  60  61  62  63  64  65  66  67  68  69  70  71\n",
      "  72  73  74  75  76  77  78  79  80  81  82  83  84  85  86  87  88  89\n",
      "  90  91  92  93  94  95  96  97  98  99 100 101 102 103 104 105 106 107\n",
      " 108 109 110 111 112 113 114 115 116 117 118 119 120 121 122 123 124 125\n",
      " 126 127 128 129 130 131 132 133 134 135 136 137 138 139 140 141 142 143\n",
      " 144 145 146 147 148 149 150 151 152 153 154 155 156 157 158 159 160 161\n",
      " 162 163 164 165 166 167 168 169 170 171 172 173 174 175 176 177 178 179\n",
      " 180 181 182 183 184 185 186 187 188 189 190 191 192 193 194 195 196 236\n",
      " 237 238 239 240 241 242 243 244 245 246 247 248 249 250 251 252 253 254\n",
      " 255 256 257 258 259 260 261 262 263 264 265 266 267 268 269 270 271 272\n",
      " 273 274 275 276 277 278 279 280 281 282 283 284 285 286 287 288 289 290\n",
      " 291 292 293 294 295 296 297 298 299 300 301 302 303 304 305 306 307 308\n",
      " 309 310 311 312 313 314 315 316 317 318 319 320 321 322 323 324 325 326\n",
      " 327 328 329 330 331 332 333 334 335 336 337 338 339 340 341 342 343 344\n",
      " 345 346 347 348 349 350 351 352 353 354 355 356 357 358 359 360 361 362\n",
      " 363 364 365 366 367 368 369 370 371 372 373 374 375 376 377 378 379 380\n",
      " 381 382 383 384 385 386 387 388 389 390 391]\n",
      "Valid index --> \n",
      "\n",
      "[197 198 199 200 201 202 203 204 205 206 207 208 209 210 211 212 213 214\n",
      " 215 216 217 218 219 220 221 222 223 224 225 226 227 228 229 230 231 232\n",
      " 233 234 235]\n",
      "\n",
      "---------------------------------------------------------\n",
      "\n",
      "Somme des listes d'index --> \n",
      "S = 353+39 = 392\n",
      "\n",
      "---------------------------------------------------------\n",
      "TRAIN set Car data :\n",
      "The car name at index --> 6 <-- is --> chevrolet impala\n",
      "\n",
      "---------------------------------------------------------\n",
      "VALID set Car data :\n",
      "The car name at index --> 203 <-- is --> toyota corolla\n",
      "\n",
      "°°°°°°°°°°°°°°°°°°°°°°°°°°°°°°°°°°°°°°°°°°°°°°°°°°°°°°°°°°°°°°°°°°°°°°°°°°°°°°°°°°°°°°\n",
      "°°°°°°°°°°°°°°°°°°°°°°°°°°°°°°°°°°°°°°°°°°°°°°°°°°°°°°°°°°°°°°°°°°°°°°°°°°°°°°°°°°°°°°\n",
      "Complementarity of Index\n",
      "Train index -->\n",
      "\n",
      "[  0   1   2   3   4   5   6   7   8   9  10  11  12  13  14  15  16  17\n",
      "  18  19  20  21  22  23  24  25  26  27  28  29  30  31  32  33  34  35\n",
      "  36  37  38  39  40  41  42  43  44  45  46  47  48  49  50  51  52  53\n",
      "  54  55  56  57  58  59  60  61  62  63  64  65  66  67  68  69  70  71\n",
      "  72  73  74  75  76  77  78  79  80  81  82  83  84  85  86  87  88  89\n",
      "  90  91  92  93  94  95  96  97  98  99 100 101 102 103 104 105 106 107\n",
      " 108 109 110 111 112 113 114 115 116 117 118 119 120 121 122 123 124 125\n",
      " 126 127 128 129 130 131 132 133 134 135 136 137 138 139 140 141 142 143\n",
      " 144 145 146 147 148 149 150 151 152 153 154 155 156 157 158 159 160 161\n",
      " 162 163 164 165 166 167 168 169 170 171 172 173 174 175 176 177 178 179\n",
      " 180 181 182 183 184 185 186 187 188 189 190 191 192 193 194 195 196 197\n",
      " 198 199 200 201 202 203 204 205 206 207 208 209 210 211 212 213 214 215\n",
      " 216 217 218 219 220 221 222 223 224 225 226 227 228 229 230 231 232 233\n",
      " 234 235 275 276 277 278 279 280 281 282 283 284 285 286 287 288 289 290\n",
      " 291 292 293 294 295 296 297 298 299 300 301 302 303 304 305 306 307 308\n",
      " 309 310 311 312 313 314 315 316 317 318 319 320 321 322 323 324 325 326\n",
      " 327 328 329 330 331 332 333 334 335 336 337 338 339 340 341 342 343 344\n",
      " 345 346 347 348 349 350 351 352 353 354 355 356 357 358 359 360 361 362\n",
      " 363 364 365 366 367 368 369 370 371 372 373 374 375 376 377 378 379 380\n",
      " 381 382 383 384 385 386 387 388 389 390 391]\n",
      "Valid index --> \n",
      "\n",
      "[236 237 238 239 240 241 242 243 244 245 246 247 248 249 250 251 252 253\n",
      " 254 255 256 257 258 259 260 261 262 263 264 265 266 267 268 269 270 271\n",
      " 272 273 274]\n",
      "\n",
      "---------------------------------------------------------\n",
      "\n",
      "Somme des listes d'index --> \n",
      "S = 353+39 = 392\n",
      "\n",
      "---------------------------------------------------------\n",
      "TRAIN set Car data :\n",
      "The car name at index --> 6 <-- is --> chevrolet impala\n",
      "\n",
      "---------------------------------------------------------\n",
      "VALID set Car data :\n",
      "The car name at index --> 242 <-- is --> volkswagen rabbit custom diesel\n",
      "\n",
      "°°°°°°°°°°°°°°°°°°°°°°°°°°°°°°°°°°°°°°°°°°°°°°°°°°°°°°°°°°°°°°°°°°°°°°°°°°°°°°°°°°°°°°\n",
      "°°°°°°°°°°°°°°°°°°°°°°°°°°°°°°°°°°°°°°°°°°°°°°°°°°°°°°°°°°°°°°°°°°°°°°°°°°°°°°°°°°°°°°\n",
      "Complementarity of Index\n",
      "Train index -->\n",
      "\n",
      "[  0   1   2   3   4   5   6   7   8   9  10  11  12  13  14  15  16  17\n",
      "  18  19  20  21  22  23  24  25  26  27  28  29  30  31  32  33  34  35\n",
      "  36  37  38  39  40  41  42  43  44  45  46  47  48  49  50  51  52  53\n",
      "  54  55  56  57  58  59  60  61  62  63  64  65  66  67  68  69  70  71\n",
      "  72  73  74  75  76  77  78  79  80  81  82  83  84  85  86  87  88  89\n",
      "  90  91  92  93  94  95  96  97  98  99 100 101 102 103 104 105 106 107\n",
      " 108 109 110 111 112 113 114 115 116 117 118 119 120 121 122 123 124 125\n",
      " 126 127 128 129 130 131 132 133 134 135 136 137 138 139 140 141 142 143\n",
      " 144 145 146 147 148 149 150 151 152 153 154 155 156 157 158 159 160 161\n",
      " 162 163 164 165 166 167 168 169 170 171 172 173 174 175 176 177 178 179\n",
      " 180 181 182 183 184 185 186 187 188 189 190 191 192 193 194 195 196 197\n",
      " 198 199 200 201 202 203 204 205 206 207 208 209 210 211 212 213 214 215\n",
      " 216 217 218 219 220 221 222 223 224 225 226 227 228 229 230 231 232 233\n",
      " 234 235 236 237 238 239 240 241 242 243 244 245 246 247 248 249 250 251\n",
      " 252 253 254 255 256 257 258 259 260 261 262 263 264 265 266 267 268 269\n",
      " 270 271 272 273 274 314 315 316 317 318 319 320 321 322 323 324 325 326\n",
      " 327 328 329 330 331 332 333 334 335 336 337 338 339 340 341 342 343 344\n",
      " 345 346 347 348 349 350 351 352 353 354 355 356 357 358 359 360 361 362\n",
      " 363 364 365 366 367 368 369 370 371 372 373 374 375 376 377 378 379 380\n",
      " 381 382 383 384 385 386 387 388 389 390 391]\n",
      "Valid index --> \n",
      "\n",
      "[275 276 277 278 279 280 281 282 283 284 285 286 287 288 289 290 291 292\n",
      " 293 294 295 296 297 298 299 300 301 302 303 304 305 306 307 308 309 310\n",
      " 311 312 313]\n",
      "\n",
      "---------------------------------------------------------\n",
      "\n",
      "Somme des listes d'index --> \n",
      "S = 353+39 = 392\n",
      "\n",
      "---------------------------------------------------------\n",
      "TRAIN set Car data :\n",
      "The car name at index --> 6 <-- is --> chevrolet impala\n",
      "\n",
      "---------------------------------------------------------\n",
      "VALID set Car data :\n",
      "The car name at index --> 281 <-- is --> amc concord dl 6\n",
      "\n",
      "°°°°°°°°°°°°°°°°°°°°°°°°°°°°°°°°°°°°°°°°°°°°°°°°°°°°°°°°°°°°°°°°°°°°°°°°°°°°°°°°°°°°°°\n",
      "°°°°°°°°°°°°°°°°°°°°°°°°°°°°°°°°°°°°°°°°°°°°°°°°°°°°°°°°°°°°°°°°°°°°°°°°°°°°°°°°°°°°°°\n",
      "Complementarity of Index\n",
      "Train index -->\n",
      "\n",
      "[  0   1   2   3   4   5   6   7   8   9  10  11  12  13  14  15  16  17\n",
      "  18  19  20  21  22  23  24  25  26  27  28  29  30  31  32  33  34  35\n",
      "  36  37  38  39  40  41  42  43  44  45  46  47  48  49  50  51  52  53\n",
      "  54  55  56  57  58  59  60  61  62  63  64  65  66  67  68  69  70  71\n",
      "  72  73  74  75  76  77  78  79  80  81  82  83  84  85  86  87  88  89\n",
      "  90  91  92  93  94  95  96  97  98  99 100 101 102 103 104 105 106 107\n",
      " 108 109 110 111 112 113 114 115 116 117 118 119 120 121 122 123 124 125\n",
      " 126 127 128 129 130 131 132 133 134 135 136 137 138 139 140 141 142 143\n",
      " 144 145 146 147 148 149 150 151 152 153 154 155 156 157 158 159 160 161\n",
      " 162 163 164 165 166 167 168 169 170 171 172 173 174 175 176 177 178 179\n",
      " 180 181 182 183 184 185 186 187 188 189 190 191 192 193 194 195 196 197\n",
      " 198 199 200 201 202 203 204 205 206 207 208 209 210 211 212 213 214 215\n",
      " 216 217 218 219 220 221 222 223 224 225 226 227 228 229 230 231 232 233\n",
      " 234 235 236 237 238 239 240 241 242 243 244 245 246 247 248 249 250 251\n",
      " 252 253 254 255 256 257 258 259 260 261 262 263 264 265 266 267 268 269\n",
      " 270 271 272 273 274 275 276 277 278 279 280 281 282 283 284 285 286 287\n",
      " 288 289 290 291 292 293 294 295 296 297 298 299 300 301 302 303 304 305\n",
      " 306 307 308 309 310 311 312 313 353 354 355 356 357 358 359 360 361 362\n",
      " 363 364 365 366 367 368 369 370 371 372 373 374 375 376 377 378 379 380\n",
      " 381 382 383 384 385 386 387 388 389 390 391]\n",
      "Valid index --> \n",
      "\n",
      "[314 315 316 317 318 319 320 321 322 323 324 325 326 327 328 329 330 331\n",
      " 332 333 334 335 336 337 338 339 340 341 342 343 344 345 346 347 348 349\n",
      " 350 351 352]\n",
      "\n",
      "---------------------------------------------------------\n",
      "\n",
      "Somme des listes d'index --> \n",
      "S = 353+39 = 392\n",
      "\n",
      "---------------------------------------------------------\n",
      "TRAIN set Car data :\n",
      "The car name at index --> 6 <-- is --> chevrolet impala\n",
      "\n",
      "---------------------------------------------------------\n",
      "VALID set Car data :\n",
      "The car name at index --> 320 <-- is --> mazda glc\n",
      "\n",
      "°°°°°°°°°°°°°°°°°°°°°°°°°°°°°°°°°°°°°°°°°°°°°°°°°°°°°°°°°°°°°°°°°°°°°°°°°°°°°°°°°°°°°°\n",
      "°°°°°°°°°°°°°°°°°°°°°°°°°°°°°°°°°°°°°°°°°°°°°°°°°°°°°°°°°°°°°°°°°°°°°°°°°°°°°°°°°°°°°°\n",
      "Complementarity of Index\n",
      "Train index -->\n",
      "\n",
      "[  0   1   2   3   4   5   6   7   8   9  10  11  12  13  14  15  16  17\n",
      "  18  19  20  21  22  23  24  25  26  27  28  29  30  31  32  33  34  35\n",
      "  36  37  38  39  40  41  42  43  44  45  46  47  48  49  50  51  52  53\n",
      "  54  55  56  57  58  59  60  61  62  63  64  65  66  67  68  69  70  71\n",
      "  72  73  74  75  76  77  78  79  80  81  82  83  84  85  86  87  88  89\n",
      "  90  91  92  93  94  95  96  97  98  99 100 101 102 103 104 105 106 107\n",
      " 108 109 110 111 112 113 114 115 116 117 118 119 120 121 122 123 124 125\n",
      " 126 127 128 129 130 131 132 133 134 135 136 137 138 139 140 141 142 143\n",
      " 144 145 146 147 148 149 150 151 152 153 154 155 156 157 158 159 160 161\n",
      " 162 163 164 165 166 167 168 169 170 171 172 173 174 175 176 177 178 179\n",
      " 180 181 182 183 184 185 186 187 188 189 190 191 192 193 194 195 196 197\n",
      " 198 199 200 201 202 203 204 205 206 207 208 209 210 211 212 213 214 215\n",
      " 216 217 218 219 220 221 222 223 224 225 226 227 228 229 230 231 232 233\n",
      " 234 235 236 237 238 239 240 241 242 243 244 245 246 247 248 249 250 251\n",
      " 252 253 254 255 256 257 258 259 260 261 262 263 264 265 266 267 268 269\n",
      " 270 271 272 273 274 275 276 277 278 279 280 281 282 283 284 285 286 287\n",
      " 288 289 290 291 292 293 294 295 296 297 298 299 300 301 302 303 304 305\n",
      " 306 307 308 309 310 311 312 313 314 315 316 317 318 319 320 321 322 323\n",
      " 324 325 326 327 328 329 330 331 332 333 334 335 336 337 338 339 340 341\n",
      " 342 343 344 345 346 347 348 349 350 351 352]\n",
      "Valid index --> \n",
      "\n",
      "[353 354 355 356 357 358 359 360 361 362 363 364 365 366 367 368 369 370\n",
      " 371 372 373 374 375 376 377 378 379 380 381 382 383 384 385 386 387 388\n",
      " 389 390 391]\n",
      "\n",
      "---------------------------------------------------------\n",
      "\n",
      "Somme des listes d'index --> \n",
      "S = 353+39 = 392\n",
      "\n",
      "---------------------------------------------------------\n",
      "TRAIN set Car data :\n",
      "The car name at index --> 6 <-- is --> chevrolet impala\n",
      "\n",
      "---------------------------------------------------------\n",
      "VALID set Car data :\n",
      "The car name at index --> 359 <-- is --> oldsmobile cutlass ls\n",
      "\n",
      "°°°°°°°°°°°°°°°°°°°°°°°°°°°°°°°°°°°°°°°°°°°°°°°°°°°°°°°°°°°°°°°°°°°°°°°°°°°°°°°°°°°°°°\n"
     ]
    }
   ],
   "source": [
    "# on a 392 lignes\n",
    "\n",
    "kf = KFold(n_splits=10) # here we choose the number of folds (or splits) we will make\n",
    "kf.get_n_splits(auto)\n",
    "\n",
    "print(kf)\n",
    "print(\"\")\n",
    "\n",
    "\n",
    "split_counter = 1\n",
    "for train_index, valid_index in kf.split(auto): # kf.split(X) is an iterable which gives us the indices of the data in each fold\n",
    "    #print('-'*60)\n",
    "    #print('This is split no: {}'.format(split_counter))\n",
    "    split_counter += 1 \n",
    "    X_train, X_valid = auto.iloc[train_index], auto.iloc[valid_index] # must use .iloc because its a dataframe this time\n",
    "    y_train, y_valid = mpg[train_index], mpg[valid_index]\n",
    "    \n",
    "    print(\"°°°°°°°°°°°°°°°°°°°°°°°°°°°°°°°°°°°°°°°°°°°°°°°°°°°°°°°°°°°°°°°°°°°°°°°°°°°°°°°°°°°°°°\")\n",
    "    print(\"Complementarity of Index\")\n",
    "    print(\"Train index -->\")\n",
    "    print(\"\")\n",
    "    print(train_index)\n",
    "    print(\"Valid index --> \")\n",
    "    print(\"\")\n",
    "    print(valid_index) \n",
    "    print(\"\")\n",
    "    print(\"---------------------------------------------------------\")\n",
    "    print(\"\")\n",
    "    print(\"Somme des listes d'index --> \")\n",
    "    print(f\"S = {len(train_index)}+{len(valid_index)} = {len(train_index) + len(valid_index)}\")\n",
    "    print(\"\")\n",
    "    print(\"---------------------------------------------------------\")\n",
    "    print(\"TRAIN set Car data :\")\n",
    "    print(f\"The car name at index --> {train_index[6]} <-- is --> {X_train.loc[train_index[6],'name']}\")\n",
    "    print(\"\")\n",
    "    print(\"---------------------------------------------------------\")\n",
    "    print(\"VALID set Car data :\")\n",
    "    print(f\"The car name at index --> {valid_index[6]} <-- is --> {X_valid.loc[valid_index[6],'name']}\")\n",
    "    print(\"\")\n",
    "    print(\"°°°°°°°°°°°°°°°°°°°°°°°°°°°°°°°°°°°°°°°°°°°°°°°°°°°°°°°°°°°°°°°°°°°°°°°°°°°°°°°°°°°°°°\")\n",
    "    # your code here\n",
    "    #print('Train car name here', X_train[\"name\"])\n",
    "    #print('Validation car name here')"
   ]
  },
  {
   "cell_type": "markdown",
   "id": "a14e8080",
   "metadata": {},
   "source": [
    "### Test regression on different substets"
   ]
  },
  {
   "cell_type": "code",
   "execution_count": 9,
   "id": "276a6340",
   "metadata": {},
   "outputs": [],
   "source": [
    "auto = auto.drop('name', axis=1, errors='ignore') # we do not need the car names so remove for now."
   ]
  },
  {
   "cell_type": "code",
   "execution_count": 10,
   "id": "e9e24079",
   "metadata": {},
   "outputs": [
    {
     "name": "stdout",
     "output_type": "stream",
     "text": [
      "------------------------------------------------------------\n",
      "This is split no: 1\n",
      "Model results\n",
      "training MSE: 11.284070590565994\n",
      "validation MSE: 14.974307651304237\n",
      "------------------------------------------------------------\n",
      "This is split no: 2\n",
      "Model results\n",
      "training MSE: 11.155158050598772\n",
      "validation MSE: 10.905952427081187\n",
      "------------------------------------------------------------\n",
      "This is split no: 3\n",
      "Model results\n",
      "training MSE: 12.160105136871517\n",
      "validation MSE: 5.99170861010817\n",
      "------------------------------------------------------------\n",
      "This is split no: 4\n",
      "Model results\n",
      "training MSE: 9.92167414540569\n",
      "validation MSE: 15.587544657621594\n",
      "------------------------------------------------------------\n",
      "This is split no: 5\n",
      "Model results\n",
      "training MSE: 7.977511689294957\n",
      "validation MSE: 27.844743081984188\n"
     ]
    }
   ],
   "source": [
    "from sklearn.linear_model import LinearRegression\n",
    "from sklearn.metrics import mean_squared_error\n",
    "\n",
    "\n",
    "split_counter = 1\n",
    "mse_scores = [] # create empty list to append mse scores for each split\n",
    "kf = KFold(n_splits=5)\n",
    "kf.get_n_splits(auto)\n",
    "\n",
    "for train_index, valid_index in kf.split(auto): # kf.split(X) is an iterable which gives us the indices of the data in each fold\n",
    "    print('-'*60)\n",
    "    print('This is split no: {}'.format(split_counter))\n",
    "    print('Model results')\n",
    "    split_counter += 1 \n",
    "    X_train, X_valid = auto.iloc[train_index], auto.iloc[valid_index] # must use .iloc because its a dataframe this time\n",
    "    y_train, y_valid = mpg[train_index], mpg[valid_index]\n",
    "    \n",
    "    \n",
    "    #### fit polynomial to train data in this split\n",
    "    lin_reg = LinearRegression()\n",
    "    lin_reg.fit(X_train, y_train)\n",
    "    \n",
    "    #### eval & print MSE training results in this split\n",
    "    mpg_train_pred = lin_reg.predict(X_train)\n",
    "    mse_train = mean_squared_error(y_train, mpg_train_pred)\n",
    "    print('training MSE: {0}'.format(mse_train))\n",
    "    \n",
    "    #### do the same for validation split\n",
    "    mpg_valid_pred = lin_reg.predict(X_valid)\n",
    "    mse_valid = mean_squared_error(y_valid, mpg_valid_pred)\n",
    "    print('validation MSE: {0}'.format(mse_valid))\n",
    "    \n",
    "    mse_scores.append(mse_valid) # assign validation MSE score to list"
   ]
  },
  {
   "cell_type": "markdown",
   "id": "93360285",
   "metadata": {},
   "source": [
    "#### Validation of MSE computed on several subsets"
   ]
  },
  {
   "cell_type": "code",
   "execution_count": 11,
   "id": "83b81a51",
   "metadata": {},
   "outputs": [
    {
     "name": "stdout",
     "output_type": "stream",
     "text": [
      "VALIDATION SET MSE SCORES\n",
      "mean MSE: 15.060851285619876\n",
      "std MSE: 7.2556918148909215\n"
     ]
    }
   ],
   "source": [
    "mse_scores  = np.array(mse_scores)\n",
    "print('VALIDATION SET MSE SCORES')\n",
    "print('mean MSE:', mse_scores.mean())\n",
    "print('std MSE:', mse_scores.std())"
   ]
  },
  {
   "cell_type": "raw",
   "id": "570658f5",
   "metadata": {},
   "source": [
    "--> cross_val_score methode prend plusieurs arguments :\n",
    "\n",
    "-----> Notre **class** de regression ie LinearRegression()\n",
    "-----> Le dataframe a traiter\n",
    "-----> La colonne target à prédire, ici \"mpg\"\n",
    "-----> cv = KFOLD\n",
    "-----> La methode pour évaluer nos prédictions sur KFOLD interval"
   ]
  },
  {
   "cell_type": "code",
   "execution_count": 12,
   "id": "96567021",
   "metadata": {},
   "outputs": [
    {
     "name": "stdout",
     "output_type": "stream",
     "text": [
      "MSE par KFOLD --> [14.97430765 10.90595243  5.99170861 15.58754466 27.84474308]\n",
      "mean MSE: 15.060851285619876\n",
      "std MSE: 7.2556918148909215\n"
     ]
    }
   ],
   "source": [
    "from sklearn.model_selection import cross_val_score\n",
    "\n",
    "lin_reg = LinearRegression()\n",
    "cv_scores = cross_val_score(lin_reg, auto, mpg, cv = 5, scoring='neg_mean_squared_error') \n",
    "\n",
    "print(f\"MSE par KFOLD --> {-cv_scores}\")\n",
    "print('mean MSE:',np.mean(-cv_scores))\n",
    "print('std MSE:',np.std(-cv_scores))"
   ]
  },
  {
   "cell_type": "markdown",
   "id": "1a722e27",
   "metadata": {},
   "source": [
    "#### Task 3"
   ]
  },
  {
   "cell_type": "markdown",
   "id": "2d9d8a31",
   "metadata": {},
   "source": [
    "- Make sure you understand the output of the cross_val_score above (i.e. What is cv_scores?)"
   ]
  },
  {
   "cell_type": "raw",
   "id": "894fa6b7",
   "metadata": {},
   "source": [
    "--> cv score : neg_mean_squared_error because we asked this score"
   ]
  },
  {
   "cell_type": "markdown",
   "id": "4ae96aed",
   "metadata": {},
   "source": [
    "- Why is the scoring defined as negative MSE? Do some research"
   ]
  },
  {
   "cell_type": "raw",
   "id": "e39735d6",
   "metadata": {},
   "source": [
    "--> The higher the score the better. But the lower the MSE the better. So we use the negative MSE"
   ]
  },
  {
   "cell_type": "markdown",
   "id": "7f18549d",
   "metadata": {},
   "source": [
    "- Investigate what the `cross_val_predict` function does."
   ]
  },
  {
   "cell_type": "raw",
   "id": "08086cf5",
   "metadata": {},
   "source": [
    "--> Generate cross-validated estimates for each input data point.\n",
    "--> generate cross-vaéidated estimated data\n",
    "--> It is used for model evaluation, where a model is trained on a subset of the data and tested on the remaining data. \n",
    "--> This process is repeated several times, and the results are averaged to obtain a more reliable estimate of model performance.\n",
    "\n",
    "--> The cross_val_predict function splits the data into k consecutive folds (by default, k=5), trains the model on k-1 folds, and then generates predictions for the remaining fold. \n",
    "--> This process is repeated for each fold, resulting in a set of predicted values for each data point in the dataset.\n",
    "\n",
    "--> The function returns an array of predicted values, which can be compared with the actual target values to evaluate the performance of the model. The cross_val_predict function also allows the user to specify a scoring metric, which is used to evaluate the model's performance."
   ]
  },
  {
   "cell_type": "markdown",
   "id": "43eb2c00",
   "metadata": {},
   "source": [
    "- Import and implement `cross_val_predict`on the same data as above."
   ]
  },
  {
   "cell_type": "code",
   "execution_count": 31,
   "id": "5da7e374",
   "metadata": {},
   "outputs": [
    {
     "data": {
      "text/plain": [
       "7.805007486571799"
      ]
     },
     "execution_count": 31,
     "metadata": {},
     "output_type": "execute_result"
    }
   ],
   "source": [
    "X_train, X_test, y_train, y_test = train_test_split(auto, mpg, random_state = 18)\n",
    "\n",
    "lin_reg = LinearRegression()\n",
    "\n",
    "\n",
    "predictions = cross_val_predict(lin_reg, auto, mpg, cv=5)\n",
    "\n",
    "\n",
    "\n",
    "\n",
    "cv_scores = cross_val_score(lin_reg, auto, mpg, cv = 5, scoring='neg_mean_squared_error') \n",
    "cv_scores.std()\n",
    "mpg.std()"
   ]
  },
  {
   "cell_type": "markdown",
   "id": "f6fc61fa",
   "metadata": {},
   "source": [
    "- What are the outputs of this function?"
   ]
  },
  {
   "cell_type": "code",
   "execution_count": 38,
   "id": "d9ce8f3c",
   "metadata": {},
   "outputs": [
    {
     "name": "stdout",
     "output_type": "stream",
     "text": [
      "Results MSE \n",
      "15.060851285619876\n",
      "7.2556918148909215\n"
     ]
    },
    {
     "data": {
      "text/plain": [
       "<AxesSubplot:xlabel='mpg'>"
      ]
     },
     "execution_count": 38,
     "metadata": {},
     "output_type": "execute_result"
    },
    {
     "data": {
      "image/png": "[encoded data removed]",
      "text/plain": [
       "<Figure size 1296x648 with 2 Axes>"
      ]
     },
     "metadata": {
      "needs_background": "light"
     },
     "output_type": "display_data"
    }
   ],
   "source": [
    "print(\"Results MSE \")\n",
    "print(-cv_scores.mean())\n",
    "print(cv_scores.std())\n",
    "\n",
    "fig, ax = plt.subplots(nrows=2, ncols=1,figsize=(18,9))\n",
    "fig.suptitle(\"Comparaison des prédictions VS initiales sur le full dataset\", fontsize=20)\n",
    "\n",
    "\n",
    "sns.scatterplot(\n",
    "    ax=ax[0],\n",
    "    data=auto, \n",
    "    x=auto.index, \n",
    "    #x=\"MSE\",\n",
    "    y=mpg, \n",
    "    s=70,\n",
    "    label=\"Real data\"\n",
    ")\n",
    "sns.scatterplot(\n",
    "    ax=ax[0],\n",
    "    data=auto, \n",
    "    x=auto.index, \n",
    "    #x=\"MSE\",\n",
    "    y=predictions, \n",
    "    s=70,\n",
    "    label=\"predictions\"\n",
    ")\n",
    "\n",
    "sns.scatterplot(\n",
    "    ax=ax[1],\n",
    "    data=auto, \n",
    "    x=mpg, \n",
    "    #x=\"MSE\",\n",
    "    y=predictions, \n",
    "    s=70,\n",
    "    label=\"predictions\"\n",
    ")"
   ]
  },
  {
   "cell_type": "markdown",
   "id": "2b41ef5b",
   "metadata": {},
   "source": [
    "- Can you use these to evaluate the results of your cross validation?"
   ]
  },
  {
   "cell_type": "markdown",
   "id": "ed26315a",
   "metadata": {},
   "source": [
    "- Do the cross-validation scores give you confidence this model is providing a useful prediction?"
   ]
  },
  {
   "cell_type": "code",
   "execution_count": 33,
   "id": "b855c063",
   "metadata": {},
   "outputs": [
    {
     "data": {
      "text/plain": [
       "392"
      ]
     },
     "execution_count": 33,
     "metadata": {},
     "output_type": "execute_result"
    }
   ],
   "source": [
    "len(predictions)"
   ]
  },
  {
   "cell_type": "code",
   "execution_count": 34,
   "id": "9713d2a6",
   "metadata": {},
   "outputs": [
    {
     "data": {
      "image/png": "[encoded data removed]",
      "text/plain": [
       "<Figure size 432x288 with 1 Axes>"
      ]
     },
     "metadata": {
      "needs_background": "light"
     },
     "output_type": "display_data"
    }
   ],
   "source": [
    "ax = sns.scatterplot(\n",
    "    data=auto, \n",
    "    x=mpg, \n",
    "    #x=\"MSE\",\n",
    "    y=predictions, \n",
    "    s=70,\n",
    "    label=\"predictions\"\n",
    ")"
   ]
  },
  {
   "cell_type": "markdown",
   "id": "8959e28a",
   "metadata": {},
   "source": [
    "## Excercise 1: wine cross-validation\n",
    "\n",
    "You must predict the alcohol content of various wines based on their other attributes.\n",
    "\n",
    "* Split the data into train and test data sets (Ensure you use the option: `random_state = 28`).\n",
    "* Perform linear regression using k-fold cross validation(ensure you use 5 folds). Return the cross validation MSE errors. Return the mean and standard deviations of these.\n",
    "* Evaluate the performance of the model on the test set.\n",
    "* Compare the cross-validation error and the test error (MSE). What do you find? \n",
    "* Try removing the random_state option. What happens to your results? Explain why."
   ]
  },
  {
   "cell_type": "code",
   "execution_count": 40,
   "id": "49de84d8",
   "metadata": {},
   "outputs": [],
   "source": [
    "def import_df(name):\n",
    "    cwd = o\n",
    "    filename = name\n",
    "    df = pd.read_csv(cwd + \"/data/\" + filename)\n",
    "    return df"
   ]
  },
  {
   "cell_type": "code",
   "execution_count": 41,
   "id": "b5b989ff",
   "metadata": {},
   "outputs": [
    {
     "ename": "NameError",
     "evalue": "name 'cwd' is not defined",
     "output_type": "error",
     "traceback": [
      "\u001b[0;31m---------------------------------------------------------------------------\u001b[0m",
      "\u001b[0;31mNameError\u001b[0m                                 Traceback (most recent call last)",
      "\u001b[0;32m/var/folders/vs/63szyqqn4dq91nzk275599p40000gn/T/ipykernel_82978/1875382234.py\u001b[0m in \u001b[0;36m<module>\u001b[0;34m\u001b[0m\n\u001b[0;32m----> 1\u001b[0;31m \u001b[0mdf_wine\u001b[0m \u001b[0;34m=\u001b[0m \u001b[0mimport_df\u001b[0m\u001b[0;34m(\u001b[0m\u001b[0;34m\"wine.csv\"\u001b[0m\u001b[0;34m)\u001b[0m\u001b[0;34m\u001b[0m\u001b[0;34m\u001b[0m\u001b[0m\n\u001b[0m",
      "\u001b[0;32m/var/folders/vs/63szyqqn4dq91nzk275599p40000gn/T/ipykernel_82978/3397571936.py\u001b[0m in \u001b[0;36mimport_df\u001b[0;34m(name)\u001b[0m\n\u001b[1;32m      1\u001b[0m \u001b[0;32mdef\u001b[0m \u001b[0mimport_df\u001b[0m\u001b[0;34m(\u001b[0m\u001b[0mname\u001b[0m\u001b[0;34m)\u001b[0m\u001b[0;34m:\u001b[0m\u001b[0;34m\u001b[0m\u001b[0;34m\u001b[0m\u001b[0m\n\u001b[1;32m      2\u001b[0m     \u001b[0mfilename\u001b[0m \u001b[0;34m=\u001b[0m \u001b[0mname\u001b[0m\u001b[0;34m\u001b[0m\u001b[0;34m\u001b[0m\u001b[0m\n\u001b[0;32m----> 3\u001b[0;31m     \u001b[0mdf\u001b[0m \u001b[0;34m=\u001b[0m \u001b[0mpd\u001b[0m\u001b[0;34m.\u001b[0m\u001b[0mread_csv\u001b[0m\u001b[0;34m(\u001b[0m\u001b[0mcwd\u001b[0m \u001b[0;34m+\u001b[0m \u001b[0;34m\"/data/\"\u001b[0m \u001b[0;34m+\u001b[0m \u001b[0mfilename\u001b[0m\u001b[0;34m)\u001b[0m\u001b[0;34m\u001b[0m\u001b[0;34m\u001b[0m\u001b[0m\n\u001b[0m\u001b[1;32m      4\u001b[0m     \u001b[0;32mreturn\u001b[0m \u001b[0mdf\u001b[0m\u001b[0;34m\u001b[0m\u001b[0;34m\u001b[0m\u001b[0m\n",
      "\u001b[0;31mNameError\u001b[0m: name 'cwd' is not defined"
     ]
    }
   ],
   "source": [
    "df_wine = import_df(\"wine.csv\")"
   ]
  },
  {
   "cell_type": "code",
   "execution_count": null,
   "id": "8e29e408",
   "metadata": {},
   "outputs": [],
   "source": []
  }
 ],
 "metadata": {
  "kernelspec": {
   "display_name": "Python 3 (ipykernel)",
   "language": "python",
   "name": "python3"
  },
  "language_info": {
   "codemirror_mode": {
    "name": "ipython",
    "version": 3
   },
   "file_extension": ".py",
   "mimetype": "text/x-python",
   "name": "python",
   "nbconvert_exporter": "python",
   "pygments_lexer": "ipython3",
   "version": "3.9.7"
  }
 },
 "nbformat": 4,
 "nbformat_minor": 5
}

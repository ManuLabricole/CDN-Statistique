{
 "cells": [
  {
   "cell_type": "markdown",
   "id": "3f601094",
   "metadata": {},
   "source": [
    "# Regularisation\n",
    "\n",
    "An alternative to choosing models which contains smaller numbers of features is to use a method that *constrains* or *regularises* the coefficent estimates assigned to each feature, or that shrinks the coefficient towards zero. This technique is very similar to *least squares* which we have been using until now. Please refer to Section in 6.2 **ISTL** for a fuller explanation of this.\n",
    "\n",
    "When we move to use a regularised linear regression for prediction the additional term means that we now have a model parameter that requires setting or tuning. These terms are referred to as *hyperparameters* in machine learning. In practice this introduces another additional unknown parameter which we must choose somewhere in our modelling. It is common practice to run several models, each with different values of this hyperparameter, and then assess the error of each using cross validation for comparison.\n",
    "\n",
    "**Lasso vs Ridge** (just for information curiosity, no need to go in depth or spend to much time to understand the maths)\n",
    "\n",
    "For now we will focus on how to implement Lasso and Ridge regression in sklearn. These are both types of regularised linear regression.\n",
    "\n",
    "Lasso: objectif is to minimize\n",
    "$$ RSS + \\lambda \\sum |\\beta | $$\n",
    "* can force coefficients exactly to zero: behaves thus as variable selection\n",
    "\n",
    "\n",
    "Ridge: objectif is to minimize\n",
    "$$ RSS + \\lambda \\sum \\beta_i^2 $$\n",
    "* does not force coefficients exactly to zero\n",
    "* interestig when there are more predictors than observations\n",
    "\n",
    "see further reading ILS, search for Ridge and Lasso"
   ]
  },
  {
   "cell_type": "markdown",
   "id": "c549ef5d",
   "metadata": {},
   "source": [
    "-----"
   ]
  },
  {
   "cell_type": "code",
   "execution_count": 21,
   "id": "f46505cf",
   "metadata": {},
   "outputs": [],
   "source": [
    "import numpy as np\n",
    "import pandas as pd\n",
    "import os\n",
    "import matplotlib.pyplot as plt\n",
    "import seaborn as sns\n",
    "\n",
    "from sklearn.metrics import mean_absolute_error, mean_squared_error, r2_score, median_absolute_error\n",
    "\n",
    "from sklearn.model_selection import train_test_split\n",
    "from sklearn.model_selection import cross_val_score\n",
    "from sklearn.model_selection import train_test_split\n",
    "from sklearn.model_selection import cross_val_predict\n",
    "\n",
    "from sklearn.linear_model import LinearRegression\n",
    "\n",
    "from scipy.stats import linregress\n",
    "import statsmodels.api as sm\n",
    "import warnings\n"
   ]
  },
  {
   "cell_type": "markdown",
   "id": "9ebf061b",
   "metadata": {},
   "source": [
    "----"
   ]
  },
  {
   "cell_type": "code",
   "execution_count": 10,
   "id": "e9ff4fd8",
   "metadata": {
    "scrolled": true
   },
   "outputs": [
    {
     "data": {
      "text/html": [
       "<div>\n",
       "<style scoped>\n",
       "    .dataframe tbody tr th:only-of-type {\n",
       "        vertical-align: middle;\n",
       "    }\n",
       "\n",
       "    .dataframe tbody tr th {\n",
       "        vertical-align: top;\n",
       "    }\n",
       "\n",
       "    .dataframe thead th {\n",
       "        text-align: right;\n",
       "    }\n",
       "</style>\n",
       "<table border=\"1\" class=\"dataframe\">\n",
       "  <thead>\n",
       "    <tr style=\"text-align: right;\">\n",
       "      <th></th>\n",
       "      <th>Income</th>\n",
       "      <th>Limit</th>\n",
       "      <th>Cards</th>\n",
       "      <th>Age</th>\n",
       "      <th>Education</th>\n",
       "      <th>Gender</th>\n",
       "      <th>Student</th>\n",
       "      <th>Married</th>\n",
       "      <th>Balance</th>\n",
       "      <th>African American</th>\n",
       "      <th>Asian</th>\n",
       "      <th>Caucasian</th>\n",
       "    </tr>\n",
       "  </thead>\n",
       "  <tbody>\n",
       "    <tr>\n",
       "      <th>0</th>\n",
       "      <td>14.891</td>\n",
       "      <td>3606</td>\n",
       "      <td>2</td>\n",
       "      <td>34</td>\n",
       "      <td>11</td>\n",
       "      <td>0</td>\n",
       "      <td>0</td>\n",
       "      <td>1</td>\n",
       "      <td>333</td>\n",
       "      <td>0</td>\n",
       "      <td>0</td>\n",
       "      <td>1</td>\n",
       "    </tr>\n",
       "    <tr>\n",
       "      <th>1</th>\n",
       "      <td>106.025</td>\n",
       "      <td>6645</td>\n",
       "      <td>3</td>\n",
       "      <td>82</td>\n",
       "      <td>15</td>\n",
       "      <td>1</td>\n",
       "      <td>1</td>\n",
       "      <td>1</td>\n",
       "      <td>903</td>\n",
       "      <td>0</td>\n",
       "      <td>1</td>\n",
       "      <td>0</td>\n",
       "    </tr>\n",
       "    <tr>\n",
       "      <th>2</th>\n",
       "      <td>104.593</td>\n",
       "      <td>7075</td>\n",
       "      <td>4</td>\n",
       "      <td>71</td>\n",
       "      <td>11</td>\n",
       "      <td>0</td>\n",
       "      <td>0</td>\n",
       "      <td>0</td>\n",
       "      <td>580</td>\n",
       "      <td>0</td>\n",
       "      <td>1</td>\n",
       "      <td>0</td>\n",
       "    </tr>\n",
       "    <tr>\n",
       "      <th>3</th>\n",
       "      <td>148.924</td>\n",
       "      <td>9504</td>\n",
       "      <td>3</td>\n",
       "      <td>36</td>\n",
       "      <td>11</td>\n",
       "      <td>1</td>\n",
       "      <td>0</td>\n",
       "      <td>0</td>\n",
       "      <td>964</td>\n",
       "      <td>0</td>\n",
       "      <td>1</td>\n",
       "      <td>0</td>\n",
       "    </tr>\n",
       "    <tr>\n",
       "      <th>4</th>\n",
       "      <td>55.882</td>\n",
       "      <td>4897</td>\n",
       "      <td>2</td>\n",
       "      <td>68</td>\n",
       "      <td>16</td>\n",
       "      <td>0</td>\n",
       "      <td>0</td>\n",
       "      <td>1</td>\n",
       "      <td>331</td>\n",
       "      <td>0</td>\n",
       "      <td>0</td>\n",
       "      <td>1</td>\n",
       "    </tr>\n",
       "    <tr>\n",
       "      <th>...</th>\n",
       "      <td>...</td>\n",
       "      <td>...</td>\n",
       "      <td>...</td>\n",
       "      <td>...</td>\n",
       "      <td>...</td>\n",
       "      <td>...</td>\n",
       "      <td>...</td>\n",
       "      <td>...</td>\n",
       "      <td>...</td>\n",
       "      <td>...</td>\n",
       "      <td>...</td>\n",
       "      <td>...</td>\n",
       "    </tr>\n",
       "    <tr>\n",
       "      <th>395</th>\n",
       "      <td>12.096</td>\n",
       "      <td>4100</td>\n",
       "      <td>3</td>\n",
       "      <td>32</td>\n",
       "      <td>13</td>\n",
       "      <td>0</td>\n",
       "      <td>0</td>\n",
       "      <td>1</td>\n",
       "      <td>560</td>\n",
       "      <td>0</td>\n",
       "      <td>0</td>\n",
       "      <td>1</td>\n",
       "    </tr>\n",
       "    <tr>\n",
       "      <th>396</th>\n",
       "      <td>13.364</td>\n",
       "      <td>3838</td>\n",
       "      <td>5</td>\n",
       "      <td>65</td>\n",
       "      <td>17</td>\n",
       "      <td>0</td>\n",
       "      <td>0</td>\n",
       "      <td>0</td>\n",
       "      <td>480</td>\n",
       "      <td>1</td>\n",
       "      <td>0</td>\n",
       "      <td>0</td>\n",
       "    </tr>\n",
       "    <tr>\n",
       "      <th>397</th>\n",
       "      <td>57.872</td>\n",
       "      <td>4171</td>\n",
       "      <td>5</td>\n",
       "      <td>67</td>\n",
       "      <td>12</td>\n",
       "      <td>1</td>\n",
       "      <td>0</td>\n",
       "      <td>1</td>\n",
       "      <td>138</td>\n",
       "      <td>0</td>\n",
       "      <td>0</td>\n",
       "      <td>1</td>\n",
       "    </tr>\n",
       "    <tr>\n",
       "      <th>398</th>\n",
       "      <td>37.728</td>\n",
       "      <td>2525</td>\n",
       "      <td>1</td>\n",
       "      <td>44</td>\n",
       "      <td>13</td>\n",
       "      <td>0</td>\n",
       "      <td>0</td>\n",
       "      <td>1</td>\n",
       "      <td>0</td>\n",
       "      <td>0</td>\n",
       "      <td>0</td>\n",
       "      <td>1</td>\n",
       "    </tr>\n",
       "    <tr>\n",
       "      <th>399</th>\n",
       "      <td>18.701</td>\n",
       "      <td>5524</td>\n",
       "      <td>5</td>\n",
       "      <td>64</td>\n",
       "      <td>7</td>\n",
       "      <td>1</td>\n",
       "      <td>0</td>\n",
       "      <td>0</td>\n",
       "      <td>966</td>\n",
       "      <td>0</td>\n",
       "      <td>1</td>\n",
       "      <td>0</td>\n",
       "    </tr>\n",
       "  </tbody>\n",
       "</table>\n",
       "<p>400 rows × 12 columns</p>\n",
       "</div>"
      ],
      "text/plain": [
       "      Income  Limit  Cards  Age  Education  Gender  Student  Married  Balance  \\\n",
       "0     14.891   3606      2   34         11       0        0        1      333   \n",
       "1    106.025   6645      3   82         15       1        1        1      903   \n",
       "2    104.593   7075      4   71         11       0        0        0      580   \n",
       "3    148.924   9504      3   36         11       1        0        0      964   \n",
       "4     55.882   4897      2   68         16       0        0        1      331   \n",
       "..       ...    ...    ...  ...        ...     ...      ...      ...      ...   \n",
       "395   12.096   4100      3   32         13       0        0        1      560   \n",
       "396   13.364   3838      5   65         17       0        0        0      480   \n",
       "397   57.872   4171      5   67         12       1        0        1      138   \n",
       "398   37.728   2525      1   44         13       0        0        1        0   \n",
       "399   18.701   5524      5   64          7       1        0        0      966   \n",
       "\n",
       "     African American  Asian  Caucasian  \n",
       "0                   0      0          1  \n",
       "1                   0      1          0  \n",
       "2                   0      1          0  \n",
       "3                   0      1          0  \n",
       "4                   0      0          1  \n",
       "..                ...    ...        ...  \n",
       "395                 0      0          1  \n",
       "396                 1      0          0  \n",
       "397                 0      0          1  \n",
       "398                 0      0          1  \n",
       "399                 0      1          0  \n",
       "\n",
       "[400 rows x 12 columns]"
      ]
     },
     "metadata": {},
     "output_type": "display_data"
    },
    {
     "data": {
      "text/plain": [
       "0      283\n",
       "1      483\n",
       "2      514\n",
       "3      681\n",
       "4      357\n",
       "      ... \n",
       "395    307\n",
       "396    296\n",
       "397    321\n",
       "398    192\n",
       "399    415\n",
       "Name: Rating, Length: 400, dtype: int64"
      ]
     },
     "metadata": {},
     "output_type": "display_data"
    }
   ],
   "source": [
    "credit = pd.read_csv('./data/credit_modified.csv')\n",
    "rating = credit.pop('Rating')\n",
    "credit.shape\n",
    "display(credit)\n",
    "display(rating)"
   ]
  },
  {
   "cell_type": "code",
   "execution_count": 16,
   "id": "da734cb9",
   "metadata": {},
   "outputs": [
    {
     "name": "stdout",
     "output_type": "stream",
     "text": [
      "mean --> 354.94\n",
      "std ---> 154.72414259174906\n"
     ]
    },
    {
     "data": {
      "image/png": "[encoded data removed]",
      "text/plain": [
       "<Figure size 432x288 with 1 Axes>"
      ]
     },
     "metadata": {
      "needs_background": "light"
     },
     "output_type": "display_data"
    }
   ],
   "source": [
    "plt.hist(rating, bins=50);\n",
    "print(\"mean -->\",rating.mean())\n",
    "print(\"std --->\",rating.std())"
   ]
  },
  {
   "cell_type": "markdown",
   "id": "51c10724",
   "metadata": {},
   "source": [
    "## Lasso regression in sklearn\n",
    "\n",
    "In this example we aim to predict credit rating of individual customers. To train and predict using a Lasso regression we follow much the same procedure as we have seen before in `scikit-learn`."
   ]
  },
  {
   "cell_type": "code",
   "execution_count": 18,
   "id": "bac50ac3",
   "metadata": {},
   "outputs": [],
   "source": [
    "from sklearn.linear_model import Lasso"
   ]
  },
  {
   "cell_type": "code",
   "execution_count": 19,
   "id": "b6868968",
   "metadata": {},
   "outputs": [],
   "source": [
    "X_train, X_test, y_train, y_test = train_test_split(credit, rating, random_state = 91)"
   ]
  },
  {
   "cell_type": "markdown",
   "id": "21abd5c3",
   "metadata": {},
   "source": [
    "#### Creation Lasso model --> DIFFERENT DE LINEAR & CO <--"
   ]
  },
  {
   "cell_type": "code",
   "execution_count": 22,
   "id": "eba76dfd",
   "metadata": {},
   "outputs": [
    {
     "name": "stdout",
     "output_type": "stream",
     "text": [
      "mean MSE: 148.36580248151398\n",
      "std MSE: 22.577610846122518\n"
     ]
    }
   ],
   "source": [
    "lasso = Lasso(alpha = 10)"
   ]
  },
  {
   "cell_type": "code",
   "execution_count": 24,
   "id": "fd7d5c6e",
   "metadata": {},
   "outputs": [
    {
     "name": "stdout",
     "output_type": "stream",
     "text": [
      "mean MSE: 148.36580248151398\n",
      "std MSE: 22.577610846122518\n"
     ]
    }
   ],
   "source": [
    "cv_scores = cross_val_score(lasso, X_train, y_train, cv = 5, scoring='neg_mean_squared_error')\n",
    "print('mean MSE:',np.mean(-cv_scores))\n",
    "print('std MSE:',np.std(-cv_scores))"
   ]
  },
  {
   "cell_type": "markdown",
   "id": "7c7ed3e1",
   "metadata": {},
   "source": [
    "#### Importance of the Alpha parameter"
   ]
  },
  {
   "cell_type": "code",
   "execution_count": 30,
   "id": "826e86bb",
   "metadata": {},
   "outputs": [],
   "source": [
    "alpha_list = []\n",
    "MSE_mean_list = []\n",
    "MSE_std_list = []\n",
    "\n",
    "\n",
    "for alpha in range(5,100,5):\n",
    "    lasso = Lasso(alpha = alpha)\n",
    "    cv_scores = cross_val_score(lasso, X_train, y_train, cv = 5, scoring='neg_mean_squared_error')\n",
    "    MSE_mean = np.mean(-cv_scores)\n",
    "    MSE_std = np.std(-cv_scores)\n",
    "    \n",
    "    alpha_list.append(alpha)\n",
    "    MSE_mean_list.append(MSE_mean)\n",
    "    MSE_std_list.append(MSE_std)\n"
   ]
  },
  {
   "cell_type": "code",
   "execution_count": 32,
   "id": "07572cf3",
   "metadata": {},
   "outputs": [
    {
     "data": {
      "text/plain": [
       "<matplotlib.legend.Legend at 0x7f88a1b00160>"
      ]
     },
     "execution_count": 32,
     "metadata": {},
     "output_type": "execute_result"
    },
    {
     "data": {
      "image/png": "[encoded data removed]",
      "text/plain": [
       "<Figure size 1296x648 with 1 Axes>"
      ]
     },
     "metadata": {
      "needs_background": "light"
     },
     "output_type": "display_data"
    }
   ],
   "source": [
    "fig, ax = plt.subplots(figsize=(18,9))\n",
    "fig.suptitle(\"Evolution du MSE en fonction de alpha\", fontsize=20)\n",
    "\n",
    "sns.lineplot(\n",
    "    x = alpha_list, \n",
    "    y=MSE_mean_list,\n",
    "    label=\"MSE\",\n",
    "    linestyle=\"-\",\n",
    "    marker = \"o\"\n",
    ")\n",
    "\n",
    "ax.set_xlabel(\"alpha\", fontsize=15)\n",
    "ax.set_ylabel(\"MSE\", fontsize=15)\n",
    "ax.legend(fontsize=15)"
   ]
  },
  {
   "cell_type": "code",
   "execution_count": 33,
   "id": "78dca084",
   "metadata": {},
   "outputs": [
    {
     "data": {
      "text/plain": [
       "<matplotlib.legend.Legend at 0x7f88814612b0>"
      ]
     },
     "execution_count": 33,
     "metadata": {},
     "output_type": "execute_result"
    },
    {
     "data": {
      "image/png": "[encoded data removed]",
      "text/plain": [
       "<Figure size 1296x648 with 1 Axes>"
      ]
     },
     "metadata": {
      "needs_background": "light"
     },
     "output_type": "display_data"
    }
   ],
   "source": [
    "fig, ax = plt.subplots(figsize=(18,9))\n",
    "fig.suptitle(\"Evolution du std(MSE) en fonction de alpha\", fontsize=20)\n",
    "\n",
    "sns.lineplot(\n",
    "    x = alpha_list, \n",
    "    y=MSE_std_list,\n",
    "    label=\"MSE\",\n",
    "    linestyle=\"-\",\n",
    "    marker = \"o\"\n",
    ")\n",
    "\n",
    "ax.set_xlabel(\"alpha\", fontsize=15)\n",
    "ax.set_ylabel(\"std(MSE)\", fontsize=15)\n",
    "ax.legend(fontsize=15)"
   ]
  },
  {
   "cell_type": "code",
   "execution_count": null,
   "id": "2df24436",
   "metadata": {},
   "outputs": [],
   "source": []
  },
  {
   "cell_type": "markdown",
   "id": "9177c430",
   "metadata": {},
   "source": [
    "#### Using Lasso with grid search\n",
    "\n",
    "In practice we do not want to vary hyperparameters by hand to find which value is best (the model with minimum cross validation error). Of course `scikit-learn` has a function that automates this for you. Using `GridSearchCV` we pass a dictionary of parameter values we wish to investigate. The function will fit each model we have listed and calculate the cross validation error of each. It provides all the results through the object it returns."
   ]
  },
  {
   "cell_type": "code",
   "execution_count": 34,
   "id": "2a18aa9d",
   "metadata": {},
   "outputs": [
    {
     "data": {
      "text/html": [
       "<div>\n",
       "<style scoped>\n",
       "    .dataframe tbody tr th:only-of-type {\n",
       "        vertical-align: middle;\n",
       "    }\n",
       "\n",
       "    .dataframe tbody tr th {\n",
       "        vertical-align: top;\n",
       "    }\n",
       "\n",
       "    .dataframe thead th {\n",
       "        text-align: right;\n",
       "    }\n",
       "</style>\n",
       "<table border=\"1\" class=\"dataframe\">\n",
       "  <thead>\n",
       "    <tr style=\"text-align: right;\">\n",
       "      <th></th>\n",
       "      <th>mean_fit_time</th>\n",
       "      <th>std_fit_time</th>\n",
       "      <th>mean_score_time</th>\n",
       "      <th>std_score_time</th>\n",
       "      <th>param_alpha</th>\n",
       "      <th>params</th>\n",
       "      <th>split0_test_score</th>\n",
       "      <th>split1_test_score</th>\n",
       "      <th>split2_test_score</th>\n",
       "      <th>split3_test_score</th>\n",
       "      <th>split4_test_score</th>\n",
       "      <th>split5_test_score</th>\n",
       "      <th>split6_test_score</th>\n",
       "      <th>split7_test_score</th>\n",
       "      <th>split8_test_score</th>\n",
       "      <th>split9_test_score</th>\n",
       "      <th>mean_test_score</th>\n",
       "      <th>std_test_score</th>\n",
       "      <th>rank_test_score</th>\n",
       "    </tr>\n",
       "  </thead>\n",
       "  <tbody>\n",
       "    <tr>\n",
       "      <th>0</th>\n",
       "      <td>0.002737</td>\n",
       "      <td>0.000647</td>\n",
       "      <td>0.000755</td>\n",
       "      <td>0.000177</td>\n",
       "      <td>0.001</td>\n",
       "      <td>{'alpha': 0.001}</td>\n",
       "      <td>-134.693531</td>\n",
       "      <td>-105.857049</td>\n",
       "      <td>-101.376944</td>\n",
       "      <td>-87.569097</td>\n",
       "      <td>-78.913304</td>\n",
       "      <td>-76.137420</td>\n",
       "      <td>-109.786540</td>\n",
       "      <td>-103.885686</td>\n",
       "      <td>-106.104721</td>\n",
       "      <td>-113.455931</td>\n",
       "      <td>-101.778022</td>\n",
       "      <td>16.450021</td>\n",
       "      <td>3</td>\n",
       "    </tr>\n",
       "    <tr>\n",
       "      <th>1</th>\n",
       "      <td>0.002004</td>\n",
       "      <td>0.000063</td>\n",
       "      <td>0.000574</td>\n",
       "      <td>0.000018</td>\n",
       "      <td>0.01</td>\n",
       "      <td>{'alpha': 0.01}</td>\n",
       "      <td>-134.553201</td>\n",
       "      <td>-105.948212</td>\n",
       "      <td>-101.096381</td>\n",
       "      <td>-87.881139</td>\n",
       "      <td>-78.937345</td>\n",
       "      <td>-76.585584</td>\n",
       "      <td>-109.682491</td>\n",
       "      <td>-103.106018</td>\n",
       "      <td>-106.112572</td>\n",
       "      <td>-113.688788</td>\n",
       "      <td>-101.759173</td>\n",
       "      <td>16.329243</td>\n",
       "      <td>2</td>\n",
       "    </tr>\n",
       "    <tr>\n",
       "      <th>2</th>\n",
       "      <td>0.001520</td>\n",
       "      <td>0.000150</td>\n",
       "      <td>0.000568</td>\n",
       "      <td>0.000014</td>\n",
       "      <td>0.1</td>\n",
       "      <td>{'alpha': 0.1}</td>\n",
       "      <td>-133.132694</td>\n",
       "      <td>-106.809300</td>\n",
       "      <td>-98.722275</td>\n",
       "      <td>-91.394863</td>\n",
       "      <td>-79.351692</td>\n",
       "      <td>-78.012317</td>\n",
       "      <td>-108.680986</td>\n",
       "      <td>-96.604537</td>\n",
       "      <td>-106.093953</td>\n",
       "      <td>-115.062267</td>\n",
       "      <td>-101.386489</td>\n",
       "      <td>15.688554</td>\n",
       "      <td>1</td>\n",
       "    </tr>\n",
       "    <tr>\n",
       "      <th>3</th>\n",
       "      <td>0.001295</td>\n",
       "      <td>0.000093</td>\n",
       "      <td>0.000665</td>\n",
       "      <td>0.000096</td>\n",
       "      <td>1</td>\n",
       "      <td>{'alpha': 1}</td>\n",
       "      <td>-127.851853</td>\n",
       "      <td>-111.017555</td>\n",
       "      <td>-92.827631</td>\n",
       "      <td>-106.006184</td>\n",
       "      <td>-89.048154</td>\n",
       "      <td>-82.339570</td>\n",
       "      <td>-105.158164</td>\n",
       "      <td>-94.934777</td>\n",
       "      <td>-102.310102</td>\n",
       "      <td>-122.139519</td>\n",
       "      <td>-103.363351</td>\n",
       "      <td>13.605513</td>\n",
       "      <td>4</td>\n",
       "    </tr>\n",
       "    <tr>\n",
       "      <th>4</th>\n",
       "      <td>0.001142</td>\n",
       "      <td>0.000070</td>\n",
       "      <td>0.000581</td>\n",
       "      <td>0.000029</td>\n",
       "      <td>3</td>\n",
       "      <td>{'alpha': 3}</td>\n",
       "      <td>-132.499698</td>\n",
       "      <td>-117.173048</td>\n",
       "      <td>-106.238114</td>\n",
       "      <td>-112.301661</td>\n",
       "      <td>-94.847286</td>\n",
       "      <td>-76.537019</td>\n",
       "      <td>-102.509314</td>\n",
       "      <td>-98.851062</td>\n",
       "      <td>-105.902336</td>\n",
       "      <td>-131.338637</td>\n",
       "      <td>-107.819817</td>\n",
       "      <td>15.910751</td>\n",
       "      <td>5</td>\n",
       "    </tr>\n",
       "  </tbody>\n",
       "</table>\n",
       "</div>"
      ],
      "text/plain": [
       "   mean_fit_time  std_fit_time  mean_score_time  std_score_time param_alpha  \\\n",
       "0       0.002737      0.000647         0.000755        0.000177       0.001   \n",
       "1       0.002004      0.000063         0.000574        0.000018        0.01   \n",
       "2       0.001520      0.000150         0.000568        0.000014         0.1   \n",
       "3       0.001295      0.000093         0.000665        0.000096           1   \n",
       "4       0.001142      0.000070         0.000581        0.000029           3   \n",
       "\n",
       "             params  split0_test_score  split1_test_score  split2_test_score  \\\n",
       "0  {'alpha': 0.001}        -134.693531        -105.857049        -101.376944   \n",
       "1   {'alpha': 0.01}        -134.553201        -105.948212        -101.096381   \n",
       "2    {'alpha': 0.1}        -133.132694        -106.809300         -98.722275   \n",
       "3      {'alpha': 1}        -127.851853        -111.017555         -92.827631   \n",
       "4      {'alpha': 3}        -132.499698        -117.173048        -106.238114   \n",
       "\n",
       "   split3_test_score  split4_test_score  split5_test_score  split6_test_score  \\\n",
       "0         -87.569097         -78.913304         -76.137420        -109.786540   \n",
       "1         -87.881139         -78.937345         -76.585584        -109.682491   \n",
       "2         -91.394863         -79.351692         -78.012317        -108.680986   \n",
       "3        -106.006184         -89.048154         -82.339570        -105.158164   \n",
       "4        -112.301661         -94.847286         -76.537019        -102.509314   \n",
       "\n",
       "   split7_test_score  split8_test_score  split9_test_score  mean_test_score  \\\n",
       "0        -103.885686        -106.104721        -113.455931      -101.778022   \n",
       "1        -103.106018        -106.112572        -113.688788      -101.759173   \n",
       "2         -96.604537        -106.093953        -115.062267      -101.386489   \n",
       "3         -94.934777        -102.310102        -122.139519      -103.363351   \n",
       "4         -98.851062        -105.902336        -131.338637      -107.819817   \n",
       "\n",
       "   std_test_score  rank_test_score  \n",
       "0       16.450021                3  \n",
       "1       16.329243                2  \n",
       "2       15.688554                1  \n",
       "3       13.605513                4  \n",
       "4       15.910751                5  "
      ]
     },
     "execution_count": 34,
     "metadata": {},
     "output_type": "execute_result"
    }
   ],
   "source": [
    "from sklearn.model_selection import GridSearchCV\n",
    "lasso = Lasso(max_iter=10000)\n",
    "\n",
    "param_grid = [\n",
    " {'alpha': [0.001, 0.01, 0.1, 1, 3, 10, 100, 1000]}\n",
    " ]\n",
    "\n",
    "grid_search = GridSearchCV(lasso, param_grid, cv=10, scoring='neg_mean_squared_error')\n",
    "grid_search.fit(X_train, y_train)\n",
    "\n",
    "grid_results = pd.DataFrame(grid_search.cv_results_)\n",
    "\n",
    "grid_results.head()"
   ]
  },
  {
   "cell_type": "markdown",
   "id": "61d5d159",
   "metadata": {},
   "source": [
    "#### Best model"
   ]
  },
  {
   "cell_type": "code",
   "execution_count": 36,
   "id": "569cbce2",
   "metadata": {},
   "outputs": [
    {
     "data": {
      "text/plain": [
       "Lasso(alpha=0.1, max_iter=10000)"
      ]
     },
     "execution_count": 36,
     "metadata": {},
     "output_type": "execute_result"
    }
   ],
   "source": [
    "grid_search.best_estimator_"
   ]
  },
  {
   "cell_type": "code",
   "execution_count": 39,
   "id": "04501ee0",
   "metadata": {},
   "outputs": [
    {
     "data": {
      "text/plain": [
       "{'mean_fit_time': array([0.0027374 , 0.00200374, 0.00151954, 0.00129488, 0.00114248,\n",
       "        0.00103285, 0.00091951, 0.00088265]),\n",
       " 'std_fit_time': array([6.46695005e-04, 6.25208845e-05, 1.49532103e-04, 9.26754485e-05,\n",
       "        6.95462909e-05, 1.82253656e-05, 4.10613279e-06, 3.51447101e-06]),\n",
       " 'mean_score_time': array([0.00075459, 0.00057397, 0.00056751, 0.00066547, 0.00058095,\n",
       "        0.0005605 , 0.00055754, 0.00055914]),\n",
       " 'std_score_time': array([1.77251154e-04, 1.78065961e-05, 1.38508883e-05, 9.58095554e-05,\n",
       "        2.92789373e-05, 3.68963825e-06, 3.58144070e-06, 5.96408734e-06]),\n",
       " 'param_alpha': masked_array(data=[0.001, 0.01, 0.1, 1, 3, 10, 100, 1000],\n",
       "              mask=[False, False, False, False, False, False, False, False],\n",
       "        fill_value='?',\n",
       "             dtype=object),\n",
       " 'params': [{'alpha': 0.001},\n",
       "  {'alpha': 0.01},\n",
       "  {'alpha': 0.1},\n",
       "  {'alpha': 1},\n",
       "  {'alpha': 3},\n",
       "  {'alpha': 10},\n",
       "  {'alpha': 100},\n",
       "  {'alpha': 1000}],\n",
       " 'split0_test_score': array([-134.69353139, -134.55320087, -133.13269444, -127.85185258,\n",
       "        -132.49969831, -182.68101612, -188.38086565, -188.58776655]),\n",
       " 'split1_test_score': array([-105.85704926, -105.94821209, -106.80929963, -111.01755459,\n",
       "        -117.17304813, -155.36156804, -143.7443333 , -146.51716214]),\n",
       " 'split2_test_score': array([-101.37694416, -101.09638068,  -98.72227516,  -92.82763132,\n",
       "        -106.23811394, -179.8846438 , -184.07834129, -180.48337485]),\n",
       " 'split3_test_score': array([ -87.56909709,  -87.88113873,  -91.39486257, -106.00618425,\n",
       "        -112.30166105, -148.84209024, -145.49158269, -143.25720221]),\n",
       " 'split4_test_score': array([ -78.91330449,  -78.93734475,  -79.35169233,  -89.04815374,\n",
       "         -94.84728641, -141.84189568, -157.30101366, -158.50438773]),\n",
       " 'split5_test_score': array([ -76.13742005,  -76.58558403,  -78.01231734,  -82.33957037,\n",
       "         -76.53701867,  -86.3518588 , -103.11206359, -103.01720306]),\n",
       " 'split6_test_score': array([-109.78654004, -109.68249081, -108.68098644, -105.15816367,\n",
       "        -102.50931375, -129.71848356, -146.95776586, -150.12724629]),\n",
       " 'split7_test_score': array([-103.88568582, -103.10601753,  -96.60453746,  -94.93477688,\n",
       "         -98.85106151, -131.17634004, -126.231725  , -121.91688537]),\n",
       " 'split8_test_score': array([-106.10472133, -106.11257184, -106.09395283, -102.31010161,\n",
       "        -105.90233603, -143.63152143, -143.00602894, -144.91286948]),\n",
       " 'split9_test_score': array([-113.45593131, -113.6887882 , -115.06226744, -122.13951899,\n",
       "        -131.33863658, -181.2719029 , -181.5435985 , -185.80513593]),\n",
       " 'mean_test_score': array([-101.77802249, -101.75917295, -101.38648856, -103.3633508 ,\n",
       "        -107.81981744, -148.07613206, -151.98473185, -152.31292336]),\n",
       " 'std_test_score': array([16.450021  , 16.32924255, 15.68855353, 13.60551269, 15.91075056,\n",
       "        28.02858415, 25.54285709, 26.0741696 ]),\n",
       " 'rank_test_score': array([3, 2, 1, 4, 5, 6, 7, 8], dtype=int32)}"
      ]
     },
     "execution_count": 39,
     "metadata": {},
     "output_type": "execute_result"
    }
   ],
   "source": [
    "grid_search.best_index_\n",
    "grid_search.cv_results_"
   ]
  },
  {
   "cell_type": "code",
   "execution_count": 38,
   "id": "d5a6b553",
   "metadata": {},
   "outputs": [
    {
     "ename": "SyntaxError",
     "evalue": "invalid syntax (726937909.py, line 1)",
     "output_type": "error",
     "traceback": [
      "\u001b[0;36m  File \u001b[0;32m\"/var/folders/vs/63szyqqn4dq91nzk275599p40000gn/T/ipykernel_92736/726937909.py\"\u001b[0;36m, line \u001b[0;32m1\u001b[0m\n\u001b[0;31m    best_index_ given cv_results_. In that case, the best_estimator_ and best_params_ will be set according to the returned best_index_ while the best_score_ attribute will not be available.\u001b[0m\n\u001b[0m                ^\u001b[0m\n\u001b[0;31mSyntaxError\u001b[0m\u001b[0;31m:\u001b[0m invalid syntax\n"
     ]
    }
   ],
   "source": []
  },
  {
   "cell_type": "code",
   "execution_count": null,
   "id": "21babb98",
   "metadata": {},
   "outputs": [],
   "source": []
  }
 ],
 "metadata": {
  "kernelspec": {
   "display_name": "Python 3 (ipykernel)",
   "language": "python",
   "name": "python3"
  },
  "language_info": {
   "codemirror_mode": {
    "name": "ipython",
    "version": 3
   },
   "file_extension": ".py",
   "mimetype": "text/x-python",
   "name": "python",
   "nbconvert_exporter": "python",
   "pygments_lexer": "ipython3",
   "version": "3.9.7"
  }
 },
 "nbformat": 4,
 "nbformat_minor": 5
}

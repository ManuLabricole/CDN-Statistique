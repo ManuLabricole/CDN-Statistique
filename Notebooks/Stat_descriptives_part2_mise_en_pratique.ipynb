{
 "cells": [
  {
   "cell_type": "markdown",
   "metadata": {},
   "source": [
    "<font color='mediumblue'> **Projet : Consommation et production électrique en France** </font>"
   ]
  },
  {
   "cell_type": "markdown",
   "metadata": {},
   "source": [
    "**Objectifs**\n",
    "\n",
    "1. Manipulation de données avec pandas\n",
    "    - Création des dataframes à partir des fichiers RTE\n",
    "        - Dossier data_rte : données issues du site RTE (2012>2020) => données sur lesquelles ce notebook s'appuie\n",
    "    - Exploration des données contenues dans ces dataframes   \n",
    "    \n",
    "2. Etude des relations entre variables\n",
    "\n"
   ]
  },
  {
   "cell_type": "markdown",
   "metadata": {},
   "source": [
    "**Conseils généraux:**\n",
    "- Afficher les premières lignes de la variable que vous êtes en train d'étudier peut vous aider à comprendre bien des problèmes (méthode **head** de pandas)\n",
    "- De même la méthode **describe** de pandas est très précieuse pour repérer la présence de NaN, d'outliers, repérer les types de chaque variable etc. \n",
    "- Lorsque c'est nécessaire (selon ce que vous cherchez) penser à normaliser/standardiser les données\n",
    "- C'est une analyse exploratoire : **tatonnez**, **faites des graphiques**, ... \n",
    "- N'hésitez pas à **consulter l'aide de Pandas** ou à chercher la réponse à vos questions sur internet (quasiment tous les bugs que vous observerez on déjà fait l'objet d'un post sur **stackoverflow**)"
   ]
  },
  {
   "cell_type": "markdown",
   "metadata": {
    "extensions": {
     "jupyter_dashboards": {
      "version": 1,
      "views": {
       "grid_default": {
        "col": 4,
        "height": 4,
        "hidden": false,
        "row": 0,
        "width": 4
       },
       "report_default": {
        "hidden": false
       }
      }
     }
    }
   },
   "source": [
    "# Exploration des données"
   ]
  },
  {
   "cell_type": "markdown",
   "metadata": {},
   "source": [
    "L'exploration des données présente différents intérêts :\n",
    "- On comprend mieux nos données\n",
    "- On voit déjà des premières tendances\n",
    "- Elle nous donne des pistes à explorer pour la suite\n",
    "- ...\n",
    "\n",
    "Notre objectif : explorer au maximum les données pour en tirer de l'information"
   ]
  },
  {
   "cell_type": "markdown",
   "metadata": {},
   "source": [
    "**L'importance de l'exploration des données**\n",
    "\n",
    "La première étape de chargement, exploration et nettoyage de données peut être chronophage lorsqu'on traite des sets de données \"réels\"...  <br/> \n",
    "Cela fait partie du travail de data scientist, il faut s'y faire :-)\n",
    "\n",
    "----------------------------------------\n",
    "<font color=#66b3ff> \n",
    "    \n",
    "<small> <i> \n",
    "\n",
    "It takes less than five lines of code to train a basic machine learning algorithm. Exploratory data analysis and data preparation in comparison take longer and comprise of 80% of the data scientist’s time.  <br/> \n",
    "https://towardsdatascience.com/build-the-story-around-data-using-exploratory-data-analysis-and-pandas-c85bf3beff87\n",
    "\n",
    "----------------------------------------   \n",
    "    \n",
    "When I started learning machine learning and data science, much of it (all of it) was through online courses. I used them to create my own AI Masters Degree. All of them provided excellent curriculum along with excellent datasets. <br/> \n",
    "The datasets were excellent because they were ready to be used with machine learning algorithms right out of the box. <br/> \n",
    "You’d download the data, choose your algorithm, call the .fit() function, pass it the data and all of a sudden the loss value would start going down and you’d be left with an accuracy metric. Magic. <br/> \n",
    "This was how the majority of my learning went. Then I got a job as a machine learning engineer. I thought, finally, I can apply what I’ve been learning to real-world problems. <br/> \n",
    "Roadblock. <br/> \n",
    "The client sent us the data. I looked at it. WTF was this? <br/> \n",
    "Words, time stamps, more words, rows with missing data, columns, lots of columns. Where were the numbers? <br/> \n",
    "‘How do I deal with this data?’ I asked Athon. <br/> \n",
    "‘You’ll have to do some feature engineering and encode the categorical variables,’ he said, ‘I’ll Slack you a link.’ <br/> \n",
    "I went to my digital mentor. Google. ‘What is feature engineering?’ <br/> \n",
    "Google again. ‘What are categorical variables?’ <br/> \n",
    "Athon sent the link. I opened it. <br/> \n",
    "There it was. The next bridge I had to cross. Exploratory Data Analysis. <br/> \n",
    "You do exploratory data analysis to learn more about the data before you ever run a machine learning model. <br/> \n",
    "You create your own mental model of the data so when you run a machine learning model to make predictions, you’ll be able to recognise whether they’re BS or not.  <br/>\n",
    "https://towardsdatascience.com/a-gentle-introduction-to-exploratory-data-analysis-f11d843b8184\n",
    "\n",
    "</i> </small> </font> "
   ]
  },
  {
   "cell_type": "markdown",
   "metadata": {},
   "source": [
    "<font color='mediumblue'> **An EDA checklist**</font> \n",
    "\n",
    "1. Quelle(s) question(s) essayez-vous de résoudre/de prouver que vous avez tort ?\n",
    "2. De quel type de données disposez-vous et comment traitez-vous les différents types ?\n",
    "3. Qu'est-ce qui manque dans les données et comment y faire face ?\n",
    "4. Où sont les valeurs aberrantes et pourquoi devriez-vous vous en soucier ?\n",
    "5. Comment pouvez-vous ajouter, modifier ou supprimer des fonctionnalités pour tirer le meilleur parti de vos données ?\n",
    "        \n",
    "https://towardsdatascience.com/a-gentle-introduction-to-exploratory-data-analysis-f11d843b8184"
   ]
  },
  {
   "cell_type": "markdown",
   "metadata": {},
   "source": [
    "**Objectifs**\n",
    "    \n",
    "1. Charger et nettoyer des données : read_csv, parse date, concat\n",
    "2. Manipuler les données pour mieux les comprendre : groupby, pivot, stack/unstack"
   ]
  },
  {
   "cell_type": "markdown",
   "metadata": {},
   "source": [
    "## Création des dataframes\n",
    "**TODO**\n",
    "        \n",
    "1. Créer deux dataframes:\n",
    "    - le 1er en concaténant les données nationales annuelles \n",
    "    - le 2nd en concaténant les données régionales annuelles\n",
    "    - il faudra construire un index de datetime à partir des colonnes 'Date' et 'Heures'"
   ]
  },
  {
   "cell_type": "markdown",
   "metadata": {},
   "source": [
    "**Aide**\n",
    "- bien lire la note sur les données RTE afin de comprendre sur quelles données on travaille ...\n",
    "- la méthode read_csv (pandas) peut lire les fichiers zip ;-) (encoding: latin-1, séparateur de colonnes: \\t)\n",
    "- un tips pour détecter l'encoding: https://superuser.com/questions/301552/how-to-auto-detect-text-file-encoding\n",
    "- la méthode listdir (os) peut vous aider à lister tous les fichiers d'un dossier, startswith à sélectionner ceux qui vous intéressent\n",
    "- pensez à \"droper\" les colonnes qui ne contiennent pas d'information\n",
    "- pour le dataframe des données régionales, vous pouvez utiliser un multiindex\n",
    "- certaines colonnes sont vides ? https://pandas.pydata.org/pandas-docs/stable/reference/api/pandas.DataFrame.dropna.html"
   ]
  },
  {
   "cell_type": "markdown",
   "metadata": {},
   "source": [
    "**Notes sur les données RTE** \n",
    "- Elles proviennent du (génial) site éCO2mix et sont disponibles pour tout le monde (opendata)\n",
    "- Leur format n'est pas optimal : un peu de manipulation est nécessaire afin de pouvoir les exploiter. Pas de panique, il faut juste procéder par étape !\n",
    "    1. Chargez un des fichiers directement avec read_csv (n'importe lequel, ils sont tous construits de la même façon)\n",
    "    2. Affichez le dataframe obtenu, et essayez de comprendre ce qui cloche ...\n",
    "    3. Les quelques lignes de code suivante permettent d'afficher la 1ere et la 10ème ligne contenues dans un fichier. Est-ce que le problème apparait plus clairement ? (pensez à modifier le chemin d'accès...)\n",
    "    4. Ecrivez une fonction qui permet de charger correctement un des fichiers\n",
    "    5. Vous pouvez maintenant utiliser cette fonction pour créer votre dataframe en concaténant les fichiers"
   ]
  },
  {
   "cell_type": "markdown",
   "metadata": {},
   "source": [
    "**Plus d'informations sur les données :** <br/> \n",
    "- https://www.rte-france.com/eco2mix <br/>\n",
    "- https://www.rte-france.com/eco2mix/telecharger-les-indicateurs"
   ]
  },
  {
   "cell_type": "markdown",
   "metadata": {},
   "source": [
    "Les données que nous allons traiter sont sous un format nouveau, il peut s'avérer difficile de les importer pour vous : fixez vous un objectif à ne pas passer plus de 2h à les importer. Si vous dépassez ce temps, je vous conseille de vous référer aux codes cachés que je vous transmets ci-dessous et de vous replonger dedans plus tard afin que vous ayez le temps d'explorer les données."
   ]
  },
  {
   "cell_type": "markdown",
   "metadata": {},
   "source": [
    "<details><summary>Code import données nationales</summary><br>\n",
    "def create_datetime_index(df):<br/>\n",
    "    df['DateTime'] = pd.to_datetime(df['Date'].map(str) + ' ' + df['Heures'].map(str))<br/>\n",
    "    df.drop(['Date', 'Heures'], axis=1, inplace=True)<br/>\n",
    "    df.set_index('DateTime', inplace=True)<br/>\n",
    "    return <br/>\n",
    "\n",
    "def read_rte_file(file_name):<br/>\n",
    "    df = pd.read_csv(file_name, encoding='ISO-8859-1', sep='\\t', index_col=None, header=None, skiprows=1, na_values='ND')<br/>\n",
    "    df.drop(df.columns[-1], axis=1, inplace=True)<br/>\n",
    "    df_titles = pd.read_csv(file_name, encoding='ISO-8859-1', sep='\\t', index_col=None, nrows=0)<br/>\n",
    "    df.columns = df_titles.columns<br/>\n",
    "    return df<br/>\n",
    "\n",
    "DATA_FILE = 'data/data_rte/'<br/>\n",
    "\n",
    "files = [f for f in listdir(DATA_FILE) if f.startswith('eCO2mix_RTE_Annuel-Definitif')]<br/>\n",
    "\n",
    "df_all = []<br/>\n",
    "\n",
    "for f in files:<br/>\n",
    "    df = read_rte_file(DATA_FILE+f)<br/>\n",
    "    df_all.append(df)<br/>\n",
    "df_all = pd.concat(df_all)<br/>\n",
    "df_all = df_all[(\\~df_all['Date'].isna())&(~df_all['Heures'].isna())]<br/>\n",
    "create_datetime_index(df_all)<br/>\n",
    "df_all.describe()<br/>\n",
    "</details>"
   ]
  },
  {
   "cell_type": "markdown",
   "metadata": {},
   "source": [
    "**Note : In a loop it is not a good idea to concat the dataframe at each step, because it will sort each dataframe and this will takes a lot of time. A better solution is to create a list of dataframes and concat at the end of the loop (as is done here).**"
   ]
  },
  {
   "cell_type": "code",
   "execution_count": null,
   "metadata": {},
   "outputs": [],
   "source": []
  },
  {
   "cell_type": "markdown",
   "metadata": {},
   "source": [
    "<details><summary>Code import données régionales</summary><br>\n",
    "files = [f for f in listdir(DATA_FILE) if not f.startswith('eCO2mix_RTE_Annuel-Definitif')]<br/>\n",
    "\n",
    "list_reg = set([f[len('eCO2mix_RTE_'):-len('_Annuel-Definitif_2013.zip')] for f in files])<br/>\n",
    "\n",
    "df_all_reg = {}<br/>\n",
    "\n",
    "for reg in list_reg:<br/>\n",
    "    df_reg = []<br/>\n",
    "    for f in files :<br/>\n",
    "        if reg in f :<br/>\n",
    "            df = read_rte_file(DATA_FILE+f)<br/>\n",
    "            df.drop(len(df)-1, inplace=True)<br/>\n",
    "            create_datetime_index(df)<br/>\n",
    "            df_reg.append(df)<br/>\n",
    "    df_reg = pd.concat(df_reg)<br/>\n",
    "    df_reg.drop(['Périmètre', 'Nature'], axis=1, inplace=True)<br/>\n",
    "    df_reg.dropna(how='all', inplace=True)<br/>\n",
    "    df_all_reg[reg] =df_reg<br/>\n",
    "df_all_reg = pd.concat(df_all_reg, axis=1)<br/>\n",
    "</details>"
   ]
  },
  {
   "cell_type": "markdown",
   "metadata": {},
   "source": [
    "### Start importation"
   ]
  },
  {
   "cell_type": "code",
   "execution_count": 1,
   "metadata": {},
   "outputs": [],
   "source": [
    "import pandas as pd\n",
    "import chardet\n",
    "import xlrd\n",
    "import os\n",
    "import zipfile\n",
    "from os import listdir\n",
    "from matplotlib import rcParams\n",
    "import matplotlib.pyplot as plt\n",
    "import seaborn as sns\n",
    "#rcParams['figure.figsize'] = 15, 3"
   ]
  },
  {
   "cell_type": "markdown",
   "metadata": {},
   "source": [
    " -----------------------------------------------------------------------------"
   ]
  },
  {
   "cell_type": "code",
   "execution_count": 2,
   "metadata": {},
   "outputs": [
    {
     "data": {
      "text/plain": [
       "'/home/emmanuel.barriol@Digital-Grenoble.local/Documents/statistique/1 - Statistiques exploratoires/Notebooks'"
      ]
     },
     "execution_count": 2,
     "metadata": {},
     "output_type": "execute_result"
    }
   ],
   "source": [
    "run = 0\n",
    "if run == 0:\n",
    "    mainPath = os.getcwd()\n",
    "    run += 1\n",
    "mainPath"
   ]
  },
  {
   "cell_type": "code",
   "execution_count": 3,
   "metadata": {},
   "outputs": [],
   "source": [
    "def get_data_dir():\n",
    "    os.chdir(mainPath)\n",
    "    # Go one level Up\n",
    "    tempPath = os.path.dirname(mainPath)\n",
    "    tempPath = os.path.join(tempPath, 'data/')\n",
    "    os.chdir(tempPath)\n",
    "    return tempPath\n",
    "dataPath = get_data_dir()"
   ]
  },
  {
   "cell_type": "code",
   "execution_count": 4,
   "metadata": {},
   "outputs": [],
   "source": [
    "def extract_file(path, targetDir):\n",
    "    os.chdir(path)\n",
    "    with zipfile.ZipFile('data_rte.zip', 'r') as zip_ref:\n",
    "        print(f\"Main Zip contain {len(zip_ref.namelist())} .zip files to open\")\n",
    "        \n",
    "        zip_ref.extractall(targetDir)\n",
    "        newPath = os.path.join(path, targetDir + '/data_rte')\n",
    "        os.chdir(newPath)\n",
    "        return newPath"
   ]
  },
  {
   "cell_type": "code",
   "execution_count": 5,
   "metadata": {},
   "outputs": [],
   "source": [
    "def get_list_of_df_from_zip(path):\n",
    "    os.chdir(path)\n",
    "    newPath = extract_file(path, \"rawData\")\n",
    "    files = os.listdir(newPath)\n",
    "    \n",
    "    dfListNational = []\n",
    "    dfListRegional = []\n",
    "    i = 0\n",
    "    \n",
    "    print(\"oui\")\n",
    "    for file in files:\n",
    "        print(\"----------------------------------------------------------------------\")\n",
    "        extensionTemp = os.path.splitext(file)[1]\n",
    "        with zipfile.ZipFile(file, 'r') as tempZipFile:\n",
    "            fileName = tempZipFile.namelist()\n",
    "            print(fileName[0])\n",
    "            with zipfile.ZipFile(file, 'r').open(fileName[0], 'r') as f:\n",
    "                i+=1\n",
    "                \n",
    "                if \"2019\" in fileName[0] or \"2020\" in fileName[0]:\n",
    "                    pass\n",
    "                    print(\"DATAFRAME IGNORED --> 2029 ou 2020 wrong columns\")\n",
    "                    \n",
    "                else:\n",
    "                    pass\n",
    "                    dfTemp = pd.read_csv(f, encoding='ISO-8859-1', error_bad_lines=False,sep='\\t', index_col=False)\n",
    "                    #\n",
    "                    if \"RTE_Annuel\" in fileName[0]:\n",
    "                        dfListNational.append(dfTemp)\n",
    "                        print(\"--> ANNUAL\")\n",
    "                    else:\n",
    "                        print(\"--> REGIONAL\")\n",
    "                        dfListRegional.append(dfTemp)\n",
    "                \n",
    "                print(f\"{i} / {len(files)} treated\")\n",
    "                    \n",
    "    os.chdir(mainPath)\n",
    "    return dfListNational, dfListRegional"
   ]
  },
  {
   "cell_type": "code",
   "execution_count": 6,
   "metadata": {
    "scrolled": true
   },
   "outputs": [
    {
     "name": "stdout",
     "output_type": "stream",
     "text": [
      "Main Zip contain 105 .zip files to open\n",
      "oui\n",
      "----------------------------------------------------------------------\n",
      "eCO2mix_RTE_Occitanie_Annuel-Definitif_2019.xls\n",
      "DATAFRAME IGNORED --> 2029 ou 2020 wrong columns\n",
      "1 / 105 treated\n",
      "----------------------------------------------------------------------\n",
      "eCO2mix_RTE_Occitanie_Annuel-Definitif_2015.xls\n",
      "--> REGIONAL\n",
      "2 / 105 treated\n",
      "----------------------------------------------------------------------\n",
      "eCO2mix_RTE_Pays-de-la-Loire_Annuel-Definitif_2013.xls\n"
     ]
    },
    {
     "name": "stderr",
     "output_type": "stream",
     "text": [
      "/tmp/ipykernel_13043/2370632081.py:26: FutureWarning: The error_bad_lines argument has been deprecated and will be removed in a future version. Use on_bad_lines in the future.\n",
      "\n",
      "\n",
      "  dfTemp = pd.read_csv(f, encoding='ISO-8859-1', error_bad_lines=False,sep='\\t', index_col=False)\n",
      "/tmp/ipykernel_13043/2370632081.py:26: FutureWarning: The error_bad_lines argument has been deprecated and will be removed in a future version. Use on_bad_lines in the future.\n",
      "\n",
      "\n",
      "  dfTemp = pd.read_csv(f, encoding='ISO-8859-1', error_bad_lines=False,sep='\\t', index_col=False)\n",
      "/tmp/ipykernel_13043/2370632081.py:26: FutureWarning: The error_bad_lines argument has been deprecated and will be removed in a future version. Use on_bad_lines in the future.\n",
      "\n",
      "\n",
      "  dfTemp = pd.read_csv(f, encoding='ISO-8859-1', error_bad_lines=False,sep='\\t', index_col=False)\n",
      "/tmp/ipykernel_13043/2370632081.py:26: FutureWarning: The error_bad_lines argument has been deprecated and will be removed in a future version. Use on_bad_lines in the future.\n",
      "\n",
      "\n",
      "  dfTemp = pd.read_csv(f, encoding='ISO-8859-1', error_bad_lines=False,sep='\\t', index_col=False)\n"
     ]
    },
    {
     "name": "stdout",
     "output_type": "stream",
     "text": [
      "--> REGIONAL\n",
      "3 / 105 treated\n",
      "----------------------------------------------------------------------\n",
      "eCO2mix_RTE_Normandie_Annuel-Definitif_2018.xls\n",
      "--> REGIONAL\n",
      "4 / 105 treated\n",
      "----------------------------------------------------------------------\n",
      "eCO2mix_RTE_Auvergne-Rhône-Alpes_Annuel-Definitif_2014.xls\n",
      "--> REGIONAL\n",
      "5 / 105 treated\n",
      "----------------------------------------------------------------------\n",
      "eCO2mix_RTE_Annuel-Definitif_2013.xls\n"
     ]
    },
    {
     "name": "stderr",
     "output_type": "stream",
     "text": [
      "/tmp/ipykernel_13043/2370632081.py:26: FutureWarning: The error_bad_lines argument has been deprecated and will be removed in a future version. Use on_bad_lines in the future.\n",
      "\n",
      "\n",
      "  dfTemp = pd.read_csv(f, encoding='ISO-8859-1', error_bad_lines=False,sep='\\t', index_col=False)\n",
      "/tmp/ipykernel_13043/2370632081.py:26: DtypeWarning: Columns (18,19,20,21,22,23,24,25,26,27,28,29,30,31,32,33,34,35) have mixed types. Specify dtype option on import or set low_memory=False.\n",
      "  dfTemp = pd.read_csv(f, encoding='ISO-8859-1', error_bad_lines=False,sep='\\t', index_col=False)\n",
      "/tmp/ipykernel_13043/2370632081.py:26: FutureWarning: The error_bad_lines argument has been deprecated and will be removed in a future version. Use on_bad_lines in the future.\n",
      "\n",
      "\n",
      "  dfTemp = pd.read_csv(f, encoding='ISO-8859-1', error_bad_lines=False,sep='\\t', index_col=False)\n",
      "/tmp/ipykernel_13043/2370632081.py:26: FutureWarning: The error_bad_lines argument has been deprecated and will be removed in a future version. Use on_bad_lines in the future.\n",
      "\n",
      "\n",
      "  dfTemp = pd.read_csv(f, encoding='ISO-8859-1', error_bad_lines=False,sep='\\t', index_col=False)\n"
     ]
    },
    {
     "name": "stdout",
     "output_type": "stream",
     "text": [
      "--> ANNUAL\n",
      "6 / 105 treated\n",
      "----------------------------------------------------------------------\n",
      "eCO2mix_RTE_Bretagne_Annuel-Definitif_2017.xls\n",
      "--> REGIONAL\n",
      "7 / 105 treated\n",
      "----------------------------------------------------------------------\n",
      "eCO2mix_RTE_Ile-de-France_Annuel-Definitif_2017.xls\n",
      "--> REGIONAL\n",
      "8 / 105 treated\n",
      "----------------------------------------------------------------------\n",
      "eCO2mix_RTE_Bretagne_Annuel-Definitif_2018.xls\n",
      "--> REGIONAL\n",
      "9 / 105 treated\n",
      "----------------------------------------------------------------------\n",
      "eCO2mix_RTE_Annuel-Definitif_2020.xls\n",
      "DATAFRAME IGNORED --> 2029 ou 2020 wrong columns\n",
      "10 / 105 treated\n",
      "----------------------------------------------------------------------\n",
      "eCO2mix_RTE_Grand-Est_Annuel-Definitif_2019.xls\n",
      "DATAFRAME IGNORED --> 2029 ou 2020 wrong columns\n",
      "11 / 105 treated\n",
      "----------------------------------------------------------------------\n",
      "eCO2mix_RTE_Bretagne_Annuel-Definitif_2015.xls\n"
     ]
    },
    {
     "name": "stderr",
     "output_type": "stream",
     "text": [
      "/tmp/ipykernel_13043/2370632081.py:26: FutureWarning: The error_bad_lines argument has been deprecated and will be removed in a future version. Use on_bad_lines in the future.\n",
      "\n",
      "\n",
      "  dfTemp = pd.read_csv(f, encoding='ISO-8859-1', error_bad_lines=False,sep='\\t', index_col=False)\n",
      "/tmp/ipykernel_13043/2370632081.py:26: FutureWarning: The error_bad_lines argument has been deprecated and will be removed in a future version. Use on_bad_lines in the future.\n",
      "\n",
      "\n",
      "  dfTemp = pd.read_csv(f, encoding='ISO-8859-1', error_bad_lines=False,sep='\\t', index_col=False)\n",
      "/tmp/ipykernel_13043/2370632081.py:26: FutureWarning: The error_bad_lines argument has been deprecated and will be removed in a future version. Use on_bad_lines in the future.\n",
      "\n",
      "\n",
      "  dfTemp = pd.read_csv(f, encoding='ISO-8859-1', error_bad_lines=False,sep='\\t', index_col=False)\n",
      "/tmp/ipykernel_13043/2370632081.py:26: FutureWarning: The error_bad_lines argument has been deprecated and will be removed in a future version. Use on_bad_lines in the future.\n",
      "\n",
      "\n",
      "  dfTemp = pd.read_csv(f, encoding='ISO-8859-1', error_bad_lines=False,sep='\\t', index_col=False)\n"
     ]
    },
    {
     "name": "stdout",
     "output_type": "stream",
     "text": [
      "--> REGIONAL\n",
      "12 / 105 treated\n",
      "----------------------------------------------------------------------\n",
      "eCO2mix_RTE_Ile-de-France_Annuel-Definitif_2016.xls\n",
      "--> REGIONAL\n",
      "13 / 105 treated\n",
      "----------------------------------------------------------------------\n",
      "eCO2mix_RTE_Nouvelle-Aquitaine_Annuel-Definitif_2016.xls\n",
      "--> REGIONAL\n",
      "14 / 105 treated\n",
      "----------------------------------------------------------------------\n",
      "eCO2mix_RTE_Annuel-Definitif_2014.xls\n"
     ]
    },
    {
     "name": "stderr",
     "output_type": "stream",
     "text": [
      "/tmp/ipykernel_13043/2370632081.py:26: FutureWarning: The error_bad_lines argument has been deprecated and will be removed in a future version. Use on_bad_lines in the future.\n",
      "\n",
      "\n",
      "  dfTemp = pd.read_csv(f, encoding='ISO-8859-1', error_bad_lines=False,sep='\\t', index_col=False)\n",
      "/tmp/ipykernel_13043/2370632081.py:26: DtypeWarning: Columns (18,19,20,21,22) have mixed types. Specify dtype option on import or set low_memory=False.\n",
      "  dfTemp = pd.read_csv(f, encoding='ISO-8859-1', error_bad_lines=False,sep='\\t', index_col=False)\n",
      "/tmp/ipykernel_13043/2370632081.py:26: FutureWarning: The error_bad_lines argument has been deprecated and will be removed in a future version. Use on_bad_lines in the future.\n",
      "\n",
      "\n",
      "  dfTemp = pd.read_csv(f, encoding='ISO-8859-1', error_bad_lines=False,sep='\\t', index_col=False)\n",
      "/tmp/ipykernel_13043/2370632081.py:26: FutureWarning: The error_bad_lines argument has been deprecated and will be removed in a future version. Use on_bad_lines in the future.\n",
      "\n",
      "\n",
      "  dfTemp = pd.read_csv(f, encoding='ISO-8859-1', error_bad_lines=False,sep='\\t', index_col=False)\n"
     ]
    },
    {
     "name": "stdout",
     "output_type": "stream",
     "text": [
      "--> ANNUAL\n",
      "15 / 105 treated\n",
      "----------------------------------------------------------------------\n",
      "eCO2mix_RTE_Pays-de-la-Loire_Annuel-Definitif_2018.xls\n",
      "--> REGIONAL\n",
      "16 / 105 treated\n",
      "----------------------------------------------------------------------\n",
      "eCO2mix_RTE_Auvergne-Rhône-Alpes_Annuel-Definitif_2013.xls\n",
      "--> REGIONAL\n",
      "17 / 105 treated\n",
      "----------------------------------------------------------------------\n",
      "eCO2mix_RTE_PACA_Annuel-Definitif_2017.xls\n",
      "--> REGIONAL\n",
      "18 / 105 treated\n",
      "----------------------------------------------------------------------\n",
      "eCO2mix_RTE_Bretagne_Annuel-Definitif_2014.xls\n"
     ]
    },
    {
     "name": "stderr",
     "output_type": "stream",
     "text": [
      "/tmp/ipykernel_13043/2370632081.py:26: FutureWarning: The error_bad_lines argument has been deprecated and will be removed in a future version. Use on_bad_lines in the future.\n",
      "\n",
      "\n",
      "  dfTemp = pd.read_csv(f, encoding='ISO-8859-1', error_bad_lines=False,sep='\\t', index_col=False)\n",
      "/tmp/ipykernel_13043/2370632081.py:26: FutureWarning: The error_bad_lines argument has been deprecated and will be removed in a future version. Use on_bad_lines in the future.\n",
      "\n",
      "\n",
      "  dfTemp = pd.read_csv(f, encoding='ISO-8859-1', error_bad_lines=False,sep='\\t', index_col=False)\n",
      "/tmp/ipykernel_13043/2370632081.py:26: FutureWarning: The error_bad_lines argument has been deprecated and will be removed in a future version. Use on_bad_lines in the future.\n",
      "\n",
      "\n",
      "  dfTemp = pd.read_csv(f, encoding='ISO-8859-1', error_bad_lines=False,sep='\\t', index_col=False)\n",
      "/tmp/ipykernel_13043/2370632081.py:26: FutureWarning: The error_bad_lines argument has been deprecated and will be removed in a future version. Use on_bad_lines in the future.\n",
      "\n",
      "\n",
      "  dfTemp = pd.read_csv(f, encoding='ISO-8859-1', error_bad_lines=False,sep='\\t', index_col=False)\n"
     ]
    },
    {
     "name": "stdout",
     "output_type": "stream",
     "text": [
      "--> REGIONAL\n",
      "19 / 105 treated\n",
      "----------------------------------------------------------------------\n",
      "eCO2mix_RTE_Normandie_Annuel-Definitif_2014.xls\n",
      "--> REGIONAL\n",
      "20 / 105 treated\n",
      "----------------------------------------------------------------------\n",
      "eCO2mix_RTE_Bourgogne-Franche-Comté_Annuel-Definitif_2018.xls\n",
      "--> REGIONAL\n",
      "21 / 105 treated\n",
      "----------------------------------------------------------------------\n",
      "eCO2mix_RTE_Ile-de-France_Annuel-Definitif_2019.xls\n",
      "DATAFRAME IGNORED --> 2029 ou 2020 wrong columns\n",
      "22 / 105 treated\n",
      "----------------------------------------------------------------------\n",
      "eCO2mix_RTE_Bourgogne-Franche-Comté_Annuel-Definitif_2015.xls\n",
      "--> REGIONAL\n",
      "23 / 105 treated\n",
      "----------------------------------------------------------------------\n",
      "eCO2mix_RTE_Grand-Est_Annuel-Definitif_2013.xls\n"
     ]
    },
    {
     "name": "stderr",
     "output_type": "stream",
     "text": [
      "/tmp/ipykernel_13043/2370632081.py:26: FutureWarning: The error_bad_lines argument has been deprecated and will be removed in a future version. Use on_bad_lines in the future.\n",
      "\n",
      "\n",
      "  dfTemp = pd.read_csv(f, encoding='ISO-8859-1', error_bad_lines=False,sep='\\t', index_col=False)\n",
      "/tmp/ipykernel_13043/2370632081.py:26: FutureWarning: The error_bad_lines argument has been deprecated and will be removed in a future version. Use on_bad_lines in the future.\n",
      "\n",
      "\n",
      "  dfTemp = pd.read_csv(f, encoding='ISO-8859-1', error_bad_lines=False,sep='\\t', index_col=False)\n",
      "/tmp/ipykernel_13043/2370632081.py:26: FutureWarning: The error_bad_lines argument has been deprecated and will be removed in a future version. Use on_bad_lines in the future.\n",
      "\n",
      "\n",
      "  dfTemp = pd.read_csv(f, encoding='ISO-8859-1', error_bad_lines=False,sep='\\t', index_col=False)\n",
      "/tmp/ipykernel_13043/2370632081.py:26: FutureWarning: The error_bad_lines argument has been deprecated and will be removed in a future version. Use on_bad_lines in the future.\n",
      "\n",
      "\n",
      "  dfTemp = pd.read_csv(f, encoding='ISO-8859-1', error_bad_lines=False,sep='\\t', index_col=False)\n"
     ]
    },
    {
     "name": "stdout",
     "output_type": "stream",
     "text": [
      "--> REGIONAL\n",
      "24 / 105 treated\n",
      "----------------------------------------------------------------------\n",
      "eCO2mix_RTE_Ile-de-France_Annuel-Definitif_2015.xls\n",
      "--> REGIONAL\n",
      "25 / 105 treated\n",
      "----------------------------------------------------------------------\n",
      "eCO2mix_RTE_Grand-Est_Annuel-Definitif_2017.xls\n",
      "--> REGIONAL\n",
      "26 / 105 treated\n",
      "----------------------------------------------------------------------\n",
      "eCO2mix_RTE_Pays-de-la-Loire_Annuel-Definitif_2014.xls\n",
      "--> REGIONAL\n",
      "27 / 105 treated\n",
      "----------------------------------------------------------------------\n",
      "eCO2mix_RTE_Nouvelle-Aquitaine_Annuel-Definitif_2013.xls\n"
     ]
    },
    {
     "name": "stderr",
     "output_type": "stream",
     "text": [
      "/tmp/ipykernel_13043/2370632081.py:26: FutureWarning: The error_bad_lines argument has been deprecated and will be removed in a future version. Use on_bad_lines in the future.\n",
      "\n",
      "\n",
      "  dfTemp = pd.read_csv(f, encoding='ISO-8859-1', error_bad_lines=False,sep='\\t', index_col=False)\n",
      "/tmp/ipykernel_13043/2370632081.py:26: FutureWarning: The error_bad_lines argument has been deprecated and will be removed in a future version. Use on_bad_lines in the future.\n",
      "\n",
      "\n",
      "  dfTemp = pd.read_csv(f, encoding='ISO-8859-1', error_bad_lines=False,sep='\\t', index_col=False)\n",
      "/tmp/ipykernel_13043/2370632081.py:26: FutureWarning: The error_bad_lines argument has been deprecated and will be removed in a future version. Use on_bad_lines in the future.\n",
      "\n",
      "\n",
      "  dfTemp = pd.read_csv(f, encoding='ISO-8859-1', error_bad_lines=False,sep='\\t', index_col=False)\n",
      "/tmp/ipykernel_13043/2370632081.py:26: FutureWarning: The error_bad_lines argument has been deprecated and will be removed in a future version. Use on_bad_lines in the future.\n",
      "\n",
      "\n",
      "  dfTemp = pd.read_csv(f, encoding='ISO-8859-1', error_bad_lines=False,sep='\\t', index_col=False)\n"
     ]
    },
    {
     "name": "stdout",
     "output_type": "stream",
     "text": [
      "--> REGIONAL\n",
      "28 / 105 treated\n",
      "----------------------------------------------------------------------\n",
      "eCO2mix_RTE_Normandie_Annuel-Definitif_2017.xls\n",
      "--> REGIONAL\n",
      "29 / 105 treated\n",
      "----------------------------------------------------------------------\n",
      "eCO2mix_RTE_Ile-de-France_Annuel-Definitif_2013.xls\n",
      "--> REGIONAL\n",
      "30 / 105 treated\n",
      "----------------------------------------------------------------------\n",
      "eCO2mix_RTE_Hauts-de-France_Annuel-Definitif_2018.xls\n",
      "--> REGIONAL\n",
      "31 / 105 treated\n",
      "----------------------------------------------------------------------\n",
      "eCO2mix_RTE_Hauts-de-France_Annuel-Definitif_2016.xls\n"
     ]
    },
    {
     "name": "stderr",
     "output_type": "stream",
     "text": [
      "/tmp/ipykernel_13043/2370632081.py:26: FutureWarning: The error_bad_lines argument has been deprecated and will be removed in a future version. Use on_bad_lines in the future.\n",
      "\n",
      "\n",
      "  dfTemp = pd.read_csv(f, encoding='ISO-8859-1', error_bad_lines=False,sep='\\t', index_col=False)\n",
      "/tmp/ipykernel_13043/2370632081.py:26: FutureWarning: The error_bad_lines argument has been deprecated and will be removed in a future version. Use on_bad_lines in the future.\n",
      "\n",
      "\n",
      "  dfTemp = pd.read_csv(f, encoding='ISO-8859-1', error_bad_lines=False,sep='\\t', index_col=False)\n",
      "/tmp/ipykernel_13043/2370632081.py:26: FutureWarning: The error_bad_lines argument has been deprecated and will be removed in a future version. Use on_bad_lines in the future.\n",
      "\n",
      "\n",
      "  dfTemp = pd.read_csv(f, encoding='ISO-8859-1', error_bad_lines=False,sep='\\t', index_col=False)\n",
      "/tmp/ipykernel_13043/2370632081.py:26: FutureWarning: The error_bad_lines argument has been deprecated and will be removed in a future version. Use on_bad_lines in the future.\n",
      "\n",
      "\n",
      "  dfTemp = pd.read_csv(f, encoding='ISO-8859-1', error_bad_lines=False,sep='\\t', index_col=False)\n",
      "/tmp/ipykernel_13043/2370632081.py:26: FutureWarning: The error_bad_lines argument has been deprecated and will be removed in a future version. Use on_bad_lines in the future.\n",
      "\n",
      "\n",
      "  dfTemp = pd.read_csv(f, encoding='ISO-8859-1', error_bad_lines=False,sep='\\t', index_col=False)\n"
     ]
    },
    {
     "name": "stdout",
     "output_type": "stream",
     "text": [
      "--> REGIONAL\n",
      "32 / 105 treated\n",
      "----------------------------------------------------------------------\n",
      "eCO2mix_RTE_Bretagne_Annuel-Definitif_2016.xls\n",
      "--> REGIONAL\n",
      "33 / 105 treated\n",
      "----------------------------------------------------------------------\n",
      "eCO2mix_RTE_Centre-Val-de-Loire_Annuel-Definitif_2015.xls\n",
      "--> REGIONAL\n",
      "34 / 105 treated\n",
      "----------------------------------------------------------------------\n",
      "eCO2mix_RTE_Centre-Val-de-Loire_Annuel-Definitif_2019.xls\n",
      "DATAFRAME IGNORED --> 2029 ou 2020 wrong columns\n",
      "35 / 105 treated\n",
      "----------------------------------------------------------------------\n",
      "eCO2mix_RTE_Bourgogne-Franche-Comté_Annuel-Definitif_2020.xls\n",
      "DATAFRAME IGNORED --> 2029 ou 2020 wrong columns\n",
      "36 / 105 treated\n",
      "----------------------------------------------------------------------\n",
      "eCO2mix_RTE_Normandie_Annuel-Definitif_2015.xls\n",
      "--> REGIONAL\n",
      "37 / 105 treated\n",
      "----------------------------------------------------------------------\n",
      "eCO2mix_RTE_PACA_Annuel-Definitif_2018.xls\n",
      "--> REGIONAL\n",
      "38 / 105 treated\n",
      "----------------------------------------------------------------------\n",
      "eCO2mix_RTE_PACA_Annuel-Definitif_2016.xls\n"
     ]
    },
    {
     "name": "stderr",
     "output_type": "stream",
     "text": [
      "/tmp/ipykernel_13043/2370632081.py:26: FutureWarning: The error_bad_lines argument has been deprecated and will be removed in a future version. Use on_bad_lines in the future.\n",
      "\n",
      "\n",
      "  dfTemp = pd.read_csv(f, encoding='ISO-8859-1', error_bad_lines=False,sep='\\t', index_col=False)\n",
      "/tmp/ipykernel_13043/2370632081.py:26: FutureWarning: The error_bad_lines argument has been deprecated and will be removed in a future version. Use on_bad_lines in the future.\n",
      "\n",
      "\n",
      "  dfTemp = pd.read_csv(f, encoding='ISO-8859-1', error_bad_lines=False,sep='\\t', index_col=False)\n",
      "/tmp/ipykernel_13043/2370632081.py:26: FutureWarning: The error_bad_lines argument has been deprecated and will be removed in a future version. Use on_bad_lines in the future.\n",
      "\n",
      "\n",
      "  dfTemp = pd.read_csv(f, encoding='ISO-8859-1', error_bad_lines=False,sep='\\t', index_col=False)\n",
      "/tmp/ipykernel_13043/2370632081.py:26: FutureWarning: The error_bad_lines argument has been deprecated and will be removed in a future version. Use on_bad_lines in the future.\n",
      "\n",
      "\n",
      "  dfTemp = pd.read_csv(f, encoding='ISO-8859-1', error_bad_lines=False,sep='\\t', index_col=False)\n",
      "/tmp/ipykernel_13043/2370632081.py:26: FutureWarning: The error_bad_lines argument has been deprecated and will be removed in a future version. Use on_bad_lines in the future.\n",
      "\n",
      "\n",
      "  dfTemp = pd.read_csv(f, encoding='ISO-8859-1', error_bad_lines=False,sep='\\t', index_col=False)\n"
     ]
    },
    {
     "name": "stdout",
     "output_type": "stream",
     "text": [
      "--> REGIONAL\n",
      "39 / 105 treated\n",
      "----------------------------------------------------------------------\n",
      "eCO2mix_RTE_Ile-de-France_Annuel-Definitif_2020.xls\n",
      "DATAFRAME IGNORED --> 2029 ou 2020 wrong columns\n",
      "40 / 105 treated\n",
      "----------------------------------------------------------------------\n",
      "eCO2mix_RTE_PACA_Annuel-Definitif_2014.xls\n",
      "--> REGIONAL\n",
      "41 / 105 treated\n",
      "----------------------------------------------------------------------\n",
      "eCO2mix_RTE_Nouvelle-Aquitaine_Annuel-Definitif_2017.xls\n",
      "--> REGIONAL\n",
      "42 / 105 treated\n",
      "----------------------------------------------------------------------\n",
      "eCO2mix_RTE_Occitanie_Annuel-Definitif_2014.xls\n",
      "--> REGIONAL\n",
      "43 / 105 treated\n",
      "----------------------------------------------------------------------\n",
      "eCO2mix_RTE_Nouvelle-Aquitaine_Annuel-Definitif_2018.xls\n",
      "--> REGIONAL\n",
      "44 / 105 treated\n",
      "----------------------------------------------------------------------\n",
      "eCO2mix_RTE_Bourgogne-Franche-Comté_Annuel-Definitif_2017.xls\n"
     ]
    },
    {
     "name": "stderr",
     "output_type": "stream",
     "text": [
      "/tmp/ipykernel_13043/2370632081.py:26: FutureWarning: The error_bad_lines argument has been deprecated and will be removed in a future version. Use on_bad_lines in the future.\n",
      "\n",
      "\n",
      "  dfTemp = pd.read_csv(f, encoding='ISO-8859-1', error_bad_lines=False,sep='\\t', index_col=False)\n",
      "/tmp/ipykernel_13043/2370632081.py:26: FutureWarning: The error_bad_lines argument has been deprecated and will be removed in a future version. Use on_bad_lines in the future.\n",
      "\n",
      "\n",
      "  dfTemp = pd.read_csv(f, encoding='ISO-8859-1', error_bad_lines=False,sep='\\t', index_col=False)\n",
      "/tmp/ipykernel_13043/2370632081.py:26: FutureWarning: The error_bad_lines argument has been deprecated and will be removed in a future version. Use on_bad_lines in the future.\n",
      "\n",
      "\n",
      "  dfTemp = pd.read_csv(f, encoding='ISO-8859-1', error_bad_lines=False,sep='\\t', index_col=False)\n",
      "/tmp/ipykernel_13043/2370632081.py:26: FutureWarning: The error_bad_lines argument has been deprecated and will be removed in a future version. Use on_bad_lines in the future.\n",
      "\n",
      "\n",
      "  dfTemp = pd.read_csv(f, encoding='ISO-8859-1', error_bad_lines=False,sep='\\t', index_col=False)\n",
      "/tmp/ipykernel_13043/2370632081.py:26: FutureWarning: The error_bad_lines argument has been deprecated and will be removed in a future version. Use on_bad_lines in the future.\n",
      "\n",
      "\n",
      "  dfTemp = pd.read_csv(f, encoding='ISO-8859-1', error_bad_lines=False,sep='\\t', index_col=False)\n"
     ]
    },
    {
     "name": "stdout",
     "output_type": "stream",
     "text": [
      "--> REGIONAL\n",
      "45 / 105 treated\n",
      "----------------------------------------------------------------------\n",
      "eCO2mix_RTE_Pays-de-la-Loire_Annuel-Definitif_2016.xls\n",
      "--> REGIONAL\n",
      "46 / 105 treated\n",
      "----------------------------------------------------------------------\n",
      "eCO2mix_RTE_PACA_Annuel-Definitif_2013.xls\n",
      "--> REGIONAL\n",
      "47 / 105 treated\n",
      "----------------------------------------------------------------------\n",
      "eCO2mix_RTE_Hauts-de-France_Annuel-Definitif_2015.xls\n",
      "--> REGIONAL\n",
      "48 / 105 treated\n",
      "----------------------------------------------------------------------\n",
      "eCO2mix_RTE_Grand-Est_Annuel-Definitif_2018.xls\n",
      "--> REGIONAL\n",
      "49 / 105 treated\n",
      "----------------------------------------------------------------------\n",
      "eCO2mix_RTE_Nouvelle-Aquitaine_Annuel-Definitif_2019.xls\n",
      "DATAFRAME IGNORED --> 2029 ou 2020 wrong columns\n",
      "50 / 105 treated\n",
      "----------------------------------------------------------------------\n",
      "eCO2mix_RTE_Occitanie_Annuel-Definitif_2013.xls\n"
     ]
    },
    {
     "name": "stderr",
     "output_type": "stream",
     "text": [
      "/tmp/ipykernel_13043/2370632081.py:26: FutureWarning: The error_bad_lines argument has been deprecated and will be removed in a future version. Use on_bad_lines in the future.\n",
      "\n",
      "\n",
      "  dfTemp = pd.read_csv(f, encoding='ISO-8859-1', error_bad_lines=False,sep='\\t', index_col=False)\n",
      "/tmp/ipykernel_13043/2370632081.py:26: FutureWarning: The error_bad_lines argument has been deprecated and will be removed in a future version. Use on_bad_lines in the future.\n",
      "\n",
      "\n",
      "  dfTemp = pd.read_csv(f, encoding='ISO-8859-1', error_bad_lines=False,sep='\\t', index_col=False)\n",
      "/tmp/ipykernel_13043/2370632081.py:26: FutureWarning: The error_bad_lines argument has been deprecated and will be removed in a future version. Use on_bad_lines in the future.\n",
      "\n",
      "\n",
      "  dfTemp = pd.read_csv(f, encoding='ISO-8859-1', error_bad_lines=False,sep='\\t', index_col=False)\n",
      "/tmp/ipykernel_13043/2370632081.py:26: FutureWarning: The error_bad_lines argument has been deprecated and will be removed in a future version. Use on_bad_lines in the future.\n",
      "\n",
      "\n",
      "  dfTemp = pd.read_csv(f, encoding='ISO-8859-1', error_bad_lines=False,sep='\\t', index_col=False)\n"
     ]
    },
    {
     "name": "stdout",
     "output_type": "stream",
     "text": [
      "--> REGIONAL\n",
      "51 / 105 treated\n",
      "----------------------------------------------------------------------\n",
      "eCO2mix_RTE_Normandie_Annuel-Definitif_2013.xls\n",
      "--> REGIONAL\n",
      "52 / 105 treated\n",
      "----------------------------------------------------------------------\n",
      "eCO2mix_RTE_Hauts-de-France_Annuel-Definitif_2019.xls\n",
      "DATAFRAME IGNORED --> 2029 ou 2020 wrong columns\n",
      "53 / 105 treated\n",
      "----------------------------------------------------------------------\n",
      "eCO2mix_RTE_Annuel-Definitif_2017.xls\n",
      "--> ANNUAL\n",
      "54 / 105 treated\n",
      "----------------------------------------------------------------------\n",
      "eCO2mix_RTE_Normandie_Annuel-Definitif_2019.xls\n",
      "DATAFRAME IGNORED --> 2029 ou 2020 wrong columns\n",
      "55 / 105 treated\n",
      "----------------------------------------------------------------------\n",
      "eCO2mix_RTE_Bretagne_Annuel-Definitif_2013.xls\n"
     ]
    },
    {
     "name": "stderr",
     "output_type": "stream",
     "text": [
      "/tmp/ipykernel_13043/2370632081.py:26: FutureWarning: The error_bad_lines argument has been deprecated and will be removed in a future version. Use on_bad_lines in the future.\n",
      "\n",
      "\n",
      "  dfTemp = pd.read_csv(f, encoding='ISO-8859-1', error_bad_lines=False,sep='\\t', index_col=False)\n",
      "/tmp/ipykernel_13043/2370632081.py:26: FutureWarning: The error_bad_lines argument has been deprecated and will be removed in a future version. Use on_bad_lines in the future.\n",
      "\n",
      "\n",
      "  dfTemp = pd.read_csv(f, encoding='ISO-8859-1', error_bad_lines=False,sep='\\t', index_col=False)\n",
      "/tmp/ipykernel_13043/2370632081.py:26: FutureWarning: The error_bad_lines argument has been deprecated and will be removed in a future version. Use on_bad_lines in the future.\n",
      "\n",
      "\n",
      "  dfTemp = pd.read_csv(f, encoding='ISO-8859-1', error_bad_lines=False,sep='\\t', index_col=False)\n"
     ]
    },
    {
     "name": "stdout",
     "output_type": "stream",
     "text": [
      "--> REGIONAL\n",
      "56 / 105 treated\n",
      "----------------------------------------------------------------------\n",
      "eCO2mix_RTE_Annuel-Definitif_2018.xls\n",
      "--> ANNUAL\n",
      "57 / 105 treated\n",
      "----------------------------------------------------------------------\n",
      "eCO2mix_RTE_Auvergne-Rhône-Alpes_Annuel-Definitif_2018.xls\n",
      "--> REGIONAL\n",
      "58 / 105 treated\n",
      "----------------------------------------------------------------------\n",
      "eCO2mix_RTE_Grand-Est_Annuel-Definitif_2016.xls\n",
      "--> REGIONAL\n",
      "59 / 105 treated\n",
      "----------------------------------------------------------------------\n",
      "eCO2mix_RTE_Pays-de-la-Loire_Annuel-Definitif_2020.xls\n",
      "DATAFRAME IGNORED --> 2029 ou 2020 wrong columns\n",
      "60 / 105 treated\n",
      "----------------------------------------------------------------------\n",
      "eCO2mix_RTE_Bourgogne-Franche-Comté_Annuel-Definitif_2016.xls\n"
     ]
    },
    {
     "name": "stderr",
     "output_type": "stream",
     "text": [
      "/tmp/ipykernel_13043/2370632081.py:26: FutureWarning: The error_bad_lines argument has been deprecated and will be removed in a future version. Use on_bad_lines in the future.\n",
      "\n",
      "\n",
      "  dfTemp = pd.read_csv(f, encoding='ISO-8859-1', error_bad_lines=False,sep='\\t', index_col=False)\n",
      "/tmp/ipykernel_13043/2370632081.py:26: FutureWarning: The error_bad_lines argument has been deprecated and will be removed in a future version. Use on_bad_lines in the future.\n",
      "\n",
      "\n",
      "  dfTemp = pd.read_csv(f, encoding='ISO-8859-1', error_bad_lines=False,sep='\\t', index_col=False)\n",
      "/tmp/ipykernel_13043/2370632081.py:26: FutureWarning: The error_bad_lines argument has been deprecated and will be removed in a future version. Use on_bad_lines in the future.\n",
      "\n",
      "\n",
      "  dfTemp = pd.read_csv(f, encoding='ISO-8859-1', error_bad_lines=False,sep='\\t', index_col=False)\n",
      "/tmp/ipykernel_13043/2370632081.py:26: FutureWarning: The error_bad_lines argument has been deprecated and will be removed in a future version. Use on_bad_lines in the future.\n",
      "\n",
      "\n",
      "  dfTemp = pd.read_csv(f, encoding='ISO-8859-1', error_bad_lines=False,sep='\\t', index_col=False)\n"
     ]
    },
    {
     "name": "stdout",
     "output_type": "stream",
     "text": [
      "--> REGIONAL\n",
      "61 / 105 treated\n",
      "----------------------------------------------------------------------\n",
      "eCO2mix_RTE_Nouvelle-Aquitaine_Annuel-Definitif_2020.xls\n",
      "DATAFRAME IGNORED --> 2029 ou 2020 wrong columns\n",
      "62 / 105 treated\n",
      "----------------------------------------------------------------------\n",
      "eCO2mix_RTE_Hauts-de-France_Annuel-Definitif_2020.xls\n",
      "DATAFRAME IGNORED --> 2029 ou 2020 wrong columns\n",
      "63 / 105 treated\n",
      "----------------------------------------------------------------------\n",
      "eCO2mix_RTE_Bretagne_Annuel-Definitif_2019.xls\n",
      "DATAFRAME IGNORED --> 2029 ou 2020 wrong columns\n",
      "64 / 105 treated\n",
      "----------------------------------------------------------------------\n",
      "eCO2mix_RTE_Nouvelle-Aquitaine_Annuel-Definitif_2015.xls\n",
      "--> REGIONAL\n",
      "65 / 105 treated\n",
      "----------------------------------------------------------------------\n",
      "eCO2mix_RTE_Pays-de-la-Loire_Annuel-Definitif_2017.xls\n",
      "--> REGIONAL\n",
      "66 / 105 treated\n",
      "----------------------------------------------------------------------\n",
      "eCO2mix_RTE_Annuel-Definitif_2019.xls\n",
      "DATAFRAME IGNORED --> 2029 ou 2020 wrong columns\n",
      "67 / 105 treated\n",
      "----------------------------------------------------------------------\n",
      "eCO2mix_RTE_Hauts-de-France_Annuel-Definitif_2014.xls\n",
      "--> REGIONAL\n",
      "68 / 105 treated\n",
      "----------------------------------------------------------------------\n",
      "eCO2mix_RTE_Bourgogne-Franche-Comté_Annuel-Definitif_2019.xls\n",
      "DATAFRAME IGNORED --> 2029 ou 2020 wrong columns\n",
      "69 / 105 treated\n",
      "----------------------------------------------------------------------\n",
      "eCO2mix_RTE_Centre-Val-de-Loire_Annuel-Definitif_2018.xls\n"
     ]
    },
    {
     "name": "stderr",
     "output_type": "stream",
     "text": [
      "/tmp/ipykernel_13043/2370632081.py:26: FutureWarning: The error_bad_lines argument has been deprecated and will be removed in a future version. Use on_bad_lines in the future.\n",
      "\n",
      "\n",
      "  dfTemp = pd.read_csv(f, encoding='ISO-8859-1', error_bad_lines=False,sep='\\t', index_col=False)\n",
      "/tmp/ipykernel_13043/2370632081.py:26: FutureWarning: The error_bad_lines argument has been deprecated and will be removed in a future version. Use on_bad_lines in the future.\n",
      "\n",
      "\n",
      "  dfTemp = pd.read_csv(f, encoding='ISO-8859-1', error_bad_lines=False,sep='\\t', index_col=False)\n",
      "/tmp/ipykernel_13043/2370632081.py:26: FutureWarning: The error_bad_lines argument has been deprecated and will be removed in a future version. Use on_bad_lines in the future.\n",
      "\n",
      "\n",
      "  dfTemp = pd.read_csv(f, encoding='ISO-8859-1', error_bad_lines=False,sep='\\t', index_col=False)\n",
      "/tmp/ipykernel_13043/2370632081.py:26: FutureWarning: The error_bad_lines argument has been deprecated and will be removed in a future version. Use on_bad_lines in the future.\n",
      "\n",
      "\n",
      "  dfTemp = pd.read_csv(f, encoding='ISO-8859-1', error_bad_lines=False,sep='\\t', index_col=False)\n"
     ]
    },
    {
     "name": "stdout",
     "output_type": "stream",
     "text": [
      "--> REGIONAL\n",
      "70 / 105 treated\n",
      "----------------------------------------------------------------------\n",
      "eCO2mix_RTE_Auvergne-Rhône-Alpes_Annuel-Definitif_2015.xls\n",
      "--> REGIONAL\n",
      "71 / 105 treated\n",
      "----------------------------------------------------------------------\n",
      "eCO2mix_RTE_Nouvelle-Aquitaine_Annuel-Definitif_2014.xls\n",
      "--> REGIONAL\n",
      "72 / 105 treated\n",
      "----------------------------------------------------------------------\n",
      "eCO2mix_RTE_Occitanie_Annuel-Definitif_2017.xls\n",
      "--> REGIONAL\n",
      "73 / 105 treated\n",
      "----------------------------------------------------------------------\n",
      "eCO2mix_RTE_Ile-de-France_Annuel-Definitif_2014.xls\n"
     ]
    },
    {
     "name": "stderr",
     "output_type": "stream",
     "text": [
      "/tmp/ipykernel_13043/2370632081.py:26: FutureWarning: The error_bad_lines argument has been deprecated and will be removed in a future version. Use on_bad_lines in the future.\n",
      "\n",
      "\n",
      "  dfTemp = pd.read_csv(f, encoding='ISO-8859-1', error_bad_lines=False,sep='\\t', index_col=False)\n",
      "/tmp/ipykernel_13043/2370632081.py:26: FutureWarning: The error_bad_lines argument has been deprecated and will be removed in a future version. Use on_bad_lines in the future.\n",
      "\n",
      "\n",
      "  dfTemp = pd.read_csv(f, encoding='ISO-8859-1', error_bad_lines=False,sep='\\t', index_col=False)\n",
      "/tmp/ipykernel_13043/2370632081.py:26: FutureWarning: The error_bad_lines argument has been deprecated and will be removed in a future version. Use on_bad_lines in the future.\n",
      "\n",
      "\n",
      "  dfTemp = pd.read_csv(f, encoding='ISO-8859-1', error_bad_lines=False,sep='\\t', index_col=False)\n",
      "/tmp/ipykernel_13043/2370632081.py:26: FutureWarning: The error_bad_lines argument has been deprecated and will be removed in a future version. Use on_bad_lines in the future.\n",
      "\n",
      "\n",
      "  dfTemp = pd.read_csv(f, encoding='ISO-8859-1', error_bad_lines=False,sep='\\t', index_col=False)\n"
     ]
    },
    {
     "name": "stdout",
     "output_type": "stream",
     "text": [
      "--> REGIONAL\n",
      "74 / 105 treated\n",
      "----------------------------------------------------------------------\n",
      "eCO2mix_RTE_Auvergne-Rhône-Alpes_Annuel-Definitif_2016.xls\n",
      "--> REGIONAL\n",
      "75 / 105 treated\n",
      "----------------------------------------------------------------------\n",
      "eCO2mix_RTE_Hauts-de-France_Annuel-Definitif_2013.xls\n",
      "--> REGIONAL\n",
      "76 / 105 treated\n",
      "----------------------------------------------------------------------\n",
      "eCO2mix_RTE_Centre-Val-de-Loire_Annuel-Definitif_2013.xls\n",
      "--> REGIONAL\n",
      "77 / 105 treated\n",
      "----------------------------------------------------------------------\n",
      "eCO2mix_RTE_Grand-Est_Annuel-Definitif_2020.xls\n",
      "DATAFRAME IGNORED --> 2029 ou 2020 wrong columns\n",
      "78 / 105 treated\n",
      "----------------------------------------------------------------------\n",
      "eCO2mix_RTE_Pays-de-la-Loire_Annuel-Definitif_2019.xls\n",
      "DATAFRAME IGNORED --> 2029 ou 2020 wrong columns\n",
      "79 / 105 treated\n",
      "----------------------------------------------------------------------\n",
      "eCO2mix_RTE_Bourgogne-Franche-Comté_Annuel-Definitif_2014.xls\n",
      "--> REGIONAL\n",
      "80 / 105 treated\n",
      "----------------------------------------------------------------------\n",
      "eCO2mix_RTE_Occitanie_Annuel-Definitif_2020.xls\n",
      "DATAFRAME IGNORED --> 2029 ou 2020 wrong columns\n",
      "81 / 105 treated\n",
      "----------------------------------------------------------------------\n",
      "eCO2mix_RTE_Normandie_Annuel-Definitif_2020.xls\n",
      "DATAFRAME IGNORED --> 2029 ou 2020 wrong columns\n",
      "82 / 105 treated\n",
      "----------------------------------------------------------------------\n",
      "eCO2mix_RTE_Centre-Val-de-Loire_Annuel-Definitif_2014.xls\n"
     ]
    },
    {
     "name": "stderr",
     "output_type": "stream",
     "text": [
      "/tmp/ipykernel_13043/2370632081.py:26: FutureWarning: The error_bad_lines argument has been deprecated and will be removed in a future version. Use on_bad_lines in the future.\n",
      "\n",
      "\n",
      "  dfTemp = pd.read_csv(f, encoding='ISO-8859-1', error_bad_lines=False,sep='\\t', index_col=False)\n",
      "/tmp/ipykernel_13043/2370632081.py:26: FutureWarning: The error_bad_lines argument has been deprecated and will be removed in a future version. Use on_bad_lines in the future.\n",
      "\n",
      "\n",
      "  dfTemp = pd.read_csv(f, encoding='ISO-8859-1', error_bad_lines=False,sep='\\t', index_col=False)\n",
      "/tmp/ipykernel_13043/2370632081.py:26: FutureWarning: The error_bad_lines argument has been deprecated and will be removed in a future version. Use on_bad_lines in the future.\n",
      "\n",
      "\n",
      "  dfTemp = pd.read_csv(f, encoding='ISO-8859-1', error_bad_lines=False,sep='\\t', index_col=False)\n",
      "/tmp/ipykernel_13043/2370632081.py:26: FutureWarning: The error_bad_lines argument has been deprecated and will be removed in a future version. Use on_bad_lines in the future.\n",
      "\n",
      "\n",
      "  dfTemp = pd.read_csv(f, encoding='ISO-8859-1', error_bad_lines=False,sep='\\t', index_col=False)\n"
     ]
    },
    {
     "name": "stdout",
     "output_type": "stream",
     "text": [
      "--> REGIONAL\n",
      "83 / 105 treated\n",
      "----------------------------------------------------------------------\n",
      "eCO2mix_RTE_Annuel-Definitif_2012.xls\n",
      "--> ANNUAL\n",
      "84 / 105 treated\n",
      "----------------------------------------------------------------------\n",
      "eCO2mix_RTE_Auvergne-Rhône-Alpes_Annuel-Definitif_2019.xls\n",
      "DATAFRAME IGNORED --> 2029 ou 2020 wrong columns\n",
      "85 / 105 treated\n",
      "----------------------------------------------------------------------\n",
      "eCO2mix_RTE_Centre-Val-de-Loire_Annuel-Definitif_2017.xls\n"
     ]
    },
    {
     "name": "stderr",
     "output_type": "stream",
     "text": [
      "/tmp/ipykernel_13043/2370632081.py:26: DtypeWarning: Columns (18,19,20,21,22) have mixed types. Specify dtype option on import or set low_memory=False.\n",
      "  dfTemp = pd.read_csv(f, encoding='ISO-8859-1', error_bad_lines=False,sep='\\t', index_col=False)\n",
      "/tmp/ipykernel_13043/2370632081.py:26: FutureWarning: The error_bad_lines argument has been deprecated and will be removed in a future version. Use on_bad_lines in the future.\n",
      "\n",
      "\n",
      "  dfTemp = pd.read_csv(f, encoding='ISO-8859-1', error_bad_lines=False,sep='\\t', index_col=False)\n",
      "/tmp/ipykernel_13043/2370632081.py:26: FutureWarning: The error_bad_lines argument has been deprecated and will be removed in a future version. Use on_bad_lines in the future.\n",
      "\n",
      "\n",
      "  dfTemp = pd.read_csv(f, encoding='ISO-8859-1', error_bad_lines=False,sep='\\t', index_col=False)\n",
      "/tmp/ipykernel_13043/2370632081.py:26: FutureWarning: The error_bad_lines argument has been deprecated and will be removed in a future version. Use on_bad_lines in the future.\n",
      "\n",
      "\n",
      "  dfTemp = pd.read_csv(f, encoding='ISO-8859-1', error_bad_lines=False,sep='\\t', index_col=False)\n",
      "/tmp/ipykernel_13043/2370632081.py:26: FutureWarning: The error_bad_lines argument has been deprecated and will be removed in a future version. Use on_bad_lines in the future.\n",
      "\n",
      "\n",
      "  dfTemp = pd.read_csv(f, encoding='ISO-8859-1', error_bad_lines=False,sep='\\t', index_col=False)\n"
     ]
    },
    {
     "name": "stdout",
     "output_type": "stream",
     "text": [
      "--> REGIONAL\n",
      "86 / 105 treated\n",
      "----------------------------------------------------------------------\n",
      "eCO2mix_RTE_Hauts-de-France_Annuel-Definitif_2017.xls\n",
      "--> REGIONAL\n",
      "87 / 105 treated\n",
      "----------------------------------------------------------------------\n",
      "eCO2mix_RTE_Grand-Est_Annuel-Definitif_2015.xls\n",
      "--> REGIONAL\n",
      "88 / 105 treated\n",
      "----------------------------------------------------------------------\n",
      "eCO2mix_RTE_PACA_Annuel-Definitif_2015.xls\n",
      "--> REGIONAL\n",
      "89 / 105 treated\n",
      "----------------------------------------------------------------------\n",
      "eCO2mix_RTE_Centre-Val-de-Loire_Annuel-Definitif_2016.xls\n",
      "--> REGIONAL\n",
      "90 / 105 treated\n",
      "----------------------------------------------------------------------\n",
      "eCO2mix_RTE_Annuel-Definitif_2015.xls\n"
     ]
    },
    {
     "name": "stderr",
     "output_type": "stream",
     "text": [
      "/tmp/ipykernel_13043/2370632081.py:26: FutureWarning: The error_bad_lines argument has been deprecated and will be removed in a future version. Use on_bad_lines in the future.\n",
      "\n",
      "\n",
      "  dfTemp = pd.read_csv(f, encoding='ISO-8859-1', error_bad_lines=False,sep='\\t', index_col=False)\n",
      "/tmp/ipykernel_13043/2370632081.py:26: FutureWarning: The error_bad_lines argument has been deprecated and will be removed in a future version. Use on_bad_lines in the future.\n",
      "\n",
      "\n",
      "  dfTemp = pd.read_csv(f, encoding='ISO-8859-1', error_bad_lines=False,sep='\\t', index_col=False)\n",
      "/tmp/ipykernel_13043/2370632081.py:26: DtypeWarning: Columns (18,19,20,21,22) have mixed types. Specify dtype option on import or set low_memory=False.\n",
      "  dfTemp = pd.read_csv(f, encoding='ISO-8859-1', error_bad_lines=False,sep='\\t', index_col=False)\n",
      "/tmp/ipykernel_13043/2370632081.py:26: FutureWarning: The error_bad_lines argument has been deprecated and will be removed in a future version. Use on_bad_lines in the future.\n",
      "\n",
      "\n",
      "  dfTemp = pd.read_csv(f, encoding='ISO-8859-1', error_bad_lines=False,sep='\\t', index_col=False)\n"
     ]
    },
    {
     "name": "stdout",
     "output_type": "stream",
     "text": [
      "--> ANNUAL\n",
      "91 / 105 treated\n",
      "----------------------------------------------------------------------\n",
      "eCO2mix_RTE_PACA_Annuel-Definitif_2019.xls\n",
      "DATAFRAME IGNORED --> 2029 ou 2020 wrong columns\n",
      "92 / 105 treated\n",
      "----------------------------------------------------------------------\n",
      "eCO2mix_RTE_PACA_Annuel-Definitif_2020.xls\n",
      "DATAFRAME IGNORED --> 2029 ou 2020 wrong columns\n",
      "93 / 105 treated\n",
      "----------------------------------------------------------------------\n",
      "eCO2mix_RTE_Grand-Est_Annuel-Definitif_2014.xls\n",
      "--> REGIONAL\n",
      "94 / 105 treated\n",
      "----------------------------------------------------------------------\n",
      "eCO2mix_RTE_Bretagne_Annuel-Definitif_2020.xls\n",
      "DATAFRAME IGNORED --> 2029 ou 2020 wrong columns\n",
      "95 / 105 treated\n",
      "----------------------------------------------------------------------\n",
      "eCO2mix_RTE_Ile-de-France_Annuel-Definitif_2018.xls\n",
      "--> REGIONAL\n",
      "96 / 105 treated\n",
      "----------------------------------------------------------------------\n",
      "eCO2mix_RTE_Normandie_Annuel-Definitif_2016.xls\n",
      "--> REGIONAL\n",
      "97 / 105 treated\n",
      "----------------------------------------------------------------------\n",
      "eCO2mix_RTE_Centre-Val-de-Loire_Annuel-Definitif_2020.xls\n",
      "DATAFRAME IGNORED --> 2029 ou 2020 wrong columns\n",
      "98 / 105 treated\n",
      "----------------------------------------------------------------------\n",
      "eCO2mix_RTE_Auvergne-Rhône-Alpes_Annuel-Definitif_2020.xls\n",
      "DATAFRAME IGNORED --> 2029 ou 2020 wrong columns\n",
      "99 / 105 treated\n",
      "----------------------------------------------------------------------\n",
      "eCO2mix_RTE_Annuel-Definitif_2016.xls\n"
     ]
    },
    {
     "name": "stderr",
     "output_type": "stream",
     "text": [
      "/tmp/ipykernel_13043/2370632081.py:26: FutureWarning: The error_bad_lines argument has been deprecated and will be removed in a future version. Use on_bad_lines in the future.\n",
      "\n",
      "\n",
      "  dfTemp = pd.read_csv(f, encoding='ISO-8859-1', error_bad_lines=False,sep='\\t', index_col=False)\n",
      "/tmp/ipykernel_13043/2370632081.py:26: FutureWarning: The error_bad_lines argument has been deprecated and will be removed in a future version. Use on_bad_lines in the future.\n",
      "\n",
      "\n",
      "  dfTemp = pd.read_csv(f, encoding='ISO-8859-1', error_bad_lines=False,sep='\\t', index_col=False)\n",
      "/tmp/ipykernel_13043/2370632081.py:26: FutureWarning: The error_bad_lines argument has been deprecated and will be removed in a future version. Use on_bad_lines in the future.\n",
      "\n",
      "\n",
      "  dfTemp = pd.read_csv(f, encoding='ISO-8859-1', error_bad_lines=False,sep='\\t', index_col=False)\n",
      "/tmp/ipykernel_13043/2370632081.py:26: FutureWarning: The error_bad_lines argument has been deprecated and will be removed in a future version. Use on_bad_lines in the future.\n",
      "\n",
      "\n",
      "  dfTemp = pd.read_csv(f, encoding='ISO-8859-1', error_bad_lines=False,sep='\\t', index_col=False)\n"
     ]
    },
    {
     "name": "stdout",
     "output_type": "stream",
     "text": [
      "--> ANNUAL\n",
      "100 / 105 treated\n",
      "----------------------------------------------------------------------\n",
      "eCO2mix_RTE_Occitanie_Annuel-Definitif_2016.xls\n",
      "--> REGIONAL\n",
      "101 / 105 treated\n",
      "----------------------------------------------------------------------\n",
      "eCO2mix_RTE_Bourgogne-Franche-Comté_Annuel-Definitif_2013.xls\n",
      "--> REGIONAL\n",
      "102 / 105 treated\n",
      "----------------------------------------------------------------------\n",
      "eCO2mix_RTE_Occitanie_Annuel-Definitif_2018.xls\n",
      "--> REGIONAL\n",
      "103 / 105 treated\n",
      "----------------------------------------------------------------------\n",
      "eCO2mix_RTE_Pays-de-la-Loire_Annuel-Definitif_2015.xls\n",
      "--> REGIONAL\n",
      "104 / 105 treated\n",
      "----------------------------------------------------------------------\n",
      "eCO2mix_RTE_Auvergne-Rhône-Alpes_Annuel-Definitif_2017.xls\n",
      "--> REGIONAL\n",
      "105 / 105 treated\n"
     ]
    },
    {
     "name": "stderr",
     "output_type": "stream",
     "text": [
      "/tmp/ipykernel_13043/2370632081.py:26: FutureWarning: The error_bad_lines argument has been deprecated and will be removed in a future version. Use on_bad_lines in the future.\n",
      "\n",
      "\n",
      "  dfTemp = pd.read_csv(f, encoding='ISO-8859-1', error_bad_lines=False,sep='\\t', index_col=False)\n",
      "/tmp/ipykernel_13043/2370632081.py:26: FutureWarning: The error_bad_lines argument has been deprecated and will be removed in a future version. Use on_bad_lines in the future.\n",
      "\n",
      "\n",
      "  dfTemp = pd.read_csv(f, encoding='ISO-8859-1', error_bad_lines=False,sep='\\t', index_col=False)\n",
      "/tmp/ipykernel_13043/2370632081.py:26: FutureWarning: The error_bad_lines argument has been deprecated and will be removed in a future version. Use on_bad_lines in the future.\n",
      "\n",
      "\n",
      "  dfTemp = pd.read_csv(f, encoding='ISO-8859-1', error_bad_lines=False,sep='\\t', index_col=False)\n",
      "/tmp/ipykernel_13043/2370632081.py:26: FutureWarning: The error_bad_lines argument has been deprecated and will be removed in a future version. Use on_bad_lines in the future.\n",
      "\n",
      "\n",
      "  dfTemp = pd.read_csv(f, encoding='ISO-8859-1', error_bad_lines=False,sep='\\t', index_col=False)\n"
     ]
    }
   ],
   "source": [
    "nationalList, regionalList = get_list_of_df_from_zip(dataPath)"
   ]
  },
  {
   "cell_type": "markdown",
   "metadata": {},
   "source": [
    "### Check shape of dataframe before concate"
   ]
  },
  {
   "cell_type": "code",
   "execution_count": 7,
   "metadata": {},
   "outputs": [],
   "source": [
    "def check_shape(dfList):\n",
    "    for file in dfList:\n",
    "        if len(file.columns) != len(dfList[0].columns):\n",
    "            print(\"Not same size\")\n",
    "            return False\n",
    "        else:\n",
    "            print(f\"Homogene dataframe --> {len(file.columns)} columns\")\n",
    "            return True"
   ]
  },
  {
   "cell_type": "code",
   "execution_count": 8,
   "metadata": {},
   "outputs": [
    {
     "name": "stdout",
     "output_type": "stream",
     "text": [
      "Homogene dataframe --> 36 columns\n",
      "Homogene dataframe --> 14 columns\n"
     ]
    }
   ],
   "source": [
    "nationalDfCheck = check_shape(nationalList)\n",
    "regionalDfCheck = check_shape(regionalList)"
   ]
  },
  {
   "cell_type": "code",
   "execution_count": 9,
   "metadata": {},
   "outputs": [
    {
     "name": "stdout",
     "output_type": "stream",
     "text": [
      "Homogene dataframe --> 36 columns\n",
      "Homogene dataframe --> 14 columns\n"
     ]
    }
   ],
   "source": [
    "if check_shape(nationalList):\n",
    "    df_national = pd.concat(el for el in nationalList)\n",
    "if check_shape(regionalList):\n",
    "    df_regional = pd.concat(el for el in regionalList)\n",
    "    if len(df_regional.columns) > 13:\n",
    "        # Remove the col 14 that is wrong\n",
    "        df_regional = df_regional.drop(df_regional.columns[-1], axis=1)"
   ]
  },
  {
   "cell_type": "code",
   "execution_count": 10,
   "metadata": {},
   "outputs": [],
   "source": [
    "# df_regional.head(5)\n",
    "# df_national.head(5)"
   ]
  },
  {
   "cell_type": "code",
   "execution_count": 11,
   "metadata": {},
   "outputs": [],
   "source": [
    "# df_regional.tail(5)\n",
    "# df_national.tail(5)"
   ]
  },
  {
   "cell_type": "code",
   "execution_count": 12,
   "metadata": {},
   "outputs": [],
   "source": [
    "def filter_RTE_rows(df):\n",
    "    valuePerimetreName = df[\"Périmètre\"].value_counts().index.tolist()\n",
    "    print(valuePerimetreName)\n",
    "    mask = df[\"Périmètre\"].str.contains(\"RTE\")\n",
    "    new_df = df[~mask]\n",
    "    return new_df"
   ]
  },
  {
   "cell_type": "code",
   "execution_count": 13,
   "metadata": {},
   "outputs": [
    {
     "name": "stdout",
     "output_type": "stream",
     "text": [
      "['France', \"RTE ne pourra être tenu responsable de l'usage qui pourrait être fait des données mises à disposition, ni en cas de prévisions qui se révèleraient imprécises.\"]\n",
      "['Occitanie', 'Pays-de-la-Loire', 'Normandie', 'Auvergne-Rhône-Alpes', 'Bretagne', 'Ile-de-France', 'Nouvelle-Aquitaine', 'PACA', 'Bourgogne-Franche-Comté', 'Grand-Est', 'Hauts-de-France', 'Centre-Val de Loire', \"RTE ne pourra être tenu responsable de l'usage qui pourrait être fait des données mises à disposition, ni en cas de prévisions qui se révèleraient imprécises.\"]\n"
     ]
    }
   ],
   "source": [
    "df_national = filter_RTE_rows(df_national)\n",
    "df_regional = filter_RTE_rows(df_regional)"
   ]
  },
  {
   "cell_type": "code",
   "execution_count": 14,
   "metadata": {},
   "outputs": [],
   "source": [
    "def add_datetime_index(df):\n",
    "    try:\n",
    "        df[\"datetime\"] = pd.to_datetime(df['Date'] + ' ' + df['Heures'].astype(str))\n",
    "        df.set_index('datetime', inplace=True)\n",
    "        df.drop([\"Date\", \"Heures\"], axis=1, inplace=True)\n",
    "    except:\n",
    "        print(\"Already done\")"
   ]
  },
  {
   "cell_type": "code",
   "execution_count": 15,
   "metadata": {},
   "outputs": [],
   "source": [
    "add_datetime_index(df_national)\n",
    "add_datetime_index(df_regional)"
   ]
  },
  {
   "cell_type": "markdown",
   "metadata": {},
   "source": [
    "#### Convert column value to float"
   ]
  },
  {
   "cell_type": "code",
   "execution_count": 16,
   "metadata": {},
   "outputs": [
    {
     "data": {
      "text/plain": [
       "Périmètre                               float64\n",
       "Nature                                  float64\n",
       "Consommation                            float64\n",
       "Prévision J-1                           float64\n",
       "Prévision J                             float64\n",
       "Fioul                                   float64\n",
       "Charbon                                 float64\n",
       "Gaz                                     float64\n",
       "Nucléaire                               float64\n",
       "Eolien                                  float64\n",
       "Solaire                                 float64\n",
       "Hydraulique                             float64\n",
       "Pompage                                 float64\n",
       "Bioénergies                             float64\n",
       "Ech. physiques                          float64\n",
       "Taux de Co2                             float64\n",
       "Ech. comm. Angleterre                   float64\n",
       "Ech. comm. Espagne                      float64\n",
       "Ech. comm. Italie                       float64\n",
       "Ech. comm. Suisse                       float64\n",
       "Ech. comm. Allemagne-Belgique           float64\n",
       "Fioul - TAC                             float64\n",
       "Fioul - Cogén.                          float64\n",
       "Fioul - Autres                          float64\n",
       "Gaz - TAC                               float64\n",
       "Gaz - Cogén.                            float64\n",
       "Gaz - CCG                               float64\n",
       "Gaz - Autres                            float64\n",
       "Hydraulique - Fil de l?eau + éclusée    float64\n",
       "Hydraulique - Lacs                      float64\n",
       "Hydraulique - STEP turbinage            float64\n",
       "Bioénergies - Déchets                   float64\n",
       "Bioénergies - Biomasse                  float64\n",
       "Bioénergies - Biogaz                    float64\n",
       "dtype: object"
      ]
     },
     "execution_count": 16,
     "metadata": {},
     "output_type": "execute_result"
    }
   ],
   "source": [
    "for col in df_national.columns:\n",
    "    df_national[col] = pd.to_numeric(df_national[col], errors=\"coerce\")\n",
    "df_national.dtypes"
   ]
  },
  {
   "cell_type": "markdown",
   "metadata": {
    "extensions": {
     "jupyter_dashboards": {
      "version": 1,
      "views": {
       "grid_default": {
        "col": 0,
        "height": 4,
        "hidden": false,
        "row": 12,
        "width": 4
       },
       "report_default": {
        "hidden": false
       }
      }
     }
    }
   },
   "source": [
    "# Exploration du dataset"
   ]
  },
  {
   "cell_type": "markdown",
   "metadata": {},
   "source": [
    "## Réflexion"
   ]
  },
  {
   "cell_type": "markdown",
   "metadata": {},
   "source": [
    "A présent vous savez ce que vous avez dans vos données (cf. https://www.rte-france.com/eco2mix)<br/>\n",
    "\n",
    "Avant de vous lancer dans la mise en pratique, prenez quelques minutes (max 30 minutes) pour observer les données et les premières statistiques descriptives que vous avez trouvées : quelles questions vous posez-vous sur les données ? Qu'avez-vous envie d'explorer ? (essayez de ne pas vous laisser biaiser par les titres du Notebook)"
   ]
  },
  {
   "cell_type": "markdown",
   "metadata": {},
   "source": [
    "## Mise en application"
   ]
  },
  {
   "cell_type": "markdown",
   "metadata": {},
   "source": [
    "**TODO**\n",
    "    \n",
    "L'objectif ici est de **comprendre les données** présentes dans les deux dataframes que vous avez créés. Réfléchissez aux descripteurs statistiques les plus appropiés pour chaque question.  \n",
    "<br/>\n",
    "\n",
    "1. Dataset national\n",
    "    - Tracer la consommation nationale en fonction du temps\n",
    "    - Tracer la production des différentes sources. Quelle est la source de production largement majoritaire ?\n",
    "    - Afficher sur un même graphique : la production nucléaire, la consommation et la somme des échanges aux frontières. En déduire la signification du signe des échanges (positif ou négatif) ?\n",
    "    - Quelles sources ont un fonctionnement\n",
    "        - de \"base\" (production régulière) ?\n",
    "        - de \"pointe\" (production ponctuelle, uniquement lorsque la base ne suffit plus) ?\n",
    "\n",
    " <br/>\n",
    "2. Dataset régional\n",
    "    - Tracer sur un même graphique la consommation des différentes régions en fonction du temps\n",
    "    - Peut-on observer des différences comportementales significatives entre les régions ? (par ex entre une région du nord et une région du sud)\n",
    "    - Quelles régions sont les plus consommatrices ? Y a-t-il un moment dans l'année où la région IdF n'est pas la plus consommatrice ?\n",
    "    - Afficher la production nucléaire par région en ftc du temps. Dans quelles régions sont situées les centrales nucléaires ?\n",
    "    - Quelles régions produisent le plus de solaire / éolien ?\n",
    "    - Observer les informations concernant la région AuRA. Retrouver la signification du signe des échanges ? Pourquoi la région est-elle autant exportatrice ?\n",
    "\n",
    "**Aide**\n",
    "- la méthode **.plot()** fonctionne parfaitement avec un datetime en index\n",
    "- si vous utilisez un multiindex, la méthode **swaplevel** peut vous aider\n",
    "- attention aux **nan** pour les plots.."
   ]
  },
  {
   "cell_type": "markdown",
   "metadata": {},
   "source": [
    "# Dataset national"
   ]
  },
  {
   "cell_type": "code",
   "execution_count": 19,
   "metadata": {},
   "outputs": [
    {
     "name": "stdout",
     "output_type": "stream",
     "text": [
      "--> Périmètre\n",
      "--> Nature\n",
      "--> Consommation\n",
      "--> Prévision J-1\n",
      "--> Prévision J\n",
      "--> Fioul\n",
      "--> Charbon\n",
      "--> Gaz\n",
      "--> Nucléaire\n",
      "--> Eolien\n",
      "--> Solaire\n",
      "--> Hydraulique\n",
      "--> Pompage\n",
      "--> Bioénergies\n",
      "--> Ech. physiques\n",
      "--> Taux de Co2\n",
      "--> Ech. comm. Angleterre\n",
      "--> Ech. comm. Espagne\n",
      "--> Ech. comm. Italie\n",
      "--> Ech. comm. Suisse\n",
      "--> Ech. comm. Allemagne-Belgique\n",
      "--> Fioul - TAC\n",
      "--> Fioul - Cogén.\n",
      "--> Fioul - Autres\n",
      "--> Gaz - TAC\n",
      "--> Gaz - Cogén.\n",
      "--> Gaz - CCG\n",
      "--> Gaz - Autres\n",
      "--> Hydraulique - Fil de l?eau + éclusée\n",
      "--> Hydraulique - Lacs\n",
      "--> Hydraulique - STEP turbinage\n",
      "--> Bioénergies - Déchets\n",
      "--> Bioénergies - Biomasse\n",
      "--> Bioénergies - Biogaz\n"
     ]
    }
   ],
   "source": [
    "for el in df_national.columns:\n",
    "    print(f\"--> {el}\")"
   ]
  },
  {
   "cell_type": "markdown",
   "metadata": {},
   "source": [
    "## Overall energy consumption study"
   ]
  },
  {
   "cell_type": "code",
   "execution_count": 20,
   "metadata": {},
   "outputs": [],
   "source": [
    "colEnergy = [\n",
    "    \"Consommation\",\n",
    "    \"Fioul\", \n",
    "    \"Charbon\", \n",
    "    \"Gaz\", \n",
    "    \"Nucléaire\", \n",
    "    \"Eolien\", \n",
    "    \"Solaire\", \n",
    "    \"Hydraulique\", \n",
    "    \"Pompage\", \n",
    "    \"Bioénergies\"\n",
    "]"
   ]
  },
  {
   "cell_type": "markdown",
   "metadata": {},
   "source": [
    "#### Clean dataset"
   ]
  },
  {
   "cell_type": "code",
   "execution_count": 40,
   "metadata": {},
   "outputs": [
    {
     "name": "stdout",
     "output_type": "stream",
     "text": [
      "Before cleaning --> 245472 rows\n",
      "After cleaning --> 122736 rows\n"
     ]
    }
   ],
   "source": [
    "df_n_E = df_national.copy()\n",
    "df_n_E = df_n_E[colEnergy]\n",
    "print(f\"Before cleaning --> {df_n_E.shape[0]} rows\")\n",
    "df_n_E.dropna(axis=0, inplace=True)\n",
    "print(f\"After cleaning --> {df_n_E.shape[0]} rows\")\n",
    "df_n_E.sort_index(inplace=True)"
   ]
  },
  {
   "cell_type": "markdown",
   "metadata": {},
   "source": [
    "##### Plot Consommation = f(Annee) --> Raw"
   ]
  },
  {
   "cell_type": "code",
   "execution_count": 72,
   "metadata": {},
   "outputs": [
    {
     "data": {
      "text/html": [
       "<div>\n",
       "<style scoped>\n",
       "    .dataframe tbody tr th:only-of-type {\n",
       "        vertical-align: middle;\n",
       "    }\n",
       "\n",
       "    .dataframe tbody tr th {\n",
       "        vertical-align: top;\n",
       "    }\n",
       "\n",
       "    .dataframe thead th {\n",
       "        text-align: right;\n",
       "    }\n",
       "</style>\n",
       "<table border=\"1\" class=\"dataframe\">\n",
       "  <thead>\n",
       "    <tr style=\"text-align: right;\">\n",
       "      <th></th>\n",
       "      <th>Consommation</th>\n",
       "      <th>Fioul</th>\n",
       "      <th>Charbon</th>\n",
       "      <th>Gaz</th>\n",
       "      <th>Nucléaire</th>\n",
       "      <th>Eolien</th>\n",
       "      <th>Solaire</th>\n",
       "      <th>Hydraulique</th>\n",
       "      <th>Pompage</th>\n",
       "      <th>Bioénergies</th>\n",
       "      <th>year</th>\n",
       "    </tr>\n",
       "    <tr>\n",
       "      <th>datetime</th>\n",
       "      <th></th>\n",
       "      <th></th>\n",
       "      <th></th>\n",
       "      <th></th>\n",
       "      <th></th>\n",
       "      <th></th>\n",
       "      <th></th>\n",
       "      <th></th>\n",
       "      <th></th>\n",
       "      <th></th>\n",
       "      <th></th>\n",
       "    </tr>\n",
       "  </thead>\n",
       "  <tbody>\n",
       "    <tr>\n",
       "      <th>2012-01-01</th>\n",
       "      <td>51491.500000</td>\n",
       "      <td>492.687500</td>\n",
       "      <td>15.791667</td>\n",
       "      <td>3787.041667</td>\n",
       "      <td>44861.375000</td>\n",
       "      <td>3926.229167</td>\n",
       "      <td>130.312500</td>\n",
       "      <td>7655.666667</td>\n",
       "      <td>-1808.770833</td>\n",
       "      <td>696.062500</td>\n",
       "      <td>2012.0</td>\n",
       "    </tr>\n",
       "    <tr>\n",
       "      <th>2012-01-08</th>\n",
       "      <td>65269.312500</td>\n",
       "      <td>515.919643</td>\n",
       "      <td>112.773810</td>\n",
       "      <td>3993.511905</td>\n",
       "      <td>56097.113095</td>\n",
       "      <td>3533.961310</td>\n",
       "      <td>129.258929</td>\n",
       "      <td>9516.229167</td>\n",
       "      <td>-1136.619048</td>\n",
       "      <td>690.505952</td>\n",
       "      <td>2012.0</td>\n",
       "    </tr>\n",
       "    <tr>\n",
       "      <th>2012-01-15</th>\n",
       "      <td>69039.848214</td>\n",
       "      <td>493.303571</td>\n",
       "      <td>945.375000</td>\n",
       "      <td>5979.092262</td>\n",
       "      <td>58515.476190</td>\n",
       "      <td>1065.348214</td>\n",
       "      <td>196.110119</td>\n",
       "      <td>8977.720238</td>\n",
       "      <td>-742.583333</td>\n",
       "      <td>706.735119</td>\n",
       "      <td>2012.0</td>\n",
       "    </tr>\n",
       "    <tr>\n",
       "      <th>2012-01-22</th>\n",
       "      <td>70807.761905</td>\n",
       "      <td>683.782738</td>\n",
       "      <td>1837.309524</td>\n",
       "      <td>5855.872024</td>\n",
       "      <td>58454.342262</td>\n",
       "      <td>2940.267857</td>\n",
       "      <td>167.068452</td>\n",
       "      <td>8349.693452</td>\n",
       "      <td>-704.610119</td>\n",
       "      <td>692.601190</td>\n",
       "      <td>2012.0</td>\n",
       "    </tr>\n",
       "    <tr>\n",
       "      <th>2012-01-29</th>\n",
       "      <td>67422.461310</td>\n",
       "      <td>752.470238</td>\n",
       "      <td>898.785714</td>\n",
       "      <td>5829.839286</td>\n",
       "      <td>58191.452381</td>\n",
       "      <td>1120.464286</td>\n",
       "      <td>152.193452</td>\n",
       "      <td>9047.916667</td>\n",
       "      <td>-647.886905</td>\n",
       "      <td>705.351190</td>\n",
       "      <td>2012.0</td>\n",
       "    </tr>\n",
       "    <tr>\n",
       "      <th>...</th>\n",
       "      <td>...</td>\n",
       "      <td>...</td>\n",
       "      <td>...</td>\n",
       "      <td>...</td>\n",
       "      <td>...</td>\n",
       "      <td>...</td>\n",
       "      <td>...</td>\n",
       "      <td>...</td>\n",
       "      <td>...</td>\n",
       "      <td>...</td>\n",
       "      <td>...</td>\n",
       "    </tr>\n",
       "    <tr>\n",
       "      <th>2018-12-09</th>\n",
       "      <td>59325.133929</td>\n",
       "      <td>311.327381</td>\n",
       "      <td>563.479167</td>\n",
       "      <td>4834.532738</td>\n",
       "      <td>49752.550595</td>\n",
       "      <td>7387.895833</td>\n",
       "      <td>376.193452</td>\n",
       "      <td>6468.172619</td>\n",
       "      <td>-1001.872024</td>\n",
       "      <td>1143.869048</td>\n",
       "      <td>2018.0</td>\n",
       "    </tr>\n",
       "    <tr>\n",
       "      <th>2018-12-16</th>\n",
       "      <td>70325.482143</td>\n",
       "      <td>537.163690</td>\n",
       "      <td>250.410714</td>\n",
       "      <td>7015.702381</td>\n",
       "      <td>53454.794643</td>\n",
       "      <td>3103.693452</td>\n",
       "      <td>377.883929</td>\n",
       "      <td>8088.077381</td>\n",
       "      <td>-694.869048</td>\n",
       "      <td>1120.092262</td>\n",
       "      <td>2018.0</td>\n",
       "    </tr>\n",
       "    <tr>\n",
       "      <th>2018-12-23</th>\n",
       "      <td>64105.583333</td>\n",
       "      <td>323.452381</td>\n",
       "      <td>2.255952</td>\n",
       "      <td>5464.092262</td>\n",
       "      <td>52522.678571</td>\n",
       "      <td>7136.520833</td>\n",
       "      <td>354.267857</td>\n",
       "      <td>7204.133929</td>\n",
       "      <td>-867.678571</td>\n",
       "      <td>1125.032738</td>\n",
       "      <td>2018.0</td>\n",
       "    </tr>\n",
       "    <tr>\n",
       "      <th>2018-12-30</th>\n",
       "      <td>62586.889881</td>\n",
       "      <td>235.741071</td>\n",
       "      <td>413.523810</td>\n",
       "      <td>4192.520833</td>\n",
       "      <td>54374.866071</td>\n",
       "      <td>1642.883929</td>\n",
       "      <td>440.877976</td>\n",
       "      <td>6787.809524</td>\n",
       "      <td>-899.285714</td>\n",
       "      <td>1138.613095</td>\n",
       "      <td>2018.0</td>\n",
       "    </tr>\n",
       "    <tr>\n",
       "      <th>2019-01-06</th>\n",
       "      <td>62406.187500</td>\n",
       "      <td>371.354167</td>\n",
       "      <td>10.895833</td>\n",
       "      <td>5058.166667</td>\n",
       "      <td>55921.895833</td>\n",
       "      <td>1623.770833</td>\n",
       "      <td>389.333333</td>\n",
       "      <td>5231.145833</td>\n",
       "      <td>-1116.041667</td>\n",
       "      <td>1149.916667</td>\n",
       "      <td>2018.0</td>\n",
       "    </tr>\n",
       "  </tbody>\n",
       "</table>\n",
       "<p>367 rows × 11 columns</p>\n",
       "</div>"
      ],
      "text/plain": [
       "            Consommation       Fioul      Charbon          Gaz     Nucléaire  \\\n",
       "datetime                                                                       \n",
       "2012-01-01  51491.500000  492.687500    15.791667  3787.041667  44861.375000   \n",
       "2012-01-08  65269.312500  515.919643   112.773810  3993.511905  56097.113095   \n",
       "2012-01-15  69039.848214  493.303571   945.375000  5979.092262  58515.476190   \n",
       "2012-01-22  70807.761905  683.782738  1837.309524  5855.872024  58454.342262   \n",
       "2012-01-29  67422.461310  752.470238   898.785714  5829.839286  58191.452381   \n",
       "...                  ...         ...          ...          ...           ...   \n",
       "2018-12-09  59325.133929  311.327381   563.479167  4834.532738  49752.550595   \n",
       "2018-12-16  70325.482143  537.163690   250.410714  7015.702381  53454.794643   \n",
       "2018-12-23  64105.583333  323.452381     2.255952  5464.092262  52522.678571   \n",
       "2018-12-30  62586.889881  235.741071   413.523810  4192.520833  54374.866071   \n",
       "2019-01-06  62406.187500  371.354167    10.895833  5058.166667  55921.895833   \n",
       "\n",
       "                 Eolien     Solaire  Hydraulique      Pompage  Bioénergies  \\\n",
       "datetime                                                                     \n",
       "2012-01-01  3926.229167  130.312500  7655.666667 -1808.770833   696.062500   \n",
       "2012-01-08  3533.961310  129.258929  9516.229167 -1136.619048   690.505952   \n",
       "2012-01-15  1065.348214  196.110119  8977.720238  -742.583333   706.735119   \n",
       "2012-01-22  2940.267857  167.068452  8349.693452  -704.610119   692.601190   \n",
       "2012-01-29  1120.464286  152.193452  9047.916667  -647.886905   705.351190   \n",
       "...                 ...         ...          ...          ...          ...   \n",
       "2018-12-09  7387.895833  376.193452  6468.172619 -1001.872024  1143.869048   \n",
       "2018-12-16  3103.693452  377.883929  8088.077381  -694.869048  1120.092262   \n",
       "2018-12-23  7136.520833  354.267857  7204.133929  -867.678571  1125.032738   \n",
       "2018-12-30  1642.883929  440.877976  6787.809524  -899.285714  1138.613095   \n",
       "2019-01-06  1623.770833  389.333333  5231.145833 -1116.041667  1149.916667   \n",
       "\n",
       "              year  \n",
       "datetime            \n",
       "2012-01-01  2012.0  \n",
       "2012-01-08  2012.0  \n",
       "2012-01-15  2012.0  \n",
       "2012-01-22  2012.0  \n",
       "2012-01-29  2012.0  \n",
       "...            ...  \n",
       "2018-12-09  2018.0  \n",
       "2018-12-16  2018.0  \n",
       "2018-12-23  2018.0  \n",
       "2018-12-30  2018.0  \n",
       "2019-01-06  2018.0  \n",
       "\n",
       "[367 rows x 11 columns]"
      ]
     },
     "execution_count": 72,
     "metadata": {},
     "output_type": "execute_result"
    }
   ],
   "source": [
    "df_n_E.resample(\"W\").mean()"
   ]
  },
  {
   "cell_type": "code",
   "execution_count": 73,
   "metadata": {},
   "outputs": [
    {
     "data": {
      "text/html": [
       "<svg  width=\"660\" height=\"55\"><rect x=\"0\" y=\"0\" width=\"55\" height=\"55\" style=\"fill:#4878d0;stroke-width:2;stroke:rgb(255,255,255)\"/><rect x=\"55\" y=\"0\" width=\"55\" height=\"55\" style=\"fill:#ee854a;stroke-width:2;stroke:rgb(255,255,255)\"/><rect x=\"110\" y=\"0\" width=\"55\" height=\"55\" style=\"fill:#6acc64;stroke-width:2;stroke:rgb(255,255,255)\"/><rect x=\"165\" y=\"0\" width=\"55\" height=\"55\" style=\"fill:#d65f5f;stroke-width:2;stroke:rgb(255,255,255)\"/><rect x=\"220\" y=\"0\" width=\"55\" height=\"55\" style=\"fill:#956cb4;stroke-width:2;stroke:rgb(255,255,255)\"/><rect x=\"275\" y=\"0\" width=\"55\" height=\"55\" style=\"fill:#8c613c;stroke-width:2;stroke:rgb(255,255,255)\"/><rect x=\"330\" y=\"0\" width=\"55\" height=\"55\" style=\"fill:#dc7ec0;stroke-width:2;stroke:rgb(255,255,255)\"/><rect x=\"385\" y=\"0\" width=\"55\" height=\"55\" style=\"fill:#797979;stroke-width:2;stroke:rgb(255,255,255)\"/><rect x=\"440\" y=\"0\" width=\"55\" height=\"55\" style=\"fill:#d5bb67;stroke-width:2;stroke:rgb(255,255,255)\"/><rect x=\"495\" y=\"0\" width=\"55\" height=\"55\" style=\"fill:#82c6e2;stroke-width:2;stroke:rgb(255,255,255)\"/><rect x=\"550\" y=\"0\" width=\"55\" height=\"55\" style=\"fill:#4878d0;stroke-width:2;stroke:rgb(255,255,255)\"/><rect x=\"605\" y=\"0\" width=\"55\" height=\"55\" style=\"fill:#ee854a;stroke-width:2;stroke:rgb(255,255,255)\"/></svg>"
      ],
      "text/plain": [
       "[(0.2823529411764706, 0.47058823529411764, 0.8156862745098039),\n",
       " (0.9333333333333333, 0.5215686274509804, 0.2901960784313726),\n",
       " (0.41568627450980394, 0.8, 0.39215686274509803),\n",
       " (0.8392156862745098, 0.37254901960784315, 0.37254901960784315),\n",
       " (0.5843137254901961, 0.4235294117647059, 0.7058823529411765),\n",
       " (0.5490196078431373, 0.3803921568627451, 0.23529411764705882),\n",
       " (0.8627450980392157, 0.49411764705882355, 0.7529411764705882),\n",
       " (0.4745098039215686, 0.4745098039215686, 0.4745098039215686),\n",
       " (0.8352941176470589, 0.7333333333333333, 0.403921568627451),\n",
       " (0.5098039215686274, 0.7764705882352941, 0.8862745098039215),\n",
       " (0.2823529411764706, 0.47058823529411764, 0.8156862745098039),\n",
       " (0.9333333333333333, 0.5215686274509804, 0.2901960784313726)]"
      ]
     },
     "execution_count": 73,
     "metadata": {},
     "output_type": "execute_result"
    }
   ],
   "source": [
    "colors = sns.color_palette('muted', n_colors=12)\n",
    "colors"
   ]
  },
  {
   "cell_type": "markdown",
   "metadata": {},
   "source": [
    "#### Overall 8 years time study"
   ]
  },
  {
   "cell_type": "code",
   "execution_count": 74,
   "metadata": {},
   "outputs": [
    {
     "data": {
      "text/plain": [
       "<matplotlib.legend.Legend at 0x7ff201842fa0>"
      ]
     },
     "execution_count": 74,
     "metadata": {},
     "output_type": "execute_result"
    },
    {
     "data": {
      "image/png": "[encoded data removed]",
      "text/plain": [
       "<Figure size 1000x600 with 1 Axes>"
      ]
     },
     "metadata": {},
     "output_type": "display_data"
    }
   ],
   "source": [
    "fig = plt.figure(layout=\"tight\", figsize=(10, 6))\n",
    "fig.suptitle(\"Consomation d'Energie en France\", fontsize=20)\n",
    "ax = fig.subplots()\n",
    "\n",
    "ax = sns.lineplot(\n",
    "    x=df_n_E.index, \n",
    "    y=df_n_E[\"Consommation\"].values,\n",
    "    color=colors[4]\n",
    ")\n",
    "ax = sns.lineplot(\n",
    "    x=df_n_E.resample(\"W\").mean().index, \n",
    "    y=df_n_E[\"Consommation\"].resample(\"W\").mean().values,\n",
    "    color=colors[6]\n",
    ")\n",
    "ax = sns.lineplot(\n",
    "    x=df_n_E.resample(\"M\").mean().index, \n",
    "    y=df_n_E[\"Consommation\"].resample(\"M\").mean().values,\n",
    "    color=colors[9]\n",
    ")\n",
    "\n",
    "ax.set_xlabel(\"Années\", loc=\"center\", fontsize=15)\n",
    "ax.set_ylabel(\"Consommation (MJ)\", loc=\"center\", fontsize=15)#, c=colors[color1])\n",
    "fig.legend([\"15mnn range\", \"Semaine\", \"Mois\"],loc=(0.82, 0.8))\n"
   ]
  },
  {
   "cell_type": "markdown",
   "metadata": {},
   "source": [
    "#### Overall 8 years time study"
   ]
  },
  {
   "cell_type": "code",
   "execution_count": 82,
   "metadata": {},
   "outputs": [
    {
     "ename": "KeyError",
     "evalue": "'index'",
     "output_type": "error",
     "traceback": [
      "\u001b[0;31m---------------------------------------------------------------------------\u001b[0m",
      "\u001b[0;31mKeyError\u001b[0m                                  Traceback (most recent call last)",
      "\u001b[0;32m~/anaconda3/lib/python3.9/site-packages/pandas/core/indexes/base.py\u001b[0m in \u001b[0;36mget_loc\u001b[0;34m(self, key, method, tolerance)\u001b[0m\n\u001b[1;32m   3628\u001b[0m             \u001b[0;32mtry\u001b[0m\u001b[0;34m:\u001b[0m\u001b[0;34m\u001b[0m\u001b[0;34m\u001b[0m\u001b[0m\n\u001b[0;32m-> 3629\u001b[0;31m                 \u001b[0;32mreturn\u001b[0m \u001b[0mself\u001b[0m\u001b[0;34m.\u001b[0m\u001b[0m_engine\u001b[0m\u001b[0;34m.\u001b[0m\u001b[0mget_loc\u001b[0m\u001b[0;34m(\u001b[0m\u001b[0mcasted_key\u001b[0m\u001b[0;34m)\u001b[0m\u001b[0;34m\u001b[0m\u001b[0;34m\u001b[0m\u001b[0m\n\u001b[0m\u001b[1;32m   3630\u001b[0m             \u001b[0;32mexcept\u001b[0m \u001b[0mKeyError\u001b[0m \u001b[0;32mas\u001b[0m \u001b[0merr\u001b[0m\u001b[0;34m:\u001b[0m\u001b[0;34m\u001b[0m\u001b[0;34m\u001b[0m\u001b[0m\n",
      "\u001b[0;32m~/anaconda3/lib/python3.9/site-packages/pandas/_libs/index.pyx\u001b[0m in \u001b[0;36mpandas._libs.index.IndexEngine.get_loc\u001b[0;34m()\u001b[0m\n",
      "\u001b[0;32m~/anaconda3/lib/python3.9/site-packages/pandas/_libs/index.pyx\u001b[0m in \u001b[0;36mpandas._libs.index.IndexEngine.get_loc\u001b[0;34m()\u001b[0m\n",
      "\u001b[0;32mpandas/_libs/hashtable_class_helper.pxi\u001b[0m in \u001b[0;36mpandas._libs.hashtable.PyObjectHashTable.get_item\u001b[0;34m()\u001b[0m\n",
      "\u001b[0;32mpandas/_libs/hashtable_class_helper.pxi\u001b[0m in \u001b[0;36mpandas._libs.hashtable.PyObjectHashTable.get_item\u001b[0;34m()\u001b[0m\n",
      "\u001b[0;31mKeyError\u001b[0m: 'index'",
      "\nThe above exception was the direct cause of the following exception:\n",
      "\u001b[0;31mKeyError\u001b[0m                                  Traceback (most recent call last)",
      "\u001b[0;32m/tmp/ipykernel_13043/1066529634.py\u001b[0m in \u001b[0;36m<module>\u001b[0;34m\u001b[0m\n\u001b[1;32m      6\u001b[0m \u001b[0;34m\u001b[0m\u001b[0m\n\u001b[1;32m      7\u001b[0m \u001b[0;31m# Calculate the elapsed time in seconds since the start of the dataset\u001b[0m\u001b[0;34m\u001b[0m\u001b[0;34m\u001b[0m\u001b[0m\n\u001b[0;32m----> 8\u001b[0;31m \u001b[0mstart_time\u001b[0m \u001b[0;34m=\u001b[0m \u001b[0mdf_yearly\u001b[0m\u001b[0;34m[\u001b[0m\u001b[0;34m'index'\u001b[0m\u001b[0;34m]\u001b[0m\u001b[0;34m.\u001b[0m\u001b[0mmin\u001b[0m\u001b[0;34m(\u001b[0m\u001b[0;34m)\u001b[0m\u001b[0;34m\u001b[0m\u001b[0;34m\u001b[0m\u001b[0m\n\u001b[0m\u001b[1;32m      9\u001b[0m \u001b[0mdf_yearly\u001b[0m\u001b[0;34m[\u001b[0m\u001b[0;34m'Elapsed_Time'\u001b[0m\u001b[0;34m]\u001b[0m \u001b[0;34m=\u001b[0m \u001b[0;34m(\u001b[0m\u001b[0mdf_yearly\u001b[0m\u001b[0;34m[\u001b[0m\u001b[0;34m'index'\u001b[0m\u001b[0;34m]\u001b[0m \u001b[0;34m-\u001b[0m \u001b[0mstart_time\u001b[0m\u001b[0;34m)\u001b[0m\u001b[0;34m.\u001b[0m\u001b[0mdt\u001b[0m\u001b[0;34m.\u001b[0m\u001b[0mtotal_seconds\u001b[0m\u001b[0;34m(\u001b[0m\u001b[0;34m)\u001b[0m\u001b[0;34m\u001b[0m\u001b[0;34m\u001b[0m\u001b[0m\n\u001b[1;32m     10\u001b[0m \u001b[0;34m\u001b[0m\u001b[0m\n",
      "\u001b[0;32m~/anaconda3/lib/python3.9/site-packages/pandas/core/frame.py\u001b[0m in \u001b[0;36m__getitem__\u001b[0;34m(self, key)\u001b[0m\n\u001b[1;32m   3503\u001b[0m             \u001b[0;32mif\u001b[0m \u001b[0mself\u001b[0m\u001b[0;34m.\u001b[0m\u001b[0mcolumns\u001b[0m\u001b[0;34m.\u001b[0m\u001b[0mnlevels\u001b[0m \u001b[0;34m>\u001b[0m \u001b[0;36m1\u001b[0m\u001b[0;34m:\u001b[0m\u001b[0;34m\u001b[0m\u001b[0;34m\u001b[0m\u001b[0m\n\u001b[1;32m   3504\u001b[0m                 \u001b[0;32mreturn\u001b[0m \u001b[0mself\u001b[0m\u001b[0;34m.\u001b[0m\u001b[0m_getitem_multilevel\u001b[0m\u001b[0;34m(\u001b[0m\u001b[0mkey\u001b[0m\u001b[0;34m)\u001b[0m\u001b[0;34m\u001b[0m\u001b[0;34m\u001b[0m\u001b[0m\n\u001b[0;32m-> 3505\u001b[0;31m             \u001b[0mindexer\u001b[0m \u001b[0;34m=\u001b[0m \u001b[0mself\u001b[0m\u001b[0;34m.\u001b[0m\u001b[0mcolumns\u001b[0m\u001b[0;34m.\u001b[0m\u001b[0mget_loc\u001b[0m\u001b[0;34m(\u001b[0m\u001b[0mkey\u001b[0m\u001b[0;34m)\u001b[0m\u001b[0;34m\u001b[0m\u001b[0;34m\u001b[0m\u001b[0m\n\u001b[0m\u001b[1;32m   3506\u001b[0m             \u001b[0;32mif\u001b[0m \u001b[0mis_integer\u001b[0m\u001b[0;34m(\u001b[0m\u001b[0mindexer\u001b[0m\u001b[0;34m)\u001b[0m\u001b[0;34m:\u001b[0m\u001b[0;34m\u001b[0m\u001b[0;34m\u001b[0m\u001b[0m\n\u001b[1;32m   3507\u001b[0m                 \u001b[0mindexer\u001b[0m \u001b[0;34m=\u001b[0m \u001b[0;34m[\u001b[0m\u001b[0mindexer\u001b[0m\u001b[0;34m]\u001b[0m\u001b[0;34m\u001b[0m\u001b[0;34m\u001b[0m\u001b[0m\n",
      "\u001b[0;32m~/anaconda3/lib/python3.9/site-packages/pandas/core/indexes/base.py\u001b[0m in \u001b[0;36mget_loc\u001b[0;34m(self, key, method, tolerance)\u001b[0m\n\u001b[1;32m   3629\u001b[0m                 \u001b[0;32mreturn\u001b[0m \u001b[0mself\u001b[0m\u001b[0;34m.\u001b[0m\u001b[0m_engine\u001b[0m\u001b[0;34m.\u001b[0m\u001b[0mget_loc\u001b[0m\u001b[0;34m(\u001b[0m\u001b[0mcasted_key\u001b[0m\u001b[0;34m)\u001b[0m\u001b[0;34m\u001b[0m\u001b[0;34m\u001b[0m\u001b[0m\n\u001b[1;32m   3630\u001b[0m             \u001b[0;32mexcept\u001b[0m \u001b[0mKeyError\u001b[0m \u001b[0;32mas\u001b[0m \u001b[0merr\u001b[0m\u001b[0;34m:\u001b[0m\u001b[0;34m\u001b[0m\u001b[0;34m\u001b[0m\u001b[0m\n\u001b[0;32m-> 3631\u001b[0;31m                 \u001b[0;32mraise\u001b[0m \u001b[0mKeyError\u001b[0m\u001b[0;34m(\u001b[0m\u001b[0mkey\u001b[0m\u001b[0;34m)\u001b[0m \u001b[0;32mfrom\u001b[0m \u001b[0merr\u001b[0m\u001b[0;34m\u001b[0m\u001b[0;34m\u001b[0m\u001b[0m\n\u001b[0m\u001b[1;32m   3632\u001b[0m             \u001b[0;32mexcept\u001b[0m \u001b[0mTypeError\u001b[0m\u001b[0;34m:\u001b[0m\u001b[0;34m\u001b[0m\u001b[0;34m\u001b[0m\u001b[0m\n\u001b[1;32m   3633\u001b[0m                 \u001b[0;31m# If we have a listlike key, _check_indexing_error will raise\u001b[0m\u001b[0;34m\u001b[0m\u001b[0;34m\u001b[0m\u001b[0m\n",
      "\u001b[0;31mKeyError\u001b[0m: 'index'"
     ]
    }
   ],
   "source": [
    "df = df_n_E.copy()\n",
    "df_yearly = df.resample('Y').mean()\n",
    "\n",
    "# Reset the index to create a DataFrame with a continuous index\n",
    "df_yearly = df_yearly.reset_index()\n",
    "\n",
    "# Calculate the elapsed time in seconds since the start of the dataset\n",
    "start_time = df_yearly['index'].min()\n",
    "df_yearly['Elapsed_Time'] = (df_yearly['index'] - start_time).dt.total_seconds()\n",
    "\n",
    "# Normalize the elapsed time to represent years\n",
    "df_yearly['Normalized_Time'] = df_yearly['Elapsed_Time'] / (365 * 24 * 60 * 60)\n",
    "\n",
    "# Plot the data as a line plot with a continuous x-axis\n",
    "fig, ax = plt.subplots(figsize=(10, 6))\n",
    "sns.lineplot(x='Normalized_Time', y='Consommation', data=df_yearly, ax=ax)\n",
    "\n",
    "# Add a title and axis labels\n",
    "ax.set_title('Consommation by year')\n",
    "ax.set_xlabel('Time (years)')\n",
    "ax.set_ylabel('Consommation')\n",
    "\n",
    "# Show the plot\n",
    "plt.show()"
   ]
  },
  {
   "cell_type": "code",
   "execution_count": 76,
   "metadata": {},
   "outputs": [
    {
     "data": {
      "image/png": "[encoded data removed]",
      "text/plain": [
       "<Figure size 1000x600 with 1 Axes>"
      ]
     },
     "metadata": {},
     "output_type": "display_data"
    }
   ],
   "source": [
    "df_yearly = df_n_E.groupby(df_n_E.index.year)\n",
    "fig = plt.figure(layout=\"tight\", figsize=(10, 6))\n",
    "fig.suptitle(\"Consomation d'Energie en France\", fontsize=20)\n",
    "ax = fig.subplots()\n",
    "# Plot each group separately using a loop\n",
    "for i, (year, data) in enumerate(df_yearly):\n",
    "    ax = sns.lineplot(x=data.index, y=data['Consommation'], label=str(year), color=colors[i])\n",
    "\n"
   ]
  },
  {
   "cell_type": "markdown",
   "metadata": {},
   "source": [
    "### Plot Consommation = f(Annee) --> Bar and bin size"
   ]
  },
  {
   "cell_type": "markdown",
   "metadata": {},
   "source": [
    "#### production des différentes sources"
   ]
  },
  {
   "cell_type": "code",
   "execution_count": 22,
   "metadata": {},
   "outputs": [
    {
     "data": {
      "text/plain": [
       "Index(['Consommation', 'Prévision J-1', 'Prévision J', 'Fioul', 'Charbon',\n",
       "       'Gaz', 'Nucléaire', 'Eolien', 'Solaire', 'Hydraulique', 'Pompage',\n",
       "       'Bioénergies', 'Ech. physiques', 'Taux de Co2', 'Ech. comm. Angleterre',\n",
       "       'Ech. comm. Espagne', 'Ech. comm. Italie', 'Ech. comm. Suisse',\n",
       "       'Ech. comm. Allemagne-Belgique', 'Fioul - TAC', 'Fioul - Cogén.',\n",
       "       'Fioul - Autres', 'Gaz - TAC', 'Gaz - Cogén.', 'Gaz - CCG',\n",
       "       'Gaz - Autres', 'Hydraulique - Fil de l?eau + éclusée',\n",
       "       'Hydraulique - Lacs', 'Hydraulique - STEP turbinage',\n",
       "       'Bioénergies - Déchets', 'Bioénergies - Biomasse',\n",
       "       'Bioénergies - Biogaz'],\n",
       "      dtype='object')"
      ]
     },
     "execution_count": 22,
     "metadata": {},
     "output_type": "execute_result"
    }
   ],
   "source": [
    "df_n.columns"
   ]
  },
  {
   "cell_type": "code",
   "execution_count": 23,
   "metadata": {},
   "outputs": [
    {
     "ename": "IndexError",
     "evalue": "index 0 is out of bounds for axis 0 with size 0",
     "output_type": "error",
     "traceback": [
      "\u001b[0;31m---------------------------------------------------------------------------\u001b[0m",
      "\u001b[0;31mIndexError\u001b[0m                                Traceback (most recent call last)",
      "\u001b[0;32m/tmp/ipykernel_9279/2983066644.py\u001b[0m in \u001b[0;36m<module>\u001b[0;34m\u001b[0m\n\u001b[1;32m      1\u001b[0m \u001b[0mliste_energie\u001b[0m \u001b[0;34m=\u001b[0m \u001b[0;34m[\u001b[0m\u001b[0;34m'Fioul'\u001b[0m\u001b[0;34m,\u001b[0m \u001b[0;34m'Charbon'\u001b[0m\u001b[0;34m,\u001b[0m \u001b[0;34m'Gaz'\u001b[0m\u001b[0;34m,\u001b[0m \u001b[0;34m'Nucléaire'\u001b[0m\u001b[0;34m,\u001b[0m \u001b[0;34m'Eolien'\u001b[0m\u001b[0;34m,\u001b[0m \u001b[0;34m'Solaire'\u001b[0m\u001b[0;34m,\u001b[0m \u001b[0;34m'Hydraulique'\u001b[0m\u001b[0;34m,\u001b[0m \u001b[0;34m'Pompage'\u001b[0m\u001b[0;34m,\u001b[0m \u001b[0;34m'Bioénergies'\u001b[0m\u001b[0;34m]\u001b[0m\u001b[0;34m\u001b[0m\u001b[0;34m\u001b[0m\u001b[0m\n\u001b[0;32m----> 2\u001b[0;31m \u001b[0mdf_n\u001b[0m\u001b[0;34m.\u001b[0m\u001b[0mgroupby\u001b[0m\u001b[0;34m(\u001b[0m\u001b[0mpd\u001b[0m\u001b[0;34m.\u001b[0m\u001b[0mGrouper\u001b[0m\u001b[0;34m(\u001b[0m\u001b[0mfreq\u001b[0m\u001b[0;34m=\u001b[0m\u001b[0;34m\"M\"\u001b[0m\u001b[0;34m)\u001b[0m\u001b[0;34m)\u001b[0m\u001b[0;34m.\u001b[0m\u001b[0mmean\u001b[0m\u001b[0;34m(\u001b[0m\u001b[0;34m)\u001b[0m\u001b[0;34m.\u001b[0m\u001b[0mplot\u001b[0m\u001b[0;34m.\u001b[0m\u001b[0mbar\u001b[0m\u001b[0;34m(\u001b[0m\u001b[0my\u001b[0m\u001b[0;34m=\u001b[0m\u001b[0mliste_energie\u001b[0m\u001b[0;34m,\u001b[0m\u001b[0mfigsize\u001b[0m\u001b[0;34m=\u001b[0m\u001b[0;34m(\u001b[0m\u001b[0;36m50\u001b[0m\u001b[0;34m,\u001b[0m\u001b[0;36m7\u001b[0m\u001b[0;34m)\u001b[0m\u001b[0;34m,\u001b[0m\u001b[0mtitle\u001b[0m \u001b[0;34m=\u001b[0m \u001b[0;34m\"Prévision de production d'electricité en France en fonction du temps\"\u001b[0m\u001b[0;34m,\u001b[0m \u001b[0mylabel\u001b[0m \u001b[0;34m=\u001b[0m \u001b[0;34m'Consommation en MW'\u001b[0m\u001b[0;34m,\u001b[0m \u001b[0mstacked\u001b[0m\u001b[0;34m=\u001b[0m\u001b[0;32mTrue\u001b[0m\u001b[0;34m)\u001b[0m\u001b[0;34m\u001b[0m\u001b[0;34m\u001b[0m\u001b[0m\n\u001b[0m",
      "\u001b[0;32m~/anaconda3/lib/python3.9/site-packages/pandas/plotting/_core.py\u001b[0m in \u001b[0;36mbar\u001b[0;34m(self, x, y, **kwargs)\u001b[0m\n\u001b[1;32m   1129\u001b[0m         \u001b[0mother\u001b[0m \u001b[0maxis\u001b[0m \u001b[0mrepresents\u001b[0m \u001b[0ma\u001b[0m \u001b[0mmeasured\u001b[0m \u001b[0mvalue\u001b[0m\u001b[0;34m.\u001b[0m\u001b[0;34m\u001b[0m\u001b[0;34m\u001b[0m\u001b[0m\n\u001b[1;32m   1130\u001b[0m         \"\"\"\n\u001b[0;32m-> 1131\u001b[0;31m         \u001b[0;32mreturn\u001b[0m \u001b[0mself\u001b[0m\u001b[0;34m(\u001b[0m\u001b[0mkind\u001b[0m\u001b[0;34m=\u001b[0m\u001b[0;34m\"bar\"\u001b[0m\u001b[0;34m,\u001b[0m \u001b[0mx\u001b[0m\u001b[0;34m=\u001b[0m\u001b[0mx\u001b[0m\u001b[0;34m,\u001b[0m \u001b[0my\u001b[0m\u001b[0;34m=\u001b[0m\u001b[0my\u001b[0m\u001b[0;34m,\u001b[0m \u001b[0;34m**\u001b[0m\u001b[0mkwargs\u001b[0m\u001b[0;34m)\u001b[0m\u001b[0;34m\u001b[0m\u001b[0;34m\u001b[0m\u001b[0m\n\u001b[0m\u001b[1;32m   1132\u001b[0m \u001b[0;34m\u001b[0m\u001b[0m\n\u001b[1;32m   1133\u001b[0m     @Appender(\n",
      "\u001b[0;32m~/anaconda3/lib/python3.9/site-packages/pandas/plotting/_core.py\u001b[0m in \u001b[0;36m__call__\u001b[0;34m(self, *args, **kwargs)\u001b[0m\n\u001b[1;32m    970\u001b[0m                     \u001b[0mdata\u001b[0m\u001b[0;34m.\u001b[0m\u001b[0mcolumns\u001b[0m \u001b[0;34m=\u001b[0m \u001b[0mlabel_name\u001b[0m\u001b[0;34m\u001b[0m\u001b[0;34m\u001b[0m\u001b[0m\n\u001b[1;32m    971\u001b[0m \u001b[0;34m\u001b[0m\u001b[0m\n\u001b[0;32m--> 972\u001b[0;31m         \u001b[0;32mreturn\u001b[0m \u001b[0mplot_backend\u001b[0m\u001b[0;34m.\u001b[0m\u001b[0mplot\u001b[0m\u001b[0;34m(\u001b[0m\u001b[0mdata\u001b[0m\u001b[0;34m,\u001b[0m \u001b[0mkind\u001b[0m\u001b[0;34m=\u001b[0m\u001b[0mkind\u001b[0m\u001b[0;34m,\u001b[0m \u001b[0;34m**\u001b[0m\u001b[0mkwargs\u001b[0m\u001b[0;34m)\u001b[0m\u001b[0;34m\u001b[0m\u001b[0;34m\u001b[0m\u001b[0m\n\u001b[0m\u001b[1;32m    973\u001b[0m \u001b[0;34m\u001b[0m\u001b[0m\n\u001b[1;32m    974\u001b[0m     \u001b[0m__call__\u001b[0m\u001b[0;34m.\u001b[0m\u001b[0m__doc__\u001b[0m \u001b[0;34m=\u001b[0m \u001b[0m__doc__\u001b[0m\u001b[0;34m\u001b[0m\u001b[0;34m\u001b[0m\u001b[0m\n",
      "\u001b[0;32m~/anaconda3/lib/python3.9/site-packages/pandas/plotting/_matplotlib/__init__.py\u001b[0m in \u001b[0;36mplot\u001b[0;34m(data, kind, **kwargs)\u001b[0m\n\u001b[1;32m     69\u001b[0m             \u001b[0mkwargs\u001b[0m\u001b[0;34m[\u001b[0m\u001b[0;34m\"ax\"\u001b[0m\u001b[0;34m]\u001b[0m \u001b[0;34m=\u001b[0m \u001b[0mgetattr\u001b[0m\u001b[0;34m(\u001b[0m\u001b[0max\u001b[0m\u001b[0;34m,\u001b[0m \u001b[0;34m\"left_ax\"\u001b[0m\u001b[0;34m,\u001b[0m \u001b[0max\u001b[0m\u001b[0;34m)\u001b[0m\u001b[0;34m\u001b[0m\u001b[0;34m\u001b[0m\u001b[0m\n\u001b[1;32m     70\u001b[0m     \u001b[0mplot_obj\u001b[0m \u001b[0;34m=\u001b[0m \u001b[0mPLOT_CLASSES\u001b[0m\u001b[0;34m[\u001b[0m\u001b[0mkind\u001b[0m\u001b[0;34m]\u001b[0m\u001b[0;34m(\u001b[0m\u001b[0mdata\u001b[0m\u001b[0;34m,\u001b[0m \u001b[0;34m**\u001b[0m\u001b[0mkwargs\u001b[0m\u001b[0;34m)\u001b[0m\u001b[0;34m\u001b[0m\u001b[0;34m\u001b[0m\u001b[0m\n\u001b[0;32m---> 71\u001b[0;31m     \u001b[0mplot_obj\u001b[0m\u001b[0;34m.\u001b[0m\u001b[0mgenerate\u001b[0m\u001b[0;34m(\u001b[0m\u001b[0;34m)\u001b[0m\u001b[0;34m\u001b[0m\u001b[0;34m\u001b[0m\u001b[0m\n\u001b[0m\u001b[1;32m     72\u001b[0m     \u001b[0mplot_obj\u001b[0m\u001b[0;34m.\u001b[0m\u001b[0mdraw\u001b[0m\u001b[0;34m(\u001b[0m\u001b[0;34m)\u001b[0m\u001b[0;34m\u001b[0m\u001b[0;34m\u001b[0m\u001b[0m\n\u001b[1;32m     73\u001b[0m     \u001b[0;32mreturn\u001b[0m \u001b[0mplot_obj\u001b[0m\u001b[0;34m.\u001b[0m\u001b[0mresult\u001b[0m\u001b[0;34m\u001b[0m\u001b[0;34m\u001b[0m\u001b[0m\n",
      "\u001b[0;32m~/anaconda3/lib/python3.9/site-packages/pandas/plotting/_matplotlib/core.py\u001b[0m in \u001b[0;36mgenerate\u001b[0;34m(self)\u001b[0m\n\u001b[1;32m    334\u001b[0m         \u001b[0;32mfor\u001b[0m \u001b[0max\u001b[0m \u001b[0;32min\u001b[0m \u001b[0mself\u001b[0m\u001b[0;34m.\u001b[0m\u001b[0maxes\u001b[0m\u001b[0;34m:\u001b[0m\u001b[0;34m\u001b[0m\u001b[0;34m\u001b[0m\u001b[0m\n\u001b[1;32m    335\u001b[0m             \u001b[0mself\u001b[0m\u001b[0;34m.\u001b[0m\u001b[0m_post_plot_logic_common\u001b[0m\u001b[0;34m(\u001b[0m\u001b[0max\u001b[0m\u001b[0;34m,\u001b[0m \u001b[0mself\u001b[0m\u001b[0;34m.\u001b[0m\u001b[0mdata\u001b[0m\u001b[0;34m)\u001b[0m\u001b[0;34m\u001b[0m\u001b[0;34m\u001b[0m\u001b[0m\n\u001b[0;32m--> 336\u001b[0;31m             \u001b[0mself\u001b[0m\u001b[0;34m.\u001b[0m\u001b[0m_post_plot_logic\u001b[0m\u001b[0;34m(\u001b[0m\u001b[0max\u001b[0m\u001b[0;34m,\u001b[0m \u001b[0mself\u001b[0m\u001b[0;34m.\u001b[0m\u001b[0mdata\u001b[0m\u001b[0;34m)\u001b[0m\u001b[0;34m\u001b[0m\u001b[0;34m\u001b[0m\u001b[0m\n\u001b[0m\u001b[1;32m    337\u001b[0m \u001b[0;34m\u001b[0m\u001b[0m\n\u001b[1;32m    338\u001b[0m     \u001b[0;32mdef\u001b[0m \u001b[0m_args_adjust\u001b[0m\u001b[0;34m(\u001b[0m\u001b[0mself\u001b[0m\u001b[0;34m)\u001b[0m\u001b[0;34m:\u001b[0m\u001b[0;34m\u001b[0m\u001b[0;34m\u001b[0m\u001b[0m\n",
      "\u001b[0;32m~/anaconda3/lib/python3.9/site-packages/pandas/plotting/_matplotlib/core.py\u001b[0m in \u001b[0;36m_post_plot_logic\u001b[0;34m(self, ax, data)\u001b[0m\n\u001b[1;32m   1575\u001b[0m         \u001b[0mname\u001b[0m \u001b[0;34m=\u001b[0m \u001b[0mself\u001b[0m\u001b[0;34m.\u001b[0m\u001b[0m_get_index_name\u001b[0m\u001b[0;34m(\u001b[0m\u001b[0;34m)\u001b[0m\u001b[0;34m\u001b[0m\u001b[0;34m\u001b[0m\u001b[0m\n\u001b[1;32m   1576\u001b[0m \u001b[0;34m\u001b[0m\u001b[0m\n\u001b[0;32m-> 1577\u001b[0;31m         \u001b[0ms_edge\u001b[0m \u001b[0;34m=\u001b[0m \u001b[0mself\u001b[0m\u001b[0;34m.\u001b[0m\u001b[0max_pos\u001b[0m\u001b[0;34m[\u001b[0m\u001b[0;36m0\u001b[0m\u001b[0;34m]\u001b[0m \u001b[0;34m-\u001b[0m \u001b[0;36m0.25\u001b[0m \u001b[0;34m+\u001b[0m \u001b[0mself\u001b[0m\u001b[0;34m.\u001b[0m\u001b[0mlim_offset\u001b[0m\u001b[0;34m\u001b[0m\u001b[0;34m\u001b[0m\u001b[0m\n\u001b[0m\u001b[1;32m   1578\u001b[0m         \u001b[0me_edge\u001b[0m \u001b[0;34m=\u001b[0m \u001b[0mself\u001b[0m\u001b[0;34m.\u001b[0m\u001b[0max_pos\u001b[0m\u001b[0;34m[\u001b[0m\u001b[0;34m-\u001b[0m\u001b[0;36m1\u001b[0m\u001b[0;34m]\u001b[0m \u001b[0;34m+\u001b[0m \u001b[0;36m0.25\u001b[0m \u001b[0;34m+\u001b[0m \u001b[0mself\u001b[0m\u001b[0;34m.\u001b[0m\u001b[0mbar_width\u001b[0m \u001b[0;34m+\u001b[0m \u001b[0mself\u001b[0m\u001b[0;34m.\u001b[0m\u001b[0mlim_offset\u001b[0m\u001b[0;34m\u001b[0m\u001b[0;34m\u001b[0m\u001b[0m\n\u001b[1;32m   1579\u001b[0m \u001b[0;34m\u001b[0m\u001b[0m\n",
      "\u001b[0;31mIndexError\u001b[0m: index 0 is out of bounds for axis 0 with size 0"
     ]
    },
    {
     "data": {
      "image/png": "[encoded data removed]",
      "text/plain": [
       "<Figure size 5000x700 with 1 Axes>"
      ]
     },
     "metadata": {},
     "output_type": "display_data"
    }
   ],
   "source": [
    "liste_energie = ['Fioul', 'Charbon', 'Gaz', 'Nucléaire', 'Eolien', 'Solaire', 'Hydraulique', 'Pompage', 'Bioénergies']\n",
    "df_n.groupby(pd.Grouper(freq=\"M\")).mean().plot.bar(y=liste_energie,figsize=(50,7),title = \"Prévision de production d'electricité en France en fonction du temps\", ylabel = 'Consommation en MW', stacked=True)"
   ]
  },
  {
   "cell_type": "code",
   "execution_count": null,
   "metadata": {},
   "outputs": [],
   "source": []
  },
  {
   "cell_type": "markdown",
   "metadata": {},
   "source": [
    "#### production nucléaire, consommation et échanges aux frontières"
   ]
  },
  {
   "cell_type": "markdown",
   "metadata": {},
   "source": [
    "#### fonctionnement de base ou ponctuel ?"
   ]
  },
  {
   "cell_type": "markdown",
   "metadata": {},
   "source": [
    "### Dataset régional\n"
   ]
  },
  {
   "cell_type": "markdown",
   "metadata": {},
   "source": [
    "Attention à bien nuancer nos propos dans cette partie là : chaque région n'est pas égale en population, en superficie,...\n",
    "- https://www.ined.fr/fr/tout-savoir-population/chiffres/france/structure-population/regions-departements/\n",
    "- https://www.regions-departements-france.fr/regions-francaises.html"
   ]
  },
  {
   "cell_type": "markdown",
   "metadata": {},
   "source": [
    "#### Manipulation de notre dataframe avec les index : récupération de la consommation par région"
   ]
  },
  {
   "cell_type": "markdown",
   "metadata": {},
   "source": [
    "https://pandas.pydata.org/docs/reference/api/pandas.DataFrame.resample.html"
   ]
  },
  {
   "cell_type": "markdown",
   "metadata": {},
   "source": [
    "#### consommation en fonction du temps"
   ]
  },
  {
   "cell_type": "markdown",
   "metadata": {},
   "source": [
    "#### différences comportementales entre les régions"
   ]
  },
  {
   "cell_type": "markdown",
   "metadata": {},
   "source": [
    "#### les plus consommatrices"
   ]
  },
  {
   "cell_type": "markdown",
   "metadata": {},
   "source": [
    "#### production nucléaire"
   ]
  },
  {
   "cell_type": "markdown",
   "metadata": {},
   "source": [
    "#### production solaire / éolien"
   ]
  },
  {
   "cell_type": "markdown",
   "metadata": {},
   "source": [
    "\n",
    "## Comparaison des situations régionales\n",
    "\n",
    "**TODO**\n",
    "\n",
    "1. Autonomie électrique des régions : \n",
    "    - Afficher la 'consommation - sum(productions)' pour chaque région\n",
    "    - Quelles régions sont autonomes ? En excès ? En déficit ?\n",
    "    - Comparer ce résultat à la colonne 'Ech. physiques'\n",
    "    - Bonus: reconstruire les flux inter-régionaux ...\n",
    "\n",
    "    \n",
    "2. Etude de la production solaire :\n",
    "    - Quelle région produit le plus (en moyenne et au max) ? \n",
    "    - Quelle évolution sur les dernières années ?\n",
    "    - Quelle région a le meilleur taux 'énergie produite / puissance installée' ? (la puissance installée peut être assimilée au maximum produit, attention cette capacité peut augmenter dans le temps...)\n",
    "\n",
    "    \n",
    "3. Mêmes questions pour l'éolien\n",
    "    \n",
    "\n",
    "**Aide**\n",
    "\n",
    "\n",
    "- Les méthodes groupby, unstack, ou pivot sont très utiles pour manipuler des dataframes\n"
   ]
  },
  {
   "cell_type": "markdown",
   "metadata": {},
   "source": [
    "### Autonomie électrique des régions"
   ]
  },
  {
   "cell_type": "markdown",
   "metadata": {},
   "source": [
    "#### Afficher la 'consommation - sum(productions)' pour chaque région"
   ]
  },
  {
   "cell_type": "markdown",
   "metadata": {},
   "source": [
    "#### Quelles régions sont autonomes ? en exces ? en déficit ?"
   ]
  },
  {
   "cell_type": "markdown",
   "metadata": {},
   "source": [
    "#### Comparer ce résultat à la colonne 'Ech. physiques'"
   ]
  },
  {
   "cell_type": "markdown",
   "metadata": {},
   "source": [
    "#### Bonus : reconstruire les flux inter-régionaux ..."
   ]
  },
  {
   "cell_type": "markdown",
   "metadata": {},
   "source": [
    "### Etude de la production solaire"
   ]
  },
  {
   "cell_type": "markdown",
   "metadata": {},
   "source": [
    "### Mêmes questions pour l'éolien"
   ]
  },
  {
   "cell_type": "markdown",
   "metadata": {
    "extensions": {
     "jupyter_dashboards": {
      "version": 1,
      "views": {
       "grid_default": {
        "col": 4,
        "height": 4,
        "hidden": false,
        "row": 12,
        "width": 4
       },
       "report_default": {
        "hidden": false
       }
      }
     }
    }
   },
   "source": [
    "## Etude des consommations \n",
    "\n",
    "**TODO**\n",
    "\n",
    "\n",
    "1. Afficher les moyennes des consommations régionales pour chaque année, avec et sans standardisation. Quelles informations visualisez vous ?\n",
    "    \n",
    "2. Faire pareil avec la moyenne de consommation selon le jour de la semaine.\n",
    "\n",
    "3. Tracer les consommations horaires (par heure) moyenne par région en décembre et en juin. Peut-on observer les différences d'ensoleillement entre les régions ?\n",
    "\n",
    "4. Tracer ces mêmes courbes, en ne sélectionnant que les jours de semaine, puis que les jours de week end. Quelles différences de comportement peut-on observer ?\n",
    "\n",
    "\n",
    "**Aide**\n",
    "\n",
    "- un DatetimeIndex possède de nombreux attributs et méthodes utiles: https://pandas.pydata.org/pandas-docs/stable/reference/api/pandas.DatetimeIndex.html\n",
    "- Regarder la doc des méthodes groupby, unstack, pivot...\n",
    "- Si besoin, utiliser la méthode seaborn.heatmap pour visualiser vos résultats (cmap=\"YlGnBu\")\n",
    "\n"
   ]
  },
  {
   "cell_type": "markdown",
   "metadata": {},
   "source": [
    "#### moyennes des consommations régionales pour chaque année, avec et sans standardisation"
   ]
  },
  {
   "cell_type": "markdown",
   "metadata": {},
   "source": [
    "#### moyenne de consommation selon le jour de la semaine"
   ]
  },
  {
   "cell_type": "markdown",
   "metadata": {},
   "source": [
    "#### consommations décembre vs juin"
   ]
  },
  {
   "cell_type": "markdown",
   "metadata": {},
   "source": [
    "#### consommation semaine vs week end"
   ]
  },
  {
   "cell_type": "markdown",
   "metadata": {},
   "source": [
    "# Relation entre les features / variables"
   ]
  },
  {
   "cell_type": "markdown",
   "metadata": {},
   "source": [
    "## Liens productions / consommation"
   ]
  },
  {
   "cell_type": "markdown",
   "metadata": {},
   "source": [
    "**TODO**\n",
    "        \n",
    "- Afficher les correlations entre toutes les productions et la consommation\n",
    "- Quelles éléments sont corrélés parce que liés ? Quels éléments sont corrélés mais n'ont à priori pas de lien de cause à effet ?\n",
    "- Quel indice montre que la consommation 'cause' la production avec du gaz ?\n",
    "- Quels types de productions permettent de \"suivre\" la consommation ? Lesquels ne le permettent pas du tout (productions \"fatales\")\n",
    "- Choisissez une ou deux régions et observez ces mêmes corrélations.\n",
    "\n",
    "BONUS : Visualisation de la PCA :\n",
    "- La consommation nationale et la production nucléaire sont fortement correlées. Tracer un scatterplot de l'une en fct de l'autre.\n",
    "- Effectuer une PCA pour passer de deux dimensions à une seule, puis visualiser sur le plot précédent la composante obtenue."
   ]
  },
  {
   "cell_type": "markdown",
   "metadata": {},
   "source": [
    "Le nucléaire produit beaucoup, mais est peu pilotable. <br/>\n",
    "En revanche le gaz est allumé lorsqu'il y a beaucoup de demande : la demande cause la production de gaz."
   ]
  },
  {
   "cell_type": "markdown",
   "metadata": {},
   "source": [
    "### Au niveau national"
   ]
  },
  {
   "cell_type": "markdown",
   "metadata": {},
   "source": [
    "#### Afficher les correlations entre toutes les productions et la consommation"
   ]
  },
  {
   "cell_type": "markdown",
   "metadata": {},
   "source": [
    "#### Quels éléments sont corrélés parce que liés ? Quels éléments sont corrélés mais n'ont à priori pas de lien de cause à effet ?"
   ]
  },
  {
   "cell_type": "markdown",
   "metadata": {},
   "source": [
    "Les corrélations peuvent être dues à une relation de causalité, par exemple, une hausse rapide de la consommation va entrainer une hausse de la production avec du gaz. Ainsi on peut noter que la production de gaz suit une hausse de la consommation. Ce genre d'intuition est à l'origine de la notion de [causalité de Granger](https://en.wikipedia.org/wiki/Granger_causality)"
   ]
  },
  {
   "cell_type": "markdown",
   "metadata": {},
   "source": [
    "#### Quel indice montre que la consommation 'cause' la production avec du gaz?"
   ]
  },
  {
   "cell_type": "markdown",
   "metadata": {},
   "source": [
    "Ci dessous on vérifie que la production de gaz suit en moyenne la hausse de la consommation :<br/>\n",
    "An idea from: https://stackoverflow.com/questions/33171413/cross-correlation-time-lag-correlation-with-pandas"
   ]
  },
  {
   "cell_type": "markdown",
   "metadata": {},
   "source": [
    "#### Quels types de productions permettent de \"suivre\" la consommation ? Lesquels ne le permettent pas du tout (productions \"fatales\")"
   ]
  },
  {
   "cell_type": "markdown",
   "metadata": {},
   "source": [
    "### Au niveau régional"
   ]
  },
  {
   "cell_type": "markdown",
   "metadata": {},
   "source": [
    "## Prix de l'électricité"
   ]
  },
  {
   "cell_type": "markdown",
   "metadata": {},
   "source": [
    "On s'intéresse maintenant aux données dans le dossier \"data entsoe\".<br/>\n",
    "https://doc.opendatadsl.com/docs/company/ENTSOE#entsoe_el_tl_actcf"
   ]
  },
  {
   "cell_type": "markdown",
   "metadata": {},
   "source": [
    "**TODO**\n",
    "\n",
    "- Charger les prix de marché de l'électricité  (en France et en Allemagne)  <br/>\n",
    "- Chercher les liens (https://pandas.pydata.org/pandas-docs/stable/reference/api/pandas.DataFrame.corr.html) entre : \n",
    "    - Le prix de l'électricité et la consommation nationale ?\n",
    "    - Le prix de l'électricité et les sources de production ? \n",
    "    - Quelles sources semblent associées aux prix élevés ? aux prix faibles ?\n",
    "            \n",
    "**Aide:**\n",
    "\n",
    "- Attention aux timezone ! Les prix sont en UTC. Les méthodes **tz_localize('UTC') et tz_convert('Europe/Paris')** pourraient vous aider ...\n",
    "- On ne peut pas comparer timeserie \"localisée\" avec une autre qui ne l'est pas (\"naive\")\n",
    "- Pour associer le dataframe de conso/prod à une timezone : les changements d'heures ont mal été gérés (cherchez à comprendre le problème). Utliser **\"ambiguous = 'NaT', nonexistent='NaT'\"** pour le contourner.\n",
    "- Y a-t-il des **outliers** ?"
   ]
  },
  {
   "cell_type": "markdown",
   "metadata": {},
   "source": [
    "#### Charger les prix de marché de l'électricité (en France et en Allemagne)"
   ]
  },
  {
   "cell_type": "markdown",
   "metadata": {},
   "source": [
    "<details><summary>Code import données électricité</summary><br>\n",
    "def read_data_entsoe(file):<br/>\n",
    "    df = pd.read_csv(file)<br/>\n",
    "    df['start'], _ = df['MTU (UTC)'].str.split(' - ', 1).str<br/>\n",
    "    df.set_index('start', inplace=True)<br/>\n",
    "    df.index = pd.to_datetime(df.index, yearfirst=True)<br/>\n",
    "    df.drop(columns=['MTU (UTC)'], inplace=True)<br/>\n",
    "    return df<br/>\n",
    "    \n",
    "DATA_FILE = './data/data entsoe/France/'<br/>\n",
    "\n",
    "def get_prices(folder, col='fr'):<br/>\n",
    "    df_prices = []<br/>\n",
    "    for f in listdir(folder):<br/>\n",
    "        df = read_data_entsoe(folder + f)<br/>\n",
    "        df.columns = [col]<br/>\n",
    "        df_prices.append(df)<br/>\n",
    "    df_prices= pd.concat(df_prices, axis=0)<br/>\n",
    "    return df_prices<br/>\n",
    "\n",
    "df_prices = pd.concat((get_prices('./data/data entsoe/Electricity_price/France/', 'fr'),<br/>\n",
    "                         get_prices('./data/data entsoe/Electricity_price/Germany/', 'ger')), 1)<br/>\n",
    "</details>"
   ]
  },
  {
   "cell_type": "markdown",
   "metadata": {},
   "source": [
    "#### Recherche de liens"
   ]
  },
  {
   "cell_type": "markdown",
   "metadata": {},
   "source": [
    "## Emissions de CO2\n",
    "\n",
    "**TODO**\n",
    "\n",
    "- Quel lien entre le taux de C02 et les différentes sources de productions ?\n",
    "- Quelles sources semblent les plus émettrices ?"
   ]
  },
  {
   "cell_type": "markdown",
   "metadata": {},
   "source": [
    "## Caractéristation des échanges avec les frontières\n",
    "**TODO**\n",
    "\n",
    "- A quel moment les échanges ont-il principalement lieu ?\n",
    "- Quel est le prix payé par la France lorsqu'elle importe de l'électricité ? \n",
    "- Quel est le prix reçu lors des exportations ?"
   ]
  },
  {
   "cell_type": "markdown",
   "metadata": {},
   "source": [
    "\n",
    "` >0 = importation, <0 = exportation`"
   ]
  },
  {
   "cell_type": "markdown",
   "metadata": {},
   "source": [
    "#### A quel moment les échanges ont-il principalement lieu ?"
   ]
  },
  {
   "cell_type": "markdown",
   "metadata": {},
   "source": [
    "#### Quel est le prix payé par la France lorsqu'elle importe / exporte de l'électricité ?"
   ]
  },
  {
   "cell_type": "code",
   "execution_count": null,
   "metadata": {},
   "outputs": [],
   "source": []
  }
 ],
 "metadata": {
  "extensions": {
   "jupyter_dashboards": {
    "activeView": "report_default",
    "version": 1,
    "views": {
     "grid_default": {
      "cellMargin": 10,
      "defaultCellHeight": 20,
      "maxColumns": 12,
      "name": "grid",
      "type": "grid"
     },
     "report_default": {
      "name": "report",
      "type": "report"
     }
    }
   }
  },
  "kernelspec": {
   "display_name": "Python 3 (ipykernel)",
   "language": "python",
   "name": "python3"
  },
  "language_info": {
   "codemirror_mode": {
    "name": "ipython",
    "version": 3
   },
   "file_extension": ".py",
   "mimetype": "text/x-python",
   "name": "python",
   "nbconvert_exporter": "python",
   "pygments_lexer": "ipython3",
   "version": "3.9.13"
  },
  "toc": {
   "base_numbering": 1,
   "nav_menu": {},
   "number_sections": true,
   "sideBar": true,
   "skip_h1_title": false,
   "title_cell": "Table of Contents",
   "title_sidebar": "Contents",
   "toc_cell": false,
   "toc_position": {
    "height": "calc(100% - 180px)",
    "left": "10px",
    "top": "150px",
    "width": "353px"
   },
   "toc_section_display": true,
   "toc_window_display": true
  },
  "varInspector": {
   "cols": {
    "lenName": 16,
    "lenType": 16,
    "lenVar": 40
   },
   "kernels_config": {
    "python": {
     "delete_cmd_postfix": "",
     "delete_cmd_prefix": "del ",
     "library": "var_list.py",
     "varRefreshCmd": "print(var_dic_list())"
    },
    "r": {
     "delete_cmd_postfix": ") ",
     "delete_cmd_prefix": "rm(",
     "library": "var_list.r",
     "varRefreshCmd": "cat(var_dic_list()) "
    }
   },
   "types_to_exclude": [
    "module",
    "function",
    "builtin_function_or_method",
    "instance",
    "_Feature"
   ],
   "window_display": false
  }
 },
 "nbformat": 4,
 "nbformat_minor": 4
}

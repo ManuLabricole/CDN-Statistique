{
 "cells": [
  {
   "cell_type": "markdown",
   "metadata": {
    "extensions": {
     "jupyter_dashboards": {
      "version": 1,
      "views": {
       "grid_default": {
        "col": 4,
        "height": 4,
        "hidden": false,
        "row": 0,
        "width": 4
       },
       "report_default": {
        "hidden": false
       }
      }
     }
    }
   },
   "source": [
    "# Introduction : comprendre le dataset avec les statistiques descriptives"
   ]
  },
  {
   "cell_type": "markdown",
   "metadata": {
    "extensions": {
     "jupyter_dashboards": {
      "version": 1,
      "views": {
       "grid_default": {
        "col": 8,
        "height": 4,
        "hidden": false,
        "row": 0,
        "width": 4
       },
       "report_default": {
        "hidden": false
       }
      }
     }
    }
   },
   "source": [
    "**Pourquoi faire de l'analyse descriptive ?**\n",
    "\n",
    "Objectif = transformer les observations brutes en informations <br/>\n",
    "=> Les statistiques sont une collection d'outils que vous pouvez utiliser pour résumer et organiser votre ensemble de données afin qu'il puisse être facilement compris (aide à la prise de décision)\n",
    "\n",
    "**Statistiques descriptives vs statistiques inférentielles**\n",
    "\n",
    "- Statistiques descriptives = description et interprétation des données (sans tenter de faire des inférences ; extrapoler les résultats de l'échantillon à l'ensemble de la population)\n",
    "- Statistiques inférentielles = décisions et prédictions basées sur la probabilité\n",
    "\n",
    "**Réferences**\n",
    "- https://towardsdatascience.com/intro-to-descriptive-statistics-252e9c464ac9\n",
    "- https://medium.com/@himanshuxd/the-guide-to-rigorous-descriptive-statistics-for-machine-learning-and-data-science-9209f88e4363"
   ]
  },
  {
   "cell_type": "markdown",
   "metadata": {},
   "source": [
    "## Vocabulaire"
   ]
  },
  {
   "cell_type": "markdown",
   "metadata": {},
   "source": [
    "##### Définitions des termes courants de machine learning :\n",
    "https://ml-cheatsheet.readthedocs.io/en/latest/glossary.html\n",
    "\n",
    "Les principaux à retenir pour le moment :\n",
    "\n",
    "- Observation / individu = point de données ou ligne dans un jeu de données\n",
    "- Attribut / attribut = qualité décrivant une observation (par exemple couleur, taille, poids) (en-têtes de colonnes)\n",
    "- Feature / variable = un attribut + sa valeur (la couleur est un attribut, la \"couleur bleue\" est une caractéristique)\n",
    "- Dimension / taille = nombre d'entités dans le jeu de données"
   ]
  },
  {
   "cell_type": "markdown",
   "metadata": {},
   "source": [
    "## Types de données / Data types"
   ]
  },
  {
   "cell_type": "markdown",
   "metadata": {},
   "source": [
    "Types de données les plus courantes :\n",
    "- variables quantitatives : discrètes ou continues\n",
    "=> Les données quantitatives sont dénombrables ou mesurables, relatives aux nombres.\n",
    "- variables qualitatives : ordonnées ou non\n",
    "=> Les données qualitatives sont descriptives, relatives à la langue.\n",
    "\n",
    "https://towardsdatascience.com/data-types-in-statistics-347e152e8bee<br/>\n",
    "https://careerfoundry.com/en/blog/data-analytics/difference-between-quantitative-and-qualitative-data/"
   ]
  },
  {
   "cell_type": "markdown",
   "metadata": {},
   "source": [
    "## Index avec Pandas"
   ]
  },
  {
   "cell_type": "markdown",
   "metadata": {},
   "source": [
    "Vous allez avoir besoin de manipuler les index de Pandas par la suite ! <br/>\n",
    "\n",
    "\n",
    "https://pandas.pydata.org/pandas-docs/stable/user_guide/indexing.html<br/>\n",
    "https://pandas.pydata.org/Pandas_Cheat_Sheet.pdf\n",
    "\n",
    "Quelques petits tips :<br/>\n",
    "- Série: s.loc[indexer]; s[index_label]\n",
    "- DataFrame: df.loc[row_indexer,column_indexer]; df[colname]\n",
    "- You may access an index on a Series or column on a DataFrame directly as an attribute (df.A)\n",
    "- slicing: s[:5], s[:-1], df.loc['20130102':'20130104'], df1.loc['d':, 'A':'C']"
   ]
  },
  {
   "cell_type": "markdown",
   "metadata": {},
   "source": [
    "# Statistiques univariées"
   ]
  },
  {
   "cell_type": "markdown",
   "metadata": {},
   "source": [
    "Statistiques univariées : lorsqu'on analyse une seule variable à la fois"
   ]
  },
  {
   "cell_type": "markdown",
   "metadata": {},
   "source": [
    "Lorsque vous décrouvrez un nouveau jeu de données, différentes étapes sont à réaliser dans un premier temps afin de se faire une idée des données :\n",
    "- importer vos données dans un dataframe<br/>\n",
    "(par exemple : https://pandas.pydata.org/pandas-docs/stable/reference/api/pandas.read_csv.html)\n",
    "- regarder les premières lignes de votre dataframe afin d'avoir une idée de ce à quoi ressemble les données<br/> (https://pandas.pydata.org/pandas-docs/stable/reference/api/pandas.DataFrame.head.html)<br/>\n",
    "=> à cette étape là n'oubliez pas de prendre le temps de comprendre chacune des variables ; ce qu'elle signifie, c'est important par la suite de savoir de quoi on parle !\n",
    "- regarder les informations de votre dataframe<br/>\n",
    "(https://pandas.pydata.org/pandas-docs/stable/reference/api/pandas.DataFrame.info.html)\n",
    "- regarder les statistiques descriptives univariées de votre dataframe<br/>\n",
    "(https://pandas.pydata.org/pandas-docs/stable/reference/api/pandas.DataFrame.describe.html)\n",
    "- réaliser des graphiques univariés afin d'observer la répartition des données<br/>\n",
    "    - https://pandas.pydata.org/pandas-docs/stable/reference/api/pandas.DataFrame.hist.html<br/>\n",
    "    - https://pandas.pydata.org/pandas-docs/stable/reference/api/pandas.DataFrame.boxplot.html<br/>\n",
    "    \n",
    "Nous allons explorer tout ça petit à petit !\n",
    "\n",
    "Par la suite si vous vous demandez quel graphique est le plus adapté à vos données, vous pouvez jeter un coup d'oeil ici : https://www.data-to-viz.com/"
   ]
  },
  {
   "cell_type": "markdown",
   "metadata": {},
   "source": [
    "## Premières observations : se familiariser avec le jeu de données"
   ]
  },
  {
   "cell_type": "markdown",
   "metadata": {},
   "source": [
    "**TODO**\n",
    "        \n",
    "1. Charger le dataset \"DATA_part1\" dans un dataframe\n",
    "2. Afficher les premières lignes, tester la méthode 'describe'\n",
    "3. Tracer un histogramme des 8 premières colonnes\n",
    "\n",
    "**Aide :**\n",
    "\n",
    "- Histogramme = représentation graphique de la répartition d'une variable : on groupe les valeurs par classe et on affiche le nb de valeurs par classe. Faire varier le nombre de classe et observer le résultat"
   ]
  },
  {
   "cell_type": "markdown",
   "metadata": {},
   "source": [
    "#### Charger le dataset \"DATA_part1\" dans un dataframe"
   ]
  },
  {
   "cell_type": "code",
   "execution_count": 4,
   "metadata": {},
   "outputs": [],
   "source": [
    "import pandas as pd\n",
    "import os \n",
    "import matplotlib.pyplot as plt\n",
    "plt.style.use('seaborn')"
   ]
  },
  {
   "cell_type": "code",
   "execution_count": 5,
   "metadata": {},
   "outputs": [
    {
     "name": "stdout",
     "output_type": "stream",
     "text": [
      "/Users/manulabricole/Documents/CDN/CDN_Statistique-I/Notebooks\n"
     ]
    }
   ],
   "source": [
    "print(os.getcwd())\n",
    "df = pd.read_csv('../data/Data_part1')"
   ]
  },
  {
   "cell_type": "markdown",
   "metadata": {},
   "source": [
    "#### Afficher les premières lignes, tester la méthode 'describe'"
   ]
  },
  {
   "cell_type": "code",
   "execution_count": 6,
   "metadata": {},
   "outputs": [
    {
     "data": {
      "text/html": [
       "<div>\n",
       "<style scoped>\n",
       "    .dataframe tbody tr th:only-of-type {\n",
       "        vertical-align: middle;\n",
       "    }\n",
       "\n",
       "    .dataframe tbody tr th {\n",
       "        vertical-align: top;\n",
       "    }\n",
       "\n",
       "    .dataframe thead th {\n",
       "        text-align: right;\n",
       "    }\n",
       "</style>\n",
       "<table border=\"1\" class=\"dataframe\">\n",
       "  <thead>\n",
       "    <tr style=\"text-align: right;\">\n",
       "      <th></th>\n",
       "      <th>A</th>\n",
       "      <th>B</th>\n",
       "      <th>C</th>\n",
       "      <th>D</th>\n",
       "      <th>E</th>\n",
       "      <th>F</th>\n",
       "      <th>G</th>\n",
       "      <th>H</th>\n",
       "      <th>réveil</th>\n",
       "      <th>matin</th>\n",
       "      <th>lait</th>\n",
       "      <th>petit dej</th>\n",
       "    </tr>\n",
       "  </thead>\n",
       "  <tbody>\n",
       "    <tr>\n",
       "      <th>0</th>\n",
       "      <td>-4.853218</td>\n",
       "      <td>0.336325</td>\n",
       "      <td>-2.252479</td>\n",
       "      <td>3.145284</td>\n",
       "      <td>3.212247</td>\n",
       "      <td>0.540656</td>\n",
       "      <td>0.737929</td>\n",
       "      <td>-0.542533</td>\n",
       "      <td>toujours pas réveillé</td>\n",
       "      <td>café</td>\n",
       "      <td>0.0</td>\n",
       "      <td>croissant</td>\n",
       "    </tr>\n",
       "    <tr>\n",
       "      <th>1</th>\n",
       "      <td>1.031640</td>\n",
       "      <td>-1.207136</td>\n",
       "      <td>-0.704018</td>\n",
       "      <td>3.092987</td>\n",
       "      <td>4.924741</td>\n",
       "      <td>0.153680</td>\n",
       "      <td>0.313898</td>\n",
       "      <td>-1.639022</td>\n",
       "      <td>difficile</td>\n",
       "      <td>café</td>\n",
       "      <td>1.0</td>\n",
       "      <td>croissant</td>\n",
       "    </tr>\n",
       "    <tr>\n",
       "      <th>2</th>\n",
       "      <td>-4.582366</td>\n",
       "      <td>-0.800292</td>\n",
       "      <td>-0.515243</td>\n",
       "      <td>2.925474</td>\n",
       "      <td>2.808811</td>\n",
       "      <td>1.412834</td>\n",
       "      <td>1.302301</td>\n",
       "      <td>-0.054520</td>\n",
       "      <td>toujours pas réveillé</td>\n",
       "      <td>café</td>\n",
       "      <td>1.0</td>\n",
       "      <td>croissant</td>\n",
       "    </tr>\n",
       "    <tr>\n",
       "      <th>3</th>\n",
       "      <td>2.691380</td>\n",
       "      <td>0.144119</td>\n",
       "      <td>2.530201</td>\n",
       "      <td>3.914499</td>\n",
       "      <td>4.108476</td>\n",
       "      <td>3.495376</td>\n",
       "      <td>3.381862</td>\n",
       "      <td>1.136969</td>\n",
       "      <td>difficile</td>\n",
       "      <td>thé</td>\n",
       "      <td>0.0</td>\n",
       "      <td>croissant</td>\n",
       "    </tr>\n",
       "    <tr>\n",
       "      <th>4</th>\n",
       "      <td>3.679196</td>\n",
       "      <td>0.955008</td>\n",
       "      <td>-5.120556</td>\n",
       "      <td>2.631311</td>\n",
       "      <td>4.832076</td>\n",
       "      <td>0.389124</td>\n",
       "      <td>0.383447</td>\n",
       "      <td>-5.500964</td>\n",
       "      <td>difficile</td>\n",
       "      <td>café</td>\n",
       "      <td>0.0</td>\n",
       "      <td>croissant</td>\n",
       "    </tr>\n",
       "  </tbody>\n",
       "</table>\n",
       "</div>"
      ],
      "text/plain": [
       "          A         B         C         D         E         F         G  \\\n",
       "0 -4.853218  0.336325 -2.252479  3.145284  3.212247  0.540656  0.737929   \n",
       "1  1.031640 -1.207136 -0.704018  3.092987  4.924741  0.153680  0.313898   \n",
       "2 -4.582366 -0.800292 -0.515243  2.925474  2.808811  1.412834  1.302301   \n",
       "3  2.691380  0.144119  2.530201  3.914499  4.108476  3.495376  3.381862   \n",
       "4  3.679196  0.955008 -5.120556  2.631311  4.832076  0.389124  0.383447   \n",
       "\n",
       "          H                 réveil matin  lait  petit dej  \n",
       "0 -0.542533  toujours pas réveillé  café   0.0  croissant  \n",
       "1 -1.639022              difficile  café   1.0  croissant  \n",
       "2 -0.054520  toujours pas réveillé  café   1.0  croissant  \n",
       "3  1.136969              difficile   thé   0.0  croissant  \n",
       "4 -5.500964              difficile  café   0.0  croissant  "
      ]
     },
     "execution_count": 6,
     "metadata": {},
     "output_type": "execute_result"
    }
   ],
   "source": [
    "df.head()"
   ]
  },
  {
   "cell_type": "code",
   "execution_count": 7,
   "metadata": {},
   "outputs": [
    {
     "name": "stdout",
     "output_type": "stream",
     "text": [
      "10000 rows and 12 columns\n"
     ]
    }
   ],
   "source": [
    "df.shape\n",
    "print(f\"{df.shape[0]} rows and {df.shape[1]} columns\")"
   ]
  },
  {
   "cell_type": "code",
   "execution_count": 8,
   "metadata": {},
   "outputs": [
    {
     "data": {
      "text/html": [
       "<div>\n",
       "<style scoped>\n",
       "    .dataframe tbody tr th:only-of-type {\n",
       "        vertical-align: middle;\n",
       "    }\n",
       "\n",
       "    .dataframe tbody tr th {\n",
       "        vertical-align: top;\n",
       "    }\n",
       "\n",
       "    .dataframe thead th {\n",
       "        text-align: right;\n",
       "    }\n",
       "</style>\n",
       "<table border=\"1\" class=\"dataframe\">\n",
       "  <thead>\n",
       "    <tr style=\"text-align: right;\">\n",
       "      <th></th>\n",
       "      <th>A</th>\n",
       "      <th>B</th>\n",
       "      <th>C</th>\n",
       "      <th>D</th>\n",
       "      <th>E</th>\n",
       "      <th>F</th>\n",
       "      <th>G</th>\n",
       "      <th>H</th>\n",
       "      <th>lait</th>\n",
       "    </tr>\n",
       "  </thead>\n",
       "  <tbody>\n",
       "    <tr>\n",
       "      <th>count</th>\n",
       "      <td>10000.000000</td>\n",
       "      <td>10000.000000</td>\n",
       "      <td>10000.000000</td>\n",
       "      <td>10000.000000</td>\n",
       "      <td>10000.000000</td>\n",
       "      <td>10000.000000</td>\n",
       "      <td>10000.000000</td>\n",
       "      <td>10000.000000</td>\n",
       "      <td>10000.000000</td>\n",
       "    </tr>\n",
       "    <tr>\n",
       "      <th>mean</th>\n",
       "      <td>0.036334</td>\n",
       "      <td>-0.001222</td>\n",
       "      <td>0.027083</td>\n",
       "      <td>0.002676</td>\n",
       "      <td>4.687889</td>\n",
       "      <td>1.023130</td>\n",
       "      <td>1.027027</td>\n",
       "      <td>0.065347</td>\n",
       "      <td>0.498900</td>\n",
       "    </tr>\n",
       "    <tr>\n",
       "      <th>std</th>\n",
       "      <td>2.866900</td>\n",
       "      <td>1.007486</td>\n",
       "      <td>3.008689</td>\n",
       "      <td>2.241933</td>\n",
       "      <td>2.966784</td>\n",
       "      <td>1.029788</td>\n",
       "      <td>1.036689</td>\n",
       "      <td>3.328620</td>\n",
       "      <td>0.500024</td>\n",
       "    </tr>\n",
       "    <tr>\n",
       "      <th>min</th>\n",
       "      <td>-4.999033</td>\n",
       "      <td>-4.266466</td>\n",
       "      <td>-11.079926</td>\n",
       "      <td>-5.315736</td>\n",
       "      <td>0.000386</td>\n",
       "      <td>0.000026</td>\n",
       "      <td>-0.297518</td>\n",
       "      <td>-11.974507</td>\n",
       "      <td>0.000000</td>\n",
       "    </tr>\n",
       "    <tr>\n",
       "      <th>25%</th>\n",
       "      <td>-2.412769</td>\n",
       "      <td>-0.690013</td>\n",
       "      <td>-1.990707</td>\n",
       "      <td>-1.984108</td>\n",
       "      <td>2.884097</td>\n",
       "      <td>0.285050</td>\n",
       "      <td>0.298594</td>\n",
       "      <td>-2.104974</td>\n",
       "      <td>0.000000</td>\n",
       "    </tr>\n",
       "    <tr>\n",
       "      <th>50%</th>\n",
       "      <td>0.019228</td>\n",
       "      <td>0.003851</td>\n",
       "      <td>-0.001765</td>\n",
       "      <td>0.029963</td>\n",
       "      <td>4.168992</td>\n",
       "      <td>0.712555</td>\n",
       "      <td>0.722780</td>\n",
       "      <td>0.004217</td>\n",
       "      <td>0.000000</td>\n",
       "    </tr>\n",
       "    <tr>\n",
       "      <th>75%</th>\n",
       "      <td>2.516380</td>\n",
       "      <td>0.686570</td>\n",
       "      <td>2.063967</td>\n",
       "      <td>2.018438</td>\n",
       "      <td>5.703988</td>\n",
       "      <td>1.411114</td>\n",
       "      <td>1.423560</td>\n",
       "      <td>2.193579</td>\n",
       "      <td>1.000000</td>\n",
       "    </tr>\n",
       "    <tr>\n",
       "      <th>max</th>\n",
       "      <td>4.999584</td>\n",
       "      <td>3.834648</td>\n",
       "      <td>10.856120</td>\n",
       "      <td>5.915217</td>\n",
       "      <td>20.776221</td>\n",
       "      <td>11.239160</td>\n",
       "      <td>11.309762</td>\n",
       "      <td>29.876586</td>\n",
       "      <td>1.000000</td>\n",
       "    </tr>\n",
       "  </tbody>\n",
       "</table>\n",
       "</div>"
      ],
      "text/plain": [
       "                  A             B             C             D             E  \\\n",
       "count  10000.000000  10000.000000  10000.000000  10000.000000  10000.000000   \n",
       "mean       0.036334     -0.001222      0.027083      0.002676      4.687889   \n",
       "std        2.866900      1.007486      3.008689      2.241933      2.966784   \n",
       "min       -4.999033     -4.266466    -11.079926     -5.315736      0.000386   \n",
       "25%       -2.412769     -0.690013     -1.990707     -1.984108      2.884097   \n",
       "50%        0.019228      0.003851     -0.001765      0.029963      4.168992   \n",
       "75%        2.516380      0.686570      2.063967      2.018438      5.703988   \n",
       "max        4.999584      3.834648     10.856120      5.915217     20.776221   \n",
       "\n",
       "                  F             G             H          lait  \n",
       "count  10000.000000  10000.000000  10000.000000  10000.000000  \n",
       "mean       1.023130      1.027027      0.065347      0.498900  \n",
       "std        1.029788      1.036689      3.328620      0.500024  \n",
       "min        0.000026     -0.297518    -11.974507      0.000000  \n",
       "25%        0.285050      0.298594     -2.104974      0.000000  \n",
       "50%        0.712555      0.722780      0.004217      0.000000  \n",
       "75%        1.411114      1.423560      2.193579      1.000000  \n",
       "max       11.239160     11.309762     29.876586      1.000000  "
      ]
     },
     "execution_count": 8,
     "metadata": {},
     "output_type": "execute_result"
    }
   ],
   "source": [
    "df.describe()"
   ]
  },
  {
   "cell_type": "code",
   "execution_count": 9,
   "metadata": {},
   "outputs": [
    {
     "name": "stdout",
     "output_type": "stream",
     "text": [
      "Column -->A<-- --> Standart numerical computation\n",
      "Column -->B<-- --> Standart numerical computation\n",
      "Column -->C<-- --> Standart numerical computation\n",
      "Column -->D<-- --> Standart numerical computation\n",
      "Column -->E<-- --> Standart numerical computation\n",
      "Column -->F<-- --> Standart numerical computation\n",
      "Column -->G<-- --> Standart numerical computation\n",
      "Column -->H<-- --> Standart numerical computation\n",
      "Column -->réveil<-- --> Specific for non numerical data\n",
      "Column -->matin<-- --> Specific for non numerical data\n",
      "Column -->lait<-- --> Standart numerical computation\n",
      "Column -->petit dej<-- --> Specific for non numerical data\n"
     ]
    }
   ],
   "source": [
    "for col in df.columns:\n",
    "    dtype = df[col].dtypes\n",
    "    if dtype == \"float\":\n",
    "        print(f\"Column -->{col}<-- --> Standart numerical computation\")\n",
    "    elif dtype == \"object\":\n",
    "        print(f\"Column -->{col}<-- --> Specific for non numerical data\")\n",
    "    else:\n",
    "        print(f\"Column -->{col}<-- has non known type\")"
   ]
  },
  {
   "cell_type": "markdown",
   "metadata": {},
   "source": [
    "#### Tracer un histogramme des 8 premières colonnes"
   ]
  },
  {
   "cell_type": "code",
   "execution_count": 10,
   "metadata": {},
   "outputs": [
    {
     "data": {
      "text/plain": [
       "Index(['A', 'B', 'C', 'D', 'E', 'F', 'G', 'H', 'réveil', 'matin', 'lait',\n",
       "       'petit dej'],\n",
       "      dtype='object')"
      ]
     },
     "execution_count": 10,
     "metadata": {},
     "output_type": "execute_result"
    }
   ],
   "source": [
    "df.columns"
   ]
  },
  {
   "cell_type": "code",
   "execution_count": 11,
   "metadata": {},
   "outputs": [
    {
     "data": {
      "text/plain": [
       "Index(['A', 'B', 'C', 'D', 'E', 'F', 'G', 'H', 'réveil'], dtype='object')"
      ]
     },
     "execution_count": 11,
     "metadata": {},
     "output_type": "execute_result"
    }
   ],
   "source": [
    "# Remove the last 3 columns because non nu,erical value\n",
    "df.columns[:-3]"
   ]
  },
  {
   "cell_type": "code",
   "execution_count": 12,
   "metadata": {},
   "outputs": [
    {
     "data": {
      "image/png": "[encoded data removed]",
      "text/plain": [
       "<Figure size 1008x144 with 2 Axes>"
      ]
     },
     "metadata": {},
     "output_type": "display_data"
    }
   ],
   "source": [
    "fig = df[[\"A\", \"B\"]].hist(bins=1000, layout=(1,2), figsize=(14,2))\n",
    "\n",
    "# Calculate the median values\n",
    "median_a = df[\"A\"].median()\n",
    "median_b = df[\"B\"].median()\n",
    "\n",
    "# Add vertical lines for each median value\n",
    "plt.axvline(median_a, color='red', linestyle='dashed', linewidth=1)\n",
    "plt.axvline(median_b, color='red', linestyle='dashed', linewidth=1)\n",
    "\n",
    "# Show the plot\n",
    "plt.show()"
   ]
  },
  {
   "cell_type": "code",
   "execution_count": 13,
   "metadata": {},
   "outputs": [
    {
     "data": {
      "image/png": "[encoded data removed]",
      "text/plain": [
       "<Figure size 1008x288 with 2 Axes>"
      ]
     },
     "metadata": {},
     "output_type": "display_data"
    }
   ],
   "source": [
    "# Create the histogram\n",
    "fig, ax = plt.subplots(1, 2, figsize=(14,4))\n",
    "df[\"F\"].plot.hist(ax=ax[0], bins=1000, color='blue', alpha=0.5)\n",
    "df[\"D\"].plot.hist(ax=ax[1], bins=1000, color='blue', alpha=0.5)\n",
    "\n",
    "# Calculate the median and mean values\n",
    "median_a = df[\"F\"].median()\n",
    "median_b = df[\"D\"].median()\n",
    "mean_a = df[\"F\"].mean()\n",
    "mean_b = df[\"D\"].mean()\n",
    "#mode_a = df[\"F\"].mode()\n",
    "\n",
    "# Add vertical lines for each median value and mean value\n",
    "ax[0].axvline(median_a, color='red', linestyle='dashed', linewidth=2, label='Median')\n",
    "ax[0].axvline(mean_a, color='green', linestyle='solid', linewidth=2, label='Mean')\n",
    "#ax[0].axvline(mode_a,color='yellow', linestyle='solid', linewidth=2, label='Mode')\n",
    "ax[1].axvline(median_b, color='red', linestyle='dashed', linewidth=2, label='Median')\n",
    "ax[1].axvline(mean_b, color='green', linestyle='solid', linewidth=2, label='Mean')\n",
    "\n",
    "# Add legend\n",
    "ax[0].legend()\n",
    "ax[1].legend()\n",
    "\n",
    "# Show the plot\n",
    "plt.show()"
   ]
  },
  {
   "cell_type": "code",
   "execution_count": 14,
   "metadata": {},
   "outputs": [
    {
     "data": {
      "text/plain": [
       "array([[<AxesSubplot:title={'center':'A'}>,\n",
       "        <AxesSubplot:title={'center':'B'}>,\n",
       "        <AxesSubplot:title={'center':'C'}>,\n",
       "        <AxesSubplot:title={'center':'D'}>],\n",
       "       [<AxesSubplot:title={'center':'E'}>,\n",
       "        <AxesSubplot:title={'center':'F'}>,\n",
       "        <AxesSubplot:title={'center':'G'}>,\n",
       "        <AxesSubplot:title={'center':'H'}>]], dtype=object)"
      ]
     },
     "execution_count": 14,
     "metadata": {},
     "output_type": "execute_result"
    },
    {
     "data": {
      "image/png": "[encoded data removed]",
      "text/plain": [
       "<Figure size 1008x288 with 8 Axes>"
      ]
     },
     "metadata": {},
     "output_type": "display_data"
    }
   ],
   "source": [
    "df[df.columns[:-3]].hist(bins=50, layout=(2,4), figsize=(14,4))"
   ]
  },
  {
   "cell_type": "markdown",
   "metadata": {},
   "source": [
    "## Mesures de tendance centrale"
   ]
  },
  {
   "cell_type": "markdown",
   "metadata": {},
   "source": [
    "Nous allons maintenant creuser les notions de :\n",
    "- moyenne\n",
    "- médiane\n",
    "- mode\n",
    "\n",
    "https://towardsdatascience.com/statistics-01-mean-median-and-mode-d6d8597ed9f1"
   ]
  },
  {
   "cell_type": "code",
   "execution_count": 15,
   "metadata": {},
   "outputs": [
    {
     "data": {
      "text/html": [
       "<img src=\"https://miro.medium.com/max/750/1*HO8STTKaPuDHcYCu7TgDNg.png\" width=\"500\"/>"
      ],
      "text/plain": [
       "<IPython.core.display.Image object>"
      ]
     },
     "execution_count": 15,
     "metadata": {},
     "output_type": "execute_result"
    }
   ],
   "source": [
    "from IPython.core.display import HTML \n",
    "from IPython.display import Image\n",
    "url = 'https://miro.medium.com/max/750/1*HO8STTKaPuDHcYCu7TgDNg.png'\n",
    "Image(url = url, width = 500)"
   ]
  },
  {
   "cell_type": "markdown",
   "metadata": {},
   "source": [
    "**TODO**\n",
    "        \n",
    "1. Afficher la moyenne et la médiane de chaque colonne\n",
    "2. Pourquoi utiliser l'une plutôt que l'autre ?\n",
    "3. Quelle est la mesure la plus représentative d'un dataset contenant des données qualitatives ?\n",
    "\n",
    "https://pandas.pydata.org/Pandas_Cheat_Sheet.pdf<br/>\n",
    "https://towardsdatascience.com/mean-median-mode-which-central-tendency-measure-to-use-when-9fb3ebbe3006"
   ]
  },
  {
   "cell_type": "markdown",
   "metadata": {},
   "source": [
    "#### Afficher la moyenne et la médiane de chaque colonne"
   ]
  },
  {
   "cell_type": "code",
   "execution_count": 16,
   "metadata": {},
   "outputs": [
    {
     "data": {
      "text/html": [
       "<div>\n",
       "<style scoped>\n",
       "    .dataframe tbody tr th:only-of-type {\n",
       "        vertical-align: middle;\n",
       "    }\n",
       "\n",
       "    .dataframe tbody tr th {\n",
       "        vertical-align: top;\n",
       "    }\n",
       "\n",
       "    .dataframe thead th {\n",
       "        text-align: right;\n",
       "    }\n",
       "</style>\n",
       "<table border=\"1\" class=\"dataframe\">\n",
       "  <thead>\n",
       "    <tr style=\"text-align: right;\">\n",
       "      <th></th>\n",
       "      <th>A</th>\n",
       "      <th>B</th>\n",
       "      <th>C</th>\n",
       "      <th>D</th>\n",
       "      <th>E</th>\n",
       "      <th>F</th>\n",
       "      <th>G</th>\n",
       "      <th>H</th>\n",
       "      <th>lait</th>\n",
       "    </tr>\n",
       "  </thead>\n",
       "  <tbody>\n",
       "    <tr>\n",
       "      <th>0</th>\n",
       "      <td>-4.853218</td>\n",
       "      <td>0.336325</td>\n",
       "      <td>-2.252479</td>\n",
       "      <td>3.145284</td>\n",
       "      <td>3.212247</td>\n",
       "      <td>0.540656</td>\n",
       "      <td>0.737929</td>\n",
       "      <td>-0.542533</td>\n",
       "      <td>0.0</td>\n",
       "    </tr>\n",
       "    <tr>\n",
       "      <th>1</th>\n",
       "      <td>1.031640</td>\n",
       "      <td>-1.207136</td>\n",
       "      <td>-0.704018</td>\n",
       "      <td>3.092987</td>\n",
       "      <td>4.924741</td>\n",
       "      <td>0.153680</td>\n",
       "      <td>0.313898</td>\n",
       "      <td>-1.639022</td>\n",
       "      <td>1.0</td>\n",
       "    </tr>\n",
       "    <tr>\n",
       "      <th>2</th>\n",
       "      <td>-4.582366</td>\n",
       "      <td>-0.800292</td>\n",
       "      <td>-0.515243</td>\n",
       "      <td>2.925474</td>\n",
       "      <td>2.808811</td>\n",
       "      <td>1.412834</td>\n",
       "      <td>1.302301</td>\n",
       "      <td>-0.054520</td>\n",
       "      <td>1.0</td>\n",
       "    </tr>\n",
       "    <tr>\n",
       "      <th>3</th>\n",
       "      <td>2.691380</td>\n",
       "      <td>0.144119</td>\n",
       "      <td>2.530201</td>\n",
       "      <td>3.914499</td>\n",
       "      <td>4.108476</td>\n",
       "      <td>3.495376</td>\n",
       "      <td>3.381862</td>\n",
       "      <td>1.136969</td>\n",
       "      <td>0.0</td>\n",
       "    </tr>\n",
       "    <tr>\n",
       "      <th>4</th>\n",
       "      <td>3.679196</td>\n",
       "      <td>0.955008</td>\n",
       "      <td>-5.120556</td>\n",
       "      <td>2.631311</td>\n",
       "      <td>4.832076</td>\n",
       "      <td>0.389124</td>\n",
       "      <td>0.383447</td>\n",
       "      <td>-5.500964</td>\n",
       "      <td>0.0</td>\n",
       "    </tr>\n",
       "    <tr>\n",
       "      <th>...</th>\n",
       "      <td>...</td>\n",
       "      <td>...</td>\n",
       "      <td>...</td>\n",
       "      <td>...</td>\n",
       "      <td>...</td>\n",
       "      <td>...</td>\n",
       "      <td>...</td>\n",
       "      <td>...</td>\n",
       "      <td>...</td>\n",
       "    </tr>\n",
       "    <tr>\n",
       "      <th>9995</th>\n",
       "      <td>-1.194839</td>\n",
       "      <td>-0.233589</td>\n",
       "      <td>-0.621681</td>\n",
       "      <td>-2.818316</td>\n",
       "      <td>6.717857</td>\n",
       "      <td>0.595529</td>\n",
       "      <td>0.451535</td>\n",
       "      <td>0.410630</td>\n",
       "      <td>1.0</td>\n",
       "    </tr>\n",
       "    <tr>\n",
       "      <th>9996</th>\n",
       "      <td>3.316081</td>\n",
       "      <td>-0.378908</td>\n",
       "      <td>-2.200668</td>\n",
       "      <td>-1.822745</td>\n",
       "      <td>0.325716</td>\n",
       "      <td>1.501956</td>\n",
       "      <td>1.556693</td>\n",
       "      <td>-3.517332</td>\n",
       "      <td>1.0</td>\n",
       "    </tr>\n",
       "    <tr>\n",
       "      <th>9997</th>\n",
       "      <td>1.233816</td>\n",
       "      <td>-0.085799</td>\n",
       "      <td>-5.785903</td>\n",
       "      <td>-0.391353</td>\n",
       "      <td>8.584206</td>\n",
       "      <td>1.633655</td>\n",
       "      <td>1.736241</td>\n",
       "      <td>-5.066254</td>\n",
       "      <td>1.0</td>\n",
       "    </tr>\n",
       "    <tr>\n",
       "      <th>9998</th>\n",
       "      <td>1.897711</td>\n",
       "      <td>-0.208661</td>\n",
       "      <td>-5.381268</td>\n",
       "      <td>0.279454</td>\n",
       "      <td>10.493380</td>\n",
       "      <td>0.485266</td>\n",
       "      <td>0.600564</td>\n",
       "      <td>-6.283780</td>\n",
       "      <td>1.0</td>\n",
       "    </tr>\n",
       "    <tr>\n",
       "      <th>9999</th>\n",
       "      <td>2.055711</td>\n",
       "      <td>-2.846464</td>\n",
       "      <td>0.690904</td>\n",
       "      <td>-2.761351</td>\n",
       "      <td>5.504073</td>\n",
       "      <td>1.298243</td>\n",
       "      <td>1.505902</td>\n",
       "      <td>2.265215</td>\n",
       "      <td>1.0</td>\n",
       "    </tr>\n",
       "  </tbody>\n",
       "</table>\n",
       "<p>10000 rows × 9 columns</p>\n",
       "</div>"
      ],
      "text/plain": [
       "             A         B         C         D          E         F         G  \\\n",
       "0    -4.853218  0.336325 -2.252479  3.145284   3.212247  0.540656  0.737929   \n",
       "1     1.031640 -1.207136 -0.704018  3.092987   4.924741  0.153680  0.313898   \n",
       "2    -4.582366 -0.800292 -0.515243  2.925474   2.808811  1.412834  1.302301   \n",
       "3     2.691380  0.144119  2.530201  3.914499   4.108476  3.495376  3.381862   \n",
       "4     3.679196  0.955008 -5.120556  2.631311   4.832076  0.389124  0.383447   \n",
       "...        ...       ...       ...       ...        ...       ...       ...   \n",
       "9995 -1.194839 -0.233589 -0.621681 -2.818316   6.717857  0.595529  0.451535   \n",
       "9996  3.316081 -0.378908 -2.200668 -1.822745   0.325716  1.501956  1.556693   \n",
       "9997  1.233816 -0.085799 -5.785903 -0.391353   8.584206  1.633655  1.736241   \n",
       "9998  1.897711 -0.208661 -5.381268  0.279454  10.493380  0.485266  0.600564   \n",
       "9999  2.055711 -2.846464  0.690904 -2.761351   5.504073  1.298243  1.505902   \n",
       "\n",
       "             H  lait  \n",
       "0    -0.542533   0.0  \n",
       "1    -1.639022   1.0  \n",
       "2    -0.054520   1.0  \n",
       "3     1.136969   0.0  \n",
       "4    -5.500964   0.0  \n",
       "...        ...   ...  \n",
       "9995  0.410630   1.0  \n",
       "9996 -3.517332   1.0  \n",
       "9997 -5.066254   1.0  \n",
       "9998 -6.283780   1.0  \n",
       "9999  2.265215   1.0  \n",
       "\n",
       "[10000 rows x 9 columns]"
      ]
     },
     "execution_count": 16,
     "metadata": {},
     "output_type": "execute_result"
    }
   ],
   "source": [
    "# filter only numerical columns\n",
    "df._get_numeric_data()"
   ]
  },
  {
   "cell_type": "code",
   "execution_count": 17,
   "metadata": {},
   "outputs": [
    {
     "data": {
      "text/plain": [
       "A       0.036334\n",
       "B      -0.001222\n",
       "C       0.027083\n",
       "D       0.002676\n",
       "E       4.687889\n",
       "F       1.023130\n",
       "G       1.027027\n",
       "H       0.065347\n",
       "lait    0.498900\n",
       "dtype: float64"
      ]
     },
     "execution_count": 17,
     "metadata": {},
     "output_type": "execute_result"
    }
   ],
   "source": [
    "df._get_numeric_data().mean()"
   ]
  },
  {
   "cell_type": "code",
   "execution_count": 18,
   "metadata": {},
   "outputs": [
    {
     "data": {
      "text/plain": [
       "A       0.019228\n",
       "B       0.003851\n",
       "C      -0.001765\n",
       "D       0.029963\n",
       "E       4.168992\n",
       "F       0.712555\n",
       "G       0.722780\n",
       "H       0.004217\n",
       "lait    0.000000\n",
       "dtype: float64"
      ]
     },
     "execution_count": 18,
     "metadata": {},
     "output_type": "execute_result"
    }
   ],
   "source": [
    "df._get_numeric_data().median()"
   ]
  },
  {
   "cell_type": "code",
   "execution_count": 19,
   "metadata": {},
   "outputs": [
    {
     "data": {
      "text/plain": [
       "0      -4.999033\n",
       "1      -4.998333\n",
       "2      -4.996210\n",
       "3      -4.993073\n",
       "4      -4.992924\n",
       "          ...   \n",
       "9995    4.997823\n",
       "9996    4.998199\n",
       "9997    4.998737\n",
       "9998    4.999457\n",
       "9999    4.999584\n",
       "Length: 10000, dtype: float64"
      ]
     },
     "execution_count": 19,
     "metadata": {},
     "output_type": "execute_result"
    }
   ],
   "source": [
    "df[\"A\"].mode()"
   ]
  },
  {
   "cell_type": "code",
   "execution_count": 20,
   "metadata": {},
   "outputs": [
    {
     "name": "stdout",
     "output_type": "stream",
     "text": [
      "difficile                3956\n",
      "facile                   3132\n",
      "toujours pas réveillé    2912\n",
      "Name: réveil, dtype: int64\n",
      "café    8594\n",
      "thé     1406\n",
      "Name: matin, dtype: int64\n"
     ]
    },
    {
     "data": {
      "text/html": [
       "<div>\n",
       "<style scoped>\n",
       "    .dataframe tbody tr th:only-of-type {\n",
       "        vertical-align: middle;\n",
       "    }\n",
       "\n",
       "    .dataframe tbody tr th {\n",
       "        vertical-align: top;\n",
       "    }\n",
       "\n",
       "    .dataframe thead th {\n",
       "        text-align: right;\n",
       "    }\n",
       "</style>\n",
       "<table border=\"1\" class=\"dataframe\">\n",
       "  <thead>\n",
       "    <tr style=\"text-align: right;\">\n",
       "      <th></th>\n",
       "      <th>réveil</th>\n",
       "      <th>matin</th>\n",
       "      <th>lait</th>\n",
       "      <th>petit dej</th>\n",
       "    </tr>\n",
       "  </thead>\n",
       "  <tbody>\n",
       "    <tr>\n",
       "      <th>0</th>\n",
       "      <td>difficile</td>\n",
       "      <td>café</td>\n",
       "      <td>0.0</td>\n",
       "      <td>pain au choc</td>\n",
       "    </tr>\n",
       "  </tbody>\n",
       "</table>\n",
       "</div>"
      ],
      "text/plain": [
       "      réveil matin  lait     petit dej\n",
       "0  difficile  café   0.0  pain au choc"
      ]
     },
     "execution_count": 20,
     "metadata": {},
     "output_type": "execute_result"
    }
   ],
   "source": [
    "print(df[\"réveil\"].value_counts())\n",
    "print(df[\"matin\"].value_counts())\n",
    "df[df.columns[8:]].mode()\n",
    "# df[df.lait == 1].réveil.count()\n",
    "# df[df.lait == 0].lait.count()"
   ]
  },
  {
   "cell_type": "markdown",
   "metadata": {},
   "source": [
    "#### Pourquoi utiliser l'une plutôt que l'autre ?"
   ]
  },
  {
   "cell_type": "markdown",
   "metadata": {},
   "source": [
    "La moyenne est simplement considérée comme la mesure la plus fiable de la tendance centrale pour faire des hypothèses sur une population à partir d'un échantillon unique.\n",
    "\n",
    "Le principal avantage de la médiane sur la moyenne est qu'elle n'est pas affectée par la présence de valeurs extrêmement grandes ou extrêmement petites (valeurs aberrantes) qui peuvent fausser la moyenne. La médiane reflète mieux une valeur « typique » de l'ensemble.\n",
    "\n",
    "- la médiane est souvent utilisée avec des distributions asymétriques (distributions que la moyenne représente mal)\n",
    "- la moyenne est plus affectée que la médiane par les outliers"
   ]
  },
  {
   "cell_type": "markdown",
   "metadata": {},
   "source": [
    "#### Quelle est la mesure la plus représentative d'un dataset contenant des données qualitatives ?"
   ]
  },
  {
   "cell_type": "markdown",
   "metadata": {},
   "source": [
    "Le mode : la modalité la plus fréquente dans le dataset"
   ]
  },
  {
   "cell_type": "markdown",
   "metadata": {},
   "source": [
    "## Mesures de dispersion"
   ]
  },
  {
   "cell_type": "markdown",
   "metadata": {},
   "source": [
    "Les mesures de variabilité les plus populaires sont l'intervalle (range), l'intervalle interquartile (interquartile range, IQR), la variance et l'écart type (standard deviation). Ceux-ci sont utilisés pour mesurer la propagation ou la variabilité au sein de vos données.\n",
    "\n",
    "1. Intervalle et intervalle interquartile\n",
    "\n",
    "     - la plage mesure où se trouvent le début et la fin de votre point de données (maximum - minimum)\n",
    "     - l'écart interquartile est une mesure de l'endroit où se situent la majorité des valeurs\n",
    "    \n",
    "\n",
    "2. Variance et écart type\n",
    "\n",
    "     - La variance est calculée en trouvant la différence entre chaque point de données et la moyenne, en les mettant au carré, en les additionnant, puis en prenant la moyenne de ces nombres.\n",
    "     - Les carrés sont utilisés pour pondérer plus lourdement les valeurs aberrantes et empêcher que les différences au-dessus de la moyenne neutralisent celles en dessous de la moyenne.\n",
    "     - En raison de la mise au carré, ce n'est pas dans la même unité de mesure que les données d'origine\n",
    "     - Écart-type = racine carrée de la variance"
   ]
  },
  {
   "cell_type": "markdown",
   "metadata": {},
   "source": [
    "### Quelques illustrations pour comprendre ces notions"
   ]
  },
  {
   "cell_type": "markdown",
   "metadata": {},
   "source": [
    "#### Ecart-type"
   ]
  },
  {
   "cell_type": "markdown",
   "metadata": {},
   "source": [
    "Source : https://fr.wikipedia.org/wiki/%C3%89cart_type"
   ]
  },
  {
   "cell_type": "code",
   "execution_count": 21,
   "metadata": {},
   "outputs": [
    {
     "data": {
      "text/html": [
       "<img src=\"https://upload.wikimedia.org/wikipedia/commons/thumb/f/f9/Comparison_standard_deviations.svg/500px-Comparison_standard_deviations.svg.png\" width=\"400\"/>"
      ],
      "text/plain": [
       "<IPython.core.display.Image object>"
      ]
     },
     "execution_count": 21,
     "metadata": {},
     "output_type": "execute_result"
    }
   ],
   "source": [
    "url = 'https://upload.wikimedia.org/wikipedia/commons/thumb/f/f9/Comparison_standard_deviations.svg/500px-Comparison_standard_deviations.svg.png'\n",
    "Image(url = url, width=400)"
   ]
  },
  {
   "cell_type": "markdown",
   "metadata": {},
   "source": [
    "Exemple de deux échantillons ayant la même moyenne mais des écarts types différents illustrant l'écart type comme mesure de la dispersion autour de la moyenne."
   ]
  },
  {
   "cell_type": "code",
   "execution_count": 22,
   "metadata": {},
   "outputs": [
    {
     "data": {
      "text/html": [
       "<img src=\"https://upload.wikimedia.org/wikipedia/commons/thumb/8/8c/Standard_deviation_diagram.svg/500px-Standard_deviation_diagram.svg.png\" width=\"400\"/>"
      ],
      "text/plain": [
       "<IPython.core.display.Image object>"
      ]
     },
     "execution_count": 22,
     "metadata": {},
     "output_type": "execute_result"
    }
   ],
   "source": [
    "url = 'https://upload.wikimedia.org/wikipedia/commons/thumb/8/8c/Standard_deviation_diagram.svg/500px-Standard_deviation_diagram.svg.png'\n",
    "Image(url = url, width=400)"
   ]
  },
  {
   "cell_type": "markdown",
   "metadata": {},
   "source": [
    "Courbe de distribution normale montrant l'écart type. Chaque bande verticale a une largeur d'un écart type et les pourcentages indiquent leur valeur approximative rapportée à la population totale. Note : du fait des arrondis, le total est de 99,8 % au lieu de 100%."
   ]
  },
  {
   "cell_type": "markdown",
   "metadata": {},
   "source": [
    "#### Ecart interquartile / boxplot"
   ]
  },
  {
   "cell_type": "markdown",
   "metadata": {},
   "source": [
    "Source : https://towardsdatascience.com/understanding-boxplots-5e2df7bcbd51"
   ]
  },
  {
   "cell_type": "code",
   "execution_count": 23,
   "metadata": {},
   "outputs": [
    {
     "data": {
      "text/html": [
       "<img src=\"https://miro.medium.com/max/1000/1*gV5r1dUfmaPxoSMsL7h5rA.png\" width=\"400\"/>"
      ],
      "text/plain": [
       "<IPython.core.display.Image object>"
      ]
     },
     "execution_count": 23,
     "metadata": {},
     "output_type": "execute_result"
    }
   ],
   "source": [
    "url = 'https://miro.medium.com/max/1000/1*gV5r1dUfmaPxoSMsL7h5rA.png'\n",
    "Image(url = url, width=400)"
   ]
  },
  {
   "cell_type": "code",
   "execution_count": 24,
   "metadata": {},
   "outputs": [
    {
     "data": {
      "text/html": [
       "<img src=\"https://miro.medium.com/max/1400/1*2c21SkzJMf3frPXPAR_gZA.png\" width=\"600\"/>"
      ],
      "text/plain": [
       "<IPython.core.display.Image object>"
      ]
     },
     "execution_count": 24,
     "metadata": {},
     "output_type": "execute_result"
    }
   ],
   "source": [
    "url = 'https://miro.medium.com/max/1400/1*2c21SkzJMf3frPXPAR_gZA.png'\n",
    "Image(url = url, width=600)"
   ]
  },
  {
   "cell_type": "markdown",
   "metadata": {},
   "source": [
    "### Mise en pratique"
   ]
  },
  {
   "cell_type": "markdown",
   "metadata": {},
   "source": [
    "**TODO**\n",
    "        \n",
    "Pour les 8 premières colonnes:\n",
    "1. Afficher l'étendue (max-min) et l'écart interquartile\n",
    "2. Afficher l'écart type de chaque colonne\n",
    "3. Tracer une boîte à moustache pour chaque colonne (boxplot). Quelles distributions semblent similaires ?\n",
    "4. Comparer ces boxplots avec les histogrammes obtenus plus haut\n",
    "\n",
    "**Notes:**\n",
    "- boxplot : les whist du boxplot vont par défaut jusqu'à 1.5xIQR (jusqu'à la première données en dessous en fait), le reste apparait en 'outliers'\n",
    "- on peut changer cette valeur, on peut aussi mettre deux éléments (deux percentiles)\n",
    "https://matplotlib.org/3.1.1/api/_as_gen/matplotlib.axes.Axes.boxplot.html"
   ]
  },
  {
   "cell_type": "markdown",
   "metadata": {},
   "source": [
    "https://towardsdatascience.com/understanding-boxplots-5e2df7bcbd51"
   ]
  },
  {
   "cell_type": "markdown",
   "metadata": {},
   "source": [
    "#### Afficher l'étendue (max-min) et l'écart interquartile"
   ]
  },
  {
   "cell_type": "code",
   "execution_count": 23,
   "metadata": {},
   "outputs": [
    {
     "data": {
      "text/plain": [
       "A     9.998616\n",
       "B     8.101113\n",
       "C    21.936046\n",
       "D    11.230953\n",
       "E    20.775834\n",
       "F    11.239134\n",
       "G    11.607280\n",
       "H    41.851093\n",
       "dtype: float64"
      ]
     },
     "execution_count": 23,
     "metadata": {},
     "output_type": "execute_result"
    }
   ],
   "source": [
    "cols = list(df.columns[:8])\n",
    "df[cols].max()-df[cols].min()"
   ]
  },
  {
   "cell_type": "code",
   "execution_count": null,
   "metadata": {},
   "outputs": [],
   "source": [
    "print(df[\"A\"].median(),df[\"A\"].quantile(0.5))"
   ]
  },
  {
   "cell_type": "code",
   "execution_count": 25,
   "metadata": {
    "scrolled": false
   },
   "outputs": [
    {
     "data": {
      "text/plain": [
       "pandas.core.series.Series"
      ]
     },
     "execution_count": 25,
     "metadata": {},
     "output_type": "execute_result"
    }
   ],
   "source": [
    "Q1 = df[cols].quantile(0.25)\n",
    "Q3 = df[cols].quantile(0.75)\n",
    "type(Q3 - Q1)"
   ]
  },
  {
   "cell_type": "markdown",
   "metadata": {},
   "source": [
    "Exemples de ce qu'on peut voir ici :\n",
    "- La variable H a une plage de valeurs plus grande par rapport à A ou B (max - min)\n",
    "- Les données sont plus regroupées ; centrées autour de la médiane pour les variables B, F et G (IQR plus petit)"
   ]
  },
  {
   "cell_type": "markdown",
   "metadata": {},
   "source": [
    "#### Afficher l'écart type de chaque colonne"
   ]
  },
  {
   "cell_type": "code",
   "execution_count": 27,
   "metadata": {},
   "outputs": [
    {
     "data": {
      "text/plain": [
       "A    2.866900\n",
       "B    1.007486\n",
       "C    3.008689\n",
       "D    2.241933\n",
       "E    2.966784\n",
       "F    1.029788\n",
       "G    1.036689\n",
       "H    3.328620\n",
       "dtype: float64"
      ]
     },
     "execution_count": 27,
     "metadata": {},
     "output_type": "execute_result"
    }
   ],
   "source": [
    "df[cols].std()"
   ]
  },
  {
   "cell_type": "markdown",
   "metadata": {},
   "source": [
    "Exemples de ce qu'on peut voir ici :\n",
    "- Les variables C et H montrent un écart-type plus élevé : une plus grande dispersion des données sur la plage de valeurs"
   ]
  },
  {
   "cell_type": "markdown",
   "metadata": {},
   "source": [
    "#### Tracer une boîte à moustache pour chaque colonne (boxplot). Quelles distributions semblent similaires ?"
   ]
  },
  {
   "cell_type": "code",
   "execution_count": 28,
   "metadata": {},
   "outputs": [
    {
     "data": {
      "text/plain": [
       "<AxesSubplot:>"
      ]
     },
     "execution_count": 28,
     "metadata": {},
     "output_type": "execute_result"
    },
    {
     "data": {
      "image/png": "[encoded data removed]",
      "text/plain": [
       "<Figure size 800x550 with 1 Axes>"
      ]
     },
     "metadata": {},
     "output_type": "display_data"
    }
   ],
   "source": [
    "#Default whis\n",
    "df[cols].boxplot(whis=5.5)\n",
    "#df[cols].boxplot(whis=[1, 99])"
   ]
  },
  {
   "cell_type": "code",
   "execution_count": 30,
   "metadata": {},
   "outputs": [
    {
     "data": {
      "text/plain": [
       "<AxesSubplot:>"
      ]
     },
     "execution_count": 30,
     "metadata": {},
     "output_type": "execute_result"
    },
    {
     "data": {
      "image/png": "[encoded data removed]",
      "text/plain": [
       "<Figure size 800x550 with 1 Axes>"
      ]
     },
     "metadata": {},
     "output_type": "display_data"
    }
   ],
   "source": [
    "df[cols].boxplot(whis=1.5)"
   ]
  },
  {
   "cell_type": "markdown",
   "metadata": {},
   "source": [
    "Exemples de ce qu'on peut voir ici :\n",
    "- La variable H a une plage de valeurs plus grande par rapport à A ou B (étendue de la boite à moustache)\n",
    "- Les données sont plus regroupées ; centrées autour de la médiane pour les variables B, F et G (petites boites comparées aux autres)\n",
    "\n",
    "Ce qui correspond bien à ce qu'on a vu plus haut"
   ]
  },
  {
   "cell_type": "markdown",
   "metadata": {},
   "source": [
    "#### Comparer ces boxplots avec les histogrammes obtenus plus haut"
   ]
  },
  {
   "cell_type": "code",
   "execution_count": 31,
   "metadata": {
    "scrolled": true
   },
   "outputs": [
    {
     "data": {
      "text/plain": [
       "array([[<AxesSubplot:title={'center':'A'}>,\n",
       "        <AxesSubplot:title={'center':'B'}>,\n",
       "        <AxesSubplot:title={'center':'C'}>,\n",
       "        <AxesSubplot:title={'center':'D'}>],\n",
       "       [<AxesSubplot:title={'center':'E'}>,\n",
       "        <AxesSubplot:title={'center':'F'}>,\n",
       "        <AxesSubplot:title={'center':'G'}>,\n",
       "        <AxesSubplot:title={'center':'H'}>]], dtype=object)"
      ]
     },
     "execution_count": 31,
     "metadata": {},
     "output_type": "execute_result"
    },
    {
     "data": {
      "image/png": "[encoded data removed]",
      "text/plain": [
       "<Figure size 1400x400 with 8 Axes>"
      ]
     },
     "metadata": {},
     "output_type": "display_data"
    }
   ],
   "source": [
    "df[cols].hist(bins=50, layout=(2,4), figsize=(14,4))"
   ]
  },
  {
   "cell_type": "markdown",
   "metadata": {},
   "source": [
    "Exemples de ce qu'on peut voir ici :\n",
    "- La variable A présente de manière presque équivalente toutes les valeurs\n",
    "- Les variables B et C semblent être bien centrées : regroupées autour de la moyenne, de la médiane et du mode\n",
    "- La variable D présente deux bosses : cela peut laisser penser qu'il y a deux groupes d'individus avec des comportements différents sur cette variable\n",
    "- Les variables F et G tendent vers la gauche (on parlera de skew par la suite)"
   ]
  },
  {
   "cell_type": "code",
   "execution_count": 32,
   "metadata": {},
   "outputs": [
    {
     "data": {
      "text/plain": [
       "<AxesSubplot:ylabel='Frequency'>"
      ]
     },
     "execution_count": 32,
     "metadata": {},
     "output_type": "execute_result"
    },
    {
     "data": {
      "image/png": "[encoded data removed]",
      "text/plain": [
       "<Figure size 800x550 with 1 Axes>"
      ]
     },
     "metadata": {},
     "output_type": "display_data"
    }
   ],
   "source": [
    "df[list('BCD')].plot.hist(bins=100, alpha=0.5)"
   ]
  },
  {
   "cell_type": "markdown",
   "metadata": {},
   "source": [
    "## Normalisation / standardisation"
   ]
  },
  {
   "cell_type": "markdown",
   "metadata": {},
   "source": [
    "- Normalization / Normalisation = redimensionne les valeurs dans une plage de [0,1] (aire sous la courbe = 1 par contre pas forcément centrée sur 0)\n",
    "- Standardization / Standardisation = redimensionne les données pour avoir une moyenne de 0 et un écart type de 1 (variance unitaire), en faisant x - mean / std\n",
    "- Standard score / Score standard (z-score) = représente le nombre d'écarts types au-dessus ou en dessous de la moyenne qu'une observation spécifique tombe\n",
    "\n",
    "Comprendre :<br/>\n",
    "https://www.kdnuggets.com/2020/04/data-transformation-standardization-normalization.html<br/>\n",
    "https://towardsdatascience.com/normalization-vs-standardization-cb8fe15082eb<br/>\n",
    "\n",
    "Mettre en pratique :<br/>\n",
    "https://towardsdatascience.com/scale-standardize-or-normalize-with-scikit-learn-6ccc7d176a02<br/>\n",
    "\n",
    "Pour aller plus loin :<br/>\n",
    "https://scikit-learn.org/stable/auto_examples/preprocessing/plot_all_scaling.html#sphx-glr-auto-examples-preprocessing-plot-all-scaling-py"
   ]
  },
  {
   "cell_type": "markdown",
   "metadata": {},
   "source": [
    "Pourquoi c'est important ? <br/>\n",
    "\n",
    "Vous avez peut-être constaté dans les questions précédentes qu'il est difficile de comparer les variables entre elles : elles ne sont pas sur les mêmes plages de valeurs, ce serait un peu comme comparer des choux et des carottes !\n",
    "\n",
    "Pourquoi est-ce qu'on normalise ou standardise nos données avant de les analyser ? <br/>\n",
    "\n",
    "- Pour nous aider à comparer les fonctionnalités qui ont des unités ou des échelles différentes\n",
    "- Pour faciliter l'interprétation des coefficients de régression (=> sera vu dans la 3ème partie stat)\n",
    "- Pour aider à la convergence dans l'algorithme ML (problèmes de mise à l'échelle) (=> sera vu dans la partie Machine Learning)"
   ]
  },
  {
   "cell_type": "markdown",
   "metadata": {},
   "source": [
    "**TODO**\n",
    "        \n",
    "Pour les 8 premières colonnes:\n",
    "1. Standardiser et normaliser le dataframe (par colonne)\n",
    "2. Identifier les outliers (typiquement > 3 std)\n",
    "3. Tracer les histogrammes obtenus sans outliers"
   ]
  },
  {
   "cell_type": "markdown",
   "metadata": {},
   "source": [
    "#### Standardisation"
   ]
  },
  {
   "cell_type": "code",
   "execution_count": 33,
   "metadata": {},
   "outputs": [
    {
     "data": {
      "text/plain": [
       "array([[<AxesSubplot:title={'center':'A'}>,\n",
       "        <AxesSubplot:title={'center':'B'}>,\n",
       "        <AxesSubplot:title={'center':'C'}>,\n",
       "        <AxesSubplot:title={'center':'D'}>],\n",
       "       [<AxesSubplot:title={'center':'E'}>,\n",
       "        <AxesSubplot:title={'center':'F'}>,\n",
       "        <AxesSubplot:title={'center':'G'}>,\n",
       "        <AxesSubplot:title={'center':'H'}>]], dtype=object)"
      ]
     },
     "execution_count": 33,
     "metadata": {},
     "output_type": "execute_result"
    },
    {
     "data": {
      "image/png": "[encoded data removed]",
      "text/plain": [
       "<Figure size 1400x400 with 8 Axes>"
      ]
     },
     "metadata": {},
     "output_type": "display_data"
    }
   ],
   "source": [
    "df_std = (df[cols] - df[cols].mean())/df[cols].std()\n",
    "df_std.hist(bins=50, layout=(2,4), figsize=(14,4))"
   ]
  },
  {
   "cell_type": "code",
   "execution_count": 37,
   "metadata": {},
   "outputs": [
    {
     "data": {
      "text/plain": [
       "A    2.591261e-17\n",
       "B    3.197442e-17\n",
       "dtype: float64"
      ]
     },
     "execution_count": 37,
     "metadata": {},
     "output_type": "execute_result"
    }
   ],
   "source": [
    "df_std[[\"A\", \"B\"]].mean()"
   ]
  },
  {
   "cell_type": "code",
   "execution_count": 38,
   "metadata": {},
   "outputs": [
    {
     "data": {
      "text/html": [
       "<div>\n",
       "<style scoped>\n",
       "    .dataframe tbody tr th:only-of-type {\n",
       "        vertical-align: middle;\n",
       "    }\n",
       "\n",
       "    .dataframe tbody tr th {\n",
       "        vertical-align: top;\n",
       "    }\n",
       "\n",
       "    .dataframe thead th {\n",
       "        text-align: right;\n",
       "    }\n",
       "</style>\n",
       "<table border=\"1\" class=\"dataframe\">\n",
       "  <thead>\n",
       "    <tr style=\"text-align: right;\">\n",
       "      <th></th>\n",
       "      <th>A</th>\n",
       "      <th>B</th>\n",
       "      <th>C</th>\n",
       "      <th>D</th>\n",
       "      <th>E</th>\n",
       "      <th>F</th>\n",
       "      <th>G</th>\n",
       "      <th>H</th>\n",
       "      <th>réveil</th>\n",
       "      <th>matin</th>\n",
       "      <th>lait</th>\n",
       "      <th>petit dej</th>\n",
       "    </tr>\n",
       "  </thead>\n",
       "  <tbody>\n",
       "    <tr>\n",
       "      <th>0</th>\n",
       "      <td>-4.853218</td>\n",
       "      <td>0.336325</td>\n",
       "      <td>-2.252479</td>\n",
       "      <td>3.145284</td>\n",
       "      <td>3.212247</td>\n",
       "      <td>0.540656</td>\n",
       "      <td>0.737929</td>\n",
       "      <td>-0.542533</td>\n",
       "      <td>toujours pas réveillé</td>\n",
       "      <td>café</td>\n",
       "      <td>0.0</td>\n",
       "      <td>croissant</td>\n",
       "    </tr>\n",
       "    <tr>\n",
       "      <th>1</th>\n",
       "      <td>1.031640</td>\n",
       "      <td>-1.207136</td>\n",
       "      <td>-0.704018</td>\n",
       "      <td>3.092987</td>\n",
       "      <td>4.924741</td>\n",
       "      <td>0.153680</td>\n",
       "      <td>0.313898</td>\n",
       "      <td>-1.639022</td>\n",
       "      <td>difficile</td>\n",
       "      <td>café</td>\n",
       "      <td>1.0</td>\n",
       "      <td>croissant</td>\n",
       "    </tr>\n",
       "    <tr>\n",
       "      <th>2</th>\n",
       "      <td>-4.582366</td>\n",
       "      <td>-0.800292</td>\n",
       "      <td>-0.515243</td>\n",
       "      <td>2.925474</td>\n",
       "      <td>2.808811</td>\n",
       "      <td>1.412834</td>\n",
       "      <td>1.302301</td>\n",
       "      <td>-0.054520</td>\n",
       "      <td>toujours pas réveillé</td>\n",
       "      <td>café</td>\n",
       "      <td>1.0</td>\n",
       "      <td>croissant</td>\n",
       "    </tr>\n",
       "    <tr>\n",
       "      <th>3</th>\n",
       "      <td>2.691380</td>\n",
       "      <td>0.144119</td>\n",
       "      <td>2.530201</td>\n",
       "      <td>3.914499</td>\n",
       "      <td>4.108476</td>\n",
       "      <td>3.495376</td>\n",
       "      <td>3.381862</td>\n",
       "      <td>1.136969</td>\n",
       "      <td>difficile</td>\n",
       "      <td>thé</td>\n",
       "      <td>0.0</td>\n",
       "      <td>croissant</td>\n",
       "    </tr>\n",
       "    <tr>\n",
       "      <th>4</th>\n",
       "      <td>3.679196</td>\n",
       "      <td>0.955008</td>\n",
       "      <td>-5.120556</td>\n",
       "      <td>2.631311</td>\n",
       "      <td>4.832076</td>\n",
       "      <td>0.389124</td>\n",
       "      <td>0.383447</td>\n",
       "      <td>-5.500964</td>\n",
       "      <td>difficile</td>\n",
       "      <td>café</td>\n",
       "      <td>0.0</td>\n",
       "      <td>croissant</td>\n",
       "    </tr>\n",
       "  </tbody>\n",
       "</table>\n",
       "</div>"
      ],
      "text/plain": [
       "          A         B         C         D         E         F         G  \\\n",
       "0 -4.853218  0.336325 -2.252479  3.145284  3.212247  0.540656  0.737929   \n",
       "1  1.031640 -1.207136 -0.704018  3.092987  4.924741  0.153680  0.313898   \n",
       "2 -4.582366 -0.800292 -0.515243  2.925474  2.808811  1.412834  1.302301   \n",
       "3  2.691380  0.144119  2.530201  3.914499  4.108476  3.495376  3.381862   \n",
       "4  3.679196  0.955008 -5.120556  2.631311  4.832076  0.389124  0.383447   \n",
       "\n",
       "          H                 réveil matin  lait  petit dej  \n",
       "0 -0.542533  toujours pas réveillé  café   0.0  croissant  \n",
       "1 -1.639022              difficile  café   1.0  croissant  \n",
       "2 -0.054520  toujours pas réveillé  café   1.0  croissant  \n",
       "3  1.136969              difficile   thé   0.0  croissant  \n",
       "4 -5.500964              difficile  café   0.0  croissant  "
      ]
     },
     "execution_count": 38,
     "metadata": {},
     "output_type": "execute_result"
    }
   ],
   "source": [
    "df.head(5)"
   ]
  },
  {
   "cell_type": "code",
   "execution_count": 39,
   "metadata": {
    "scrolled": true
   },
   "outputs": [
    {
     "data": {
      "text/html": [
       "<div>\n",
       "<style scoped>\n",
       "    .dataframe tbody tr th:only-of-type {\n",
       "        vertical-align: middle;\n",
       "    }\n",
       "\n",
       "    .dataframe tbody tr th {\n",
       "        vertical-align: top;\n",
       "    }\n",
       "\n",
       "    .dataframe thead th {\n",
       "        text-align: right;\n",
       "    }\n",
       "</style>\n",
       "<table border=\"1\" class=\"dataframe\">\n",
       "  <thead>\n",
       "    <tr style=\"text-align: right;\">\n",
       "      <th></th>\n",
       "      <th>A</th>\n",
       "      <th>B</th>\n",
       "      <th>C</th>\n",
       "      <th>D</th>\n",
       "      <th>E</th>\n",
       "      <th>F</th>\n",
       "      <th>G</th>\n",
       "      <th>H</th>\n",
       "    </tr>\n",
       "  </thead>\n",
       "  <tbody>\n",
       "    <tr>\n",
       "      <th>count</th>\n",
       "      <td>1.000000e+04</td>\n",
       "      <td>1.000000e+04</td>\n",
       "      <td>1.000000e+04</td>\n",
       "      <td>1.000000e+04</td>\n",
       "      <td>1.000000e+04</td>\n",
       "      <td>1.000000e+04</td>\n",
       "      <td>1.000000e+04</td>\n",
       "      <td>1.000000e+04</td>\n",
       "    </tr>\n",
       "    <tr>\n",
       "      <th>mean</th>\n",
       "      <td>2.591261e-17</td>\n",
       "      <td>3.197442e-17</td>\n",
       "      <td>1.770806e-18</td>\n",
       "      <td>-4.066525e-16</td>\n",
       "      <td>-2.636674e-15</td>\n",
       "      <td>5.531769e-15</td>\n",
       "      <td>5.185063e-15</td>\n",
       "      <td>-1.609823e-17</td>\n",
       "    </tr>\n",
       "    <tr>\n",
       "      <th>std</th>\n",
       "      <td>1.000000e+00</td>\n",
       "      <td>1.000000e+00</td>\n",
       "      <td>1.000000e+00</td>\n",
       "      <td>1.000000e+00</td>\n",
       "      <td>1.000000e+00</td>\n",
       "      <td>1.000000e+00</td>\n",
       "      <td>1.000000e+00</td>\n",
       "      <td>1.000000e+00</td>\n",
       "    </tr>\n",
       "    <tr>\n",
       "      <th>min</th>\n",
       "      <td>-1.756380e+00</td>\n",
       "      <td>-4.233550e+00</td>\n",
       "      <td>-3.691644e+00</td>\n",
       "      <td>-2.372244e+00</td>\n",
       "      <td>-1.579995e+00</td>\n",
       "      <td>-9.935088e-01</td>\n",
       "      <td>-1.277669e+00</td>\n",
       "      <td>-3.617070e+00</td>\n",
       "    </tr>\n",
       "    <tr>\n",
       "      <th>25%</th>\n",
       "      <td>-8.542689e-01</td>\n",
       "      <td>-6.836732e-01</td>\n",
       "      <td>-6.706545e-01</td>\n",
       "      <td>-8.861926e-01</td>\n",
       "      <td>-6.079959e-01</td>\n",
       "      <td>-7.167301e-01</td>\n",
       "      <td>-7.026531e-01</td>\n",
       "      <td>-6.520183e-01</td>\n",
       "    </tr>\n",
       "    <tr>\n",
       "      <th>50%</th>\n",
       "      <td>-5.966731e-03</td>\n",
       "      <td>5.035243e-03</td>\n",
       "      <td>-9.588391e-03</td>\n",
       "      <td>1.217123e-02</td>\n",
       "      <td>-1.749021e-01</td>\n",
       "      <td>-3.015907e-01</td>\n",
       "      <td>-2.934793e-01</td>\n",
       "      <td>-1.836508e-02</td>\n",
       "    </tr>\n",
       "    <tr>\n",
       "      <th>75%</th>\n",
       "      <td>8.650617e-01</td>\n",
       "      <td>6.826805e-01</td>\n",
       "      <td>6.770005e-01</td>\n",
       "      <td>8.991178e-01</td>\n",
       "      <td>3.424919e-01</td>\n",
       "      <td>3.767619e-01</td>\n",
       "      <td>3.824996e-01</td>\n",
       "      <td>6.393734e-01</td>\n",
       "    </tr>\n",
       "    <tr>\n",
       "      <th>max</th>\n",
       "      <td>1.731225e+00</td>\n",
       "      <td>3.807366e+00</td>\n",
       "      <td>3.599254e+00</td>\n",
       "      <td>2.637251e+00</td>\n",
       "      <td>5.422819e+00</td>\n",
       "      <td>9.920518e+00</td>\n",
       "      <td>9.918820e+00</td>\n",
       "      <td>8.956034e+00</td>\n",
       "    </tr>\n",
       "  </tbody>\n",
       "</table>\n",
       "</div>"
      ],
      "text/plain": [
       "                  A             B             C             D             E  \\\n",
       "count  1.000000e+04  1.000000e+04  1.000000e+04  1.000000e+04  1.000000e+04   \n",
       "mean   2.591261e-17  3.197442e-17  1.770806e-18 -4.066525e-16 -2.636674e-15   \n",
       "std    1.000000e+00  1.000000e+00  1.000000e+00  1.000000e+00  1.000000e+00   \n",
       "min   -1.756380e+00 -4.233550e+00 -3.691644e+00 -2.372244e+00 -1.579995e+00   \n",
       "25%   -8.542689e-01 -6.836732e-01 -6.706545e-01 -8.861926e-01 -6.079959e-01   \n",
       "50%   -5.966731e-03  5.035243e-03 -9.588391e-03  1.217123e-02 -1.749021e-01   \n",
       "75%    8.650617e-01  6.826805e-01  6.770005e-01  8.991178e-01  3.424919e-01   \n",
       "max    1.731225e+00  3.807366e+00  3.599254e+00  2.637251e+00  5.422819e+00   \n",
       "\n",
       "                  F             G             H  \n",
       "count  1.000000e+04  1.000000e+04  1.000000e+04  \n",
       "mean   5.531769e-15  5.185063e-15 -1.609823e-17  \n",
       "std    1.000000e+00  1.000000e+00  1.000000e+00  \n",
       "min   -9.935088e-01 -1.277669e+00 -3.617070e+00  \n",
       "25%   -7.167301e-01 -7.026531e-01 -6.520183e-01  \n",
       "50%   -3.015907e-01 -2.934793e-01 -1.836508e-02  \n",
       "75%    3.767619e-01  3.824996e-01  6.393734e-01  \n",
       "max    9.920518e+00  9.918820e+00  8.956034e+00  "
      ]
     },
     "execution_count": 39,
     "metadata": {},
     "output_type": "execute_result"
    }
   ],
   "source": [
    "df_std.describe()"
   ]
  },
  {
   "cell_type": "markdown",
   "metadata": {},
   "source": [
    "On constate bien ici que tous les écart-type sont à 1 et que les moyennes tournent autour de 0"
   ]
  },
  {
   "cell_type": "code",
   "execution_count": 40,
   "metadata": {},
   "outputs": [
    {
     "data": {
      "text/html": [
       "<div>\n",
       "<style scoped>\n",
       "    .dataframe tbody tr th:only-of-type {\n",
       "        vertical-align: middle;\n",
       "    }\n",
       "\n",
       "    .dataframe tbody tr th {\n",
       "        vertical-align: top;\n",
       "    }\n",
       "\n",
       "    .dataframe thead th {\n",
       "        text-align: right;\n",
       "    }\n",
       "</style>\n",
       "<table border=\"1\" class=\"dataframe\">\n",
       "  <thead>\n",
       "    <tr style=\"text-align: right;\">\n",
       "      <th></th>\n",
       "      <th>A</th>\n",
       "      <th>B</th>\n",
       "      <th>C</th>\n",
       "      <th>D</th>\n",
       "      <th>E</th>\n",
       "      <th>F</th>\n",
       "      <th>G</th>\n",
       "      <th>H</th>\n",
       "    </tr>\n",
       "  </thead>\n",
       "  <tbody>\n",
       "    <tr>\n",
       "      <th>count</th>\n",
       "      <td>10000.000000</td>\n",
       "      <td>10000.000000</td>\n",
       "      <td>10000.000000</td>\n",
       "      <td>10000.000000</td>\n",
       "      <td>10000.000000</td>\n",
       "      <td>10000.000000</td>\n",
       "      <td>10000.000000</td>\n",
       "      <td>10000.000000</td>\n",
       "    </tr>\n",
       "    <tr>\n",
       "      <th>mean</th>\n",
       "      <td>0.002451</td>\n",
       "      <td>-0.000980</td>\n",
       "      <td>0.002193</td>\n",
       "      <td>0.005834</td>\n",
       "      <td>0.577341</td>\n",
       "      <td>0.135686</td>\n",
       "      <td>0.135904</td>\n",
       "      <td>0.003171</td>\n",
       "    </tr>\n",
       "    <tr>\n",
       "      <th>std</th>\n",
       "      <td>0.392805</td>\n",
       "      <td>0.148840</td>\n",
       "      <td>0.350894</td>\n",
       "      <td>0.322318</td>\n",
       "      <td>0.237198</td>\n",
       "      <td>0.125358</td>\n",
       "      <td>0.126246</td>\n",
       "      <td>0.372053</td>\n",
       "    </tr>\n",
       "    <tr>\n",
       "      <th>min</th>\n",
       "      <td>-0.951815</td>\n",
       "      <td>-0.709856</td>\n",
       "      <td>-0.814667</td>\n",
       "      <td>-0.935677</td>\n",
       "      <td>0.000069</td>\n",
       "      <td>0.000004</td>\n",
       "      <td>-0.056599</td>\n",
       "      <td>-0.824397</td>\n",
       "    </tr>\n",
       "    <tr>\n",
       "      <th>25%</th>\n",
       "      <td>-0.318669</td>\n",
       "      <td>-0.090957</td>\n",
       "      <td>-0.285237</td>\n",
       "      <td>-0.250344</td>\n",
       "      <td>0.421661</td>\n",
       "      <td>0.038749</td>\n",
       "      <td>0.040227</td>\n",
       "      <td>-0.303131</td>\n",
       "    </tr>\n",
       "    <tr>\n",
       "      <th>50%</th>\n",
       "      <td>0.002440</td>\n",
       "      <td>0.000465</td>\n",
       "      <td>-0.000363</td>\n",
       "      <td>0.004227</td>\n",
       "      <td>0.602645</td>\n",
       "      <td>0.097262</td>\n",
       "      <td>0.098008</td>\n",
       "      <td>0.000704</td>\n",
       "    </tr>\n",
       "    <tr>\n",
       "      <th>75%</th>\n",
       "      <td>0.328656</td>\n",
       "      <td>0.091029</td>\n",
       "      <td>0.292354</td>\n",
       "      <td>0.278866</td>\n",
       "      <td>0.761313</td>\n",
       "      <td>0.196865</td>\n",
       "      <td>0.197364</td>\n",
       "      <td>0.311719</td>\n",
       "    </tr>\n",
       "    <tr>\n",
       "      <th>max</th>\n",
       "      <td>0.944821</td>\n",
       "      <td>0.951448</td>\n",
       "      <td>0.804700</td>\n",
       "      <td>0.905197</td>\n",
       "      <td>0.997075</td>\n",
       "      <td>0.698984</td>\n",
       "      <td>0.698324</td>\n",
       "      <td>0.987288</td>\n",
       "    </tr>\n",
       "  </tbody>\n",
       "</table>\n",
       "</div>"
      ],
      "text/plain": [
       "                  A             B             C             D             E  \\\n",
       "count  10000.000000  10000.000000  10000.000000  10000.000000  10000.000000   \n",
       "mean       0.002451     -0.000980      0.002193      0.005834      0.577341   \n",
       "std        0.392805      0.148840      0.350894      0.322318      0.237198   \n",
       "min       -0.951815     -0.709856     -0.814667     -0.935677      0.000069   \n",
       "25%       -0.318669     -0.090957     -0.285237     -0.250344      0.421661   \n",
       "50%        0.002440      0.000465     -0.000363      0.004227      0.602645   \n",
       "75%        0.328656      0.091029      0.292354      0.278866      0.761313   \n",
       "max        0.944821      0.951448      0.804700      0.905197      0.997075   \n",
       "\n",
       "                  F             G             H  \n",
       "count  10000.000000  10000.000000  10000.000000  \n",
       "mean       0.135686      0.135904      0.003171  \n",
       "std        0.125358      0.126246      0.372053  \n",
       "min        0.000004     -0.056599     -0.824397  \n",
       "25%        0.038749      0.040227     -0.303131  \n",
       "50%        0.097262      0.098008      0.000704  \n",
       "75%        0.196865      0.197364      0.311719  \n",
       "max        0.698984      0.698324      0.987288  "
      ]
     },
     "execution_count": 40,
     "metadata": {},
     "output_type": "execute_result"
    }
   ],
   "source": [
    "import sklearn.preprocessing\n",
    "A_norm = sklearn.preprocessing.normalize(df[cols], norm='l2')\n",
    "df_norm = pd.DataFrame(A_norm, columns=cols)\n",
    "df_norm.describe()"
   ]
  },
  {
   "cell_type": "markdown",
   "metadata": {},
   "source": [
    "On voit bien ici que les données sont centrées autour de 0 : les moyennes sont toutes presque à 0"
   ]
  },
  {
   "cell_type": "markdown",
   "metadata": {},
   "source": [
    "#### Détections outliers"
   ]
  },
  {
   "cell_type": "markdown",
   "metadata": {},
   "source": [
    "https://docs.python.org/fr/3/library/functions.html#any"
   ]
  },
  {
   "cell_type": "code",
   "execution_count": 51,
   "metadata": {},
   "outputs": [
    {
     "data": {
      "text/html": [
       "<div>\n",
       "<style scoped>\n",
       "    .dataframe tbody tr th:only-of-type {\n",
       "        vertical-align: middle;\n",
       "    }\n",
       "\n",
       "    .dataframe tbody tr th {\n",
       "        vertical-align: top;\n",
       "    }\n",
       "\n",
       "    .dataframe thead th {\n",
       "        text-align: right;\n",
       "    }\n",
       "</style>\n",
       "<table border=\"1\" class=\"dataframe\">\n",
       "  <thead>\n",
       "    <tr style=\"text-align: right;\">\n",
       "      <th></th>\n",
       "      <th>A</th>\n",
       "      <th>B</th>\n",
       "      <th>C</th>\n",
       "      <th>D</th>\n",
       "      <th>E</th>\n",
       "      <th>F</th>\n",
       "      <th>G</th>\n",
       "      <th>H</th>\n",
       "      <th>réveil</th>\n",
       "      <th>matin</th>\n",
       "      <th>lait</th>\n",
       "      <th>petit dej</th>\n",
       "    </tr>\n",
       "  </thead>\n",
       "  <tbody>\n",
       "    <tr>\n",
       "      <th>0</th>\n",
       "      <td>NaN</td>\n",
       "      <td>NaN</td>\n",
       "      <td>NaN</td>\n",
       "      <td>NaN</td>\n",
       "      <td>NaN</td>\n",
       "      <td>NaN</td>\n",
       "      <td>NaN</td>\n",
       "      <td>NaN</td>\n",
       "      <td>NaN</td>\n",
       "      <td>NaN</td>\n",
       "      <td>NaN</td>\n",
       "      <td>NaN</td>\n",
       "    </tr>\n",
       "    <tr>\n",
       "      <th>1</th>\n",
       "      <td>NaN</td>\n",
       "      <td>NaN</td>\n",
       "      <td>NaN</td>\n",
       "      <td>NaN</td>\n",
       "      <td>NaN</td>\n",
       "      <td>NaN</td>\n",
       "      <td>NaN</td>\n",
       "      <td>NaN</td>\n",
       "      <td>NaN</td>\n",
       "      <td>NaN</td>\n",
       "      <td>NaN</td>\n",
       "      <td>NaN</td>\n",
       "    </tr>\n",
       "    <tr>\n",
       "      <th>2</th>\n",
       "      <td>NaN</td>\n",
       "      <td>NaN</td>\n",
       "      <td>NaN</td>\n",
       "      <td>NaN</td>\n",
       "      <td>NaN</td>\n",
       "      <td>NaN</td>\n",
       "      <td>NaN</td>\n",
       "      <td>NaN</td>\n",
       "      <td>NaN</td>\n",
       "      <td>NaN</td>\n",
       "      <td>NaN</td>\n",
       "      <td>NaN</td>\n",
       "    </tr>\n",
       "    <tr>\n",
       "      <th>3</th>\n",
       "      <td>NaN</td>\n",
       "      <td>NaN</td>\n",
       "      <td>NaN</td>\n",
       "      <td>NaN</td>\n",
       "      <td>NaN</td>\n",
       "      <td>NaN</td>\n",
       "      <td>NaN</td>\n",
       "      <td>NaN</td>\n",
       "      <td>NaN</td>\n",
       "      <td>NaN</td>\n",
       "      <td>NaN</td>\n",
       "      <td>NaN</td>\n",
       "    </tr>\n",
       "    <tr>\n",
       "      <th>4</th>\n",
       "      <td>NaN</td>\n",
       "      <td>NaN</td>\n",
       "      <td>NaN</td>\n",
       "      <td>NaN</td>\n",
       "      <td>NaN</td>\n",
       "      <td>NaN</td>\n",
       "      <td>NaN</td>\n",
       "      <td>NaN</td>\n",
       "      <td>NaN</td>\n",
       "      <td>NaN</td>\n",
       "      <td>NaN</td>\n",
       "      <td>NaN</td>\n",
       "    </tr>\n",
       "    <tr>\n",
       "      <th>5</th>\n",
       "      <td>NaN</td>\n",
       "      <td>NaN</td>\n",
       "      <td>NaN</td>\n",
       "      <td>NaN</td>\n",
       "      <td>NaN</td>\n",
       "      <td>NaN</td>\n",
       "      <td>NaN</td>\n",
       "      <td>NaN</td>\n",
       "      <td>NaN</td>\n",
       "      <td>NaN</td>\n",
       "      <td>NaN</td>\n",
       "      <td>NaN</td>\n",
       "    </tr>\n",
       "    <tr>\n",
       "      <th>6</th>\n",
       "      <td>NaN</td>\n",
       "      <td>NaN</td>\n",
       "      <td>NaN</td>\n",
       "      <td>NaN</td>\n",
       "      <td>NaN</td>\n",
       "      <td>NaN</td>\n",
       "      <td>NaN</td>\n",
       "      <td>NaN</td>\n",
       "      <td>NaN</td>\n",
       "      <td>NaN</td>\n",
       "      <td>NaN</td>\n",
       "      <td>NaN</td>\n",
       "    </tr>\n",
       "    <tr>\n",
       "      <th>7</th>\n",
       "      <td>NaN</td>\n",
       "      <td>NaN</td>\n",
       "      <td>NaN</td>\n",
       "      <td>NaN</td>\n",
       "      <td>NaN</td>\n",
       "      <td>NaN</td>\n",
       "      <td>NaN</td>\n",
       "      <td>NaN</td>\n",
       "      <td>NaN</td>\n",
       "      <td>NaN</td>\n",
       "      <td>NaN</td>\n",
       "      <td>NaN</td>\n",
       "    </tr>\n",
       "    <tr>\n",
       "      <th>8</th>\n",
       "      <td>NaN</td>\n",
       "      <td>NaN</td>\n",
       "      <td>NaN</td>\n",
       "      <td>NaN</td>\n",
       "      <td>NaN</td>\n",
       "      <td>NaN</td>\n",
       "      <td>NaN</td>\n",
       "      <td>NaN</td>\n",
       "      <td>NaN</td>\n",
       "      <td>NaN</td>\n",
       "      <td>NaN</td>\n",
       "      <td>NaN</td>\n",
       "    </tr>\n",
       "    <tr>\n",
       "      <th>9</th>\n",
       "      <td>NaN</td>\n",
       "      <td>NaN</td>\n",
       "      <td>NaN</td>\n",
       "      <td>NaN</td>\n",
       "      <td>NaN</td>\n",
       "      <td>NaN</td>\n",
       "      <td>NaN</td>\n",
       "      <td>NaN</td>\n",
       "      <td>NaN</td>\n",
       "      <td>NaN</td>\n",
       "      <td>NaN</td>\n",
       "      <td>NaN</td>\n",
       "    </tr>\n",
       "    <tr>\n",
       "      <th>10</th>\n",
       "      <td>NaN</td>\n",
       "      <td>NaN</td>\n",
       "      <td>NaN</td>\n",
       "      <td>NaN</td>\n",
       "      <td>NaN</td>\n",
       "      <td>NaN</td>\n",
       "      <td>NaN</td>\n",
       "      <td>24.417547</td>\n",
       "      <td>NaN</td>\n",
       "      <td>NaN</td>\n",
       "      <td>NaN</td>\n",
       "      <td>NaN</td>\n",
       "    </tr>\n",
       "    <tr>\n",
       "      <th>11</th>\n",
       "      <td>NaN</td>\n",
       "      <td>NaN</td>\n",
       "      <td>NaN</td>\n",
       "      <td>NaN</td>\n",
       "      <td>NaN</td>\n",
       "      <td>NaN</td>\n",
       "      <td>NaN</td>\n",
       "      <td>29.178462</td>\n",
       "      <td>NaN</td>\n",
       "      <td>NaN</td>\n",
       "      <td>NaN</td>\n",
       "      <td>NaN</td>\n",
       "    </tr>\n",
       "    <tr>\n",
       "      <th>12</th>\n",
       "      <td>NaN</td>\n",
       "      <td>NaN</td>\n",
       "      <td>NaN</td>\n",
       "      <td>NaN</td>\n",
       "      <td>NaN</td>\n",
       "      <td>NaN</td>\n",
       "      <td>NaN</td>\n",
       "      <td>26.738978</td>\n",
       "      <td>NaN</td>\n",
       "      <td>NaN</td>\n",
       "      <td>NaN</td>\n",
       "      <td>NaN</td>\n",
       "    </tr>\n",
       "    <tr>\n",
       "      <th>13</th>\n",
       "      <td>NaN</td>\n",
       "      <td>NaN</td>\n",
       "      <td>NaN</td>\n",
       "      <td>NaN</td>\n",
       "      <td>NaN</td>\n",
       "      <td>NaN</td>\n",
       "      <td>NaN</td>\n",
       "      <td>29.401425</td>\n",
       "      <td>NaN</td>\n",
       "      <td>NaN</td>\n",
       "      <td>NaN</td>\n",
       "      <td>NaN</td>\n",
       "    </tr>\n",
       "    <tr>\n",
       "      <th>14</th>\n",
       "      <td>NaN</td>\n",
       "      <td>NaN</td>\n",
       "      <td>NaN</td>\n",
       "      <td>NaN</td>\n",
       "      <td>NaN</td>\n",
       "      <td>NaN</td>\n",
       "      <td>NaN</td>\n",
       "      <td>27.727542</td>\n",
       "      <td>NaN</td>\n",
       "      <td>NaN</td>\n",
       "      <td>NaN</td>\n",
       "      <td>NaN</td>\n",
       "    </tr>\n",
       "  </tbody>\n",
       "</table>\n",
       "</div>"
      ],
      "text/plain": [
       "     A   B   C   D   E   F   G          H réveil matin  lait petit dej\n",
       "0  NaN NaN NaN NaN NaN NaN NaN        NaN    NaN   NaN   NaN       NaN\n",
       "1  NaN NaN NaN NaN NaN NaN NaN        NaN    NaN   NaN   NaN       NaN\n",
       "2  NaN NaN NaN NaN NaN NaN NaN        NaN    NaN   NaN   NaN       NaN\n",
       "3  NaN NaN NaN NaN NaN NaN NaN        NaN    NaN   NaN   NaN       NaN\n",
       "4  NaN NaN NaN NaN NaN NaN NaN        NaN    NaN   NaN   NaN       NaN\n",
       "5  NaN NaN NaN NaN NaN NaN NaN        NaN    NaN   NaN   NaN       NaN\n",
       "6  NaN NaN NaN NaN NaN NaN NaN        NaN    NaN   NaN   NaN       NaN\n",
       "7  NaN NaN NaN NaN NaN NaN NaN        NaN    NaN   NaN   NaN       NaN\n",
       "8  NaN NaN NaN NaN NaN NaN NaN        NaN    NaN   NaN   NaN       NaN\n",
       "9  NaN NaN NaN NaN NaN NaN NaN        NaN    NaN   NaN   NaN       NaN\n",
       "10 NaN NaN NaN NaN NaN NaN NaN  24.417547    NaN   NaN   NaN       NaN\n",
       "11 NaN NaN NaN NaN NaN NaN NaN  29.178462    NaN   NaN   NaN       NaN\n",
       "12 NaN NaN NaN NaN NaN NaN NaN  26.738978    NaN   NaN   NaN       NaN\n",
       "13 NaN NaN NaN NaN NaN NaN NaN  29.401425    NaN   NaN   NaN       NaN\n",
       "14 NaN NaN NaN NaN NaN NaN NaN  27.727542    NaN   NaN   NaN       NaN"
      ]
     },
     "execution_count": 51,
     "metadata": {},
     "output_type": "execute_result"
    }
   ],
   "source": [
    "dff = df[df_std[cols]>3]\n",
    "dff.head(15)"
   ]
  },
  {
   "cell_type": "code",
   "execution_count": 74,
   "metadata": {},
   "outputs": [
    {
     "data": {
      "text/plain": [
       "False    9565\n",
       "True      435\n",
       "dtype: int64"
      ]
     },
     "execution_count": 74,
     "metadata": {},
     "output_type": "execute_result"
    }
   ],
   "source": [
    "outlier_slice= ((df_std[cols]>3)|(df_std[cols]<-3)).any(1)\n",
    "# 1 détection lignes ac outliers\n",
    "# 0 détection colonnes avec outliers\n",
    "outlier_slice.value_counts()\n"
   ]
  },
  {
   "cell_type": "code",
   "execution_count": 59,
   "metadata": {},
   "outputs": [
    {
     "data": {
      "text/plain": [
       "0      False\n",
       "1      False\n",
       "2      False\n",
       "3      False\n",
       "4      False\n",
       "       ...  \n",
       "195     True\n",
       "196    False\n",
       "197    False\n",
       "198    False\n",
       "199    False\n",
       "Length: 200, dtype: bool"
      ]
     },
     "execution_count": 59,
     "metadata": {},
     "output_type": "execute_result"
    }
   ],
   "source": [
    "outlier_slice.head(200)"
   ]
  },
  {
   "cell_type": "markdown",
   "metadata": {},
   "source": []
  },
  {
   "cell_type": "markdown",
   "metadata": {},
   "source": [
    "Récupérer les valeurs aberrantes de la ligne :"
   ]
  },
  {
   "cell_type": "code",
   "execution_count": 62,
   "metadata": {},
   "outputs": [
    {
     "data": {
      "text/html": [
       "<div>\n",
       "<style scoped>\n",
       "    .dataframe tbody tr th:only-of-type {\n",
       "        vertical-align: middle;\n",
       "    }\n",
       "\n",
       "    .dataframe tbody tr th {\n",
       "        vertical-align: top;\n",
       "    }\n",
       "\n",
       "    .dataframe thead th {\n",
       "        text-align: right;\n",
       "    }\n",
       "</style>\n",
       "<table border=\"1\" class=\"dataframe\">\n",
       "  <thead>\n",
       "    <tr style=\"text-align: right;\">\n",
       "      <th></th>\n",
       "      <th>A</th>\n",
       "      <th>B</th>\n",
       "      <th>C</th>\n",
       "      <th>D</th>\n",
       "      <th>E</th>\n",
       "      <th>F</th>\n",
       "      <th>G</th>\n",
       "      <th>H</th>\n",
       "    </tr>\n",
       "  </thead>\n",
       "  <tbody>\n",
       "    <tr>\n",
       "      <th>4</th>\n",
       "      <td>1.270662</td>\n",
       "      <td>0.949124</td>\n",
       "      <td>-1.710924</td>\n",
       "      <td>1.172486</td>\n",
       "      <td>0.048600</td>\n",
       "      <td>-0.615666</td>\n",
       "      <td>-0.620803</td>\n",
       "      <td>-1.672258</td>\n",
       "    </tr>\n",
       "    <tr>\n",
       "      <th>5</th>\n",
       "      <td>1.680849</td>\n",
       "      <td>1.034748</td>\n",
       "      <td>1.855334</td>\n",
       "      <td>1.082188</td>\n",
       "      <td>-0.324152</td>\n",
       "      <td>-0.757863</td>\n",
       "      <td>-0.766961</td>\n",
       "      <td>1.507133</td>\n",
       "    </tr>\n",
       "  </tbody>\n",
       "</table>\n",
       "</div>"
      ],
      "text/plain": [
       "          A         B         C         D         E         F         G  \\\n",
       "4  1.270662  0.949124 -1.710924  1.172486  0.048600 -0.615666 -0.620803   \n",
       "5  1.680849  1.034748  1.855334  1.082188 -0.324152 -0.757863 -0.766961   \n",
       "\n",
       "          H  \n",
       "4 -1.672258  \n",
       "5  1.507133  "
      ]
     },
     "execution_count": 62,
     "metadata": {},
     "output_type": "execute_result"
    }
   ],
   "source": [
    "df_std.loc[4:5, cols]"
   ]
  },
  {
   "cell_type": "code",
   "execution_count": 71,
   "metadata": {},
   "outputs": [
    {
     "data": {
      "text/plain": [
       "(435, 8)"
      ]
     },
     "execution_count": 71,
     "metadata": {},
     "output_type": "execute_result"
    }
   ],
   "source": [
    "df_std.loc[outlier_slice, cols].shape"
   ]
  },
  {
   "cell_type": "markdown",
   "metadata": {},
   "source": [
    "Récupérer les colonnes de valeurs aberrantes (s'il n'y en a qu'une par ligne) :"
   ]
  },
  {
   "cell_type": "code",
   "execution_count": 63,
   "metadata": {},
   "outputs": [
    {
     "data": {
      "text/plain": [
       "10      H\n",
       "11      H\n",
       "12      H\n",
       "13      H\n",
       "14      H\n",
       "       ..\n",
       "9911    E\n",
       "9918    E\n",
       "9961    F\n",
       "9976    E\n",
       "9978    E\n",
       "Length: 435, dtype: object"
      ]
     },
     "execution_count": 63,
     "metadata": {},
     "output_type": "execute_result"
    }
   ],
   "source": [
    "df_std.loc[outlier_slice, cols].abs().idxmax(1)"
   ]
  },
  {
   "cell_type": "markdown",
   "metadata": {},
   "source": [
    "https://stackoverflow.com/questions/8305199/the-tilde-operator-in-python"
   ]
  },
  {
   "cell_type": "code",
   "execution_count": 65,
   "metadata": {},
   "outputs": [
    {
     "data": {
      "text/plain": [
       "array([[<AxesSubplot:title={'center':'A'}>,\n",
       "        <AxesSubplot:title={'center':'B'}>,\n",
       "        <AxesSubplot:title={'center':'C'}>,\n",
       "        <AxesSubplot:title={'center':'D'}>],\n",
       "       [<AxesSubplot:title={'center':'E'}>,\n",
       "        <AxesSubplot:title={'center':'F'}>,\n",
       "        <AxesSubplot:title={'center':'G'}>,\n",
       "        <AxesSubplot:title={'center':'H'}>]], dtype=object)"
      ]
     },
     "execution_count": 65,
     "metadata": {},
     "output_type": "execute_result"
    },
    {
     "data": {
      "image/png": "[encoded data removed]",
      "text/plain": [
       "<Figure size 1400x400 with 8 Axes>"
      ]
     },
     "metadata": {},
     "output_type": "display_data"
    }
   ],
   "source": [
    "df_std.hist(bins=50, layout=(2,4), figsize=(14,4))"
   ]
  },
  {
   "cell_type": "code",
   "execution_count": 66,
   "metadata": {},
   "outputs": [
    {
     "data": {
      "text/plain": [
       "array([[<AxesSubplot:title={'center':'A'}>,\n",
       "        <AxesSubplot:title={'center':'B'}>,\n",
       "        <AxesSubplot:title={'center':'C'}>,\n",
       "        <AxesSubplot:title={'center':'D'}>],\n",
       "       [<AxesSubplot:title={'center':'E'}>,\n",
       "        <AxesSubplot:title={'center':'F'}>,\n",
       "        <AxesSubplot:title={'center':'G'}>,\n",
       "        <AxesSubplot:title={'center':'H'}>]], dtype=object)"
      ]
     },
     "execution_count": 66,
     "metadata": {},
     "output_type": "execute_result"
    },
    {
     "data": {
      "image/png": "[encoded data removed]",
      "text/plain": [
       "<Figure size 1400x400 with 8 Axes>"
      ]
     },
     "metadata": {},
     "output_type": "display_data"
    }
   ],
   "source": [
    "df_std[~outlier_slice].hist(bins=50, layout=(2,4), figsize=(14,4))"
   ]
  },
  {
   "cell_type": "markdown",
   "metadata": {},
   "source": [
    "## Mesures de forme / Measures of shape"
   ]
  },
  {
   "cell_type": "markdown",
   "metadata": {},
   "source": [
    "Skewness et Kurtosis : \n",
    "https://towardsdatascience.com/intro-to-descriptive-statistics-252e9c464ac9"
   ]
  },
  {
   "cell_type": "markdown",
   "metadata": {},
   "source": [
    "* Skewness : symétrie de la distribution\n",
    "* Kurtosis : aplatissement"
   ]
  },
  {
   "cell_type": "markdown",
   "metadata": {},
   "source": [
    "Observez ces mesures de forme sur vos données\n",
    "\n",
    "**Aide**\n",
    "- https://docs.scipy.org/doc/scipy/reference/generated/scipy.stats.skew.html\n",
    "- https://docs.scipy.org/doc/scipy/reference/generated/scipy.stats.kurtosis.html"
   ]
  },
  {
   "cell_type": "markdown",
   "metadata": {},
   "source": [
    "#### Skew"
   ]
  },
  {
   "cell_type": "code",
   "execution_count": 75,
   "metadata": {},
   "outputs": [
    {
     "name": "stderr",
     "output_type": "stream",
     "text": [
      "/tmp/ipykernel_70026/1665899112.py:1: FutureWarning: Dropping of nuisance columns in DataFrame reductions (with 'numeric_only=None') is deprecated; in a future version this will raise TypeError.  Select only valid columns before calling the reduction.\n",
      "  df.skew()\n"
     ]
    },
    {
     "data": {
      "text/plain": [
       "A      -0.001115\n",
       "B      -0.031362\n",
       "C       0.013886\n",
       "D      -0.000977\n",
       "E       1.305970\n",
       "F       2.016465\n",
       "G       1.984776\n",
       "H       0.663758\n",
       "lait    0.004401\n",
       "dtype: float64"
      ]
     },
     "execution_count": 75,
     "metadata": {},
     "output_type": "execute_result"
    }
   ],
   "source": [
    "df.skew()"
   ]
  },
  {
   "cell_type": "markdown",
   "metadata": {},
   "source": [
    "Exemples de ce qu'on peut voir ici :\n",
    "- Les variables A, B, C et H ont un skew proche de 0, elles sont symétriques, on peut le vérifier en regardant les histogrammes\n",
    "- E, F, G et H ont un skew positif plus élevé : la distribution tend vers la gauche ; vers les plus petites valeurs"
   ]
  },
  {
   "cell_type": "markdown",
   "metadata": {},
   "source": [
    "#### Kurtosis"
   ]
  },
  {
   "cell_type": "code",
   "execution_count": 76,
   "metadata": {},
   "outputs": [
    {
     "name": "stderr",
     "output_type": "stream",
     "text": [
      "/tmp/ipykernel_70026/615572439.py:1: FutureWarning: Dropping of nuisance columns in DataFrame reductions (with 'numeric_only=None') is deprecated; in a future version this will raise TypeError.  Select only valid columns before calling the reduction.\n",
      "  df.kurtosis()\n"
     ]
    },
    {
     "data": {
      "text/plain": [
       "A      -1.173656\n",
       "B       0.023006\n",
       "C      -0.029607\n",
       "D      -1.266593\n",
       "E       2.293632\n",
       "F       6.039593\n",
       "G       5.914500\n",
       "H       4.721507\n",
       "lait   -2.000381\n",
       "dtype: float64"
      ]
     },
     "execution_count": 76,
     "metadata": {},
     "output_type": "execute_result"
    }
   ],
   "source": [
    "df.kurtosis()"
   ]
  },
  {
   "cell_type": "markdown",
   "metadata": {},
   "source": [
    "L'aplatissement mesure si votre ensemble de données est à queue lourde ou à queue légère par rapport à une distribution normale <br/>\n",
    "\n",
    "Exemples de ce qu'on peut voir ici :\n",
    "- F, G et H sont effectivement plus applaties que les autres"
   ]
  },
  {
   "cell_type": "markdown",
   "metadata": {},
   "source": [
    "# Statistiques multivariées"
   ]
  },
  {
   "cell_type": "markdown",
   "metadata": {},
   "source": [
    "On va maintenant observer les données en croisant les variables entre elles !"
   ]
  },
  {
   "cell_type": "markdown",
   "metadata": {},
   "source": [
    "## Correlations"
   ]
  },
  {
   "cell_type": "markdown",
   "metadata": {},
   "source": [
    "https://en.wikipedia.org/wiki/Correlation"
   ]
  },
  {
   "cell_type": "markdown",
   "metadata": {},
   "source": [
    "Quelques notions pour commencer :\n",
    "- Covariance = quantification de la variation d'une variable par rapport à une autre (elle caractérise les variations simultanées des deux variables) \n",
    "- Correlation = covariance normalisée\n",
    "- coefficient de corrélation linéaire entre 2 variables = quotient de leur covariance par le produit de leurs écarts types\n",
    "- La valeur absolue du coefficient de correlation, toujours comprise entre 0 et 1, ne mesure pas l’intensité de la liaison mais la prépondérance de la relation affine sur les variations internes des variables. \n",
    "- Un coefficient nul n’implique pas indépendance, car d’autres types de corrélation sont possibles.\n",
    "- Le fait que deux variables soient « fortement corrélées » ne démontre pas qu'il y ait une relation de causalité entre l'une et l'autre. Le contre-exemple le plus typique est celui où elles sont en fait liées par une causalité commune. \n",
    "\n",
    "**En bref :**\n",
    "- Corrélation ne signifie pas causalité\n",
    "- La corrélation (de Pearson) ne mesure que la tendance linéaire"
   ]
  },
  {
   "cell_type": "code",
   "execution_count": 69,
   "metadata": {},
   "outputs": [
    {
     "data": {
      "text/html": [
       "<img src=\"https://upload.wikimedia.org/wikipedia/commons/thumb/d/d4/Correlation_examples2.svg/1000px-Correlation_examples2.svg.png\" width=\"500\"/>"
      ],
      "text/plain": [
       "<IPython.core.display.Image object>"
      ]
     },
     "execution_count": 69,
     "metadata": {},
     "output_type": "execute_result"
    }
   ],
   "source": [
    "url = 'https://upload.wikimedia.org/wikipedia/commons/thumb/d/d4/Correlation_examples2.svg/1000px-Correlation_examples2.svg.png'\n",
    "Image(url = url, width=500)"
   ]
  },
  {
   "cell_type": "markdown",
   "metadata": {},
   "source": [
    "Plusieurs ensembles de points (x, y), avec le coefficient de corrélation de Pearson de x et y pour chaque ensemble. La corrélation reflète le bruit et la direction d'une relation linéaire (rangée du haut), mais pas la pente de cette relation (au milieu), ni de nombreux aspects des relations non linéaires (en bas). N.B. : le chiffre du centre a une pente de 0 mais dans ce cas le coefficient de corrélation est indéfini car la variance de Y est nulle."
   ]
  },
  {
   "cell_type": "code",
   "execution_count": 70,
   "metadata": {
    "scrolled": true
   },
   "outputs": [
    {
     "data": {
      "text/html": [
       "<img src=\"https://upload.wikimedia.org/wikipedia/commons/thumb/e/ec/Anscombe%27s_quartet_3.svg/1000px-Anscombe%27s_quartet_3.svg.png\" width=\"500\"/>"
      ],
      "text/plain": [
       "<IPython.core.display.Image object>"
      ]
     },
     "execution_count": 70,
     "metadata": {},
     "output_type": "execute_result"
    }
   ],
   "source": [
    "url = 'https://upload.wikimedia.org/wikipedia/commons/thumb/e/ec/Anscombe%27s_quartet_3.svg/1000px-Anscombe%27s_quartet_3.svg.png'\n",
    "Image(url = url, width=500)"
   ]
  },
  {
   "cell_type": "markdown",
   "metadata": {},
   "source": [
    "Quatre ensembles de données avec la même corrélation de 0,816"
   ]
  },
  {
   "cell_type": "markdown",
   "metadata": {},
   "source": [
    "**TODO**\n",
    "\n",
    "1. Calculer les corrélations entre les colonnes 2 à 2 : afficher le résultat sur une 'heatmap'\n",
    "3. A votre avis: comment la correlation va-t-elle être impactée par la standardisation ? Vérifiez sur le dataset.\n",
    "4. Si deux variables sont fortement correlées, toute nouvelle feature correlée à l'une sera-t-elle forcément correlée à l'autre ?\n",
    "\n",
    "**Aide:**  \n",
    "- la librairie 'seaborn' permet de créer très facilement de belles 'heatmap' : https://seaborn.pydata.org/generated/seaborn.heatmap.html"
   ]
  },
  {
   "cell_type": "markdown",
   "metadata": {},
   "source": [
    "#### Corrélations entre les colonnes 2 à 2 / Afficher le résultat sur une 'heatmap'"
   ]
  },
  {
   "cell_type": "code",
   "execution_count": 77,
   "metadata": {
    "scrolled": false
   },
   "outputs": [
    {
     "data": {
      "text/plain": [
       "<AxesSubplot:>"
      ]
     },
     "execution_count": 77,
     "metadata": {},
     "output_type": "execute_result"
    },
    {
     "data": {
      "image/png": "[encoded data removed]",
      "text/plain": [
       "<Figure size 800x550 with 2 Axes>"
      ]
     },
     "metadata": {},
     "output_type": "display_data"
    }
   ],
   "source": [
    "import seaborn as sns\n",
    "sns.heatmap(df[cols].corr(), cmap=\"RdBu_r\", vmin=-1, vmax=1)"
   ]
  },
  {
   "cell_type": "markdown",
   "metadata": {},
   "source": [
    "Exemples de ce qu'on peut voir ici :\n",
    "- C et H sont très corrélées positivement, donc liées entre elles\n",
    "=> C'est à dire que quand l'une va grandir, l'autre va grandir aussi\n",
    "- F et G également\n",
    "- => à l'inverse si on avait eu des corrélations négatives (en bleu foncé), plus l'une des variables grandit, plus l'autre diminue"
   ]
  },
  {
   "cell_type": "code",
   "execution_count": 78,
   "metadata": {
    "scrolled": true
   },
   "outputs": [
    {
     "data": {
      "image/png": "[encoded data removed]",
      "text/plain": [
       "<Figure size 900x700 with 2 Axes>"
      ]
     },
     "metadata": {},
     "output_type": "display_data"
    }
   ],
   "source": [
    "import matplotlib.pyplot as plt\n",
    "# Petit tips pour agrandir le graphique avec Seaborn et aMtplotlib\n",
    "with sns.axes_style(\"white\"):\n",
    "    f, ax = plt.subplots(figsize=(9, 7))\n",
    "    ax = sns.heatmap(df[cols].corr(), cmap=\"RdBu_r\", vmin=-1, vmax=1)"
   ]
  },
  {
   "cell_type": "markdown",
   "metadata": {},
   "source": [
    "#### A votre avis: comment la correlation va-t-elle être impactée par la standardisation ? Vérifiez sur le dataset."
   ]
  },
  {
   "cell_type": "markdown",
   "metadata": {},
   "source": [
    "Non : à montrer"
   ]
  },
  {
   "cell_type": "markdown",
   "metadata": {},
   "source": [
    "#### Si deux variables sont fortement correlées, toute nouvelle feature correlée à l'une sera-t-elle forcément correlée à l'autre ?"
   ]
  },
  {
   "cell_type": "markdown",
   "metadata": {},
   "source": [
    "Oui : pourquoi ?\n",
    "\n",
    "Y corrélé à X ~ Y = alpha x X + espilon (avec espilon proche de zero)<br/>\n",
    "Z corrélé à X ~ Z = beta x X + nu (avec nu proche de zero)<br/>\n",
    "et donc :<br/>\n",
    "Y = (alpha/beta)Z - ((alpha/beta)*nu+espilon)<br/>"
   ]
  },
  {
   "cell_type": "markdown",
   "metadata": {},
   "source": [
    "## With qualitatives data"
   ]
  },
  {
   "cell_type": "markdown",
   "metadata": {},
   "source": [
    "Vpus pourrez constater que les variables qualitatives n'étant pas numériques, il est plus délicat de les analyser : on ne peut pas observer la moyenne, la médiane, voir s'il y a des corrélations,... <br/>\n",
    "Afin de faciliter leur analyse, leur intégration dans nos modèles par la suite, il est possible de les transformer en variables quantitatives :\n",
    "* https://pandas.pydata.org/pandas-docs/stable/reference/api/pandas.get_dummies.html\n",
    "* https://pandas.pydata.org/docs/reference/api/pandas.Series.map.html"
   ]
  },
  {
   "cell_type": "markdown",
   "metadata": {},
   "source": [
    "**TODO**\n",
    "\n",
    "1. Tester le module describe sur les données qualitative\n",
    "2. Tranformer les variables qualitatives\n",
    "3. Chercher les dépendances entre les colonnes qualitatives et les autres colonnes\n",
    "\n",
    "**Aide :**\n",
    "    \n",
    "- pour fixer le type d'une variable, vous pouvez utiliser la méthode .astype()\n",
    "- pour grouper selon la variable qualitative étudiée, vous pouvez utiliser 'groupby'"
   ]
  },
  {
   "cell_type": "code",
   "execution_count": 79,
   "metadata": {},
   "outputs": [
    {
     "data": {
      "text/html": [
       "<div>\n",
       "<style scoped>\n",
       "    .dataframe tbody tr th:only-of-type {\n",
       "        vertical-align: middle;\n",
       "    }\n",
       "\n",
       "    .dataframe tbody tr th {\n",
       "        vertical-align: top;\n",
       "    }\n",
       "\n",
       "    .dataframe thead th {\n",
       "        text-align: right;\n",
       "    }\n",
       "</style>\n",
       "<table border=\"1\" class=\"dataframe\">\n",
       "  <thead>\n",
       "    <tr style=\"text-align: right;\">\n",
       "      <th></th>\n",
       "      <th>réveil</th>\n",
       "      <th>matin</th>\n",
       "      <th>lait</th>\n",
       "      <th>petit dej</th>\n",
       "    </tr>\n",
       "  </thead>\n",
       "  <tbody>\n",
       "    <tr>\n",
       "      <th>count</th>\n",
       "      <td>10000</td>\n",
       "      <td>10000</td>\n",
       "      <td>10000.0</td>\n",
       "      <td>10000</td>\n",
       "    </tr>\n",
       "    <tr>\n",
       "      <th>unique</th>\n",
       "      <td>3</td>\n",
       "      <td>2</td>\n",
       "      <td>2.0</td>\n",
       "      <td>3</td>\n",
       "    </tr>\n",
       "    <tr>\n",
       "      <th>top</th>\n",
       "      <td>difficile</td>\n",
       "      <td>café</td>\n",
       "      <td>0.0</td>\n",
       "      <td>pain au choc</td>\n",
       "    </tr>\n",
       "    <tr>\n",
       "      <th>freq</th>\n",
       "      <td>3956</td>\n",
       "      <td>8594</td>\n",
       "      <td>5011.0</td>\n",
       "      <td>4678</td>\n",
       "    </tr>\n",
       "  </tbody>\n",
       "</table>\n",
       "</div>"
      ],
      "text/plain": [
       "           réveil  matin     lait     petit dej\n",
       "count       10000  10000  10000.0         10000\n",
       "unique          3      2      2.0             3\n",
       "top     difficile   café      0.0  pain au choc\n",
       "freq         3956   8594   5011.0          4678"
      ]
     },
     "execution_count": 79,
     "metadata": {},
     "output_type": "execute_result"
    }
   ],
   "source": [
    "df[df.columns[-4:]].astype('category').describe()\n",
    "# df[df.columns[-4:]].describe(include='all')\n"
   ]
  },
  {
   "cell_type": "code",
   "execution_count": 80,
   "metadata": {},
   "outputs": [
    {
     "data": {
      "text/html": [
       "<div>\n",
       "<style scoped>\n",
       "    .dataframe tbody tr th:only-of-type {\n",
       "        vertical-align: middle;\n",
       "    }\n",
       "\n",
       "    .dataframe tbody tr th {\n",
       "        vertical-align: top;\n",
       "    }\n",
       "\n",
       "    .dataframe thead th {\n",
       "        text-align: right;\n",
       "    }\n",
       "</style>\n",
       "<table border=\"1\" class=\"dataframe\">\n",
       "  <thead>\n",
       "    <tr style=\"text-align: right;\">\n",
       "      <th></th>\n",
       "      <th>A</th>\n",
       "      <th>B</th>\n",
       "      <th>C</th>\n",
       "      <th>D</th>\n",
       "      <th>E</th>\n",
       "      <th>F</th>\n",
       "      <th>G</th>\n",
       "      <th>H</th>\n",
       "      <th>lait</th>\n",
       "    </tr>\n",
       "    <tr>\n",
       "      <th>petit dej</th>\n",
       "      <th></th>\n",
       "      <th></th>\n",
       "      <th></th>\n",
       "      <th></th>\n",
       "      <th></th>\n",
       "      <th></th>\n",
       "      <th></th>\n",
       "      <th></th>\n",
       "      <th></th>\n",
       "    </tr>\n",
       "  </thead>\n",
       "  <tbody>\n",
       "    <tr>\n",
       "      <th>chocolatine</th>\n",
       "      <td>0.044882</td>\n",
       "      <td>0.033687</td>\n",
       "      <td>-0.079159</td>\n",
       "      <td>0.014150</td>\n",
       "      <td>4.677503</td>\n",
       "      <td>1.048031</td>\n",
       "      <td>1.052124</td>\n",
       "      <td>-0.007968</td>\n",
       "      <td>0.475309</td>\n",
       "    </tr>\n",
       "    <tr>\n",
       "      <th>croissant</th>\n",
       "      <td>0.067194</td>\n",
       "      <td>-0.005242</td>\n",
       "      <td>0.039242</td>\n",
       "      <td>2.140661</td>\n",
       "      <td>4.275907</td>\n",
       "      <td>1.028126</td>\n",
       "      <td>1.034775</td>\n",
       "      <td>0.096892</td>\n",
       "      <td>0.502567</td>\n",
       "    </tr>\n",
       "    <tr>\n",
       "      <th>pain au choc</th>\n",
       "      <td>0.004317</td>\n",
       "      <td>-0.002041</td>\n",
       "      <td>0.029652</td>\n",
       "      <td>-2.135070</td>\n",
       "      <td>5.100957</td>\n",
       "      <td>1.014688</td>\n",
       "      <td>1.015809</td>\n",
       "      <td>0.043985</td>\n",
       "      <td>0.498504</td>\n",
       "    </tr>\n",
       "  </tbody>\n",
       "</table>\n",
       "</div>"
      ],
      "text/plain": [
       "                     A         B         C         D         E         F  \\\n",
       "petit dej                                                                  \n",
       "chocolatine   0.044882  0.033687 -0.079159  0.014150  4.677503  1.048031   \n",
       "croissant     0.067194 -0.005242  0.039242  2.140661  4.275907  1.028126   \n",
       "pain au choc  0.004317 -0.002041  0.029652 -2.135070  5.100957  1.014688   \n",
       "\n",
       "                     G         H      lait  \n",
       "petit dej                                   \n",
       "chocolatine   1.052124 -0.007968  0.475309  \n",
       "croissant     1.034775  0.096892  0.502567  \n",
       "pain au choc  1.015809  0.043985  0.498504  "
      ]
     },
     "execution_count": 80,
     "metadata": {},
     "output_type": "execute_result"
    }
   ],
   "source": [
    "df.groupby('petit dej').mean()"
   ]
  },
  {
   "cell_type": "code",
   "execution_count": 81,
   "metadata": {},
   "outputs": [
    {
     "data": {
      "text/html": [
       "<div>\n",
       "<style scoped>\n",
       "    .dataframe tbody tr th:only-of-type {\n",
       "        vertical-align: middle;\n",
       "    }\n",
       "\n",
       "    .dataframe tbody tr th {\n",
       "        vertical-align: top;\n",
       "    }\n",
       "\n",
       "    .dataframe thead th {\n",
       "        text-align: right;\n",
       "    }\n",
       "</style>\n",
       "<table border=\"1\" class=\"dataframe\">\n",
       "  <thead>\n",
       "    <tr style=\"text-align: right;\">\n",
       "      <th></th>\n",
       "      <th>A</th>\n",
       "      <th>B</th>\n",
       "      <th>C</th>\n",
       "      <th>D</th>\n",
       "      <th>E</th>\n",
       "      <th>F</th>\n",
       "      <th>G</th>\n",
       "      <th>H</th>\n",
       "      <th>lait</th>\n",
       "    </tr>\n",
       "    <tr>\n",
       "      <th>réveil</th>\n",
       "      <th></th>\n",
       "      <th></th>\n",
       "      <th></th>\n",
       "      <th></th>\n",
       "      <th></th>\n",
       "      <th></th>\n",
       "      <th></th>\n",
       "      <th></th>\n",
       "      <th></th>\n",
       "    </tr>\n",
       "  </thead>\n",
       "  <tbody>\n",
       "    <tr>\n",
       "      <th>difficile</th>\n",
       "      <td>3.032055</td>\n",
       "      <td>-0.004479</td>\n",
       "      <td>0.047757</td>\n",
       "      <td>0.052305</td>\n",
       "      <td>4.683998</td>\n",
       "      <td>1.033025</td>\n",
       "      <td>1.037904</td>\n",
       "      <td>0.112140</td>\n",
       "      <td>0.503286</td>\n",
       "    </tr>\n",
       "    <tr>\n",
       "      <th>facile</th>\n",
       "      <td>-0.475232</td>\n",
       "      <td>-0.003645</td>\n",
       "      <td>0.001013</td>\n",
       "      <td>-0.005181</td>\n",
       "      <td>4.685972</td>\n",
       "      <td>1.024868</td>\n",
       "      <td>1.029581</td>\n",
       "      <td>0.031701</td>\n",
       "      <td>0.502874</td>\n",
       "    </tr>\n",
       "    <tr>\n",
       "      <th>toujours pas réveillé</th>\n",
       "      <td>-3.483187</td>\n",
       "      <td>0.005810</td>\n",
       "      <td>0.027038</td>\n",
       "      <td>-0.056294</td>\n",
       "      <td>4.695236</td>\n",
       "      <td>1.007817</td>\n",
       "      <td>1.009504</td>\n",
       "      <td>0.037968</td>\n",
       "      <td>0.488668</td>\n",
       "    </tr>\n",
       "  </tbody>\n",
       "</table>\n",
       "</div>"
      ],
      "text/plain": [
       "                              A         B         C         D         E  \\\n",
       "réveil                                                                    \n",
       "difficile              3.032055 -0.004479  0.047757  0.052305  4.683998   \n",
       "facile                -0.475232 -0.003645  0.001013 -0.005181  4.685972   \n",
       "toujours pas réveillé -3.483187  0.005810  0.027038 -0.056294  4.695236   \n",
       "\n",
       "                              F         G         H      lait  \n",
       "réveil                                                         \n",
       "difficile              1.033025  1.037904  0.112140  0.503286  \n",
       "facile                 1.024868  1.029581  0.031701  0.502874  \n",
       "toujours pas réveillé  1.007817  1.009504  0.037968  0.488668  "
      ]
     },
     "execution_count": 81,
     "metadata": {},
     "output_type": "execute_result"
    }
   ],
   "source": [
    "df.groupby('réveil').mean()"
   ]
  },
  {
   "cell_type": "code",
   "execution_count": 82,
   "metadata": {},
   "outputs": [
    {
     "data": {
      "text/html": [
       "<div>\n",
       "<style scoped>\n",
       "    .dataframe tbody tr th:only-of-type {\n",
       "        vertical-align: middle;\n",
       "    }\n",
       "\n",
       "    .dataframe tbody tr th {\n",
       "        vertical-align: top;\n",
       "    }\n",
       "\n",
       "    .dataframe thead th {\n",
       "        text-align: right;\n",
       "    }\n",
       "</style>\n",
       "<table border=\"1\" class=\"dataframe\">\n",
       "  <thead>\n",
       "    <tr style=\"text-align: right;\">\n",
       "      <th></th>\n",
       "      <th>A</th>\n",
       "      <th>B</th>\n",
       "      <th>C</th>\n",
       "      <th>D</th>\n",
       "      <th>E</th>\n",
       "      <th>F</th>\n",
       "      <th>G</th>\n",
       "      <th>H</th>\n",
       "      <th>lait</th>\n",
       "    </tr>\n",
       "    <tr>\n",
       "      <th>matin</th>\n",
       "      <th></th>\n",
       "      <th></th>\n",
       "      <th></th>\n",
       "      <th></th>\n",
       "      <th></th>\n",
       "      <th></th>\n",
       "      <th></th>\n",
       "      <th></th>\n",
       "      <th></th>\n",
       "    </tr>\n",
       "  </thead>\n",
       "  <tbody>\n",
       "    <tr>\n",
       "      <th>café</th>\n",
       "      <td>0.026228</td>\n",
       "      <td>0.004541</td>\n",
       "      <td>0.012369</td>\n",
       "      <td>-0.006448</td>\n",
       "      <td>4.692194</td>\n",
       "      <td>0.691666</td>\n",
       "      <td>0.695734</td>\n",
       "      <td>0.056584</td>\n",
       "      <td>0.496975</td>\n",
       "    </tr>\n",
       "    <tr>\n",
       "      <th>thé</th>\n",
       "      <td>0.098106</td>\n",
       "      <td>-0.036448</td>\n",
       "      <td>0.117022</td>\n",
       "      <td>0.058445</td>\n",
       "      <td>4.661576</td>\n",
       "      <td>3.049158</td>\n",
       "      <td>3.052016</td>\n",
       "      <td>0.118913</td>\n",
       "      <td>0.510669</td>\n",
       "    </tr>\n",
       "  </tbody>\n",
       "</table>\n",
       "</div>"
      ],
      "text/plain": [
       "              A         B         C         D         E         F         G  \\\n",
       "matin                                                                         \n",
       "café   0.026228  0.004541  0.012369 -0.006448  4.692194  0.691666  0.695734   \n",
       "thé    0.098106 -0.036448  0.117022  0.058445  4.661576  3.049158  3.052016   \n",
       "\n",
       "              H      lait  \n",
       "matin                      \n",
       "café   0.056584  0.496975  \n",
       "thé    0.118913  0.510669  "
      ]
     },
     "execution_count": 82,
     "metadata": {},
     "output_type": "execute_result"
    }
   ],
   "source": [
    "df.groupby('matin').mean()"
   ]
  },
  {
   "cell_type": "markdown",
   "metadata": {},
   "source": [
    "Transforming qualitative variables in quantitative variables with the methods map or get_dummies.\n",
    "* https://pandas.pydata.org/pandas-docs/stable/reference/api/pandas.get_dummies.html\n",
    "* https://pandas.pydata.org/docs/reference/api/pandas.Series.map.html"
   ]
  },
  {
   "cell_type": "code",
   "execution_count": 83,
   "metadata": {},
   "outputs": [
    {
     "data": {
      "text/plain": [
       "<AxesSubplot:>"
      ]
     },
     "execution_count": 83,
     "metadata": {},
     "output_type": "execute_result"
    },
    {
     "data": {
      "image/png": "[encoded data removed]",
      "text/plain": [
       "<Figure size 800x550 with 2 Axes>"
      ]
     },
     "metadata": {},
     "output_type": "display_data"
    }
   ],
   "source": [
    "dfc= df.copy()\n",
    "dfc['réveil']=df['réveil'].map({'toujours pas réveillé':-1, 'difficile':0, 'facile':1})\n",
    "dfc = pd.concat((dfc, pd.get_dummies(df['petit dej'])), axis=1)\n",
    "sns.heatmap(dfc.corr(), cmap=\"RdBu_r\", vmin=-1, vmax=1)"
   ]
  },
  {
   "cell_type": "code",
   "execution_count": 84,
   "metadata": {},
   "outputs": [
    {
     "data": {
      "text/html": [
       "<div>\n",
       "<style scoped>\n",
       "    .dataframe tbody tr th:only-of-type {\n",
       "        vertical-align: middle;\n",
       "    }\n",
       "\n",
       "    .dataframe tbody tr th {\n",
       "        vertical-align: top;\n",
       "    }\n",
       "\n",
       "    .dataframe thead th {\n",
       "        text-align: right;\n",
       "    }\n",
       "</style>\n",
       "<table border=\"1\" class=\"dataframe\">\n",
       "  <thead>\n",
       "    <tr style=\"text-align: right;\">\n",
       "      <th></th>\n",
       "      <th>A</th>\n",
       "      <th>B</th>\n",
       "      <th>C</th>\n",
       "      <th>D</th>\n",
       "      <th>E</th>\n",
       "      <th>F</th>\n",
       "      <th>G</th>\n",
       "      <th>H</th>\n",
       "      <th>réveil</th>\n",
       "      <th>matin</th>\n",
       "      <th>lait</th>\n",
       "      <th>petit dej</th>\n",
       "      <th>chocolatine</th>\n",
       "      <th>croissant</th>\n",
       "      <th>pain au choc</th>\n",
       "    </tr>\n",
       "  </thead>\n",
       "  <tbody>\n",
       "    <tr>\n",
       "      <th>0</th>\n",
       "      <td>-4.853218</td>\n",
       "      <td>0.336325</td>\n",
       "      <td>-2.252479</td>\n",
       "      <td>3.145284</td>\n",
       "      <td>3.212247</td>\n",
       "      <td>0.540656</td>\n",
       "      <td>0.737929</td>\n",
       "      <td>-0.542533</td>\n",
       "      <td>-1</td>\n",
       "      <td>café</td>\n",
       "      <td>0.0</td>\n",
       "      <td>croissant</td>\n",
       "      <td>0</td>\n",
       "      <td>1</td>\n",
       "      <td>0</td>\n",
       "    </tr>\n",
       "    <tr>\n",
       "      <th>1</th>\n",
       "      <td>1.031640</td>\n",
       "      <td>-1.207136</td>\n",
       "      <td>-0.704018</td>\n",
       "      <td>3.092987</td>\n",
       "      <td>4.924741</td>\n",
       "      <td>0.153680</td>\n",
       "      <td>0.313898</td>\n",
       "      <td>-1.639022</td>\n",
       "      <td>0</td>\n",
       "      <td>café</td>\n",
       "      <td>1.0</td>\n",
       "      <td>croissant</td>\n",
       "      <td>0</td>\n",
       "      <td>1</td>\n",
       "      <td>0</td>\n",
       "    </tr>\n",
       "    <tr>\n",
       "      <th>2</th>\n",
       "      <td>-4.582366</td>\n",
       "      <td>-0.800292</td>\n",
       "      <td>-0.515243</td>\n",
       "      <td>2.925474</td>\n",
       "      <td>2.808811</td>\n",
       "      <td>1.412834</td>\n",
       "      <td>1.302301</td>\n",
       "      <td>-0.054520</td>\n",
       "      <td>-1</td>\n",
       "      <td>café</td>\n",
       "      <td>1.0</td>\n",
       "      <td>croissant</td>\n",
       "      <td>0</td>\n",
       "      <td>1</td>\n",
       "      <td>0</td>\n",
       "    </tr>\n",
       "    <tr>\n",
       "      <th>3</th>\n",
       "      <td>2.691380</td>\n",
       "      <td>0.144119</td>\n",
       "      <td>2.530201</td>\n",
       "      <td>3.914499</td>\n",
       "      <td>4.108476</td>\n",
       "      <td>3.495376</td>\n",
       "      <td>3.381862</td>\n",
       "      <td>1.136969</td>\n",
       "      <td>0</td>\n",
       "      <td>thé</td>\n",
       "      <td>0.0</td>\n",
       "      <td>croissant</td>\n",
       "      <td>0</td>\n",
       "      <td>1</td>\n",
       "      <td>0</td>\n",
       "    </tr>\n",
       "    <tr>\n",
       "      <th>4</th>\n",
       "      <td>3.679196</td>\n",
       "      <td>0.955008</td>\n",
       "      <td>-5.120556</td>\n",
       "      <td>2.631311</td>\n",
       "      <td>4.832076</td>\n",
       "      <td>0.389124</td>\n",
       "      <td>0.383447</td>\n",
       "      <td>-5.500964</td>\n",
       "      <td>0</td>\n",
       "      <td>café</td>\n",
       "      <td>0.0</td>\n",
       "      <td>croissant</td>\n",
       "      <td>0</td>\n",
       "      <td>1</td>\n",
       "      <td>0</td>\n",
       "    </tr>\n",
       "    <tr>\n",
       "      <th>...</th>\n",
       "      <td>...</td>\n",
       "      <td>...</td>\n",
       "      <td>...</td>\n",
       "      <td>...</td>\n",
       "      <td>...</td>\n",
       "      <td>...</td>\n",
       "      <td>...</td>\n",
       "      <td>...</td>\n",
       "      <td>...</td>\n",
       "      <td>...</td>\n",
       "      <td>...</td>\n",
       "      <td>...</td>\n",
       "      <td>...</td>\n",
       "      <td>...</td>\n",
       "      <td>...</td>\n",
       "    </tr>\n",
       "    <tr>\n",
       "      <th>9995</th>\n",
       "      <td>-1.194839</td>\n",
       "      <td>-0.233589</td>\n",
       "      <td>-0.621681</td>\n",
       "      <td>-2.818316</td>\n",
       "      <td>6.717857</td>\n",
       "      <td>0.595529</td>\n",
       "      <td>0.451535</td>\n",
       "      <td>0.410630</td>\n",
       "      <td>1</td>\n",
       "      <td>café</td>\n",
       "      <td>1.0</td>\n",
       "      <td>pain au choc</td>\n",
       "      <td>0</td>\n",
       "      <td>0</td>\n",
       "      <td>1</td>\n",
       "    </tr>\n",
       "    <tr>\n",
       "      <th>9996</th>\n",
       "      <td>3.316081</td>\n",
       "      <td>-0.378908</td>\n",
       "      <td>-2.200668</td>\n",
       "      <td>-1.822745</td>\n",
       "      <td>0.325716</td>\n",
       "      <td>1.501956</td>\n",
       "      <td>1.556693</td>\n",
       "      <td>-3.517332</td>\n",
       "      <td>0</td>\n",
       "      <td>café</td>\n",
       "      <td>1.0</td>\n",
       "      <td>pain au choc</td>\n",
       "      <td>0</td>\n",
       "      <td>0</td>\n",
       "      <td>1</td>\n",
       "    </tr>\n",
       "    <tr>\n",
       "      <th>9997</th>\n",
       "      <td>1.233816</td>\n",
       "      <td>-0.085799</td>\n",
       "      <td>-5.785903</td>\n",
       "      <td>-0.391353</td>\n",
       "      <td>8.584206</td>\n",
       "      <td>1.633655</td>\n",
       "      <td>1.736241</td>\n",
       "      <td>-5.066254</td>\n",
       "      <td>0</td>\n",
       "      <td>café</td>\n",
       "      <td>1.0</td>\n",
       "      <td>chocolatine</td>\n",
       "      <td>1</td>\n",
       "      <td>0</td>\n",
       "      <td>0</td>\n",
       "    </tr>\n",
       "    <tr>\n",
       "      <th>9998</th>\n",
       "      <td>1.897711</td>\n",
       "      <td>-0.208661</td>\n",
       "      <td>-5.381268</td>\n",
       "      <td>0.279454</td>\n",
       "      <td>10.493380</td>\n",
       "      <td>0.485266</td>\n",
       "      <td>0.600564</td>\n",
       "      <td>-6.283780</td>\n",
       "      <td>0</td>\n",
       "      <td>café</td>\n",
       "      <td>1.0</td>\n",
       "      <td>chocolatine</td>\n",
       "      <td>1</td>\n",
       "      <td>0</td>\n",
       "      <td>0</td>\n",
       "    </tr>\n",
       "    <tr>\n",
       "      <th>9999</th>\n",
       "      <td>2.055711</td>\n",
       "      <td>-2.846464</td>\n",
       "      <td>0.690904</td>\n",
       "      <td>-2.761351</td>\n",
       "      <td>5.504073</td>\n",
       "      <td>1.298243</td>\n",
       "      <td>1.505902</td>\n",
       "      <td>2.265215</td>\n",
       "      <td>0</td>\n",
       "      <td>café</td>\n",
       "      <td>1.0</td>\n",
       "      <td>pain au choc</td>\n",
       "      <td>0</td>\n",
       "      <td>0</td>\n",
       "      <td>1</td>\n",
       "    </tr>\n",
       "  </tbody>\n",
       "</table>\n",
       "<p>10000 rows × 15 columns</p>\n",
       "</div>"
      ],
      "text/plain": [
       "             A         B         C         D          E         F         G  \\\n",
       "0    -4.853218  0.336325 -2.252479  3.145284   3.212247  0.540656  0.737929   \n",
       "1     1.031640 -1.207136 -0.704018  3.092987   4.924741  0.153680  0.313898   \n",
       "2    -4.582366 -0.800292 -0.515243  2.925474   2.808811  1.412834  1.302301   \n",
       "3     2.691380  0.144119  2.530201  3.914499   4.108476  3.495376  3.381862   \n",
       "4     3.679196  0.955008 -5.120556  2.631311   4.832076  0.389124  0.383447   \n",
       "...        ...       ...       ...       ...        ...       ...       ...   \n",
       "9995 -1.194839 -0.233589 -0.621681 -2.818316   6.717857  0.595529  0.451535   \n",
       "9996  3.316081 -0.378908 -2.200668 -1.822745   0.325716  1.501956  1.556693   \n",
       "9997  1.233816 -0.085799 -5.785903 -0.391353   8.584206  1.633655  1.736241   \n",
       "9998  1.897711 -0.208661 -5.381268  0.279454  10.493380  0.485266  0.600564   \n",
       "9999  2.055711 -2.846464  0.690904 -2.761351   5.504073  1.298243  1.505902   \n",
       "\n",
       "             H  réveil matin  lait     petit dej  chocolatine  croissant  \\\n",
       "0    -0.542533      -1  café   0.0     croissant            0          1   \n",
       "1    -1.639022       0  café   1.0     croissant            0          1   \n",
       "2    -0.054520      -1  café   1.0     croissant            0          1   \n",
       "3     1.136969       0   thé   0.0     croissant            0          1   \n",
       "4    -5.500964       0  café   0.0     croissant            0          1   \n",
       "...        ...     ...   ...   ...           ...          ...        ...   \n",
       "9995  0.410630       1  café   1.0  pain au choc            0          0   \n",
       "9996 -3.517332       0  café   1.0  pain au choc            0          0   \n",
       "9997 -5.066254       0  café   1.0   chocolatine            1          0   \n",
       "9998 -6.283780       0  café   1.0   chocolatine            1          0   \n",
       "9999  2.265215       0  café   1.0  pain au choc            0          0   \n",
       "\n",
       "      pain au choc  \n",
       "0                0  \n",
       "1                0  \n",
       "2                0  \n",
       "3                0  \n",
       "4                0  \n",
       "...            ...  \n",
       "9995             1  \n",
       "9996             1  \n",
       "9997             0  \n",
       "9998             0  \n",
       "9999             1  \n",
       "\n",
       "[10000 rows x 15 columns]"
      ]
     },
     "execution_count": 84,
     "metadata": {},
     "output_type": "execute_result"
    }
   ],
   "source": [
    "dfc"
   ]
  },
  {
   "cell_type": "code",
   "execution_count": 85,
   "metadata": {},
   "outputs": [
    {
     "data": {
      "text/plain": [
       "{('chocolatine', 0.0): [20, 52, 53, 92, 112, 207, 217, 223, 228, 238, 245, 315, 335, 349, 382, 397, 412, 450, 458, 478, 494, 535, 579, 618, 626, 643, 649, 743, 787, 849, 857, 886, 937, 946, 952, 993, 1012, 1016, 1025, 1070, 1155, 1175, 1254, 1267, 1273, 1300, 1319, 1325, 1375, 1454, 1558, 1570, 1580, 1590, 1607, 1742, 1754, 1758, 1774, 1814, 1936, 2005, 2058, 2074, 2101, 2120, 2127, 2166, 2219, 2288, 2296, 2306, 2343, 2355, 2357, 2430, 2459, 2465, 2592, 2671, 2731, 2738, 2785, 2892, 2931, 2951, 2967, 2981, 3018, 3033, 3039, 3046, 3051, 3062, 3066, 3074, 3127, 3128, 3169, 3221, ...], ('chocolatine', 1.0): [12, 87, 96, 149, 218, 219, 244, 292, 333, 377, 406, 516, 551, 558, 571, 596, 641, 663, 679, 730, 750, 851, 852, 862, 980, 1029, 1083, 1093, 1098, 1218, 1235, 1243, 1262, 1292, 1310, 1353, 1428, 1445, 1509, 1514, 1520, 1539, 1579, 1581, 1591, 1593, 1635, 1649, 1670, 1675, 1722, 1730, 1735, 1748, 1761, 1764, 1826, 1862, 1877, 1889, 1894, 1996, 2045, 2080, 2096, 2108, 2117, 2155, 2156, 2158, 2187, 2194, 2230, 2233, 2235, 2246, 2253, 2305, 2314, 2323, 2359, 2361, 2376, 2386, 2390, 2418, 2442, 2452, 2557, 2588, 2594, 2597, 2604, 2611, 2658, 2696, 2699, 2726, 2729, 2741, ...], ('croissant', 0.0): [0, 3, 4, 5, 6, 9, 10, 11, 14, 15, 16, 17, 18, 22, 27, 29, 30, 33, 35, 38, 39, 40, 44, 45, 47, 49, 50, 54, 56, 58, 59, 60, 62, 64, 66, 71, 73, 74, 76, 79, 88, 90, 91, 98, 99, 100, 101, 103, 104, 107, 109, 113, 114, 116, 117, 119, 120, 122, 123, 125, 127, 129, 132, 136, 139, 142, 145, 147, 148, 153, 154, 156, 157, 158, 159, 162, 163, 164, 166, 167, 170, 171, 172, 173, 175, 176, 182, 186, 189, 190, 193, 197, 200, 201, 203, 204, 205, 206, 208, 209, ...], ('croissant', 1.0): [1, 2, 7, 8, 13, 19, 21, 23, 24, 25, 26, 28, 31, 32, 34, 36, 37, 41, 42, 43, 46, 48, 51, 55, 57, 61, 63, 65, 67, 68, 69, 70, 72, 75, 77, 78, 80, 81, 82, 83, 84, 85, 86, 89, 93, 94, 95, 97, 102, 105, 106, 108, 110, 111, 115, 118, 121, 124, 126, 128, 130, 131, 133, 134, 135, 137, 138, 140, 141, 143, 144, 146, 150, 151, 152, 155, 160, 165, 168, 169, 174, 177, 178, 179, 180, 181, 183, 184, 185, 187, 188, 191, 192, 194, 195, 196, 198, 199, 202, 210, ...], ('pain au choc', 0.0): [424, 433, 559, 740, 1129, 1387, 2586, 3556, 3643, 4609, 4842, 5001, 5003, 5006, 5007, 5010, 5013, 5017, 5019, 5021, 5023, 5025, 5026, 5031, 5032, 5034, 5038, 5040, 5042, 5043, 5044, 5045, 5049, 5051, 5054, 5056, 5057, 5063, 5069, 5071, 5073, 5079, 5081, 5083, 5085, 5091, 5097, 5098, 5100, 5102, 5103, 5104, 5106, 5107, 5108, 5110, 5112, 5114, 5116, 5117, 5118, 5122, 5124, 5127, 5129, 5137, 5138, 5140, 5142, 5143, 5146, 5147, 5149, 5150, 5152, 5157, 5161, 5164, 5165, 5168, 5170, 5171, 5172, 5176, 5177, 5178, 5179, 5181, 5182, 5183, 5184, 5189, 5190, 5191, 5192, 5197, 5198, 5199, 5205, 5207, ...], ('pain au choc', 1.0): [161, 358, 438, 725, 1794, 2351, 2530, 2799, 2886, 4167, 4689, 4733, 4981, 5000, 5002, 5004, 5005, 5009, 5011, 5012, 5014, 5015, 5016, 5018, 5020, 5022, 5024, 5027, 5028, 5029, 5030, 5036, 5037, 5039, 5041, 5046, 5047, 5048, 5050, 5053, 5055, 5058, 5059, 5060, 5061, 5064, 5065, 5066, 5067, 5072, 5074, 5075, 5077, 5078, 5080, 5086, 5087, 5088, 5089, 5090, 5092, 5093, 5094, 5096, 5101, 5105, 5111, 5113, 5115, 5119, 5120, 5121, 5125, 5126, 5128, 5130, 5131, 5132, 5133, 5134, 5136, 5139, 5141, 5144, 5145, 5148, 5151, 5153, 5154, 5155, 5156, 5159, 5160, 5162, 5163, 5166, 5167, 5169, 5173, 5174, ...]}"
      ]
     },
     "execution_count": 85,
     "metadata": {},
     "output_type": "execute_result"
    }
   ],
   "source": [
    "dfc.groupby(['petit dej', 'lait']).groups"
   ]
  },
  {
   "cell_type": "code",
   "execution_count": 86,
   "metadata": {},
   "outputs": [
    {
     "data": {
      "text/html": [
       "<div>\n",
       "<style scoped>\n",
       "    .dataframe tbody tr th:only-of-type {\n",
       "        vertical-align: middle;\n",
       "    }\n",
       "\n",
       "    .dataframe tbody tr th {\n",
       "        vertical-align: top;\n",
       "    }\n",
       "\n",
       "    .dataframe thead th {\n",
       "        text-align: right;\n",
       "    }\n",
       "</style>\n",
       "<table border=\"1\" class=\"dataframe\">\n",
       "  <thead>\n",
       "    <tr style=\"text-align: right;\">\n",
       "      <th></th>\n",
       "      <th></th>\n",
       "      <th>A</th>\n",
       "      <th>B</th>\n",
       "      <th>C</th>\n",
       "      <th>D</th>\n",
       "      <th>E</th>\n",
       "      <th>F</th>\n",
       "      <th>G</th>\n",
       "      <th>H</th>\n",
       "      <th>réveil</th>\n",
       "      <th>matin</th>\n",
       "      <th>chocolatine</th>\n",
       "      <th>croissant</th>\n",
       "      <th>pain au choc</th>\n",
       "    </tr>\n",
       "    <tr>\n",
       "      <th>petit dej</th>\n",
       "      <th>lait</th>\n",
       "      <th></th>\n",
       "      <th></th>\n",
       "      <th></th>\n",
       "      <th></th>\n",
       "      <th></th>\n",
       "      <th></th>\n",
       "      <th></th>\n",
       "      <th></th>\n",
       "      <th></th>\n",
       "      <th></th>\n",
       "      <th></th>\n",
       "      <th></th>\n",
       "      <th></th>\n",
       "    </tr>\n",
       "  </thead>\n",
       "  <tbody>\n",
       "    <tr>\n",
       "      <th rowspan=\"2\" valign=\"top\">chocolatine</th>\n",
       "      <th>0.0</th>\n",
       "      <td>4.957881</td>\n",
       "      <td>3.537022</td>\n",
       "      <td>8.716475</td>\n",
       "      <td>0.498937</td>\n",
       "      <td>16.812640</td>\n",
       "      <td>6.276715</td>\n",
       "      <td>6.339406</td>\n",
       "      <td>15.693033</td>\n",
       "      <td>1</td>\n",
       "      <td>thé</td>\n",
       "      <td>1</td>\n",
       "      <td>0</td>\n",
       "      <td>0</td>\n",
       "    </tr>\n",
       "    <tr>\n",
       "      <th>1.0</th>\n",
       "      <td>4.984801</td>\n",
       "      <td>-0.005418</td>\n",
       "      <td>10.361636</td>\n",
       "      <td>0.498872</td>\n",
       "      <td>16.125113</td>\n",
       "      <td>5.613940</td>\n",
       "      <td>5.559410</td>\n",
       "      <td>26.738978</td>\n",
       "      <td>1</td>\n",
       "      <td>thé</td>\n",
       "      <td>1</td>\n",
       "      <td>0</td>\n",
       "      <td>0</td>\n",
       "    </tr>\n",
       "    <tr>\n",
       "      <th rowspan=\"2\" valign=\"top\">croissant</th>\n",
       "      <th>0.0</th>\n",
       "      <td>4.997823</td>\n",
       "      <td>3.834648</td>\n",
       "      <td>9.891480</td>\n",
       "      <td>5.915217</td>\n",
       "      <td>17.443411</td>\n",
       "      <td>7.803433</td>\n",
       "      <td>7.771200</td>\n",
       "      <td>29.876586</td>\n",
       "      <td>1</td>\n",
       "      <td>thé</td>\n",
       "      <td>0</td>\n",
       "      <td>1</td>\n",
       "      <td>0</td>\n",
       "    </tr>\n",
       "    <tr>\n",
       "      <th>1.0</th>\n",
       "      <td>4.999457</td>\n",
       "      <td>-0.000762</td>\n",
       "      <td>8.817448</td>\n",
       "      <td>5.644933</td>\n",
       "      <td>16.712245</td>\n",
       "      <td>7.231517</td>\n",
       "      <td>7.308588</td>\n",
       "      <td>29.401425</td>\n",
       "      <td>1</td>\n",
       "      <td>thé</td>\n",
       "      <td>0</td>\n",
       "      <td>1</td>\n",
       "      <td>0</td>\n",
       "    </tr>\n",
       "    <tr>\n",
       "      <th rowspan=\"2\" valign=\"top\">pain au choc</th>\n",
       "      <th>0.0</th>\n",
       "      <td>4.999584</td>\n",
       "      <td>3.762148</td>\n",
       "      <td>10.522890</td>\n",
       "      <td>-0.500886</td>\n",
       "      <td>18.500656</td>\n",
       "      <td>8.074879</td>\n",
       "      <td>8.174967</td>\n",
       "      <td>9.709991</td>\n",
       "      <td>1</td>\n",
       "      <td>thé</td>\n",
       "      <td>0</td>\n",
       "      <td>0</td>\n",
       "      <td>1</td>\n",
       "    </tr>\n",
       "    <tr>\n",
       "      <th>1.0</th>\n",
       "      <td>4.998737</td>\n",
       "      <td>-0.000160</td>\n",
       "      <td>10.856120</td>\n",
       "      <td>-0.500006</td>\n",
       "      <td>20.776221</td>\n",
       "      <td>11.239160</td>\n",
       "      <td>11.309762</td>\n",
       "      <td>10.706936</td>\n",
       "      <td>1</td>\n",
       "      <td>thé</td>\n",
       "      <td>0</td>\n",
       "      <td>0</td>\n",
       "      <td>1</td>\n",
       "    </tr>\n",
       "  </tbody>\n",
       "</table>\n",
       "</div>"
      ],
      "text/plain": [
       "                          A         B          C         D          E  \\\n",
       "petit dej    lait                                                       \n",
       "chocolatine  0.0   4.957881  3.537022   8.716475  0.498937  16.812640   \n",
       "             1.0   4.984801 -0.005418  10.361636  0.498872  16.125113   \n",
       "croissant    0.0   4.997823  3.834648   9.891480  5.915217  17.443411   \n",
       "             1.0   4.999457 -0.000762   8.817448  5.644933  16.712245   \n",
       "pain au choc 0.0   4.999584  3.762148  10.522890 -0.500886  18.500656   \n",
       "             1.0   4.998737 -0.000160  10.856120 -0.500006  20.776221   \n",
       "\n",
       "                           F          G          H  réveil matin  chocolatine  \\\n",
       "petit dej    lait                                                               \n",
       "chocolatine  0.0    6.276715   6.339406  15.693033       1   thé            1   \n",
       "             1.0    5.613940   5.559410  26.738978       1   thé            1   \n",
       "croissant    0.0    7.803433   7.771200  29.876586       1   thé            0   \n",
       "             1.0    7.231517   7.308588  29.401425       1   thé            0   \n",
       "pain au choc 0.0    8.074879   8.174967   9.709991       1   thé            0   \n",
       "             1.0   11.239160  11.309762  10.706936       1   thé            0   \n",
       "\n",
       "                   croissant  pain au choc  \n",
       "petit dej    lait                           \n",
       "chocolatine  0.0           0             0  \n",
       "             1.0           0             0  \n",
       "croissant    0.0           1             0  \n",
       "             1.0           1             0  \n",
       "pain au choc 0.0           0             1  \n",
       "             1.0           0             1  "
      ]
     },
     "execution_count": 86,
     "metadata": {},
     "output_type": "execute_result"
    }
   ],
   "source": [
    "df2=dfc.groupby(['petit dej', 'lait']).max()\n",
    "df2"
   ]
  },
  {
   "cell_type": "code",
   "execution_count": 87,
   "metadata": {},
   "outputs": [
    {
     "data": {
      "text/plain": [
       "MultiIndex([(0.0,  'chocolatine'),\n",
       "            (1.0,  'chocolatine'),\n",
       "            (0.0,    'croissant'),\n",
       "            (1.0,    'croissant'),\n",
       "            (0.0, 'pain au choc'),\n",
       "            (1.0, 'pain au choc')],\n",
       "           names=['lait', 'petit dej'])"
      ]
     },
     "execution_count": 87,
     "metadata": {},
     "output_type": "execute_result"
    }
   ],
   "source": [
    "df2.swaplevel(axis=0).index"
   ]
  },
  {
   "cell_type": "code",
   "execution_count": 88,
   "metadata": {},
   "outputs": [
    {
     "data": {
      "text/html": [
       "<div>\n",
       "<style scoped>\n",
       "    .dataframe tbody tr th:only-of-type {\n",
       "        vertical-align: middle;\n",
       "    }\n",
       "\n",
       "    .dataframe tbody tr th {\n",
       "        vertical-align: top;\n",
       "    }\n",
       "\n",
       "    .dataframe thead th {\n",
       "        text-align: right;\n",
       "    }\n",
       "</style>\n",
       "<table border=\"1\" class=\"dataframe\">\n",
       "  <thead>\n",
       "    <tr style=\"text-align: right;\">\n",
       "      <th></th>\n",
       "      <th>A</th>\n",
       "      <th>B</th>\n",
       "      <th>C</th>\n",
       "      <th>D</th>\n",
       "      <th>E</th>\n",
       "      <th>F</th>\n",
       "      <th>G</th>\n",
       "      <th>H</th>\n",
       "      <th>réveil</th>\n",
       "      <th>matin</th>\n",
       "      <th>chocolatine</th>\n",
       "      <th>croissant</th>\n",
       "      <th>pain au choc</th>\n",
       "    </tr>\n",
       "    <tr>\n",
       "      <th>petit dej</th>\n",
       "      <th></th>\n",
       "      <th></th>\n",
       "      <th></th>\n",
       "      <th></th>\n",
       "      <th></th>\n",
       "      <th></th>\n",
       "      <th></th>\n",
       "      <th></th>\n",
       "      <th></th>\n",
       "      <th></th>\n",
       "      <th></th>\n",
       "      <th></th>\n",
       "      <th></th>\n",
       "    </tr>\n",
       "  </thead>\n",
       "  <tbody>\n",
       "    <tr>\n",
       "      <th>chocolatine</th>\n",
       "      <td>4.984801</td>\n",
       "      <td>-0.005418</td>\n",
       "      <td>10.361636</td>\n",
       "      <td>0.498872</td>\n",
       "      <td>16.125113</td>\n",
       "      <td>5.613940</td>\n",
       "      <td>5.559410</td>\n",
       "      <td>26.738978</td>\n",
       "      <td>1</td>\n",
       "      <td>thé</td>\n",
       "      <td>1</td>\n",
       "      <td>0</td>\n",
       "      <td>0</td>\n",
       "    </tr>\n",
       "    <tr>\n",
       "      <th>croissant</th>\n",
       "      <td>4.999457</td>\n",
       "      <td>-0.000762</td>\n",
       "      <td>8.817448</td>\n",
       "      <td>5.644933</td>\n",
       "      <td>16.712245</td>\n",
       "      <td>7.231517</td>\n",
       "      <td>7.308588</td>\n",
       "      <td>29.401425</td>\n",
       "      <td>1</td>\n",
       "      <td>thé</td>\n",
       "      <td>0</td>\n",
       "      <td>1</td>\n",
       "      <td>0</td>\n",
       "    </tr>\n",
       "    <tr>\n",
       "      <th>pain au choc</th>\n",
       "      <td>4.998737</td>\n",
       "      <td>-0.000160</td>\n",
       "      <td>10.856120</td>\n",
       "      <td>-0.500006</td>\n",
       "      <td>20.776221</td>\n",
       "      <td>11.239160</td>\n",
       "      <td>11.309762</td>\n",
       "      <td>10.706936</td>\n",
       "      <td>1</td>\n",
       "      <td>thé</td>\n",
       "      <td>0</td>\n",
       "      <td>0</td>\n",
       "      <td>1</td>\n",
       "    </tr>\n",
       "  </tbody>\n",
       "</table>\n",
       "</div>"
      ],
      "text/plain": [
       "                     A         B          C         D          E          F  \\\n",
       "petit dej                                                                     \n",
       "chocolatine   4.984801 -0.005418  10.361636  0.498872  16.125113   5.613940   \n",
       "croissant     4.999457 -0.000762   8.817448  5.644933  16.712245   7.231517   \n",
       "pain au choc  4.998737 -0.000160  10.856120 -0.500006  20.776221  11.239160   \n",
       "\n",
       "                      G          H  réveil matin  chocolatine  croissant  \\\n",
       "petit dej                                                                  \n",
       "chocolatine    5.559410  26.738978       1   thé            1          0   \n",
       "croissant      7.308588  29.401425       1   thé            0          1   \n",
       "pain au choc  11.309762  10.706936       1   thé            0          0   \n",
       "\n",
       "              pain au choc  \n",
       "petit dej                   \n",
       "chocolatine              0  \n",
       "croissant                0  \n",
       "pain au choc             1  "
      ]
     },
     "execution_count": 88,
     "metadata": {},
     "output_type": "execute_result"
    }
   ],
   "source": [
    "df2.swaplevel(axis=0).loc[1.0]"
   ]
  },
  {
   "cell_type": "code",
   "execution_count": 89,
   "metadata": {},
   "outputs": [
    {
     "data": {
      "text/html": [
       "<div>\n",
       "<style scoped>\n",
       "    .dataframe tbody tr th:only-of-type {\n",
       "        vertical-align: middle;\n",
       "    }\n",
       "\n",
       "    .dataframe tbody tr th {\n",
       "        vertical-align: top;\n",
       "    }\n",
       "\n",
       "    .dataframe thead th {\n",
       "        text-align: right;\n",
       "    }\n",
       "</style>\n",
       "<table border=\"1\" class=\"dataframe\">\n",
       "  <thead>\n",
       "    <tr style=\"text-align: right;\">\n",
       "      <th></th>\n",
       "      <th></th>\n",
       "      <th>A</th>\n",
       "      <th>B</th>\n",
       "      <th>C</th>\n",
       "      <th>D</th>\n",
       "      <th>E</th>\n",
       "      <th>F</th>\n",
       "      <th>G</th>\n",
       "      <th>H</th>\n",
       "      <th>réveil</th>\n",
       "      <th>matin</th>\n",
       "      <th>chocolatine</th>\n",
       "      <th>croissant</th>\n",
       "      <th>pain au choc</th>\n",
       "    </tr>\n",
       "    <tr>\n",
       "      <th>petit dej</th>\n",
       "      <th>lait</th>\n",
       "      <th></th>\n",
       "      <th></th>\n",
       "      <th></th>\n",
       "      <th></th>\n",
       "      <th></th>\n",
       "      <th></th>\n",
       "      <th></th>\n",
       "      <th></th>\n",
       "      <th></th>\n",
       "      <th></th>\n",
       "      <th></th>\n",
       "      <th></th>\n",
       "      <th></th>\n",
       "    </tr>\n",
       "  </thead>\n",
       "  <tbody>\n",
       "    <tr>\n",
       "      <th rowspan=\"2\" valign=\"top\">chocolatine</th>\n",
       "      <th>0.0</th>\n",
       "      <td>4.957881</td>\n",
       "      <td>3.537022</td>\n",
       "      <td>8.716475</td>\n",
       "      <td>0.498937</td>\n",
       "      <td>16.812640</td>\n",
       "      <td>6.276715</td>\n",
       "      <td>6.339406</td>\n",
       "      <td>15.693033</td>\n",
       "      <td>1</td>\n",
       "      <td>thé</td>\n",
       "      <td>1</td>\n",
       "      <td>0</td>\n",
       "      <td>0</td>\n",
       "    </tr>\n",
       "    <tr>\n",
       "      <th>1.0</th>\n",
       "      <td>4.984801</td>\n",
       "      <td>-0.005418</td>\n",
       "      <td>10.361636</td>\n",
       "      <td>0.498872</td>\n",
       "      <td>16.125113</td>\n",
       "      <td>5.613940</td>\n",
       "      <td>5.559410</td>\n",
       "      <td>26.738978</td>\n",
       "      <td>1</td>\n",
       "      <td>thé</td>\n",
       "      <td>1</td>\n",
       "      <td>0</td>\n",
       "      <td>0</td>\n",
       "    </tr>\n",
       "    <tr>\n",
       "      <th rowspan=\"2\" valign=\"top\">croissant</th>\n",
       "      <th>0.0</th>\n",
       "      <td>4.997823</td>\n",
       "      <td>3.834648</td>\n",
       "      <td>9.891480</td>\n",
       "      <td>5.915217</td>\n",
       "      <td>17.443411</td>\n",
       "      <td>7.803433</td>\n",
       "      <td>7.771200</td>\n",
       "      <td>29.876586</td>\n",
       "      <td>1</td>\n",
       "      <td>thé</td>\n",
       "      <td>0</td>\n",
       "      <td>1</td>\n",
       "      <td>0</td>\n",
       "    </tr>\n",
       "    <tr>\n",
       "      <th>1.0</th>\n",
       "      <td>4.999457</td>\n",
       "      <td>-0.000762</td>\n",
       "      <td>8.817448</td>\n",
       "      <td>5.644933</td>\n",
       "      <td>16.712245</td>\n",
       "      <td>7.231517</td>\n",
       "      <td>7.308588</td>\n",
       "      <td>29.401425</td>\n",
       "      <td>1</td>\n",
       "      <td>thé</td>\n",
       "      <td>0</td>\n",
       "      <td>1</td>\n",
       "      <td>0</td>\n",
       "    </tr>\n",
       "    <tr>\n",
       "      <th rowspan=\"2\" valign=\"top\">pain au choc</th>\n",
       "      <th>0.0</th>\n",
       "      <td>4.999584</td>\n",
       "      <td>3.762148</td>\n",
       "      <td>10.522890</td>\n",
       "      <td>-0.500886</td>\n",
       "      <td>18.500656</td>\n",
       "      <td>8.074879</td>\n",
       "      <td>8.174967</td>\n",
       "      <td>9.709991</td>\n",
       "      <td>1</td>\n",
       "      <td>thé</td>\n",
       "      <td>0</td>\n",
       "      <td>0</td>\n",
       "      <td>1</td>\n",
       "    </tr>\n",
       "    <tr>\n",
       "      <th>1.0</th>\n",
       "      <td>4.998737</td>\n",
       "      <td>-0.000160</td>\n",
       "      <td>10.856120</td>\n",
       "      <td>-0.500006</td>\n",
       "      <td>20.776221</td>\n",
       "      <td>11.239160</td>\n",
       "      <td>11.309762</td>\n",
       "      <td>10.706936</td>\n",
       "      <td>1</td>\n",
       "      <td>thé</td>\n",
       "      <td>0</td>\n",
       "      <td>0</td>\n",
       "      <td>1</td>\n",
       "    </tr>\n",
       "  </tbody>\n",
       "</table>\n",
       "</div>"
      ],
      "text/plain": [
       "                          A         B          C         D          E  \\\n",
       "petit dej    lait                                                       \n",
       "chocolatine  0.0   4.957881  3.537022   8.716475  0.498937  16.812640   \n",
       "             1.0   4.984801 -0.005418  10.361636  0.498872  16.125113   \n",
       "croissant    0.0   4.997823  3.834648   9.891480  5.915217  17.443411   \n",
       "             1.0   4.999457 -0.000762   8.817448  5.644933  16.712245   \n",
       "pain au choc 0.0   4.999584  3.762148  10.522890 -0.500886  18.500656   \n",
       "             1.0   4.998737 -0.000160  10.856120 -0.500006  20.776221   \n",
       "\n",
       "                           F          G          H  réveil matin  chocolatine  \\\n",
       "petit dej    lait                                                               \n",
       "chocolatine  0.0    6.276715   6.339406  15.693033       1   thé            1   \n",
       "             1.0    5.613940   5.559410  26.738978       1   thé            1   \n",
       "croissant    0.0    7.803433   7.771200  29.876586       1   thé            0   \n",
       "             1.0    7.231517   7.308588  29.401425       1   thé            0   \n",
       "pain au choc 0.0    8.074879   8.174967   9.709991       1   thé            0   \n",
       "             1.0   11.239160  11.309762  10.706936       1   thé            0   \n",
       "\n",
       "                   croissant  pain au choc  \n",
       "petit dej    lait                           \n",
       "chocolatine  0.0           0             0  \n",
       "             1.0           0             0  \n",
       "croissant    0.0           1             0  \n",
       "             1.0           1             0  \n",
       "pain au choc 0.0           0             1  \n",
       "             1.0           0             1  "
      ]
     },
     "execution_count": 89,
     "metadata": {},
     "output_type": "execute_result"
    }
   ],
   "source": [
    "df2.unstack(level=1).stack('lait')"
   ]
  },
  {
   "cell_type": "code",
   "execution_count": 90,
   "metadata": {},
   "outputs": [
    {
     "data": {
      "text/plain": [
       "0          croissant\n",
       "1          croissant\n",
       "2          croissant\n",
       "3          croissant\n",
       "4          croissant\n",
       "            ...     \n",
       "9995    pain au choc\n",
       "9996    pain au choc\n",
       "9997     chocolatine\n",
       "9998     chocolatine\n",
       "9999    pain au choc\n",
       "Name: petit dej, Length: 10000, dtype: object"
      ]
     },
     "execution_count": 90,
     "metadata": {},
     "output_type": "execute_result"
    }
   ],
   "source": [
    "dfc['petit dej']"
   ]
  },
  {
   "cell_type": "code",
   "execution_count": null,
   "metadata": {},
   "outputs": [],
   "source": []
  },
  {
   "cell_type": "code",
   "execution_count": null,
   "metadata": {},
   "outputs": [],
   "source": []
  },
  {
   "cell_type": "code",
   "execution_count": null,
   "metadata": {},
   "outputs": [],
   "source": []
  },
  {
   "cell_type": "code",
   "execution_count": null,
   "metadata": {},
   "outputs": [],
   "source": []
  }
 ],
 "metadata": {
  "extensions": {
   "jupyter_dashboards": {
    "activeView": "report_default",
    "version": 1,
    "views": {
     "grid_default": {
      "cellMargin": 10,
      "defaultCellHeight": 20,
      "maxColumns": 12,
      "name": "grid",
      "type": "grid"
     },
     "report_default": {
      "name": "report",
      "type": "report"
     }
    }
   }
  },
  "kernelspec": {
   "display_name": "Python 3 (ipykernel)",
   "language": "python",
   "name": "python3"
  },
  "language_info": {
   "codemirror_mode": {
    "name": "ipython",
    "version": 3
   },
   "file_extension": ".py",
   "mimetype": "text/x-python",
   "name": "python",
   "nbconvert_exporter": "python",
   "pygments_lexer": "ipython3",
   "version": "3.9.13"
  },
  "toc": {
   "base_numbering": 1,
   "nav_menu": {},
   "number_sections": true,
   "sideBar": true,
   "skip_h1_title": false,
   "title_cell": "Table of Contents",
   "title_sidebar": "Contents",
   "toc_cell": false,
   "toc_position": {
    "height": "calc(100% - 180px)",
    "left": "10px",
    "top": "150px",
    "width": "303.812px"
   },
   "toc_section_display": true,
   "toc_window_display": true
  },
  "varInspector": {
   "cols": {
    "lenName": 16,
    "lenType": 16,
    "lenVar": 40
   },
   "kernels_config": {
    "python": {
     "delete_cmd_postfix": "",
     "delete_cmd_prefix": "del ",
     "library": "var_list.py",
     "varRefreshCmd": "print(var_dic_list())"
    },
    "r": {
     "delete_cmd_postfix": ") ",
     "delete_cmd_prefix": "rm(",
     "library": "var_list.r",
     "varRefreshCmd": "cat(var_dic_list()) "
    }
   },
   "types_to_exclude": [
    "module",
    "function",
    "builtin_function_or_method",
    "instance",
    "_Feature"
   ],
   "window_display": false
  }
 },
 "nbformat": 4,
 "nbformat_minor": 4
}

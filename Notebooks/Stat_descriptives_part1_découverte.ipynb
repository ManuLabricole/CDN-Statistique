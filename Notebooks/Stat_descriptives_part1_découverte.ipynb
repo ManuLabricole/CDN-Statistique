{
 "cells": [
  {
   "cell_type": "markdown",
   "metadata": {
    "extensions": {
     "jupyter_dashboards": {
      "version": 1,
      "views": {
       "grid_default": {
        "col": 4,
        "height": 4,
        "hidden": false,
        "row": 0,
        "width": 4
       },
       "report_default": {
        "hidden": false
       }
      }
     }
    }
   },
   "source": [
    "# Introduction : comprendre le dataset avec les statistiques descriptives"
   ]
  },
  {
   "cell_type": "markdown",
   "metadata": {
    "extensions": {
     "jupyter_dashboards": {
      "version": 1,
      "views": {
       "grid_default": {
        "col": 8,
        "height": 4,
        "hidden": false,
        "row": 0,
        "width": 4
       },
       "report_default": {
        "hidden": false
       }
      }
     }
    }
   },
   "source": [
    "**Pourquoi faire de l'analyse descriptive ?**\n",
    "\n",
    "Objectif = transformer les observations brutes en informations <br/>\n",
    "=> Les statistiques sont une collection d'outils que vous pouvez utiliser pour résumer et organiser votre ensemble de données afin qu'il puisse être facilement compris (aide à la prise de décision)\n",
    "\n",
    "**Statistiques descriptives vs statistiques inférentielles**\n",
    "\n",
    "- Statistiques descriptives = description et interprétation des données (sans tenter de faire des inférences ; extrapoler les résultats de l'échantillon à l'ensemble de la population)\n",
    "- Statistiques inférentielles = décisions et prédictions basées sur la probabilité\n",
    "\n",
    "**Réferences**\n",
    "- https://towardsdatascience.com/intro-to-descriptive-statistics-252e9c464ac9\n",
    "- https://medium.com/@himanshuxd/the-guide-to-rigorous-descriptive-statistics-for-machine-learning-and-data-science-9209f88e4363"
   ]
  },
  {
   "cell_type": "markdown",
   "metadata": {},
   "source": [
    "## Vocabulaire"
   ]
  },
  {
   "cell_type": "markdown",
   "metadata": {},
   "source": [
    "##### Définitions des termes courants de machine learning :\n",
    "https://ml-cheatsheet.readthedocs.io/en/latest/glossary.html\n",
    "\n",
    "Les principaux à retenir pour le moment :\n",
    "\n",
    "- Observation / individu = point de données ou ligne dans un jeu de données\n",
    "- Attribut / attribut = qualité décrivant une observation (par exemple couleur, taille, poids) (en-têtes de colonnes)\n",
    "- Feature / variable = un attribut + sa valeur (la couleur est un attribut, la \"couleur bleue\" est une caractéristique)\n",
    "- Dimension / taille = nombre d'entités dans le jeu de données"
   ]
  },
  {
   "cell_type": "markdown",
   "metadata": {},
   "source": [
    "## Types de données / Data types"
   ]
  },
  {
   "cell_type": "markdown",
   "metadata": {},
   "source": [
    "Types de données les plus courantes :\n",
    "- variables quantitatives : discrètes ou continues\n",
    "=> Les données quantitatives sont dénombrables ou mesurables, relatives aux nombres.\n",
    "- variables qualitatives : ordonnées ou non\n",
    "=> Les données qualitatives sont descriptives, relatives à la langue.\n",
    "\n",
    "https://towardsdatascience.com/data-types-in-statistics-347e152e8bee<br/>\n",
    "https://careerfoundry.com/en/blog/data-analytics/difference-between-quantitative-and-qualitative-data/"
   ]
  },
  {
   "cell_type": "markdown",
   "metadata": {},
   "source": [
    "## Index avec Pandas"
   ]
  },
  {
   "cell_type": "markdown",
   "metadata": {},
   "source": [
    "Vous allez avoir besoin de manipuler les index de Pandas par la suite ! <br/>\n",
    "\n",
    "\n",
    "https://pandas.pydata.org/pandas-docs/stable/user_guide/indexing.html<br/>\n",
    "https://pandas.pydata.org/Pandas_Cheat_Sheet.pdf\n",
    "\n",
    "Quelques petits tips :<br/>\n",
    "- Série: s.loc[indexer]; s[index_label]\n",
    "- DataFrame: df.loc[row_indexer,column_indexer]; df[colname]\n",
    "- You may access an index on a Series or column on a DataFrame directly as an attribute (df.A)\n",
    "- slicing: s[:5], s[:-1], df.loc['20130102':'20130104'], df1.loc['d':, 'A':'C']"
   ]
  },
  {
   "cell_type": "markdown",
   "metadata": {},
   "source": [
    "# Statistiques univariées"
   ]
  },
  {
   "cell_type": "markdown",
   "metadata": {},
   "source": [
    "Statistiques univariées : lorsqu'on analyse une seule variable à la fois"
   ]
  },
  {
   "cell_type": "markdown",
   "metadata": {},
   "source": [
    "Lorsque vous décrouvrez un nouveau jeu de données, différentes étapes sont à réaliser dans un premier temps afin de se faire une idée des données :\n",
    "- importer vos données dans un dataframe<br/>\n",
    "(par exemple : https://pandas.pydata.org/pandas-docs/stable/reference/api/pandas.read_csv.html)\n",
    "- regarder les premières lignes de votre dataframe afin d'avoir une idée de ce à quoi ressemble les données<br/> (https://pandas.pydata.org/pandas-docs/stable/reference/api/pandas.DataFrame.head.html)<br/>\n",
    "=> à cette étape là n'oubliez pas de prendre le temps de comprendre chacune des variables ; ce qu'elle signifie, c'est important par la suite de savoir de quoi on parle !\n",
    "- regarder les informations de votre dataframe<br/>\n",
    "(https://pandas.pydata.org/pandas-docs/stable/reference/api/pandas.DataFrame.info.html)\n",
    "- regarder les statistiques descriptives univariées de votre dataframe<br/>\n",
    "(https://pandas.pydata.org/pandas-docs/stable/reference/api/pandas.DataFrame.describe.html)\n",
    "- réaliser des graphiques univariés afin d'observer la répartition des données<br/>\n",
    "    - https://pandas.pydata.org/pandas-docs/stable/reference/api/pandas.DataFrame.hist.html<br/>\n",
    "    - https://pandas.pydata.org/pandas-docs/stable/reference/api/pandas.DataFrame.boxplot.html<br/>\n",
    "    \n",
    "Nous allons explorer tout ça petit à petit !\n",
    "\n",
    "Par la suite si vous vous demandez quel graphique est le plus adapté à vos données, vous pouvez jeter un coup d'oeil ici : https://www.data-to-viz.com/"
   ]
  },
  {
   "cell_type": "markdown",
   "metadata": {},
   "source": [
    "## Premières observations : se familiariser avec le jeu de données"
   ]
  },
  {
   "cell_type": "markdown",
   "metadata": {},
   "source": [
    "**TODO**\n",
    "        \n",
    "1. Charger le dataset \"DATA_part1\" dans un dataframe\n",
    "2. Afficher les premières lignes, tester la méthode 'describe'\n",
    "3. Tracer un histogramme des 8 premières colonnes\n",
    "\n",
    "**Aide :**\n",
    "\n",
    "- Histogramme = représentation graphique de la répartition d'une variable : on groupe les valeurs par classe et on affiche le nb de valeurs par classe. Faire varier le nombre de classe et observer le résultat"
   ]
  },
  {
   "cell_type": "markdown",
   "metadata": {},
   "source": [
    "#### Charger le dataset \"DATA_part1\" dans un dataframe"
   ]
  },
  {
   "cell_type": "code",
   "execution_count": 4,
   "metadata": {},
   "outputs": [
    {
     "name": "stdout",
     "output_type": "stream",
     "text": [
      "/home/emmanuel.barriol@Digital-Grenoble.local/Documents/statistique/1 - Statistiques exploratoires/Notebooks\n"
     ]
    }
   ],
   "source": [
    "import pandas as pd\n",
    "import os \n",
    "print(os.getcwd())\n",
    "df = pd.read_csv('../data/Data_part1')"
   ]
  },
  {
   "cell_type": "markdown",
   "metadata": {},
   "source": [
    "#### Afficher les premières lignes, tester la méthode 'describe'"
   ]
  },
  {
   "cell_type": "code",
   "execution_count": 5,
   "metadata": {},
   "outputs": [
    {
     "data": {
      "text/html": [
       "<div>\n",
       "<style scoped>\n",
       "    .dataframe tbody tr th:only-of-type {\n",
       "        vertical-align: middle;\n",
       "    }\n",
       "\n",
       "    .dataframe tbody tr th {\n",
       "        vertical-align: top;\n",
       "    }\n",
       "\n",
       "    .dataframe thead th {\n",
       "        text-align: right;\n",
       "    }\n",
       "</style>\n",
       "<table border=\"1\" class=\"dataframe\">\n",
       "  <thead>\n",
       "    <tr style=\"text-align: right;\">\n",
       "      <th></th>\n",
       "      <th>A</th>\n",
       "      <th>B</th>\n",
       "      <th>C</th>\n",
       "      <th>D</th>\n",
       "      <th>E</th>\n",
       "      <th>F</th>\n",
       "      <th>G</th>\n",
       "      <th>H</th>\n",
       "      <th>réveil</th>\n",
       "      <th>matin</th>\n",
       "      <th>lait</th>\n",
       "      <th>petit dej</th>\n",
       "    </tr>\n",
       "  </thead>\n",
       "  <tbody>\n",
       "    <tr>\n",
       "      <th>0</th>\n",
       "      <td>-4.853218</td>\n",
       "      <td>0.336325</td>\n",
       "      <td>-2.252479</td>\n",
       "      <td>3.145284</td>\n",
       "      <td>3.212247</td>\n",
       "      <td>0.540656</td>\n",
       "      <td>0.737929</td>\n",
       "      <td>-0.542533</td>\n",
       "      <td>toujours pas réveillé</td>\n",
       "      <td>café</td>\n",
       "      <td>0.0</td>\n",
       "      <td>croissant</td>\n",
       "    </tr>\n",
       "    <tr>\n",
       "      <th>1</th>\n",
       "      <td>1.031640</td>\n",
       "      <td>-1.207136</td>\n",
       "      <td>-0.704018</td>\n",
       "      <td>3.092987</td>\n",
       "      <td>4.924741</td>\n",
       "      <td>0.153680</td>\n",
       "      <td>0.313898</td>\n",
       "      <td>-1.639022</td>\n",
       "      <td>difficile</td>\n",
       "      <td>café</td>\n",
       "      <td>1.0</td>\n",
       "      <td>croissant</td>\n",
       "    </tr>\n",
       "    <tr>\n",
       "      <th>2</th>\n",
       "      <td>-4.582366</td>\n",
       "      <td>-0.800292</td>\n",
       "      <td>-0.515243</td>\n",
       "      <td>2.925474</td>\n",
       "      <td>2.808811</td>\n",
       "      <td>1.412834</td>\n",
       "      <td>1.302301</td>\n",
       "      <td>-0.054520</td>\n",
       "      <td>toujours pas réveillé</td>\n",
       "      <td>café</td>\n",
       "      <td>1.0</td>\n",
       "      <td>croissant</td>\n",
       "    </tr>\n",
       "    <tr>\n",
       "      <th>3</th>\n",
       "      <td>2.691380</td>\n",
       "      <td>0.144119</td>\n",
       "      <td>2.530201</td>\n",
       "      <td>3.914499</td>\n",
       "      <td>4.108476</td>\n",
       "      <td>3.495376</td>\n",
       "      <td>3.381862</td>\n",
       "      <td>1.136969</td>\n",
       "      <td>difficile</td>\n",
       "      <td>thé</td>\n",
       "      <td>0.0</td>\n",
       "      <td>croissant</td>\n",
       "    </tr>\n",
       "    <tr>\n",
       "      <th>4</th>\n",
       "      <td>3.679196</td>\n",
       "      <td>0.955008</td>\n",
       "      <td>-5.120556</td>\n",
       "      <td>2.631311</td>\n",
       "      <td>4.832076</td>\n",
       "      <td>0.389124</td>\n",
       "      <td>0.383447</td>\n",
       "      <td>-5.500964</td>\n",
       "      <td>difficile</td>\n",
       "      <td>café</td>\n",
       "      <td>0.0</td>\n",
       "      <td>croissant</td>\n",
       "    </tr>\n",
       "  </tbody>\n",
       "</table>\n",
       "</div>"
      ],
      "text/plain": [
       "          A         B         C         D         E         F         G  \\\n",
       "0 -4.853218  0.336325 -2.252479  3.145284  3.212247  0.540656  0.737929   \n",
       "1  1.031640 -1.207136 -0.704018  3.092987  4.924741  0.153680  0.313898   \n",
       "2 -4.582366 -0.800292 -0.515243  2.925474  2.808811  1.412834  1.302301   \n",
       "3  2.691380  0.144119  2.530201  3.914499  4.108476  3.495376  3.381862   \n",
       "4  3.679196  0.955008 -5.120556  2.631311  4.832076  0.389124  0.383447   \n",
       "\n",
       "          H                 réveil matin  lait  petit dej  \n",
       "0 -0.542533  toujours pas réveillé  café   0.0  croissant  \n",
       "1 -1.639022              difficile  café   1.0  croissant  \n",
       "2 -0.054520  toujours pas réveillé  café   1.0  croissant  \n",
       "3  1.136969              difficile   thé   0.0  croissant  \n",
       "4 -5.500964              difficile  café   0.0  croissant  "
      ]
     },
     "execution_count": 5,
     "metadata": {},
     "output_type": "execute_result"
    }
   ],
   "source": [
    "df.head()"
   ]
  },
  {
   "cell_type": "code",
   "execution_count": 8,
   "metadata": {},
   "outputs": [
    {
     "name": "stdout",
     "output_type": "stream",
     "text": [
      "10000 rows and 12 columns\n"
     ]
    }
   ],
   "source": [
    "df.shape\n",
    "print(f\"{df.shape[0]} rows and {df.shape[1]} columns\")"
   ]
  },
  {
   "cell_type": "code",
   "execution_count": 15,
   "metadata": {},
   "outputs": [
    {
     "data": {
      "text/html": [
       "<div>\n",
       "<style scoped>\n",
       "    .dataframe tbody tr th:only-of-type {\n",
       "        vertical-align: middle;\n",
       "    }\n",
       "\n",
       "    .dataframe tbody tr th {\n",
       "        vertical-align: top;\n",
       "    }\n",
       "\n",
       "    .dataframe thead th {\n",
       "        text-align: right;\n",
       "    }\n",
       "</style>\n",
       "<table border=\"1\" class=\"dataframe\">\n",
       "  <thead>\n",
       "    <tr style=\"text-align: right;\">\n",
       "      <th></th>\n",
       "      <th>A</th>\n",
       "      <th>B</th>\n",
       "      <th>C</th>\n",
       "      <th>D</th>\n",
       "      <th>E</th>\n",
       "      <th>F</th>\n",
       "      <th>G</th>\n",
       "      <th>H</th>\n",
       "      <th>lait</th>\n",
       "    </tr>\n",
       "  </thead>\n",
       "  <tbody>\n",
       "    <tr>\n",
       "      <th>count</th>\n",
       "      <td>10000.000000</td>\n",
       "      <td>10000.000000</td>\n",
       "      <td>10000.000000</td>\n",
       "      <td>10000.000000</td>\n",
       "      <td>10000.000000</td>\n",
       "      <td>10000.000000</td>\n",
       "      <td>10000.000000</td>\n",
       "      <td>10000.000000</td>\n",
       "      <td>10000.000000</td>\n",
       "    </tr>\n",
       "    <tr>\n",
       "      <th>mean</th>\n",
       "      <td>0.036334</td>\n",
       "      <td>-0.001222</td>\n",
       "      <td>0.027083</td>\n",
       "      <td>0.002676</td>\n",
       "      <td>4.687889</td>\n",
       "      <td>1.023130</td>\n",
       "      <td>1.027027</td>\n",
       "      <td>0.065347</td>\n",
       "      <td>0.498900</td>\n",
       "    </tr>\n",
       "    <tr>\n",
       "      <th>std</th>\n",
       "      <td>2.866900</td>\n",
       "      <td>1.007486</td>\n",
       "      <td>3.008689</td>\n",
       "      <td>2.241933</td>\n",
       "      <td>2.966784</td>\n",
       "      <td>1.029788</td>\n",
       "      <td>1.036689</td>\n",
       "      <td>3.328620</td>\n",
       "      <td>0.500024</td>\n",
       "    </tr>\n",
       "    <tr>\n",
       "      <th>min</th>\n",
       "      <td>-4.999033</td>\n",
       "      <td>-4.266466</td>\n",
       "      <td>-11.079926</td>\n",
       "      <td>-5.315736</td>\n",
       "      <td>0.000386</td>\n",
       "      <td>0.000026</td>\n",
       "      <td>-0.297518</td>\n",
       "      <td>-11.974507</td>\n",
       "      <td>0.000000</td>\n",
       "    </tr>\n",
       "    <tr>\n",
       "      <th>25%</th>\n",
       "      <td>-2.412769</td>\n",
       "      <td>-0.690013</td>\n",
       "      <td>-1.990707</td>\n",
       "      <td>-1.984108</td>\n",
       "      <td>2.884097</td>\n",
       "      <td>0.285050</td>\n",
       "      <td>0.298594</td>\n",
       "      <td>-2.104974</td>\n",
       "      <td>0.000000</td>\n",
       "    </tr>\n",
       "    <tr>\n",
       "      <th>50%</th>\n",
       "      <td>0.019228</td>\n",
       "      <td>0.003851</td>\n",
       "      <td>-0.001765</td>\n",
       "      <td>0.029963</td>\n",
       "      <td>4.168992</td>\n",
       "      <td>0.712555</td>\n",
       "      <td>0.722780</td>\n",
       "      <td>0.004217</td>\n",
       "      <td>0.000000</td>\n",
       "    </tr>\n",
       "    <tr>\n",
       "      <th>75%</th>\n",
       "      <td>2.516380</td>\n",
       "      <td>0.686570</td>\n",
       "      <td>2.063967</td>\n",
       "      <td>2.018438</td>\n",
       "      <td>5.703988</td>\n",
       "      <td>1.411114</td>\n",
       "      <td>1.423560</td>\n",
       "      <td>2.193579</td>\n",
       "      <td>1.000000</td>\n",
       "    </tr>\n",
       "    <tr>\n",
       "      <th>max</th>\n",
       "      <td>4.999584</td>\n",
       "      <td>3.834648</td>\n",
       "      <td>10.856120</td>\n",
       "      <td>5.915217</td>\n",
       "      <td>20.776221</td>\n",
       "      <td>11.239160</td>\n",
       "      <td>11.309762</td>\n",
       "      <td>29.876586</td>\n",
       "      <td>1.000000</td>\n",
       "    </tr>\n",
       "  </tbody>\n",
       "</table>\n",
       "</div>"
      ],
      "text/plain": [
       "                  A             B             C             D             E  \\\n",
       "count  10000.000000  10000.000000  10000.000000  10000.000000  10000.000000   \n",
       "mean       0.036334     -0.001222      0.027083      0.002676      4.687889   \n",
       "std        2.866900      1.007486      3.008689      2.241933      2.966784   \n",
       "min       -4.999033     -4.266466    -11.079926     -5.315736      0.000386   \n",
       "25%       -2.412769     -0.690013     -1.990707     -1.984108      2.884097   \n",
       "50%        0.019228      0.003851     -0.001765      0.029963      4.168992   \n",
       "75%        2.516380      0.686570      2.063967      2.018438      5.703988   \n",
       "max        4.999584      3.834648     10.856120      5.915217     20.776221   \n",
       "\n",
       "                  F             G             H          lait  \n",
       "count  10000.000000  10000.000000  10000.000000  10000.000000  \n",
       "mean       1.023130      1.027027      0.065347      0.498900  \n",
       "std        1.029788      1.036689      3.328620      0.500024  \n",
       "min        0.000026     -0.297518    -11.974507      0.000000  \n",
       "25%        0.285050      0.298594     -2.104974      0.000000  \n",
       "50%        0.712555      0.722780      0.004217      0.000000  \n",
       "75%        1.411114      1.423560      2.193579      1.000000  \n",
       "max       11.239160     11.309762     29.876586      1.000000  "
      ]
     },
     "execution_count": 15,
     "metadata": {},
     "output_type": "execute_result"
    }
   ],
   "source": [
    "df.describe()"
   ]
  },
  {
   "cell_type": "code",
   "execution_count": 26,
   "metadata": {},
   "outputs": [
    {
     "name": "stdout",
     "output_type": "stream",
     "text": [
      "Column -->A<-- --> Standart numerical computation\n",
      "Column -->B<-- --> Standart numerical computation\n",
      "Column -->C<-- --> Standart numerical computation\n",
      "Column -->D<-- --> Standart numerical computation\n",
      "Column -->E<-- --> Standart numerical computation\n",
      "Column -->F<-- --> Standart numerical computation\n",
      "Column -->G<-- --> Standart numerical computation\n",
      "Column -->H<-- --> Standart numerical computation\n",
      "Column -->réveil<-- --> Specific for non numerical data\n",
      "Column -->matin<-- --> Specific for non numerical data\n",
      "Column -->lait<-- --> Standart numerical computation\n",
      "Column -->petit dej<-- --> Specific for non numerical data\n"
     ]
    }
   ],
   "source": [
    "for col in df.columns:\n",
    "    dtype = df[col].dtypes\n",
    "    if dtype == \"float\":\n",
    "        print(f\"Column -->{col}<-- --> Standart numerical computation\")\n",
    "    elif dtype == \"object\":\n",
    "        print(f\"Column -->{col}<-- --> Specific for non numerical data\")\n",
    "    else:\n",
    "        print(f\"Column -->{col}<-- has non known type\")"
   ]
  },
  {
   "cell_type": "markdown",
   "metadata": {},
   "source": [
    "#### Tracer un histogramme des 8 premières colonnes"
   ]
  },
  {
   "cell_type": "code",
   "execution_count": 32,
   "metadata": {},
   "outputs": [
    {
     "data": {
      "text/plain": [
       "Index(['A', 'B', 'C', 'D', 'E', 'F', 'G', 'H', 'réveil', 'matin', 'lait',\n",
       "       'petit dej'],\n",
       "      dtype='object')"
      ]
     },
     "execution_count": 32,
     "metadata": {},
     "output_type": "execute_result"
    }
   ],
   "source": [
    "df.columns"
   ]
  },
  {
   "cell_type": "code",
   "execution_count": 30,
   "metadata": {},
   "outputs": [
    {
     "data": {
      "text/plain": [
       "Index(['A', 'B', 'C', 'D', 'E', 'F', 'G', 'H', 'réveil'], dtype='object')"
      ]
     },
     "execution_count": 30,
     "metadata": {},
     "output_type": "execute_result"
    }
   ],
   "source": [
    "# Remove the last 3 columns because non nu,erical value\n",
    "df.columns[:-3]"
   ]
  },
  {
   "cell_type": "code",
   "execution_count": 35,
   "metadata": {},
   "outputs": [
    {
     "data": {
      "text/plain": [
       "array([[<AxesSubplot:title={'center':'A'}>,\n",
       "        <AxesSubplot:title={'center':'B'}>]], dtype=object)"
      ]
     },
     "execution_count": 35,
     "metadata": {},
     "output_type": "execute_result"
    },
    {
     "data": {
      "image/png": "[encoded data removed]",
      "text/plain": [
       "<Figure size 1400x200 with 2 Axes>"
      ]
     },
     "metadata": {},
     "output_type": "display_data"
    }
   ],
   "source": [
    "df[[\"A\", \"B\"]].hist(bins=10, layout=(1,2), figsize=(14,2))"
   ]
  },
  {
   "cell_type": "code",
   "execution_count": 28,
   "metadata": {},
   "outputs": [
    {
     "data": {
      "text/plain": [
       "array([[<AxesSubplot:title={'center':'A'}>,\n",
       "        <AxesSubplot:title={'center':'B'}>,\n",
       "        <AxesSubplot:title={'center':'C'}>,\n",
       "        <AxesSubplot:title={'center':'D'}>],\n",
       "       [<AxesSubplot:title={'center':'E'}>,\n",
       "        <AxesSubplot:title={'center':'F'}>,\n",
       "        <AxesSubplot:title={'center':'G'}>,\n",
       "        <AxesSubplot:title={'center':'H'}>]], dtype=object)"
      ]
     },
     "execution_count": 28,
     "metadata": {},
     "output_type": "execute_result"
    },
    {
     "data": {
      "image/png": "[encoded data removed]",
      "text/plain": [
       "<Figure size 1400x200 with 8 Axes>"
      ]
     },
     "metadata": {},
     "output_type": "display_data"
    }
   ],
   "source": [
    "df[df.columns[:-3]].hist(bins=50, layout=(2,4), figsize=(14,2))"
   ]
  },
  {
   "cell_type": "markdown",
   "metadata": {},
   "source": [
    "## Mesures de tendance centrale"
   ]
  },
  {
   "cell_type": "markdown",
   "metadata": {},
   "source": [
    "Nous allons maintenant creuser les notions de :\n",
    "- moyenne\n",
    "- médiane\n",
    "- mode\n",
    "\n",
    "https://towardsdatascience.com/statistics-01-mean-median-and-mode-d6d8597ed9f1"
   ]
  },
  {
   "cell_type": "code",
   "execution_count": null,
   "metadata": {},
   "outputs": [],
   "source": [
    "from IPython.core.display import HTML \n",
    "from IPython.display import Image\n",
    "url = 'https://miro.medium.com/max/750/1*HO8STTKaPuDHcYCu7TgDNg.png'\n",
    "Image(url = url, width = 500)"
   ]
  },
  {
   "cell_type": "markdown",
   "metadata": {},
   "source": [
    "**TODO**\n",
    "        \n",
    "1. Afficher la moyenne et la médiane de chaque colonne\n",
    "2. Pourquoi utiliser l'une plutôt que l'autre ?\n",
    "3. Quelle est la mesure la plus représentative d'un dataset contenant des données qualitatives ?\n",
    "\n",
    "https://pandas.pydata.org/Pandas_Cheat_Sheet.pdf<br/>\n",
    "https://towardsdatascience.com/mean-median-mode-which-central-tendency-measure-to-use-when-9fb3ebbe3006"
   ]
  },
  {
   "cell_type": "markdown",
   "metadata": {},
   "source": [
    "#### Afficher la moyenne et la médiane de chaque colonne"
   ]
  },
  {
   "cell_type": "code",
   "execution_count": null,
   "metadata": {},
   "outputs": [],
   "source": [
    "df.mean()"
   ]
  },
  {
   "cell_type": "code",
   "execution_count": null,
   "metadata": {},
   "outputs": [],
   "source": [
    "df.median()"
   ]
  },
  {
   "cell_type": "code",
   "execution_count": null,
   "metadata": {},
   "outputs": [],
   "source": [
    "df[df.columns[8:]].mode()\n",
    "# df[df.lait == 1].réveil.count()\n",
    "# df[df.lait == 0].lait.count()"
   ]
  },
  {
   "cell_type": "markdown",
   "metadata": {},
   "source": [
    "#### Pourquoi utiliser l'une plutôt que l'autre ?"
   ]
  },
  {
   "cell_type": "markdown",
   "metadata": {},
   "source": [
    "La moyenne est simplement considérée comme la mesure la plus fiable de la tendance centrale pour faire des hypothèses sur une population à partir d'un échantillon unique.\n",
    "\n",
    "Le principal avantage de la médiane sur la moyenne est qu'elle n'est pas affectée par la présence de valeurs extrêmement grandes ou extrêmement petites (valeurs aberrantes) qui peuvent fausser la moyenne. La médiane reflète mieux une valeur « typique » de l'ensemble.\n",
    "\n",
    "- la médiane est souvent utilisée avec des distributions asymétriques (distributions que la moyenne représente mal)\n",
    "- la moyenne est plus affectée que la médiane par les outliers"
   ]
  },
  {
   "cell_type": "markdown",
   "metadata": {},
   "source": [
    "#### Quelle est la mesure la plus représentative d'un dataset contenant des données qualitatives ?"
   ]
  },
  {
   "cell_type": "markdown",
   "metadata": {},
   "source": [
    "Le mode : la modalité la plus fréquente dans le dataset"
   ]
  },
  {
   "cell_type": "markdown",
   "metadata": {},
   "source": [
    "## Mesures de dispersion"
   ]
  },
  {
   "cell_type": "markdown",
   "metadata": {},
   "source": [
    "Les mesures de variabilité les plus populaires sont l'intervalle (range), l'intervalle interquartile (interquartile range, IQR), la variance et l'écart type (standard deviation). Ceux-ci sont utilisés pour mesurer la propagation ou la variabilité au sein de vos données.\n",
    "\n",
    "1. Intervalle et intervalle interquartile\n",
    "\n",
    "     - la plage mesure où se trouvent le début et la fin de votre point de données (maximum - minimum)\n",
    "     - l'écart interquartile est une mesure de l'endroit où se situent la majorité des valeurs\n",
    "    \n",
    "\n",
    "2. Variance et écart type\n",
    "\n",
    "     - La variance est calculée en trouvant la différence entre chaque point de données et la moyenne, en les mettant au carré, en les additionnant, puis en prenant la moyenne de ces nombres.\n",
    "     - Les carrés sont utilisés pour pondérer plus lourdement les valeurs aberrantes et empêcher que les différences au-dessus de la moyenne neutralisent celles en dessous de la moyenne.\n",
    "     - En raison de la mise au carré, ce n'est pas dans la même unité de mesure que les données d'origine\n",
    "     - Écart-type = racine carrée de la variance"
   ]
  },
  {
   "cell_type": "markdown",
   "metadata": {},
   "source": [
    "### Quelques illustrations pour comprendre ces notions"
   ]
  },
  {
   "cell_type": "markdown",
   "metadata": {},
   "source": [
    "#### Ecart-type"
   ]
  },
  {
   "cell_type": "markdown",
   "metadata": {},
   "source": [
    "Source : https://fr.wikipedia.org/wiki/%C3%89cart_type"
   ]
  },
  {
   "cell_type": "code",
   "execution_count": null,
   "metadata": {},
   "outputs": [],
   "source": [
    "url = 'https://upload.wikimedia.org/wikipedia/commons/thumb/f/f9/Comparison_standard_deviations.svg/500px-Comparison_standard_deviations.svg.png'\n",
    "Image(url = url, width=400)"
   ]
  },
  {
   "cell_type": "markdown",
   "metadata": {},
   "source": [
    "Exemple de deux échantillons ayant la même moyenne mais des écarts types différents illustrant l'écart type comme mesure de la dispersion autour de la moyenne."
   ]
  },
  {
   "cell_type": "code",
   "execution_count": null,
   "metadata": {},
   "outputs": [],
   "source": [
    "url = 'https://upload.wikimedia.org/wikipedia/commons/thumb/8/8c/Standard_deviation_diagram.svg/500px-Standard_deviation_diagram.svg.png'\n",
    "Image(url = url, width=400)"
   ]
  },
  {
   "cell_type": "markdown",
   "metadata": {},
   "source": [
    "Courbe de distribution normale montrant l'écart type. Chaque bande verticale a une largeur d'un écart type et les pourcentages indiquent leur valeur approximative rapportée à la population totale. Note : du fait des arrondis, le total est de 99,8 % au lieu de 100%."
   ]
  },
  {
   "cell_type": "markdown",
   "metadata": {},
   "source": [
    "#### Ecart interquartile / boxplot"
   ]
  },
  {
   "cell_type": "markdown",
   "metadata": {},
   "source": [
    "Source : https://towardsdatascience.com/understanding-boxplots-5e2df7bcbd51"
   ]
  },
  {
   "cell_type": "code",
   "execution_count": null,
   "metadata": {},
   "outputs": [],
   "source": [
    "url = 'https://miro.medium.com/max/1000/1*gV5r1dUfmaPxoSMsL7h5rA.png'\n",
    "Image(url = url, width=400)"
   ]
  },
  {
   "cell_type": "code",
   "execution_count": null,
   "metadata": {},
   "outputs": [],
   "source": [
    "url = 'https://miro.medium.com/max/1400/1*2c21SkzJMf3frPXPAR_gZA.png'\n",
    "Image(url = url, width=600)"
   ]
  },
  {
   "cell_type": "markdown",
   "metadata": {},
   "source": [
    "### Mise en pratique"
   ]
  },
  {
   "cell_type": "markdown",
   "metadata": {},
   "source": [
    "**TODO**\n",
    "        \n",
    "Pour les 8 premières colonnes:\n",
    "1. Afficher l'étendue (max-min) et l'écart interquartile\n",
    "2. Afficher l'écart type de chaque colonne\n",
    "3. Tracer une boîte à moustache pour chaque colonne (boxplot). Quelles distributions semblent similaires ?\n",
    "4. Comparer ces boxplots avec les histogrammes obtenus plus haut\n",
    "\n",
    "**Notes:**\n",
    "- boxplot : les whist du boxplot vont par défaut jusqu'à 1.5xIQR (jusqu'à la première données en dessous en fait), le reste apparait en 'outliers'\n",
    "- on peut changer cette valeur, on peut aussi mettre deux éléments (deux percentiles)\n",
    "https://matplotlib.org/3.1.1/api/_as_gen/matplotlib.axes.Axes.boxplot.html"
   ]
  },
  {
   "cell_type": "markdown",
   "metadata": {},
   "source": [
    "https://towardsdatascience.com/understanding-boxplots-5e2df7bcbd51"
   ]
  },
  {
   "cell_type": "markdown",
   "metadata": {},
   "source": [
    "#### Afficher l'étendue (max-min) et l'écart interquartile"
   ]
  },
  {
   "cell_type": "code",
   "execution_count": null,
   "metadata": {},
   "outputs": [],
   "source": [
    "cols = list(df.columns[:8])\n",
    "df[cols].max()-df[cols].min()"
   ]
  },
  {
   "cell_type": "code",
   "execution_count": null,
   "metadata": {
    "scrolled": false
   },
   "outputs": [],
   "source": [
    "Q1 = df[cols].quantile(0.25)\n",
    "Q3 = df[cols].quantile(0.75)\n",
    "Q3 - Q1"
   ]
  },
  {
   "cell_type": "markdown",
   "metadata": {},
   "source": [
    "Exemples de ce qu'on peut voir ici :\n",
    "- La variable H a une plage de valeurs plus grande par rapport à A ou B (max - min)\n",
    "- Les données sont plus regroupées ; centrées autour de la médiane pour les variables B, F et G (IQR plus petit)"
   ]
  },
  {
   "cell_type": "markdown",
   "metadata": {},
   "source": [
    "#### Afficher l'écart type de chaque colonne"
   ]
  },
  {
   "cell_type": "code",
   "execution_count": null,
   "metadata": {},
   "outputs": [],
   "source": [
    "df[cols].std()"
   ]
  },
  {
   "cell_type": "markdown",
   "metadata": {},
   "source": [
    "Exemples de ce qu'on peut voir ici :\n",
    "- Les variables C et H montrent un écart-type plus élevé : une plus grande dispersion des données sur la plage de valeurs"
   ]
  },
  {
   "cell_type": "markdown",
   "metadata": {},
   "source": [
    "#### Tracer une boîte à moustache pour chaque colonne (boxplot). Quelles distributions semblent similaires ?"
   ]
  },
  {
   "cell_type": "code",
   "execution_count": null,
   "metadata": {},
   "outputs": [],
   "source": [
    "# df[cols].boxplot(whis=10)\n",
    "df[cols].boxplot(whis=[1, 99])"
   ]
  },
  {
   "cell_type": "markdown",
   "metadata": {},
   "source": [
    "Exemples de ce qu'on peut voir ici :\n",
    "- La variable H a une plage de valeurs plus grande par rapport à A ou B (étendue de la boite à moustache)\n",
    "- Les données sont plus regroupées ; centrées autour de la médiane pour les variables B, F et G (petites boites comparées aux autres)\n",
    "\n",
    "Ce qui correspond bien à ce qu'on a vu plus haut"
   ]
  },
  {
   "cell_type": "markdown",
   "metadata": {},
   "source": [
    "#### Comparer ces boxplots avec les histogrammes obtenus plus haut"
   ]
  },
  {
   "cell_type": "code",
   "execution_count": null,
   "metadata": {
    "scrolled": true
   },
   "outputs": [],
   "source": [
    "df[cols].hist(bins=50, layout=(2,4), figsize=(14,4))"
   ]
  },
  {
   "cell_type": "markdown",
   "metadata": {},
   "source": [
    "Exemples de ce qu'on peut voir ici :\n",
    "- La variable A présente de manière presque équivalente toutes les valeurs\n",
    "- Les variables B et C semblent être bien centrées : regroupées autour de la moyenne, de la médiane et du mode\n",
    "- La variable D présente deux bosses : cela peut laisser penser qu'il y a deux groupes d'individus avec des comportements différents sur cette variable\n",
    "- Les variables F et G tendent vers la gauche (on parlera de skew par la suite)"
   ]
  },
  {
   "cell_type": "code",
   "execution_count": null,
   "metadata": {},
   "outputs": [],
   "source": [
    "df[list('BCD')].plot.hist(bins=100, alpha=0.5)"
   ]
  },
  {
   "cell_type": "markdown",
   "metadata": {},
   "source": [
    "## Normalisation / standardisation"
   ]
  },
  {
   "cell_type": "markdown",
   "metadata": {},
   "source": [
    "- Normalization / Normalisation = redimensionne les valeurs dans une plage de [0,1] (aire sous la courbe = 1 par contre pas forcément centrée sur 0)\n",
    "- Standardization / Standardisation = redimensionne les données pour avoir une moyenne de 0 et un écart type de 1 (variance unitaire), en faisant x - mean / std\n",
    "- Standard score / Score standard (z-score) = représente le nombre d'écarts types au-dessus ou en dessous de la moyenne qu'une observation spécifique tombe\n",
    "\n",
    "Comprendre :<br/>\n",
    "https://www.kdnuggets.com/2020/04/data-transformation-standardization-normalization.html<br/>\n",
    "https://towardsdatascience.com/normalization-vs-standardization-cb8fe15082eb<br/>\n",
    "\n",
    "Mettre en pratique :<br/>\n",
    "https://towardsdatascience.com/scale-standardize-or-normalize-with-scikit-learn-6ccc7d176a02<br/>\n",
    "\n",
    "Pour aller plus loin :<br/>\n",
    "https://scikit-learn.org/stable/auto_examples/preprocessing/plot_all_scaling.html#sphx-glr-auto-examples-preprocessing-plot-all-scaling-py"
   ]
  },
  {
   "cell_type": "markdown",
   "metadata": {},
   "source": [
    "Pourquoi c'est important ? <br/>\n",
    "\n",
    "Vous avez peut-être constaté dans les questions précédentes qu'il est difficile de comparer les variables entre elles : elles ne sont pas sur les mêmes plages de valeurs, ce serait un peu comme comparer des choux et des carottes !\n",
    "\n",
    "Pourquoi est-ce qu'on normalise ou standardise nos données avant de les analyser ? <br/>\n",
    "\n",
    "- Pour nous aider à comparer les fonctionnalités qui ont des unités ou des échelles différentes\n",
    "- Pour faciliter l'interprétation des coefficients de régression (=> sera vu dans la 3ème partie stat)\n",
    "- Pour aider à la convergence dans l'algorithme ML (problèmes de mise à l'échelle) (=> sera vu dans la partie Machine Learning)"
   ]
  },
  {
   "cell_type": "markdown",
   "metadata": {},
   "source": [
    "**TODO**\n",
    "        \n",
    "Pour les 8 premières colonnes:\n",
    "1. Standardiser et normaliser le dataframe (par colonne)\n",
    "2. Identifier les outliers (typiquement > 3 std)\n",
    "3. Tracer les histogrammes obtenus sans outliers"
   ]
  },
  {
   "cell_type": "markdown",
   "metadata": {},
   "source": [
    "#### Standardisation"
   ]
  },
  {
   "cell_type": "code",
   "execution_count": null,
   "metadata": {},
   "outputs": [],
   "source": [
    "df_std = (df[cols] - df[cols].mean())/df[cols].std()\n",
    "df_std.hist(bins=50, layout=(2,4), figsize=(14,4))"
   ]
  },
  {
   "cell_type": "code",
   "execution_count": null,
   "metadata": {
    "scrolled": true
   },
   "outputs": [],
   "source": [
    "df_std.describe()"
   ]
  },
  {
   "cell_type": "markdown",
   "metadata": {},
   "source": [
    "On constate bien ici que tous les écart-type sont à 1 et que les moyennes tournent autour de 0"
   ]
  },
  {
   "cell_type": "code",
   "execution_count": null,
   "metadata": {},
   "outputs": [],
   "source": [
    "import sklearn.preprocessing\n",
    "A_norm = sklearn.preprocessing.normalize(df[cols], norm='l2')\n",
    "df_norm = pd.DataFrame(A_norm, columns=cols)\n",
    "df_norm.describe()"
   ]
  },
  {
   "cell_type": "markdown",
   "metadata": {},
   "source": [
    "On voit bien ici que les données sont centrées autour de 0 : les moyennes sont toutes presque à 0"
   ]
  },
  {
   "cell_type": "markdown",
   "metadata": {},
   "source": [
    "#### Détections outliers"
   ]
  },
  {
   "cell_type": "markdown",
   "metadata": {},
   "source": [
    "https://docs.python.org/fr/3/library/functions.html#any"
   ]
  },
  {
   "cell_type": "code",
   "execution_count": null,
   "metadata": {},
   "outputs": [],
   "source": [
    "outlier_slice= ((df_std[cols]>3)|(df_std[cols]<-3)).any(1)\n",
    "# 1 détection lignes ac outliers\n",
    "# 0 détection colonnes avec outliers"
   ]
  },
  {
   "cell_type": "code",
   "execution_count": null,
   "metadata": {},
   "outputs": [],
   "source": [
    "outlier_slice.head(11)"
   ]
  },
  {
   "cell_type": "markdown",
   "metadata": {},
   "source": []
  },
  {
   "cell_type": "markdown",
   "metadata": {},
   "source": [
    "Récupérer les valeurs aberrantes de la ligne :"
   ]
  },
  {
   "cell_type": "code",
   "execution_count": null,
   "metadata": {},
   "outputs": [],
   "source": [
    "df_std.loc[outlier_slice, cols]"
   ]
  },
  {
   "cell_type": "markdown",
   "metadata": {},
   "source": [
    "Récupérer les colonnes de valeurs aberrantes (s'il n'y en a qu'une par ligne) :"
   ]
  },
  {
   "cell_type": "code",
   "execution_count": null,
   "metadata": {},
   "outputs": [],
   "source": [
    "df_std.loc[outlier_slice, cols].abs().idxmax(1)"
   ]
  },
  {
   "cell_type": "markdown",
   "metadata": {},
   "source": [
    "https://stackoverflow.com/questions/8305199/the-tilde-operator-in-python"
   ]
  },
  {
   "cell_type": "code",
   "execution_count": null,
   "metadata": {},
   "outputs": [],
   "source": [
    "df_std[~outlier_slice].hist(bins=50, layout=(2,4), figsize=(14,4))"
   ]
  },
  {
   "cell_type": "markdown",
   "metadata": {},
   "source": [
    "## Mesures de forme / Measures of shape"
   ]
  },
  {
   "cell_type": "markdown",
   "metadata": {},
   "source": [
    "Skewness et Kurtosis : \n",
    "https://towardsdatascience.com/intro-to-descriptive-statistics-252e9c464ac9"
   ]
  },
  {
   "cell_type": "markdown",
   "metadata": {},
   "source": [
    "* Skewness : symétrie de la distribution\n",
    "* Kurtosis : aplatissement"
   ]
  },
  {
   "cell_type": "markdown",
   "metadata": {},
   "source": [
    "Observez ces mesures de forme sur vos données\n",
    "\n",
    "**Aide**\n",
    "- https://docs.scipy.org/doc/scipy/reference/generated/scipy.stats.skew.html\n",
    "- https://docs.scipy.org/doc/scipy/reference/generated/scipy.stats.kurtosis.html"
   ]
  },
  {
   "cell_type": "markdown",
   "metadata": {},
   "source": [
    "#### Skew"
   ]
  },
  {
   "cell_type": "code",
   "execution_count": null,
   "metadata": {},
   "outputs": [],
   "source": [
    "df.skew()"
   ]
  },
  {
   "cell_type": "markdown",
   "metadata": {},
   "source": [
    "Exemples de ce qu'on peut voir ici :\n",
    "- Les variables A, B, C et H ont un skew proche de 0, elles sont symétriques, on peut le vérifier en regardant les histogrammes\n",
    "- E, F, G et H ont un skew positif plus élevé : la distribution tend vers la gauche ; vers les plus petites valeurs"
   ]
  },
  {
   "cell_type": "markdown",
   "metadata": {},
   "source": [
    "#### Kurtosis"
   ]
  },
  {
   "cell_type": "code",
   "execution_count": null,
   "metadata": {},
   "outputs": [],
   "source": [
    "df.kurtosis()"
   ]
  },
  {
   "cell_type": "markdown",
   "metadata": {},
   "source": [
    "L'aplatissement mesure si votre ensemble de données est à queue lourde ou à queue légère par rapport à une distribution normale <br/>\n",
    "\n",
    "Exemples de ce qu'on peut voir ici :\n",
    "- F, G et H sont effectivement plus applaties que les autres"
   ]
  },
  {
   "cell_type": "markdown",
   "metadata": {},
   "source": [
    "# Statistiques multivariées"
   ]
  },
  {
   "cell_type": "markdown",
   "metadata": {},
   "source": [
    "On va maintenant observer les données en croisant les variables entre elles !"
   ]
  },
  {
   "cell_type": "markdown",
   "metadata": {},
   "source": [
    "## Correlations"
   ]
  },
  {
   "cell_type": "markdown",
   "metadata": {},
   "source": [
    "https://en.wikipedia.org/wiki/Correlation"
   ]
  },
  {
   "cell_type": "markdown",
   "metadata": {},
   "source": [
    "Quelques notions pour commencer :\n",
    "- Covariance = quantification de la variation d'une variable par rapport à une autre (elle caractérise les variations simultanées des deux variables) \n",
    "- Correlation = covariance normalisée\n",
    "- coefficient de corrélation linéaire entre 2 variables = quotient de leur covariance par le produit de leurs écarts types\n",
    "- La valeur absolue du coefficient de correlation, toujours comprise entre 0 et 1, ne mesure pas l’intensité de la liaison mais la prépondérance de la relation affine sur les variations internes des variables. \n",
    "- Un coefficient nul n’implique pas indépendance, car d’autres types de corrélation sont possibles.\n",
    "- Le fait que deux variables soient « fortement corrélées » ne démontre pas qu'il y ait une relation de causalité entre l'une et l'autre. Le contre-exemple le plus typique est celui où elles sont en fait liées par une causalité commune. \n",
    "\n",
    "**En bref :**\n",
    "- Corrélation ne signifie pas causalité\n",
    "- La corrélation (de Pearson) ne mesure que la tendance linéaire"
   ]
  },
  {
   "cell_type": "code",
   "execution_count": null,
   "metadata": {},
   "outputs": [],
   "source": [
    "url = 'https://upload.wikimedia.org/wikipedia/commons/thumb/d/d4/Correlation_examples2.svg/1000px-Correlation_examples2.svg.png'\n",
    "Image(url = url, width=500)"
   ]
  },
  {
   "cell_type": "markdown",
   "metadata": {},
   "source": [
    "Plusieurs ensembles de points (x, y), avec le coefficient de corrélation de Pearson de x et y pour chaque ensemble. La corrélation reflète le bruit et la direction d'une relation linéaire (rangée du haut), mais pas la pente de cette relation (au milieu), ni de nombreux aspects des relations non linéaires (en bas). N.B. : le chiffre du centre a une pente de 0 mais dans ce cas le coefficient de corrélation est indéfini car la variance de Y est nulle."
   ]
  },
  {
   "cell_type": "code",
   "execution_count": null,
   "metadata": {
    "scrolled": true
   },
   "outputs": [],
   "source": [
    "url = 'https://upload.wikimedia.org/wikipedia/commons/thumb/e/ec/Anscombe%27s_quartet_3.svg/1000px-Anscombe%27s_quartet_3.svg.png'\n",
    "Image(url = url, width=500)"
   ]
  },
  {
   "cell_type": "markdown",
   "metadata": {},
   "source": [
    "Quatre ensembles de données avec la même corrélation de 0,816"
   ]
  },
  {
   "cell_type": "markdown",
   "metadata": {},
   "source": [
    "**TODO**\n",
    "\n",
    "1. Calculer les corrélations entre les colonnes 2 à 2 : afficher le résultat sur une 'heatmap'\n",
    "3. A votre avis: comment la correlation va-t-elle être impactée par la standardisation ? Vérifiez sur le dataset.\n",
    "4. Si deux variables sont fortement correlées, toute nouvelle feature correlée à l'une sera-t-elle forcément correlée à l'autre ?\n",
    "\n",
    "**Aide:**  \n",
    "- la librairie 'seaborn' permet de créer très facilement de belles 'heatmap' : https://seaborn.pydata.org/generated/seaborn.heatmap.html"
   ]
  },
  {
   "cell_type": "markdown",
   "metadata": {},
   "source": [
    "#### Corrélations entre les colonnes 2 à 2 / Afficher le résultat sur une 'heatmap'"
   ]
  },
  {
   "cell_type": "code",
   "execution_count": null,
   "metadata": {
    "scrolled": false
   },
   "outputs": [],
   "source": [
    "import seaborn as sns\n",
    "sns.heatmap(df[cols].corr(), cmap=\"RdBu_r\", vmin=-1, vmax=1)"
   ]
  },
  {
   "cell_type": "markdown",
   "metadata": {},
   "source": [
    "Exemples de ce qu'on peut voir ici :\n",
    "- C et H sont très corrélées positivement, donc liées entre elles\n",
    "=> C'est à dire que quand l'une va grandir, l'autre va grandir aussi\n",
    "- F et G également\n",
    "- => à l'inverse si on avait eu des corrélations négatives (en bleu foncé), plus l'une des variables grandit, plus l'autre diminue"
   ]
  },
  {
   "cell_type": "code",
   "execution_count": null,
   "metadata": {
    "scrolled": true
   },
   "outputs": [],
   "source": [
    "import matplotlib.pyplot as plt\n",
    "# Petit tips pour agrandir le graphique avec Seaborn et aMtplotlib\n",
    "with sns.axes_style(\"white\"):\n",
    "    f, ax = plt.subplots(figsize=(9, 7))\n",
    "    ax = sns.heatmap(df[cols].corr(), cmap=\"RdBu_r\", vmin=-1, vmax=1)"
   ]
  },
  {
   "cell_type": "markdown",
   "metadata": {},
   "source": [
    "#### A votre avis: comment la correlation va-t-elle être impactée par la standardisation ? Vérifiez sur le dataset."
   ]
  },
  {
   "cell_type": "markdown",
   "metadata": {},
   "source": [
    "Non : à montrer"
   ]
  },
  {
   "cell_type": "markdown",
   "metadata": {},
   "source": [
    "#### Si deux variables sont fortement correlées, toute nouvelle feature correlée à l'une sera-t-elle forcément correlée à l'autre ?"
   ]
  },
  {
   "cell_type": "markdown",
   "metadata": {},
   "source": [
    "Oui : pourquoi ?\n",
    "\n",
    "Y corrélé à X ~ Y = alpha x X + espilon (avec espilon proche de zero)<br/>\n",
    "Z corrélé à X ~ Z = beta x X + nu (avec nu proche de zero)<br/>\n",
    "et donc :<br/>\n",
    "Y = (alpha/beta)Z - ((alpha/beta)*nu+espilon)<br/>"
   ]
  },
  {
   "cell_type": "markdown",
   "metadata": {},
   "source": [
    "## With qualitatives data"
   ]
  },
  {
   "cell_type": "markdown",
   "metadata": {},
   "source": [
    "Vpus pourrez constater que les variables qualitatives n'étant pas numériques, il est plus délicat de les analyser : on ne peut pas observer la moyenne, la médiane, voir s'il y a des corrélations,... <br/>\n",
    "Afin de faciliter leur analyse, leur intégration dans nos modèles par la suite, il est possible de les transformer en variables quantitatives :\n",
    "* https://pandas.pydata.org/pandas-docs/stable/reference/api/pandas.get_dummies.html\n",
    "* https://pandas.pydata.org/docs/reference/api/pandas.Series.map.html"
   ]
  },
  {
   "cell_type": "markdown",
   "metadata": {},
   "source": [
    "**TODO**\n",
    "\n",
    "1. Tester le module describe sur les données qualitative\n",
    "2. Tranformer les variables qualitatives\n",
    "3. Chercher les dépendances entre les colonnes qualitatives et les autres colonnes\n",
    "\n",
    "**Aide :**\n",
    "    \n",
    "- pour fixer le type d'une variable, vous pouvez utiliser la méthode .astype()\n",
    "- pour grouper selon la variable qualitative étudiée, vous pouvez utiliser 'groupby'"
   ]
  },
  {
   "cell_type": "code",
   "execution_count": null,
   "metadata": {},
   "outputs": [],
   "source": [
    "df[df.columns[-4:]].astype('category').describe()\n",
    "# df[df.columns[-4:]].describe(include='all')\n"
   ]
  },
  {
   "cell_type": "code",
   "execution_count": null,
   "metadata": {},
   "outputs": [],
   "source": [
    "df.groupby('petit dej').mean()"
   ]
  },
  {
   "cell_type": "code",
   "execution_count": null,
   "metadata": {},
   "outputs": [],
   "source": [
    "df.groupby('réveil').mean()"
   ]
  },
  {
   "cell_type": "code",
   "execution_count": null,
   "metadata": {},
   "outputs": [],
   "source": [
    "df.groupby('matin').mean()"
   ]
  },
  {
   "cell_type": "markdown",
   "metadata": {},
   "source": [
    "Transforming qualitative variables in quantitative variables with the methods map or get_dummies.\n",
    "* https://pandas.pydata.org/pandas-docs/stable/reference/api/pandas.get_dummies.html\n",
    "* https://pandas.pydata.org/docs/reference/api/pandas.Series.map.html"
   ]
  },
  {
   "cell_type": "code",
   "execution_count": null,
   "metadata": {},
   "outputs": [],
   "source": [
    "dfc= df.copy()\n",
    "dfc['réveil']=df['réveil'].map({'toujours pas réveillé':-1, 'difficile':0, 'facile':1})\n",
    "dfc = pd.concat((dfc, pd.get_dummies(df['petit dej'])), axis=1)\n",
    "sns.heatmap(dfc.corr(), cmap=\"RdBu_r\", vmin=-1, vmax=1)"
   ]
  },
  {
   "cell_type": "code",
   "execution_count": null,
   "metadata": {},
   "outputs": [],
   "source": [
    "dfc"
   ]
  },
  {
   "cell_type": "code",
   "execution_count": null,
   "metadata": {},
   "outputs": [],
   "source": [
    "dfc.groupby(['petit dej', 'lait']).groups"
   ]
  },
  {
   "cell_type": "code",
   "execution_count": null,
   "metadata": {},
   "outputs": [],
   "source": [
    "df2=dfc.groupby(['petit dej', 'lait']).max()\n",
    "df2"
   ]
  },
  {
   "cell_type": "code",
   "execution_count": null,
   "metadata": {},
   "outputs": [],
   "source": [
    "df2.swaplevel(axis=0).index"
   ]
  },
  {
   "cell_type": "code",
   "execution_count": null,
   "metadata": {},
   "outputs": [],
   "source": [
    "df2.swaplevel(axis=0).loc[1.0]"
   ]
  },
  {
   "cell_type": "code",
   "execution_count": null,
   "metadata": {},
   "outputs": [],
   "source": [
    "df2.unstack(level=1).stack('lait')"
   ]
  },
  {
   "cell_type": "code",
   "execution_count": null,
   "metadata": {},
   "outputs": [],
   "source": [
    "dfc['petit dej']"
   ]
  }
 ],
 "metadata": {
  "extensions": {
   "jupyter_dashboards": {
    "activeView": "report_default",
    "version": 1,
    "views": {
     "grid_default": {
      "cellMargin": 10,
      "defaultCellHeight": 20,
      "maxColumns": 12,
      "name": "grid",
      "type": "grid"
     },
     "report_default": {
      "name": "report",
      "type": "report"
     }
    }
   }
  },
  "kernelspec": {
   "display_name": "Python 3 (ipykernel)",
   "language": "python",
   "name": "python3"
  },
  "language_info": {
   "codemirror_mode": {
    "name": "ipython",
    "version": 3
   },
   "file_extension": ".py",
   "mimetype": "text/x-python",
   "name": "python",
   "nbconvert_exporter": "python",
   "pygments_lexer": "ipython3",
   "version": "3.9.13"
  },
  "toc": {
   "base_numbering": 1,
   "nav_menu": {},
   "number_sections": true,
   "sideBar": true,
   "skip_h1_title": false,
   "title_cell": "Table of Contents",
   "title_sidebar": "Contents",
   "toc_cell": false,
   "toc_position": {
    "height": "calc(100% - 180px)",
    "left": "10px",
    "top": "150px",
    "width": "303.812px"
   },
   "toc_section_display": true,
   "toc_window_display": true
  },
  "varInspector": {
   "cols": {
    "lenName": 16,
    "lenType": 16,
    "lenVar": 40
   },
   "kernels_config": {
    "python": {
     "delete_cmd_postfix": "",
     "delete_cmd_prefix": "del ",
     "library": "var_list.py",
     "varRefreshCmd": "print(var_dic_list())"
    },
    "r": {
     "delete_cmd_postfix": ") ",
     "delete_cmd_prefix": "rm(",
     "library": "var_list.r",
     "varRefreshCmd": "cat(var_dic_list()) "
    }
   },
   "types_to_exclude": [
    "module",
    "function",
    "builtin_function_or_method",
    "instance",
    "_Feature"
   ],
   "window_display": false
  }
 },
 "nbformat": 4,
 "nbformat_minor": 4
}

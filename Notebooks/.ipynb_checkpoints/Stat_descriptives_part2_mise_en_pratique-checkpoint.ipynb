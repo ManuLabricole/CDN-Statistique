{
 "cells": [
  {
   "cell_type": "markdown",
   "metadata": {},
   "source": [
    "<font color='mediumblue'> **Projet : Consommation et production électrique en France** </font>"
   ]
  },
  {
   "cell_type": "markdown",
   "metadata": {},
   "source": [
    "**Objectifs**\n",
    "\n",
    "1. Manipulation de données avec pandas\n",
    "    - Création des dataframes à partir des fichiers RTE\n",
    "        - Dossier data_rte : données issues du site RTE (2012>2020) => données sur lesquelles ce notebook s'appuie\n",
    "    - Exploration des données contenues dans ces dataframes   \n",
    "    \n",
    "2. Etude des relations entre variables\n",
    "\n"
   ]
  },
  {
   "cell_type": "markdown",
   "metadata": {},
   "source": [
    "**Conseils généraux:**\n",
    "- Afficher les premières lignes de la variable que vous êtes en train d'étudier peut vous aider à comprendre bien des problèmes (méthode **head** de pandas)\n",
    "- De même la méthode **describe** de pandas est très précieuse pour repérer la présence de NaN, d'outliers, repérer les types de chaque variable etc. \n",
    "- Lorsque c'est nécessaire (selon ce que vous cherchez) penser à normaliser/standardiser les données\n",
    "- C'est une analyse exploratoire : **tatonnez**, **faites des graphiques**, ... \n",
    "- N'hésitez pas à **consulter l'aide de Pandas** ou à chercher la réponse à vos questions sur internet (quasiment tous les bugs que vous observerez on déjà fait l'objet d'un post sur **stackoverflow**)"
   ]
  },
  {
   "cell_type": "markdown",
   "metadata": {
    "extensions": {
     "jupyter_dashboards": {
      "version": 1,
      "views": {
       "grid_default": {
        "col": 4,
        "height": 4,
        "hidden": false,
        "row": 0,
        "width": 4
       },
       "report_default": {
        "hidden": false
       }
      }
     }
    }
   },
   "source": [
    "# Exploration des données"
   ]
  },
  {
   "cell_type": "markdown",
   "metadata": {},
   "source": [
    "L'exploration des données présente différents intérêts :\n",
    "- On comprend mieux nos données\n",
    "- On voit déjà des premières tendances\n",
    "- Elle nous donne des pistes à explorer pour la suite\n",
    "- ...\n",
    "\n",
    "Notre objectif : explorer au maximum les données pour en tirer de l'information"
   ]
  },
  {
   "cell_type": "markdown",
   "metadata": {},
   "source": [
    "**L'importance de l'exploration des données**\n",
    "\n",
    "La première étape de chargement, exploration et nettoyage de données peut être chronophage lorsqu'on traite des sets de données \"réels\"...  <br/> \n",
    "Cela fait partie du travail de data scientist, il faut s'y faire :-)\n",
    "\n",
    "----------------------------------------\n",
    "<font color=#66b3ff> \n",
    "    \n",
    "<small> <i> \n",
    "\n",
    "It takes less than five lines of code to train a basic machine learning algorithm. Exploratory data analysis and data preparation in comparison take longer and comprise of 80% of the data scientist’s time.  <br/> \n",
    "https://towardsdatascience.com/build-the-story-around-data-using-exploratory-data-analysis-and-pandas-c85bf3beff87\n",
    "\n",
    "----------------------------------------   \n",
    "    \n",
    "When I started learning machine learning and data science, much of it (all of it) was through online courses. I used them to create my own AI Masters Degree. All of them provided excellent curriculum along with excellent datasets. <br/> \n",
    "The datasets were excellent because they were ready to be used with machine learning algorithms right out of the box. <br/> \n",
    "You’d download the data, choose your algorithm, call the .fit() function, pass it the data and all of a sudden the loss value would start going down and you’d be left with an accuracy metric. Magic. <br/> \n",
    "This was how the majority of my learning went. Then I got a job as a machine learning engineer. I thought, finally, I can apply what I’ve been learning to real-world problems. <br/> \n",
    "Roadblock. <br/> \n",
    "The client sent us the data. I looked at it. WTF was this? <br/> \n",
    "Words, time stamps, more words, rows with missing data, columns, lots of columns. Where were the numbers? <br/> \n",
    "‘How do I deal with this data?’ I asked Athon. <br/> \n",
    "‘You’ll have to do some feature engineering and encode the categorical variables,’ he said, ‘I’ll Slack you a link.’ <br/> \n",
    "I went to my digital mentor. Google. ‘What is feature engineering?’ <br/> \n",
    "Google again. ‘What are categorical variables?’ <br/> \n",
    "Athon sent the link. I opened it. <br/> \n",
    "There it was. The next bridge I had to cross. Exploratory Data Analysis. <br/> \n",
    "You do exploratory data analysis to learn more about the data before you ever run a machine learning model. <br/> \n",
    "You create your own mental model of the data so when you run a machine learning model to make predictions, you’ll be able to recognise whether they’re BS or not.  <br/>\n",
    "https://towardsdatascience.com/a-gentle-introduction-to-exploratory-data-analysis-f11d843b8184\n",
    "\n",
    "</i> </small> </font> "
   ]
  },
  {
   "cell_type": "markdown",
   "metadata": {},
   "source": [
    "<font color='mediumblue'> **An EDA checklist**</font> \n",
    "\n",
    "1. Quelle(s) question(s) essayez-vous de résoudre/de prouver que vous avez tort ?\n",
    "2. De quel type de données disposez-vous et comment traitez-vous les différents types ?\n",
    "3. Qu'est-ce qui manque dans les données et comment y faire face ?\n",
    "4. Où sont les valeurs aberrantes et pourquoi devriez-vous vous en soucier ?\n",
    "5. Comment pouvez-vous ajouter, modifier ou supprimer des fonctionnalités pour tirer le meilleur parti de vos données ?\n",
    "        \n",
    "https://towardsdatascience.com/a-gentle-introduction-to-exploratory-data-analysis-f11d843b8184"
   ]
  },
  {
   "cell_type": "markdown",
   "metadata": {},
   "source": [
    "**Objectifs**\n",
    "    \n",
    "1. Charger et nettoyer des données : read_csv, parse date, concat\n",
    "2. Manipuler les données pour mieux les comprendre : groupby, pivot, stack/unstack"
   ]
  },
  {
   "cell_type": "markdown",
   "metadata": {},
   "source": [
    "## Création des dataframes\n",
    "**TODO**\n",
    "        \n",
    "1. Créer deux dataframes:\n",
    "    - le 1er en concaténant les données nationales annuelles \n",
    "    - le 2nd en concaténant les données régionales annuelles\n",
    "    - il faudra construire un index de datetime à partir des colonnes 'Date' et 'Heures'"
   ]
  },
  {
   "cell_type": "markdown",
   "metadata": {},
   "source": [
    "**Aide**\n",
    "- bien lire la note sur les données RTE afin de comprendre sur quelles données on travaille ...\n",
    "- la méthode read_csv (pandas) peut lire les fichiers zip ;-) (encoding: latin-1, séparateur de colonnes: \\t)\n",
    "- un tips pour détecter l'encoding: https://superuser.com/questions/301552/how-to-auto-detect-text-file-encoding\n",
    "- la méthode listdir (os) peut vous aider à lister tous les fichiers d'un dossier, startswith à sélectionner ceux qui vous intéressent\n",
    "- pensez à \"droper\" les colonnes qui ne contiennent pas d'information\n",
    "- pour le dataframe des données régionales, vous pouvez utiliser un multiindex\n",
    "- certaines colonnes sont vides ? https://pandas.pydata.org/pandas-docs/stable/reference/api/pandas.DataFrame.dropna.html"
   ]
  },
  {
   "cell_type": "markdown",
   "metadata": {},
   "source": [
    "**Notes sur les données RTE** \n",
    "- Elles proviennent du (génial) site éCO2mix et sont disponibles pour tout le monde (opendata)\n",
    "- Leur format n'est pas optimal : un peu de manipulation est nécessaire afin de pouvoir les exploiter. Pas de panique, il faut juste procéder par étape !\n",
    "    1. Chargez un des fichiers directement avec read_csv (n'importe lequel, ils sont tous construits de la même façon)\n",
    "    2. Affichez le dataframe obtenu, et essayez de comprendre ce qui cloche ...\n",
    "    3. Les quelques lignes de code suivante permettent d'afficher la 1ere et la 10ème ligne contenues dans un fichier. Est-ce que le problème apparait plus clairement ? (pensez à modifier le chemin d'accès...)\n",
    "    4. Ecrivez une fonction qui permet de charger correctement un des fichiers\n",
    "    5. Vous pouvez maintenant utiliser cette fonction pour créer votre dataframe en concaténant les fichiers"
   ]
  },
  {
   "cell_type": "markdown",
   "metadata": {},
   "source": [
    "**Plus d'informations sur les données :** <br/> \n",
    "- https://www.rte-france.com/eco2mix <br/>\n",
    "- https://www.rte-france.com/eco2mix/telecharger-les-indicateurs"
   ]
  },
  {
   "cell_type": "markdown",
   "metadata": {},
   "source": [
    "Les données que nous allons traiter sont sous un format nouveau, il peut s'avérer difficile de les importer pour vous : fixez vous un objectif à ne pas passer plus de 2h à les importer. Si vous dépassez ce temps, je vous conseille de vous référer aux codes cachés que je vous transmets ci-dessous et de vous replonger dedans plus tard afin que vous ayez le temps d'explorer les données."
   ]
  },
  {
   "cell_type": "markdown",
   "metadata": {},
   "source": [
    "<details><summary>Code import données nationales</summary><br>\n",
    "def create_datetime_index(df):<br/>\n",
    "    df['DateTime'] = pd.to_datetime(df['Date'].map(str) + ' ' + df['Heures'].map(str))<br/>\n",
    "    df.drop(['Date', 'Heures'], axis=1, inplace=True)<br/>\n",
    "    df.set_index('DateTime', inplace=True)<br/>\n",
    "    return <br/>\n",
    "\n",
    "def read_rte_file(file_name):<br/>\n",
    "    df = pd.read_csv(file_name, encoding='ISO-8859-1', sep='\\t', index_col=None, header=None, skiprows=1, na_values='ND')<br/>\n",
    "    df.drop(df.columns[-1], axis=1, inplace=True)<br/>\n",
    "    df_titles = pd.read_csv(file_name, encoding='ISO-8859-1', sep='\\t', index_col=None, nrows=0)<br/>\n",
    "    df.columns = df_titles.columns<br/>\n",
    "    return df<br/>\n",
    "\n",
    "DATA_FILE = 'data/data_rte/'<br/>\n",
    "\n",
    "files = [f for f in listdir(DATA_FILE) if f.startswith('eCO2mix_RTE_Annuel-Definitif')]<br/>\n",
    "\n",
    "df_all = []<br/>\n",
    "\n",
    "for f in files:<br/>\n",
    "    df = read_rte_file(DATA_FILE+f)<br/>\n",
    "    df_all.append(df)<br/>\n",
    "df_all = pd.concat(df_all)<br/>\n",
    "df_all = df_all[(\\~df_all['Date'].isna())&(~df_all['Heures'].isna())]<br/>\n",
    "create_datetime_index(df_all)<br/>\n",
    "df_all.describe()<br/>\n",
    "</details>"
   ]
  },
  {
   "cell_type": "markdown",
   "metadata": {},
   "source": [
    "**Note : In a loop it is not a good idea to concat the dataframe at each step, because it will sort each dataframe and this will takes a lot of time. A better solution is to create a list of dataframes and concat at the end of the loop (as is done here).**"
   ]
  },
  {
   "cell_type": "code",
   "execution_count": null,
   "metadata": {},
   "outputs": [],
   "source": []
  },
  {
   "cell_type": "markdown",
   "metadata": {},
   "source": [
    "<details><summary>Code import données régionales</summary><br>\n",
    "files = [f for f in listdir(DATA_FILE) if not f.startswith('eCO2mix_RTE_Annuel-Definitif')]<br/>\n",
    "\n",
    "list_reg = set([f[len('eCO2mix_RTE_'):-len('_Annuel-Definitif_2013.zip')] for f in files])<br/>\n",
    "\n",
    "df_all_reg = {}<br/>\n",
    "\n",
    "for reg in list_reg:<br/>\n",
    "    df_reg = []<br/>\n",
    "    for f in files :<br/>\n",
    "        if reg in f :<br/>\n",
    "            df = read_rte_file(DATA_FILE+f)<br/>\n",
    "            df.drop(len(df)-1, inplace=True)<br/>\n",
    "            create_datetime_index(df)<br/>\n",
    "            df_reg.append(df)<br/>\n",
    "    df_reg = pd.concat(df_reg)<br/>\n",
    "    df_reg.drop(['Périmètre', 'Nature'], axis=1, inplace=True)<br/>\n",
    "    df_reg.dropna(how='all', inplace=True)<br/>\n",
    "    df_all_reg[reg] =df_reg<br/>\n",
    "df_all_reg = pd.concat(df_all_reg, axis=1)<br/>\n",
    "</details>"
   ]
  },
  {
   "cell_type": "markdown",
   "metadata": {},
   "source": [
    "### Start importation"
   ]
  },
  {
   "cell_type": "code",
   "execution_count": 110,
   "metadata": {},
   "outputs": [],
   "source": [
    "import pandas as pd\n",
    "import chardet\n",
    "import xlrd\n",
    "import os\n",
    "import zipfile\n",
    "from os import listdir\n",
    "from matplotlib import rcParams\n",
    "import matplotlib.pyplot as plt\n",
    "import seaborn as sns\n",
    "#rcParams['figure.figsize'] = 15, 3"
   ]
  },
  {
   "cell_type": "markdown",
   "metadata": {},
   "source": [
    " -----------------------------------------------------------------------------"
   ]
  },
  {
   "cell_type": "code",
   "execution_count": 111,
   "metadata": {},
   "outputs": [
    {
     "data": {
      "text/plain": [
       "'/home/emmanuel.barriol@Digital-Grenoble.local/Documents/statistique/1 - Statistiques exploratoires/Notebooks'"
      ]
     },
     "execution_count": 111,
     "metadata": {},
     "output_type": "execute_result"
    }
   ],
   "source": [
    "run = 0\n",
    "if run == 0:\n",
    "    mainPath = os.getcwd()\n",
    "    run += 1\n",
    "mainPath"
   ]
  },
  {
   "cell_type": "code",
   "execution_count": 112,
   "metadata": {},
   "outputs": [],
   "source": [
    "def get_data_dir():\n",
    "    os.chdir(mainPath)\n",
    "    # Go one level Up\n",
    "    tempPath = os.path.dirname(mainPath)\n",
    "    tempPath = os.path.join(tempPath, 'data/')\n",
    "    os.chdir(tempPath)\n",
    "    return tempPath\n",
    "dataPath = get_data_dir()"
   ]
  },
  {
   "cell_type": "code",
   "execution_count": 113,
   "metadata": {},
   "outputs": [],
   "source": [
    "def extract_file(path, targetDir):\n",
    "    os.chdir(path)\n",
    "    with zipfile.ZipFile('data_rte.zip', 'r') as zip_ref:\n",
    "        print(f\"Main Zip contain {len(zip_ref.namelist())} .zip files to open\")\n",
    "        \n",
    "        zip_ref.extractall(targetDir)\n",
    "        newPath = os.path.join(path, targetDir + '/data_rte')\n",
    "        os.chdir(newPath)\n",
    "        return newPath"
   ]
  },
  {
   "cell_type": "code",
   "execution_count": 114,
   "metadata": {},
   "outputs": [],
   "source": [
    "def get_list_of_df_from_zip(path):\n",
    "    os.chdir(path)\n",
    "    newPath = extract_file(path, \"rawData\")\n",
    "    files = os.listdir(newPath)\n",
    "    \n",
    "    dfListNational = []\n",
    "    dfListRegional = []\n",
    "    i = 0\n",
    "    \n",
    "    print(\"oui\")\n",
    "    for file in files:\n",
    "        print(\"----------------------------------------------------------------------\")\n",
    "        extensionTemp = os.path.splitext(file)[1]\n",
    "        with zipfile.ZipFile(file, 'r') as tempZipFile:\n",
    "            fileName = tempZipFile.namelist()\n",
    "            print(fileName[0])\n",
    "            with zipfile.ZipFile(file, 'r').open(fileName[0], 'r') as f:\n",
    "                i+=1\n",
    "                \n",
    "                if \"2019\" in fileName[0] or \"2020\" in fileName[0]:\n",
    "                    pass\n",
    "                    print(\"DATAFRAME IGNORED --> 2029 ou 2020 wrong columns\")\n",
    "                    \n",
    "                else:\n",
    "                    pass\n",
    "                    dfTemp = pd.read_csv(f, encoding='ISO-8859-1', error_bad_lines=False,sep='\\t', index_col=False)\n",
    "                    #\n",
    "                    if \"RTE_Annuel\" in fileName[0]:\n",
    "                        dfListNational.append(dfTemp)\n",
    "                        print(\"--> ANNUAL\")\n",
    "                    else:\n",
    "                        print(\"--> REGIONAL\")\n",
    "                        dfListRegional.append(dfTemp)\n",
    "                \n",
    "                print(f\"{i} / {len(files)} treated\")\n",
    "                    \n",
    "    os.chdir(mainPath)\n",
    "    return dfListNational, dfListRegional"
   ]
  },
  {
   "cell_type": "code",
   "execution_count": 115,
   "metadata": {
    "scrolled": true
   },
   "outputs": [
    {
     "name": "stdout",
     "output_type": "stream",
     "text": [
      "Main Zip contain 105 .zip files to open\n",
      "oui\n",
      "----------------------------------------------------------------------\n",
      "eCO2mix_RTE_Occitanie_Annuel-Definitif_2019.xls\n",
      "DATAFRAME IGNORED --> 2029 ou 2020 wrong columns\n",
      "1 / 105 treated\n",
      "----------------------------------------------------------------------\n",
      "eCO2mix_RTE_Occitanie_Annuel-Definitif_2015.xls\n",
      "--> REGIONAL\n",
      "2 / 105 treated\n",
      "----------------------------------------------------------------------\n",
      "eCO2mix_RTE_Pays-de-la-Loire_Annuel-Definitif_2013.xls\n",
      "--> REGIONAL\n",
      "3 / 105 treated\n",
      "----------------------------------------------------------------------\n",
      "eCO2mix_RTE_Normandie_Annuel-Definitif_2018.xls\n"
     ]
    },
    {
     "name": "stderr",
     "output_type": "stream",
     "text": [
      "/tmp/ipykernel_17423/2370632081.py:26: FutureWarning: The error_bad_lines argument has been deprecated and will be removed in a future version. Use on_bad_lines in the future.\n",
      "\n",
      "\n",
      "  dfTemp = pd.read_csv(f, encoding='ISO-8859-1', error_bad_lines=False,sep='\\t', index_col=False)\n",
      "/tmp/ipykernel_17423/2370632081.py:26: FutureWarning: The error_bad_lines argument has been deprecated and will be removed in a future version. Use on_bad_lines in the future.\n",
      "\n",
      "\n",
      "  dfTemp = pd.read_csv(f, encoding='ISO-8859-1', error_bad_lines=False,sep='\\t', index_col=False)\n",
      "/tmp/ipykernel_17423/2370632081.py:26: FutureWarning: The error_bad_lines argument has been deprecated and will be removed in a future version. Use on_bad_lines in the future.\n",
      "\n",
      "\n",
      "  dfTemp = pd.read_csv(f, encoding='ISO-8859-1', error_bad_lines=False,sep='\\t', index_col=False)\n",
      "/tmp/ipykernel_17423/2370632081.py:26: FutureWarning: The error_bad_lines argument has been deprecated and will be removed in a future version. Use on_bad_lines in the future.\n",
      "\n",
      "\n",
      "  dfTemp = pd.read_csv(f, encoding='ISO-8859-1', error_bad_lines=False,sep='\\t', index_col=False)\n",
      "/tmp/ipykernel_17423/2370632081.py:26: FutureWarning: The error_bad_lines argument has been deprecated and will be removed in a future version. Use on_bad_lines in the future.\n",
      "\n",
      "\n",
      "  dfTemp = pd.read_csv(f, encoding='ISO-8859-1', error_bad_lines=False,sep='\\t', index_col=False)\n"
     ]
    },
    {
     "name": "stdout",
     "output_type": "stream",
     "text": [
      "--> REGIONAL\n",
      "4 / 105 treated\n",
      "----------------------------------------------------------------------\n",
      "eCO2mix_RTE_Auvergne-Rhône-Alpes_Annuel-Definitif_2014.xls\n",
      "--> REGIONAL\n",
      "5 / 105 treated\n",
      "----------------------------------------------------------------------\n",
      "eCO2mix_RTE_Annuel-Definitif_2013.xls\n",
      "--> ANNUAL\n",
      "6 / 105 treated\n",
      "----------------------------------------------------------------------\n",
      "eCO2mix_RTE_Bretagne_Annuel-Definitif_2017.xls\n"
     ]
    },
    {
     "name": "stderr",
     "output_type": "stream",
     "text": [
      "/tmp/ipykernel_17423/2370632081.py:26: DtypeWarning: Columns (18,19,20,21,22,23,24,25,26,27,28,29,30,31,32,33,34,35) have mixed types. Specify dtype option on import or set low_memory=False.\n",
      "  dfTemp = pd.read_csv(f, encoding='ISO-8859-1', error_bad_lines=False,sep='\\t', index_col=False)\n",
      "/tmp/ipykernel_17423/2370632081.py:26: FutureWarning: The error_bad_lines argument has been deprecated and will be removed in a future version. Use on_bad_lines in the future.\n",
      "\n",
      "\n",
      "  dfTemp = pd.read_csv(f, encoding='ISO-8859-1', error_bad_lines=False,sep='\\t', index_col=False)\n",
      "/tmp/ipykernel_17423/2370632081.py:26: FutureWarning: The error_bad_lines argument has been deprecated and will be removed in a future version. Use on_bad_lines in the future.\n",
      "\n",
      "\n",
      "  dfTemp = pd.read_csv(f, encoding='ISO-8859-1', error_bad_lines=False,sep='\\t', index_col=False)\n",
      "/tmp/ipykernel_17423/2370632081.py:26: FutureWarning: The error_bad_lines argument has been deprecated and will be removed in a future version. Use on_bad_lines in the future.\n",
      "\n",
      "\n",
      "  dfTemp = pd.read_csv(f, encoding='ISO-8859-1', error_bad_lines=False,sep='\\t', index_col=False)\n",
      "/tmp/ipykernel_17423/2370632081.py:26: FutureWarning: The error_bad_lines argument has been deprecated and will be removed in a future version. Use on_bad_lines in the future.\n",
      "\n",
      "\n",
      "  dfTemp = pd.read_csv(f, encoding='ISO-8859-1', error_bad_lines=False,sep='\\t', index_col=False)\n",
      "/tmp/ipykernel_17423/2370632081.py:26: FutureWarning: The error_bad_lines argument has been deprecated and will be removed in a future version. Use on_bad_lines in the future.\n",
      "\n",
      "\n",
      "  dfTemp = pd.read_csv(f, encoding='ISO-8859-1', error_bad_lines=False,sep='\\t', index_col=False)\n"
     ]
    },
    {
     "name": "stdout",
     "output_type": "stream",
     "text": [
      "--> REGIONAL\n",
      "7 / 105 treated\n",
      "----------------------------------------------------------------------\n",
      "eCO2mix_RTE_Ile-de-France_Annuel-Definitif_2017.xls\n",
      "--> REGIONAL\n",
      "8 / 105 treated\n",
      "----------------------------------------------------------------------\n",
      "eCO2mix_RTE_Bretagne_Annuel-Definitif_2018.xls\n",
      "--> REGIONAL\n",
      "9 / 105 treated\n",
      "----------------------------------------------------------------------\n",
      "eCO2mix_RTE_Annuel-Definitif_2020.xls\n",
      "DATAFRAME IGNORED --> 2029 ou 2020 wrong columns\n",
      "10 / 105 treated\n",
      "----------------------------------------------------------------------\n",
      "eCO2mix_RTE_Grand-Est_Annuel-Definitif_2019.xls\n",
      "DATAFRAME IGNORED --> 2029 ou 2020 wrong columns\n",
      "11 / 105 treated\n",
      "----------------------------------------------------------------------\n",
      "eCO2mix_RTE_Bretagne_Annuel-Definitif_2015.xls\n",
      "--> REGIONAL\n",
      "12 / 105 treated\n",
      "----------------------------------------------------------------------\n",
      "eCO2mix_RTE_Ile-de-France_Annuel-Definitif_2016.xls\n",
      "--> REGIONAL\n",
      "13 / 105 treated\n",
      "----------------------------------------------------------------------\n",
      "eCO2mix_RTE_Nouvelle-Aquitaine_Annuel-Definitif_2016.xls\n",
      "--> REGIONAL\n",
      "14 / 105 treated\n",
      "----------------------------------------------------------------------\n",
      "eCO2mix_RTE_Annuel-Definitif_2014.xls\n"
     ]
    },
    {
     "name": "stderr",
     "output_type": "stream",
     "text": [
      "/tmp/ipykernel_17423/2370632081.py:26: FutureWarning: The error_bad_lines argument has been deprecated and will be removed in a future version. Use on_bad_lines in the future.\n",
      "\n",
      "\n",
      "  dfTemp = pd.read_csv(f, encoding='ISO-8859-1', error_bad_lines=False,sep='\\t', index_col=False)\n",
      "/tmp/ipykernel_17423/2370632081.py:26: FutureWarning: The error_bad_lines argument has been deprecated and will be removed in a future version. Use on_bad_lines in the future.\n",
      "\n",
      "\n",
      "  dfTemp = pd.read_csv(f, encoding='ISO-8859-1', error_bad_lines=False,sep='\\t', index_col=False)\n",
      "/tmp/ipykernel_17423/2370632081.py:26: DtypeWarning: Columns (18,19,20,21,22) have mixed types. Specify dtype option on import or set low_memory=False.\n",
      "  dfTemp = pd.read_csv(f, encoding='ISO-8859-1', error_bad_lines=False,sep='\\t', index_col=False)\n",
      "/tmp/ipykernel_17423/2370632081.py:26: FutureWarning: The error_bad_lines argument has been deprecated and will be removed in a future version. Use on_bad_lines in the future.\n",
      "\n",
      "\n",
      "  dfTemp = pd.read_csv(f, encoding='ISO-8859-1', error_bad_lines=False,sep='\\t', index_col=False)\n",
      "/tmp/ipykernel_17423/2370632081.py:26: FutureWarning: The error_bad_lines argument has been deprecated and will be removed in a future version. Use on_bad_lines in the future.\n",
      "\n",
      "\n",
      "  dfTemp = pd.read_csv(f, encoding='ISO-8859-1', error_bad_lines=False,sep='\\t', index_col=False)\n"
     ]
    },
    {
     "name": "stdout",
     "output_type": "stream",
     "text": [
      "--> ANNUAL\n",
      "15 / 105 treated\n",
      "----------------------------------------------------------------------\n",
      "eCO2mix_RTE_Pays-de-la-Loire_Annuel-Definitif_2018.xls\n",
      "--> REGIONAL\n",
      "16 / 105 treated\n",
      "----------------------------------------------------------------------\n",
      "eCO2mix_RTE_Auvergne-Rhône-Alpes_Annuel-Definitif_2013.xls\n",
      "--> REGIONAL\n",
      "17 / 105 treated\n",
      "----------------------------------------------------------------------\n",
      "eCO2mix_RTE_PACA_Annuel-Definitif_2017.xls\n",
      "--> REGIONAL\n",
      "18 / 105 treated\n",
      "----------------------------------------------------------------------\n",
      "eCO2mix_RTE_Bretagne_Annuel-Definitif_2014.xls\n",
      "--> REGIONAL\n",
      "19 / 105 treated\n",
      "----------------------------------------------------------------------\n",
      "eCO2mix_RTE_Normandie_Annuel-Definitif_2014.xls\n"
     ]
    },
    {
     "name": "stderr",
     "output_type": "stream",
     "text": [
      "/tmp/ipykernel_17423/2370632081.py:26: FutureWarning: The error_bad_lines argument has been deprecated and will be removed in a future version. Use on_bad_lines in the future.\n",
      "\n",
      "\n",
      "  dfTemp = pd.read_csv(f, encoding='ISO-8859-1', error_bad_lines=False,sep='\\t', index_col=False)\n",
      "/tmp/ipykernel_17423/2370632081.py:26: FutureWarning: The error_bad_lines argument has been deprecated and will be removed in a future version. Use on_bad_lines in the future.\n",
      "\n",
      "\n",
      "  dfTemp = pd.read_csv(f, encoding='ISO-8859-1', error_bad_lines=False,sep='\\t', index_col=False)\n",
      "/tmp/ipykernel_17423/2370632081.py:26: FutureWarning: The error_bad_lines argument has been deprecated and will be removed in a future version. Use on_bad_lines in the future.\n",
      "\n",
      "\n",
      "  dfTemp = pd.read_csv(f, encoding='ISO-8859-1', error_bad_lines=False,sep='\\t', index_col=False)\n",
      "/tmp/ipykernel_17423/2370632081.py:26: FutureWarning: The error_bad_lines argument has been deprecated and will be removed in a future version. Use on_bad_lines in the future.\n",
      "\n",
      "\n",
      "  dfTemp = pd.read_csv(f, encoding='ISO-8859-1', error_bad_lines=False,sep='\\t', index_col=False)\n",
      "/tmp/ipykernel_17423/2370632081.py:26: FutureWarning: The error_bad_lines argument has been deprecated and will be removed in a future version. Use on_bad_lines in the future.\n",
      "\n",
      "\n",
      "  dfTemp = pd.read_csv(f, encoding='ISO-8859-1', error_bad_lines=False,sep='\\t', index_col=False)\n"
     ]
    },
    {
     "name": "stdout",
     "output_type": "stream",
     "text": [
      "--> REGIONAL\n",
      "20 / 105 treated\n",
      "----------------------------------------------------------------------\n",
      "eCO2mix_RTE_Bourgogne-Franche-Comté_Annuel-Definitif_2018.xls\n",
      "--> REGIONAL\n",
      "21 / 105 treated\n",
      "----------------------------------------------------------------------\n",
      "eCO2mix_RTE_Ile-de-France_Annuel-Definitif_2019.xls\n",
      "DATAFRAME IGNORED --> 2029 ou 2020 wrong columns\n",
      "22 / 105 treated\n",
      "----------------------------------------------------------------------\n",
      "eCO2mix_RTE_Bourgogne-Franche-Comté_Annuel-Definitif_2015.xls\n",
      "--> REGIONAL\n",
      "23 / 105 treated\n",
      "----------------------------------------------------------------------\n",
      "eCO2mix_RTE_Grand-Est_Annuel-Definitif_2013.xls\n",
      "--> REGIONAL\n",
      "24 / 105 treated\n",
      "----------------------------------------------------------------------\n",
      "eCO2mix_RTE_Ile-de-France_Annuel-Definitif_2015.xls\n",
      "--> REGIONAL\n",
      "25 / 105 treated\n",
      "----------------------------------------------------------------------\n",
      "eCO2mix_RTE_Grand-Est_Annuel-Definitif_2017.xls\n"
     ]
    },
    {
     "name": "stderr",
     "output_type": "stream",
     "text": [
      "/tmp/ipykernel_17423/2370632081.py:26: FutureWarning: The error_bad_lines argument has been deprecated and will be removed in a future version. Use on_bad_lines in the future.\n",
      "\n",
      "\n",
      "  dfTemp = pd.read_csv(f, encoding='ISO-8859-1', error_bad_lines=False,sep='\\t', index_col=False)\n",
      "/tmp/ipykernel_17423/2370632081.py:26: FutureWarning: The error_bad_lines argument has been deprecated and will be removed in a future version. Use on_bad_lines in the future.\n",
      "\n",
      "\n",
      "  dfTemp = pd.read_csv(f, encoding='ISO-8859-1', error_bad_lines=False,sep='\\t', index_col=False)\n",
      "/tmp/ipykernel_17423/2370632081.py:26: FutureWarning: The error_bad_lines argument has been deprecated and will be removed in a future version. Use on_bad_lines in the future.\n",
      "\n",
      "\n",
      "  dfTemp = pd.read_csv(f, encoding='ISO-8859-1', error_bad_lines=False,sep='\\t', index_col=False)\n",
      "/tmp/ipykernel_17423/2370632081.py:26: FutureWarning: The error_bad_lines argument has been deprecated and will be removed in a future version. Use on_bad_lines in the future.\n",
      "\n",
      "\n",
      "  dfTemp = pd.read_csv(f, encoding='ISO-8859-1', error_bad_lines=False,sep='\\t', index_col=False)\n",
      "/tmp/ipykernel_17423/2370632081.py:26: FutureWarning: The error_bad_lines argument has been deprecated and will be removed in a future version. Use on_bad_lines in the future.\n",
      "\n",
      "\n",
      "  dfTemp = pd.read_csv(f, encoding='ISO-8859-1', error_bad_lines=False,sep='\\t', index_col=False)\n"
     ]
    },
    {
     "name": "stdout",
     "output_type": "stream",
     "text": [
      "--> REGIONAL\n",
      "26 / 105 treated\n",
      "----------------------------------------------------------------------\n",
      "eCO2mix_RTE_Pays-de-la-Loire_Annuel-Definitif_2014.xls\n",
      "--> REGIONAL\n",
      "27 / 105 treated\n",
      "----------------------------------------------------------------------\n",
      "eCO2mix_RTE_Nouvelle-Aquitaine_Annuel-Definitif_2013.xls\n",
      "--> REGIONAL\n",
      "28 / 105 treated\n",
      "----------------------------------------------------------------------\n",
      "eCO2mix_RTE_Normandie_Annuel-Definitif_2017.xls\n",
      "--> REGIONAL\n",
      "29 / 105 treated\n",
      "----------------------------------------------------------------------\n",
      "eCO2mix_RTE_Ile-de-France_Annuel-Definitif_2013.xls\n",
      "--> REGIONAL\n",
      "30 / 105 treated\n",
      "----------------------------------------------------------------------\n",
      "eCO2mix_RTE_Hauts-de-France_Annuel-Definitif_2018.xls\n",
      "--> REGIONAL\n",
      "31 / 105 treated\n",
      "----------------------------------------------------------------------\n",
      "eCO2mix_RTE_Hauts-de-France_Annuel-Definitif_2016.xls\n"
     ]
    },
    {
     "name": "stderr",
     "output_type": "stream",
     "text": [
      "/tmp/ipykernel_17423/2370632081.py:26: FutureWarning: The error_bad_lines argument has been deprecated and will be removed in a future version. Use on_bad_lines in the future.\n",
      "\n",
      "\n",
      "  dfTemp = pd.read_csv(f, encoding='ISO-8859-1', error_bad_lines=False,sep='\\t', index_col=False)\n",
      "/tmp/ipykernel_17423/2370632081.py:26: FutureWarning: The error_bad_lines argument has been deprecated and will be removed in a future version. Use on_bad_lines in the future.\n",
      "\n",
      "\n",
      "  dfTemp = pd.read_csv(f, encoding='ISO-8859-1', error_bad_lines=False,sep='\\t', index_col=False)\n",
      "/tmp/ipykernel_17423/2370632081.py:26: FutureWarning: The error_bad_lines argument has been deprecated and will be removed in a future version. Use on_bad_lines in the future.\n",
      "\n",
      "\n",
      "  dfTemp = pd.read_csv(f, encoding='ISO-8859-1', error_bad_lines=False,sep='\\t', index_col=False)\n",
      "/tmp/ipykernel_17423/2370632081.py:26: FutureWarning: The error_bad_lines argument has been deprecated and will be removed in a future version. Use on_bad_lines in the future.\n",
      "\n",
      "\n",
      "  dfTemp = pd.read_csv(f, encoding='ISO-8859-1', error_bad_lines=False,sep='\\t', index_col=False)\n",
      "/tmp/ipykernel_17423/2370632081.py:26: FutureWarning: The error_bad_lines argument has been deprecated and will be removed in a future version. Use on_bad_lines in the future.\n",
      "\n",
      "\n",
      "  dfTemp = pd.read_csv(f, encoding='ISO-8859-1', error_bad_lines=False,sep='\\t', index_col=False)\n",
      "/tmp/ipykernel_17423/2370632081.py:26: FutureWarning: The error_bad_lines argument has been deprecated and will be removed in a future version. Use on_bad_lines in the future.\n",
      "\n",
      "\n",
      "  dfTemp = pd.read_csv(f, encoding='ISO-8859-1', error_bad_lines=False,sep='\\t', index_col=False)\n"
     ]
    },
    {
     "name": "stdout",
     "output_type": "stream",
     "text": [
      "--> REGIONAL\n",
      "32 / 105 treated\n",
      "----------------------------------------------------------------------\n",
      "eCO2mix_RTE_Bretagne_Annuel-Definitif_2016.xls\n",
      "--> REGIONAL\n",
      "33 / 105 treated\n",
      "----------------------------------------------------------------------\n",
      "eCO2mix_RTE_Centre-Val-de-Loire_Annuel-Definitif_2015.xls\n",
      "--> REGIONAL\n",
      "34 / 105 treated\n",
      "----------------------------------------------------------------------\n",
      "eCO2mix_RTE_Centre-Val-de-Loire_Annuel-Definitif_2019.xls\n",
      "DATAFRAME IGNORED --> 2029 ou 2020 wrong columns\n",
      "35 / 105 treated\n",
      "----------------------------------------------------------------------\n",
      "eCO2mix_RTE_Bourgogne-Franche-Comté_Annuel-Definitif_2020.xls\n",
      "DATAFRAME IGNORED --> 2029 ou 2020 wrong columns\n",
      "36 / 105 treated\n",
      "----------------------------------------------------------------------\n",
      "eCO2mix_RTE_Normandie_Annuel-Definitif_2015.xls\n",
      "--> REGIONAL\n",
      "37 / 105 treated\n",
      "----------------------------------------------------------------------\n",
      "eCO2mix_RTE_PACA_Annuel-Definitif_2018.xls\n",
      "--> REGIONAL\n",
      "38 / 105 treated\n",
      "----------------------------------------------------------------------\n",
      "eCO2mix_RTE_PACA_Annuel-Definitif_2016.xls\n"
     ]
    },
    {
     "name": "stderr",
     "output_type": "stream",
     "text": [
      "/tmp/ipykernel_17423/2370632081.py:26: FutureWarning: The error_bad_lines argument has been deprecated and will be removed in a future version. Use on_bad_lines in the future.\n",
      "\n",
      "\n",
      "  dfTemp = pd.read_csv(f, encoding='ISO-8859-1', error_bad_lines=False,sep='\\t', index_col=False)\n",
      "/tmp/ipykernel_17423/2370632081.py:26: FutureWarning: The error_bad_lines argument has been deprecated and will be removed in a future version. Use on_bad_lines in the future.\n",
      "\n",
      "\n",
      "  dfTemp = pd.read_csv(f, encoding='ISO-8859-1', error_bad_lines=False,sep='\\t', index_col=False)\n",
      "/tmp/ipykernel_17423/2370632081.py:26: FutureWarning: The error_bad_lines argument has been deprecated and will be removed in a future version. Use on_bad_lines in the future.\n",
      "\n",
      "\n",
      "  dfTemp = pd.read_csv(f, encoding='ISO-8859-1', error_bad_lines=False,sep='\\t', index_col=False)\n",
      "/tmp/ipykernel_17423/2370632081.py:26: FutureWarning: The error_bad_lines argument has been deprecated and will be removed in a future version. Use on_bad_lines in the future.\n",
      "\n",
      "\n",
      "  dfTemp = pd.read_csv(f, encoding='ISO-8859-1', error_bad_lines=False,sep='\\t', index_col=False)\n",
      "/tmp/ipykernel_17423/2370632081.py:26: FutureWarning: The error_bad_lines argument has been deprecated and will be removed in a future version. Use on_bad_lines in the future.\n",
      "\n",
      "\n",
      "  dfTemp = pd.read_csv(f, encoding='ISO-8859-1', error_bad_lines=False,sep='\\t', index_col=False)\n"
     ]
    },
    {
     "name": "stdout",
     "output_type": "stream",
     "text": [
      "--> REGIONAL\n",
      "39 / 105 treated\n",
      "----------------------------------------------------------------------\n",
      "eCO2mix_RTE_Ile-de-France_Annuel-Definitif_2020.xls\n",
      "DATAFRAME IGNORED --> 2029 ou 2020 wrong columns\n",
      "40 / 105 treated\n",
      "----------------------------------------------------------------------\n",
      "eCO2mix_RTE_PACA_Annuel-Definitif_2014.xls\n",
      "--> REGIONAL\n",
      "41 / 105 treated\n",
      "----------------------------------------------------------------------\n",
      "eCO2mix_RTE_Nouvelle-Aquitaine_Annuel-Definitif_2017.xls\n",
      "--> REGIONAL\n",
      "42 / 105 treated\n",
      "----------------------------------------------------------------------\n",
      "eCO2mix_RTE_Occitanie_Annuel-Definitif_2014.xls\n",
      "--> REGIONAL\n",
      "43 / 105 treated\n",
      "----------------------------------------------------------------------\n",
      "eCO2mix_RTE_Nouvelle-Aquitaine_Annuel-Definitif_2018.xls\n",
      "--> REGIONAL\n",
      "44 / 105 treated\n",
      "----------------------------------------------------------------------\n",
      "eCO2mix_RTE_Bourgogne-Franche-Comté_Annuel-Definitif_2017.xls\n"
     ]
    },
    {
     "name": "stderr",
     "output_type": "stream",
     "text": [
      "/tmp/ipykernel_17423/2370632081.py:26: FutureWarning: The error_bad_lines argument has been deprecated and will be removed in a future version. Use on_bad_lines in the future.\n",
      "\n",
      "\n",
      "  dfTemp = pd.read_csv(f, encoding='ISO-8859-1', error_bad_lines=False,sep='\\t', index_col=False)\n",
      "/tmp/ipykernel_17423/2370632081.py:26: FutureWarning: The error_bad_lines argument has been deprecated and will be removed in a future version. Use on_bad_lines in the future.\n",
      "\n",
      "\n",
      "  dfTemp = pd.read_csv(f, encoding='ISO-8859-1', error_bad_lines=False,sep='\\t', index_col=False)\n",
      "/tmp/ipykernel_17423/2370632081.py:26: FutureWarning: The error_bad_lines argument has been deprecated and will be removed in a future version. Use on_bad_lines in the future.\n",
      "\n",
      "\n",
      "  dfTemp = pd.read_csv(f, encoding='ISO-8859-1', error_bad_lines=False,sep='\\t', index_col=False)\n",
      "/tmp/ipykernel_17423/2370632081.py:26: FutureWarning: The error_bad_lines argument has been deprecated and will be removed in a future version. Use on_bad_lines in the future.\n",
      "\n",
      "\n",
      "  dfTemp = pd.read_csv(f, encoding='ISO-8859-1', error_bad_lines=False,sep='\\t', index_col=False)\n",
      "/tmp/ipykernel_17423/2370632081.py:26: FutureWarning: The error_bad_lines argument has been deprecated and will be removed in a future version. Use on_bad_lines in the future.\n",
      "\n",
      "\n",
      "  dfTemp = pd.read_csv(f, encoding='ISO-8859-1', error_bad_lines=False,sep='\\t', index_col=False)\n"
     ]
    },
    {
     "name": "stdout",
     "output_type": "stream",
     "text": [
      "--> REGIONAL\n",
      "45 / 105 treated\n",
      "----------------------------------------------------------------------\n",
      "eCO2mix_RTE_Pays-de-la-Loire_Annuel-Definitif_2016.xls\n",
      "--> REGIONAL\n",
      "46 / 105 treated\n",
      "----------------------------------------------------------------------\n",
      "eCO2mix_RTE_PACA_Annuel-Definitif_2013.xls\n",
      "--> REGIONAL\n",
      "47 / 105 treated\n",
      "----------------------------------------------------------------------\n",
      "eCO2mix_RTE_Hauts-de-France_Annuel-Definitif_2015.xls\n",
      "--> REGIONAL\n",
      "48 / 105 treated\n",
      "----------------------------------------------------------------------\n",
      "eCO2mix_RTE_Grand-Est_Annuel-Definitif_2018.xls\n",
      "--> REGIONAL\n",
      "49 / 105 treated\n",
      "----------------------------------------------------------------------\n",
      "eCO2mix_RTE_Nouvelle-Aquitaine_Annuel-Definitif_2019.xls\n",
      "DATAFRAME IGNORED --> 2029 ou 2020 wrong columns\n",
      "50 / 105 treated\n",
      "----------------------------------------------------------------------\n",
      "eCO2mix_RTE_Occitanie_Annuel-Definitif_2013.xls\n"
     ]
    },
    {
     "name": "stderr",
     "output_type": "stream",
     "text": [
      "/tmp/ipykernel_17423/2370632081.py:26: FutureWarning: The error_bad_lines argument has been deprecated and will be removed in a future version. Use on_bad_lines in the future.\n",
      "\n",
      "\n",
      "  dfTemp = pd.read_csv(f, encoding='ISO-8859-1', error_bad_lines=False,sep='\\t', index_col=False)\n",
      "/tmp/ipykernel_17423/2370632081.py:26: FutureWarning: The error_bad_lines argument has been deprecated and will be removed in a future version. Use on_bad_lines in the future.\n",
      "\n",
      "\n",
      "  dfTemp = pd.read_csv(f, encoding='ISO-8859-1', error_bad_lines=False,sep='\\t', index_col=False)\n",
      "/tmp/ipykernel_17423/2370632081.py:26: FutureWarning: The error_bad_lines argument has been deprecated and will be removed in a future version. Use on_bad_lines in the future.\n",
      "\n",
      "\n",
      "  dfTemp = pd.read_csv(f, encoding='ISO-8859-1', error_bad_lines=False,sep='\\t', index_col=False)\n",
      "/tmp/ipykernel_17423/2370632081.py:26: FutureWarning: The error_bad_lines argument has been deprecated and will be removed in a future version. Use on_bad_lines in the future.\n",
      "\n",
      "\n",
      "  dfTemp = pd.read_csv(f, encoding='ISO-8859-1', error_bad_lines=False,sep='\\t', index_col=False)\n",
      "/tmp/ipykernel_17423/2370632081.py:26: FutureWarning: The error_bad_lines argument has been deprecated and will be removed in a future version. Use on_bad_lines in the future.\n",
      "\n",
      "\n",
      "  dfTemp = pd.read_csv(f, encoding='ISO-8859-1', error_bad_lines=False,sep='\\t', index_col=False)\n"
     ]
    },
    {
     "name": "stdout",
     "output_type": "stream",
     "text": [
      "--> REGIONAL\n",
      "51 / 105 treated\n",
      "----------------------------------------------------------------------\n",
      "eCO2mix_RTE_Normandie_Annuel-Definitif_2013.xls\n",
      "--> REGIONAL\n",
      "52 / 105 treated\n",
      "----------------------------------------------------------------------\n",
      "eCO2mix_RTE_Hauts-de-France_Annuel-Definitif_2019.xls\n",
      "DATAFRAME IGNORED --> 2029 ou 2020 wrong columns\n",
      "53 / 105 treated\n",
      "----------------------------------------------------------------------\n",
      "eCO2mix_RTE_Annuel-Definitif_2017.xls\n",
      "--> ANNUAL\n",
      "54 / 105 treated\n",
      "----------------------------------------------------------------------\n",
      "eCO2mix_RTE_Normandie_Annuel-Definitif_2019.xls\n",
      "DATAFRAME IGNORED --> 2029 ou 2020 wrong columns\n",
      "55 / 105 treated\n",
      "----------------------------------------------------------------------\n",
      "eCO2mix_RTE_Bretagne_Annuel-Definitif_2013.xls\n",
      "--> REGIONAL\n",
      "56 / 105 treated\n",
      "----------------------------------------------------------------------\n",
      "eCO2mix_RTE_Annuel-Definitif_2018.xls\n"
     ]
    },
    {
     "name": "stderr",
     "output_type": "stream",
     "text": [
      "/tmp/ipykernel_17423/2370632081.py:26: FutureWarning: The error_bad_lines argument has been deprecated and will be removed in a future version. Use on_bad_lines in the future.\n",
      "\n",
      "\n",
      "  dfTemp = pd.read_csv(f, encoding='ISO-8859-1', error_bad_lines=False,sep='\\t', index_col=False)\n",
      "/tmp/ipykernel_17423/2370632081.py:26: FutureWarning: The error_bad_lines argument has been deprecated and will be removed in a future version. Use on_bad_lines in the future.\n",
      "\n",
      "\n",
      "  dfTemp = pd.read_csv(f, encoding='ISO-8859-1', error_bad_lines=False,sep='\\t', index_col=False)\n",
      "/tmp/ipykernel_17423/2370632081.py:26: FutureWarning: The error_bad_lines argument has been deprecated and will be removed in a future version. Use on_bad_lines in the future.\n",
      "\n",
      "\n",
      "  dfTemp = pd.read_csv(f, encoding='ISO-8859-1', error_bad_lines=False,sep='\\t', index_col=False)\n",
      "/tmp/ipykernel_17423/2370632081.py:26: FutureWarning: The error_bad_lines argument has been deprecated and will be removed in a future version. Use on_bad_lines in the future.\n",
      "\n",
      "\n",
      "  dfTemp = pd.read_csv(f, encoding='ISO-8859-1', error_bad_lines=False,sep='\\t', index_col=False)\n",
      "/tmp/ipykernel_17423/2370632081.py:26: FutureWarning: The error_bad_lines argument has been deprecated and will be removed in a future version. Use on_bad_lines in the future.\n",
      "\n",
      "\n",
      "  dfTemp = pd.read_csv(f, encoding='ISO-8859-1', error_bad_lines=False,sep='\\t', index_col=False)\n"
     ]
    },
    {
     "name": "stdout",
     "output_type": "stream",
     "text": [
      "--> ANNUAL\n",
      "57 / 105 treated\n",
      "----------------------------------------------------------------------\n",
      "eCO2mix_RTE_Auvergne-Rhône-Alpes_Annuel-Definitif_2018.xls\n",
      "--> REGIONAL\n",
      "58 / 105 treated\n",
      "----------------------------------------------------------------------\n",
      "eCO2mix_RTE_Grand-Est_Annuel-Definitif_2016.xls\n",
      "--> REGIONAL\n",
      "59 / 105 treated\n",
      "----------------------------------------------------------------------\n",
      "eCO2mix_RTE_Pays-de-la-Loire_Annuel-Definitif_2020.xls\n",
      "DATAFRAME IGNORED --> 2029 ou 2020 wrong columns\n",
      "60 / 105 treated\n",
      "----------------------------------------------------------------------\n",
      "eCO2mix_RTE_Bourgogne-Franche-Comté_Annuel-Definitif_2016.xls\n",
      "--> REGIONAL\n",
      "61 / 105 treated\n",
      "----------------------------------------------------------------------\n",
      "eCO2mix_RTE_Nouvelle-Aquitaine_Annuel-Definitif_2020.xls\n",
      "DATAFRAME IGNORED --> 2029 ou 2020 wrong columns\n",
      "62 / 105 treated\n",
      "----------------------------------------------------------------------\n",
      "eCO2mix_RTE_Hauts-de-France_Annuel-Definitif_2020.xls\n",
      "DATAFRAME IGNORED --> 2029 ou 2020 wrong columns\n",
      "63 / 105 treated\n",
      "----------------------------------------------------------------------\n",
      "eCO2mix_RTE_Bretagne_Annuel-Definitif_2019.xls\n",
      "DATAFRAME IGNORED --> 2029 ou 2020 wrong columns\n",
      "64 / 105 treated\n",
      "----------------------------------------------------------------------\n",
      "eCO2mix_RTE_Nouvelle-Aquitaine_Annuel-Definitif_2015.xls\n",
      "--> REGIONAL\n",
      "65 / 105 treated\n",
      "----------------------------------------------------------------------\n",
      "eCO2mix_RTE_Pays-de-la-Loire_Annuel-Definitif_2017.xls\n",
      "--> REGIONAL\n",
      "66 / 105 treated\n",
      "----------------------------------------------------------------------\n",
      "eCO2mix_RTE_Annuel-Definitif_2019.xls\n",
      "DATAFRAME IGNORED --> 2029 ou 2020 wrong columns\n",
      "67 / 105 treated\n",
      "----------------------------------------------------------------------\n",
      "eCO2mix_RTE_Hauts-de-France_Annuel-Definitif_2014.xls\n"
     ]
    },
    {
     "name": "stderr",
     "output_type": "stream",
     "text": [
      "/tmp/ipykernel_17423/2370632081.py:26: FutureWarning: The error_bad_lines argument has been deprecated and will be removed in a future version. Use on_bad_lines in the future.\n",
      "\n",
      "\n",
      "  dfTemp = pd.read_csv(f, encoding='ISO-8859-1', error_bad_lines=False,sep='\\t', index_col=False)\n",
      "/tmp/ipykernel_17423/2370632081.py:26: FutureWarning: The error_bad_lines argument has been deprecated and will be removed in a future version. Use on_bad_lines in the future.\n",
      "\n",
      "\n",
      "  dfTemp = pd.read_csv(f, encoding='ISO-8859-1', error_bad_lines=False,sep='\\t', index_col=False)\n",
      "/tmp/ipykernel_17423/2370632081.py:26: FutureWarning: The error_bad_lines argument has been deprecated and will be removed in a future version. Use on_bad_lines in the future.\n",
      "\n",
      "\n",
      "  dfTemp = pd.read_csv(f, encoding='ISO-8859-1', error_bad_lines=False,sep='\\t', index_col=False)\n",
      "/tmp/ipykernel_17423/2370632081.py:26: FutureWarning: The error_bad_lines argument has been deprecated and will be removed in a future version. Use on_bad_lines in the future.\n",
      "\n",
      "\n",
      "  dfTemp = pd.read_csv(f, encoding='ISO-8859-1', error_bad_lines=False,sep='\\t', index_col=False)\n",
      "/tmp/ipykernel_17423/2370632081.py:26: FutureWarning: The error_bad_lines argument has been deprecated and will be removed in a future version. Use on_bad_lines in the future.\n",
      "\n",
      "\n",
      "  dfTemp = pd.read_csv(f, encoding='ISO-8859-1', error_bad_lines=False,sep='\\t', index_col=False)\n"
     ]
    },
    {
     "name": "stdout",
     "output_type": "stream",
     "text": [
      "--> REGIONAL\n",
      "68 / 105 treated\n",
      "----------------------------------------------------------------------\n",
      "eCO2mix_RTE_Bourgogne-Franche-Comté_Annuel-Definitif_2019.xls\n",
      "DATAFRAME IGNORED --> 2029 ou 2020 wrong columns\n",
      "69 / 105 treated\n",
      "----------------------------------------------------------------------\n",
      "eCO2mix_RTE_Centre-Val-de-Loire_Annuel-Definitif_2018.xls\n",
      "--> REGIONAL\n",
      "70 / 105 treated\n",
      "----------------------------------------------------------------------\n",
      "eCO2mix_RTE_Auvergne-Rhône-Alpes_Annuel-Definitif_2015.xls\n",
      "--> REGIONAL\n",
      "71 / 105 treated\n",
      "----------------------------------------------------------------------\n",
      "eCO2mix_RTE_Nouvelle-Aquitaine_Annuel-Definitif_2014.xls\n",
      "--> REGIONAL\n",
      "72 / 105 treated\n",
      "----------------------------------------------------------------------\n",
      "eCO2mix_RTE_Occitanie_Annuel-Definitif_2017.xls\n",
      "--> REGIONAL\n",
      "73 / 105 treated\n",
      "----------------------------------------------------------------------\n",
      "eCO2mix_RTE_Ile-de-France_Annuel-Definitif_2014.xls\n",
      "--> REGIONAL\n",
      "74 / 105 treated\n",
      "----------------------------------------------------------------------\n",
      "eCO2mix_RTE_Auvergne-Rhône-Alpes_Annuel-Definitif_2016.xls\n"
     ]
    },
    {
     "name": "stderr",
     "output_type": "stream",
     "text": [
      "/tmp/ipykernel_17423/2370632081.py:26: FutureWarning: The error_bad_lines argument has been deprecated and will be removed in a future version. Use on_bad_lines in the future.\n",
      "\n",
      "\n",
      "  dfTemp = pd.read_csv(f, encoding='ISO-8859-1', error_bad_lines=False,sep='\\t', index_col=False)\n",
      "/tmp/ipykernel_17423/2370632081.py:26: FutureWarning: The error_bad_lines argument has been deprecated and will be removed in a future version. Use on_bad_lines in the future.\n",
      "\n",
      "\n",
      "  dfTemp = pd.read_csv(f, encoding='ISO-8859-1', error_bad_lines=False,sep='\\t', index_col=False)\n",
      "/tmp/ipykernel_17423/2370632081.py:26: FutureWarning: The error_bad_lines argument has been deprecated and will be removed in a future version. Use on_bad_lines in the future.\n",
      "\n",
      "\n",
      "  dfTemp = pd.read_csv(f, encoding='ISO-8859-1', error_bad_lines=False,sep='\\t', index_col=False)\n",
      "/tmp/ipykernel_17423/2370632081.py:26: FutureWarning: The error_bad_lines argument has been deprecated and will be removed in a future version. Use on_bad_lines in the future.\n",
      "\n",
      "\n",
      "  dfTemp = pd.read_csv(f, encoding='ISO-8859-1', error_bad_lines=False,sep='\\t', index_col=False)\n",
      "/tmp/ipykernel_17423/2370632081.py:26: FutureWarning: The error_bad_lines argument has been deprecated and will be removed in a future version. Use on_bad_lines in the future.\n",
      "\n",
      "\n",
      "  dfTemp = pd.read_csv(f, encoding='ISO-8859-1', error_bad_lines=False,sep='\\t', index_col=False)\n"
     ]
    },
    {
     "name": "stdout",
     "output_type": "stream",
     "text": [
      "--> REGIONAL\n",
      "75 / 105 treated\n",
      "----------------------------------------------------------------------\n",
      "eCO2mix_RTE_Hauts-de-France_Annuel-Definitif_2013.xls\n",
      "--> REGIONAL\n",
      "76 / 105 treated\n",
      "----------------------------------------------------------------------\n",
      "eCO2mix_RTE_Centre-Val-de-Loire_Annuel-Definitif_2013.xls\n",
      "--> REGIONAL\n",
      "77 / 105 treated\n",
      "----------------------------------------------------------------------\n",
      "eCO2mix_RTE_Grand-Est_Annuel-Definitif_2020.xls\n",
      "DATAFRAME IGNORED --> 2029 ou 2020 wrong columns\n",
      "78 / 105 treated\n",
      "----------------------------------------------------------------------\n",
      "eCO2mix_RTE_Pays-de-la-Loire_Annuel-Definitif_2019.xls\n",
      "DATAFRAME IGNORED --> 2029 ou 2020 wrong columns\n",
      "79 / 105 treated\n",
      "----------------------------------------------------------------------\n",
      "eCO2mix_RTE_Bourgogne-Franche-Comté_Annuel-Definitif_2014.xls\n",
      "--> REGIONAL\n",
      "80 / 105 treated\n",
      "----------------------------------------------------------------------\n",
      "eCO2mix_RTE_Occitanie_Annuel-Definitif_2020.xls\n",
      "DATAFRAME IGNORED --> 2029 ou 2020 wrong columns\n",
      "81 / 105 treated\n",
      "----------------------------------------------------------------------\n",
      "eCO2mix_RTE_Normandie_Annuel-Definitif_2020.xls\n",
      "DATAFRAME IGNORED --> 2029 ou 2020 wrong columns\n",
      "82 / 105 treated\n",
      "----------------------------------------------------------------------\n",
      "eCO2mix_RTE_Centre-Val-de-Loire_Annuel-Definitif_2014.xls\n",
      "--> REGIONAL\n",
      "83 / 105 treated\n",
      "----------------------------------------------------------------------\n",
      "eCO2mix_RTE_Annuel-Definitif_2012.xls\n"
     ]
    },
    {
     "name": "stderr",
     "output_type": "stream",
     "text": [
      "/tmp/ipykernel_17423/2370632081.py:26: FutureWarning: The error_bad_lines argument has been deprecated and will be removed in a future version. Use on_bad_lines in the future.\n",
      "\n",
      "\n",
      "  dfTemp = pd.read_csv(f, encoding='ISO-8859-1', error_bad_lines=False,sep='\\t', index_col=False)\n",
      "/tmp/ipykernel_17423/2370632081.py:26: FutureWarning: The error_bad_lines argument has been deprecated and will be removed in a future version. Use on_bad_lines in the future.\n",
      "\n",
      "\n",
      "  dfTemp = pd.read_csv(f, encoding='ISO-8859-1', error_bad_lines=False,sep='\\t', index_col=False)\n",
      "/tmp/ipykernel_17423/2370632081.py:26: FutureWarning: The error_bad_lines argument has been deprecated and will be removed in a future version. Use on_bad_lines in the future.\n",
      "\n",
      "\n",
      "  dfTemp = pd.read_csv(f, encoding='ISO-8859-1', error_bad_lines=False,sep='\\t', index_col=False)\n",
      "/tmp/ipykernel_17423/2370632081.py:26: FutureWarning: The error_bad_lines argument has been deprecated and will be removed in a future version. Use on_bad_lines in the future.\n",
      "\n",
      "\n",
      "  dfTemp = pd.read_csv(f, encoding='ISO-8859-1', error_bad_lines=False,sep='\\t', index_col=False)\n",
      "/tmp/ipykernel_17423/2370632081.py:26: DtypeWarning: Columns (18,19,20,21,22) have mixed types. Specify dtype option on import or set low_memory=False.\n",
      "  dfTemp = pd.read_csv(f, encoding='ISO-8859-1', error_bad_lines=False,sep='\\t', index_col=False)\n",
      "/tmp/ipykernel_17423/2370632081.py:26: FutureWarning: The error_bad_lines argument has been deprecated and will be removed in a future version. Use on_bad_lines in the future.\n",
      "\n",
      "\n",
      "  dfTemp = pd.read_csv(f, encoding='ISO-8859-1', error_bad_lines=False,sep='\\t', index_col=False)\n",
      "/tmp/ipykernel_17423/2370632081.py:26: FutureWarning: The error_bad_lines argument has been deprecated and will be removed in a future version. Use on_bad_lines in the future.\n",
      "\n",
      "\n",
      "  dfTemp = pd.read_csv(f, encoding='ISO-8859-1', error_bad_lines=False,sep='\\t', index_col=False)\n",
      "/tmp/ipykernel_17423/2370632081.py:26: FutureWarning: The error_bad_lines argument has been deprecated and will be removed in a future version. Use on_bad_lines in the future.\n",
      "\n",
      "\n",
      "  dfTemp = pd.read_csv(f, encoding='ISO-8859-1', error_bad_lines=False,sep='\\t', index_col=False)\n",
      "/tmp/ipykernel_17423/2370632081.py:26: FutureWarning: The error_bad_lines argument has been deprecated and will be removed in a future version. Use on_bad_lines in the future.\n",
      "\n",
      "\n",
      "  dfTemp = pd.read_csv(f, encoding='ISO-8859-1', error_bad_lines=False,sep='\\t', index_col=False)\n",
      "/tmp/ipykernel_17423/2370632081.py:26: FutureWarning: The error_bad_lines argument has been deprecated and will be removed in a future version. Use on_bad_lines in the future.\n",
      "\n",
      "\n",
      "  dfTemp = pd.read_csv(f, encoding='ISO-8859-1', error_bad_lines=False,sep='\\t', index_col=False)\n"
     ]
    },
    {
     "name": "stdout",
     "output_type": "stream",
     "text": [
      "--> ANNUAL\n",
      "84 / 105 treated\n",
      "----------------------------------------------------------------------\n",
      "eCO2mix_RTE_Auvergne-Rhône-Alpes_Annuel-Definitif_2019.xls\n",
      "DATAFRAME IGNORED --> 2029 ou 2020 wrong columns\n",
      "85 / 105 treated\n",
      "----------------------------------------------------------------------\n",
      "eCO2mix_RTE_Centre-Val-de-Loire_Annuel-Definitif_2017.xls\n",
      "--> REGIONAL\n",
      "86 / 105 treated\n",
      "----------------------------------------------------------------------\n",
      "eCO2mix_RTE_Hauts-de-France_Annuel-Definitif_2017.xls\n",
      "--> REGIONAL\n",
      "87 / 105 treated\n",
      "----------------------------------------------------------------------\n",
      "eCO2mix_RTE_Grand-Est_Annuel-Definitif_2015.xls\n",
      "--> REGIONAL\n",
      "88 / 105 treated\n",
      "----------------------------------------------------------------------\n",
      "eCO2mix_RTE_PACA_Annuel-Definitif_2015.xls\n",
      "--> REGIONAL\n",
      "89 / 105 treated\n",
      "----------------------------------------------------------------------\n",
      "eCO2mix_RTE_Centre-Val-de-Loire_Annuel-Definitif_2016.xls\n",
      "--> REGIONAL\n",
      "90 / 105 treated\n",
      "----------------------------------------------------------------------\n",
      "eCO2mix_RTE_Annuel-Definitif_2015.xls\n",
      "--> ANNUAL\n",
      "91 / 105 treated\n",
      "----------------------------------------------------------------------\n",
      "eCO2mix_RTE_PACA_Annuel-Definitif_2019.xls\n",
      "DATAFRAME IGNORED --> 2029 ou 2020 wrong columns\n",
      "92 / 105 treated\n",
      "----------------------------------------------------------------------\n",
      "eCO2mix_RTE_PACA_Annuel-Definitif_2020.xls\n",
      "DATAFRAME IGNORED --> 2029 ou 2020 wrong columns\n",
      "93 / 105 treated\n",
      "----------------------------------------------------------------------\n",
      "eCO2mix_RTE_Grand-Est_Annuel-Definitif_2014.xls\n",
      "--> REGIONAL\n",
      "94 / 105 treated\n",
      "----------------------------------------------------------------------\n",
      "eCO2mix_RTE_Bretagne_Annuel-Definitif_2020.xls\n",
      "DATAFRAME IGNORED --> 2029 ou 2020 wrong columns\n",
      "95 / 105 treated\n",
      "----------------------------------------------------------------------\n",
      "eCO2mix_RTE_Ile-de-France_Annuel-Definitif_2018.xls\n",
      "--> REGIONAL\n",
      "96 / 105 treated\n",
      "----------------------------------------------------------------------\n",
      "eCO2mix_RTE_Normandie_Annuel-Definitif_2016.xls\n"
     ]
    },
    {
     "name": "stderr",
     "output_type": "stream",
     "text": [
      "/tmp/ipykernel_17423/2370632081.py:26: FutureWarning: The error_bad_lines argument has been deprecated and will be removed in a future version. Use on_bad_lines in the future.\n",
      "\n",
      "\n",
      "  dfTemp = pd.read_csv(f, encoding='ISO-8859-1', error_bad_lines=False,sep='\\t', index_col=False)\n",
      "/tmp/ipykernel_17423/2370632081.py:26: DtypeWarning: Columns (18,19,20,21,22) have mixed types. Specify dtype option on import or set low_memory=False.\n",
      "  dfTemp = pd.read_csv(f, encoding='ISO-8859-1', error_bad_lines=False,sep='\\t', index_col=False)\n",
      "/tmp/ipykernel_17423/2370632081.py:26: FutureWarning: The error_bad_lines argument has been deprecated and will be removed in a future version. Use on_bad_lines in the future.\n",
      "\n",
      "\n",
      "  dfTemp = pd.read_csv(f, encoding='ISO-8859-1', error_bad_lines=False,sep='\\t', index_col=False)\n",
      "/tmp/ipykernel_17423/2370632081.py:26: FutureWarning: The error_bad_lines argument has been deprecated and will be removed in a future version. Use on_bad_lines in the future.\n",
      "\n",
      "\n",
      "  dfTemp = pd.read_csv(f, encoding='ISO-8859-1', error_bad_lines=False,sep='\\t', index_col=False)\n",
      "/tmp/ipykernel_17423/2370632081.py:26: FutureWarning: The error_bad_lines argument has been deprecated and will be removed in a future version. Use on_bad_lines in the future.\n",
      "\n",
      "\n",
      "  dfTemp = pd.read_csv(f, encoding='ISO-8859-1', error_bad_lines=False,sep='\\t', index_col=False)\n"
     ]
    },
    {
     "name": "stdout",
     "output_type": "stream",
     "text": [
      "--> REGIONAL\n",
      "97 / 105 treated\n",
      "----------------------------------------------------------------------\n",
      "eCO2mix_RTE_Centre-Val-de-Loire_Annuel-Definitif_2020.xls\n",
      "DATAFRAME IGNORED --> 2029 ou 2020 wrong columns\n",
      "98 / 105 treated\n",
      "----------------------------------------------------------------------\n",
      "eCO2mix_RTE_Auvergne-Rhône-Alpes_Annuel-Definitif_2020.xls\n",
      "DATAFRAME IGNORED --> 2029 ou 2020 wrong columns\n",
      "99 / 105 treated\n",
      "----------------------------------------------------------------------\n",
      "eCO2mix_RTE_Annuel-Definitif_2016.xls\n",
      "--> ANNUAL\n",
      "100 / 105 treated\n",
      "----------------------------------------------------------------------\n",
      "eCO2mix_RTE_Occitanie_Annuel-Definitif_2016.xls\n",
      "--> REGIONAL\n",
      "101 / 105 treated\n",
      "----------------------------------------------------------------------\n",
      "eCO2mix_RTE_Bourgogne-Franche-Comté_Annuel-Definitif_2013.xls\n",
      "--> REGIONAL\n",
      "102 / 105 treated\n",
      "----------------------------------------------------------------------\n",
      "eCO2mix_RTE_Occitanie_Annuel-Definitif_2018.xls\n"
     ]
    },
    {
     "name": "stderr",
     "output_type": "stream",
     "text": [
      "/tmp/ipykernel_17423/2370632081.py:26: FutureWarning: The error_bad_lines argument has been deprecated and will be removed in a future version. Use on_bad_lines in the future.\n",
      "\n",
      "\n",
      "  dfTemp = pd.read_csv(f, encoding='ISO-8859-1', error_bad_lines=False,sep='\\t', index_col=False)\n",
      "/tmp/ipykernel_17423/2370632081.py:26: FutureWarning: The error_bad_lines argument has been deprecated and will be removed in a future version. Use on_bad_lines in the future.\n",
      "\n",
      "\n",
      "  dfTemp = pd.read_csv(f, encoding='ISO-8859-1', error_bad_lines=False,sep='\\t', index_col=False)\n",
      "/tmp/ipykernel_17423/2370632081.py:26: FutureWarning: The error_bad_lines argument has been deprecated and will be removed in a future version. Use on_bad_lines in the future.\n",
      "\n",
      "\n",
      "  dfTemp = pd.read_csv(f, encoding='ISO-8859-1', error_bad_lines=False,sep='\\t', index_col=False)\n",
      "/tmp/ipykernel_17423/2370632081.py:26: FutureWarning: The error_bad_lines argument has been deprecated and will be removed in a future version. Use on_bad_lines in the future.\n",
      "\n",
      "\n",
      "  dfTemp = pd.read_csv(f, encoding='ISO-8859-1', error_bad_lines=False,sep='\\t', index_col=False)\n"
     ]
    },
    {
     "name": "stdout",
     "output_type": "stream",
     "text": [
      "--> REGIONAL\n",
      "103 / 105 treated\n",
      "----------------------------------------------------------------------\n",
      "eCO2mix_RTE_Pays-de-la-Loire_Annuel-Definitif_2015.xls\n",
      "--> REGIONAL\n",
      "104 / 105 treated\n",
      "----------------------------------------------------------------------\n",
      "eCO2mix_RTE_Auvergne-Rhône-Alpes_Annuel-Definitif_2017.xls\n",
      "--> REGIONAL\n",
      "105 / 105 treated\n"
     ]
    },
    {
     "name": "stderr",
     "output_type": "stream",
     "text": [
      "/tmp/ipykernel_17423/2370632081.py:26: FutureWarning: The error_bad_lines argument has been deprecated and will be removed in a future version. Use on_bad_lines in the future.\n",
      "\n",
      "\n",
      "  dfTemp = pd.read_csv(f, encoding='ISO-8859-1', error_bad_lines=False,sep='\\t', index_col=False)\n",
      "/tmp/ipykernel_17423/2370632081.py:26: FutureWarning: The error_bad_lines argument has been deprecated and will be removed in a future version. Use on_bad_lines in the future.\n",
      "\n",
      "\n",
      "  dfTemp = pd.read_csv(f, encoding='ISO-8859-1', error_bad_lines=False,sep='\\t', index_col=False)\n"
     ]
    }
   ],
   "source": [
    "nationalList, regionalList = get_list_of_df_from_zip(dataPath)"
   ]
  },
  {
   "cell_type": "markdown",
   "metadata": {},
   "source": [
    "### Check shape of dataframe before concate"
   ]
  },
  {
   "cell_type": "code",
   "execution_count": 116,
   "metadata": {},
   "outputs": [],
   "source": [
    "def check_shape(dfList):\n",
    "    for file in dfList:\n",
    "        if len(file.columns) != len(dfList[0].columns):\n",
    "            print(\"Not same size\")\n",
    "            return False\n",
    "        else:\n",
    "            print(f\"Homogene dataframe --> {len(file.columns)} columns\")\n",
    "            return True"
   ]
  },
  {
   "cell_type": "code",
   "execution_count": 117,
   "metadata": {},
   "outputs": [
    {
     "name": "stdout",
     "output_type": "stream",
     "text": [
      "Homogene dataframe --> 36 columns\n",
      "Homogene dataframe --> 14 columns\n"
     ]
    }
   ],
   "source": [
    "nationalDfCheck = check_shape(nationalList)\n",
    "regionalDfCheck = check_shape(regionalList)"
   ]
  },
  {
   "cell_type": "code",
   "execution_count": 118,
   "metadata": {},
   "outputs": [
    {
     "name": "stdout",
     "output_type": "stream",
     "text": [
      "Homogene dataframe --> 36 columns\n",
      "Homogene dataframe --> 14 columns\n"
     ]
    }
   ],
   "source": [
    "if check_shape(nationalList):\n",
    "    df_national = pd.concat(el for el in nationalList)\n",
    "if check_shape(regionalList):\n",
    "    df_regional = pd.concat(el for el in regionalList)\n",
    "    if len(df_regional.columns) > 13:\n",
    "        # Remove the col 14 that is wrong\n",
    "        df_regional = df_regional.drop(df_regional.columns[-1], axis=1)"
   ]
  },
  {
   "cell_type": "code",
   "execution_count": 119,
   "metadata": {},
   "outputs": [],
   "source": [
    "# df_regional.head(5)\n",
    "# df_national.head(5)"
   ]
  },
  {
   "cell_type": "code",
   "execution_count": 120,
   "metadata": {},
   "outputs": [],
   "source": [
    "# df_regional.tail(5)\n",
    "# df_national.tail(5)"
   ]
  },
  {
   "cell_type": "code",
   "execution_count": 121,
   "metadata": {},
   "outputs": [],
   "source": [
    "def filter_RTE_rows(df):\n",
    "    valuePerimetreName = df[\"Périmètre\"].value_counts().index.tolist()\n",
    "    print(valuePerimetreName)\n",
    "    mask = df[\"Périmètre\"].str.contains(\"RTE\")\n",
    "    new_df = df[~mask]\n",
    "    return new_df"
   ]
  },
  {
   "cell_type": "code",
   "execution_count": 122,
   "metadata": {},
   "outputs": [
    {
     "name": "stdout",
     "output_type": "stream",
     "text": [
      "['France', \"RTE ne pourra être tenu responsable de l'usage qui pourrait être fait des données mises à disposition, ni en cas de prévisions qui se révèleraient imprécises.\"]\n",
      "['Occitanie', 'Pays-de-la-Loire', 'Normandie', 'Auvergne-Rhône-Alpes', 'Bretagne', 'Ile-de-France', 'Nouvelle-Aquitaine', 'PACA', 'Bourgogne-Franche-Comté', 'Grand-Est', 'Hauts-de-France', 'Centre-Val de Loire', \"RTE ne pourra être tenu responsable de l'usage qui pourrait être fait des données mises à disposition, ni en cas de prévisions qui se révèleraient imprécises.\"]\n"
     ]
    }
   ],
   "source": [
    "df_national = filter_RTE_rows(df_national)\n",
    "df_regional = filter_RTE_rows(df_regional)"
   ]
  },
  {
   "cell_type": "code",
   "execution_count": 123,
   "metadata": {},
   "outputs": [],
   "source": [
    "def add_datetime_index(df):\n",
    "    try:\n",
    "        df[\"datetime\"] = pd.to_datetime(df['Date'] + ' ' + df['Heures'].astype(str))\n",
    "        df.set_index('datetime', inplace=True)\n",
    "        df.drop([\"Date\", \"Heures\"], axis=1, inplace=True)\n",
    "    except:\n",
    "        print(\"Already done\")"
   ]
  },
  {
   "cell_type": "code",
   "execution_count": 124,
   "metadata": {},
   "outputs": [],
   "source": [
    "add_datetime_index(df_national)\n",
    "add_datetime_index(df_regional)"
   ]
  },
  {
   "cell_type": "markdown",
   "metadata": {
    "extensions": {
     "jupyter_dashboards": {
      "version": 1,
      "views": {
       "grid_default": {
        "col": 0,
        "height": 4,
        "hidden": false,
        "row": 12,
        "width": 4
       },
       "report_default": {
        "hidden": false
       }
      }
     }
    }
   },
   "source": [
    "# Exploration du dataset"
   ]
  },
  {
   "cell_type": "markdown",
   "metadata": {},
   "source": [
    "## Réflexion"
   ]
  },
  {
   "cell_type": "markdown",
   "metadata": {},
   "source": [
    "A présent vous savez ce que vous avez dans vos données (cf. https://www.rte-france.com/eco2mix)<br/>\n",
    "\n",
    "Avant de vous lancer dans la mise en pratique, prenez quelques minutes (max 30 minutes) pour observer les données et les premières statistiques descriptives que vous avez trouvées : quelles questions vous posez-vous sur les données ? Qu'avez-vous envie d'explorer ? (essayez de ne pas vous laisser biaiser par les titres du Notebook)"
   ]
  },
  {
   "cell_type": "markdown",
   "metadata": {},
   "source": [
    "## Mise en application"
   ]
  },
  {
   "cell_type": "markdown",
   "metadata": {},
   "source": [
    "**TODO**\n",
    "    \n",
    "L'objectif ici est de **comprendre les données** présentes dans les deux dataframes que vous avez créés. Réfléchissez aux descripteurs statistiques les plus appropiés pour chaque question.  \n",
    "<br/>\n",
    "\n",
    "1. Dataset national\n",
    "    - Tracer la consommation nationale en fonction du temps\n",
    "    - Tracer la production des différentes sources. Quelle est la source de production largement majoritaire ?\n",
    "    - Afficher sur un même graphique : la production nucléaire, la consommation et la somme des échanges aux frontières. En déduire la signification du signe des échanges (positif ou négatif) ?\n",
    "    - Quelles sources ont un fonctionnement\n",
    "        - de \"base\" (production régulière) ?\n",
    "        - de \"pointe\" (production ponctuelle, uniquement lorsque la base ne suffit plus) ?\n",
    "\n",
    " <br/>\n",
    "2. Dataset régional\n",
    "    - Tracer sur un même graphique la consommation des différentes régions en fonction du temps\n",
    "    - Peut-on observer des différences comportementales significatives entre les régions ? (par ex entre une région du nord et une région du sud)\n",
    "    - Quelles régions sont les plus consommatrices ? Y a-t-il un moment dans l'année où la région IdF n'est pas la plus consommatrice ?\n",
    "    - Afficher la production nucléaire par région en ftc du temps. Dans quelles régions sont situées les centrales nucléaires ?\n",
    "    - Quelles régions produisent le plus de solaire / éolien ?\n",
    "    - Observer les informations concernant la région AuRA. Retrouver la signification du signe des échanges ? Pourquoi la région est-elle autant exportatrice ?\n",
    "\n",
    "**Aide**\n",
    "- la méthode **.plot()** fonctionne parfaitement avec un datetime en index\n",
    "- si vous utilisez un multiindex, la méthode **swaplevel** peut vous aider\n",
    "- attention aux **nan** pour les plots.."
   ]
  },
  {
   "cell_type": "markdown",
   "metadata": {},
   "source": [
    "### Dataset national"
   ]
  },
  {
   "cell_type": "markdown",
   "metadata": {},
   "source": [
    "#### Remove Nan"
   ]
  },
  {
   "cell_type": "code",
   "execution_count": 125,
   "metadata": {},
   "outputs": [
    {
     "name": "stdout",
     "output_type": "stream",
     "text": [
      "Removed rows --> 123082\n"
     ]
    }
   ],
   "source": [
    "df_n = df_national.copy()\n",
    "df_n = df_n.sort_index()\n",
    "df_n.dropna(axis=0, inplace = True)\n",
    "print(f\"Removed rows --> {df_national.shape[0] - df_n.shape[0]}\")"
   ]
  },
  {
   "cell_type": "markdown",
   "metadata": {},
   "source": [
    "#### Clean Useless columns"
   ]
  },
  {
   "cell_type": "code",
   "execution_count": 126,
   "metadata": {},
   "outputs": [],
   "source": [
    "if \"Périmètre\" in df_n.columns.tolist() and \"Nature\" in df_n.columns.tolist():\n",
    "    df_n.drop([\"Périmètre\", \"Nature\"], axis=1, inplace=True)"
   ]
  },
  {
   "cell_type": "code",
   "execution_count": 127,
   "metadata": {
    "scrolled": false
   },
   "outputs": [
    {
     "name": "stdout",
     "output_type": "stream",
     "text": [
      "--> Consommation\n",
      "--> Prévision J-1\n",
      "--> Prévision J\n",
      "--> Fioul\n",
      "--> Charbon\n",
      "--> Gaz\n",
      "--> Nucléaire\n",
      "--> Eolien\n",
      "--> Solaire\n",
      "--> Hydraulique\n",
      "--> Pompage\n",
      "--> Bioénergies\n",
      "--> Ech. physiques\n",
      "--> Taux de Co2\n",
      "--> Ech. comm. Angleterre\n",
      "--> Ech. comm. Espagne\n",
      "--> Ech. comm. Italie\n",
      "--> Ech. comm. Suisse\n",
      "--> Ech. comm. Allemagne-Belgique\n",
      "--> Fioul - TAC\n",
      "--> Fioul - Cogén.\n",
      "--> Fioul - Autres\n",
      "--> Gaz - TAC\n",
      "--> Gaz - Cogén.\n",
      "--> Gaz - CCG\n",
      "--> Gaz - Autres\n",
      "--> Hydraulique - Fil de l?eau + éclusée\n",
      "--> Hydraulique - Lacs\n",
      "--> Hydraulique - STEP turbinage\n",
      "--> Bioénergies - Déchets\n",
      "--> Bioénergies - Biomasse\n",
      "--> Bioénergies - Biogaz\n"
     ]
    }
   ],
   "source": [
    "for el in df_n.columns:\n",
    "    print(f\"--> {el}\")"
   ]
  },
  {
   "cell_type": "code",
   "execution_count": 128,
   "metadata": {},
   "outputs": [
    {
     "data": {
      "text/html": [
       "<svg  width=\"440\" height=\"55\"><rect x=\"0\" y=\"0\" width=\"55\" height=\"55\" style=\"fill:#db5f57;stroke-width:2;stroke:rgb(255,255,255)\"/><rect x=\"55\" y=\"0\" width=\"55\" height=\"55\" style=\"fill:#dbc257;stroke-width:2;stroke:rgb(255,255,255)\"/><rect x=\"110\" y=\"0\" width=\"55\" height=\"55\" style=\"fill:#91db57;stroke-width:2;stroke:rgb(255,255,255)\"/><rect x=\"165\" y=\"0\" width=\"55\" height=\"55\" style=\"fill:#57db80;stroke-width:2;stroke:rgb(255,255,255)\"/><rect x=\"220\" y=\"0\" width=\"55\" height=\"55\" style=\"fill:#57d3db;stroke-width:2;stroke:rgb(255,255,255)\"/><rect x=\"275\" y=\"0\" width=\"55\" height=\"55\" style=\"fill:#5770db;stroke-width:2;stroke:rgb(255,255,255)\"/><rect x=\"330\" y=\"0\" width=\"55\" height=\"55\" style=\"fill:#a157db;stroke-width:2;stroke:rgb(255,255,255)\"/><rect x=\"385\" y=\"0\" width=\"55\" height=\"55\" style=\"fill:#db57b2;stroke-width:2;stroke:rgb(255,255,255)\"/></svg>"
      ],
      "text/plain": [
       "[(0.86, 0.3712, 0.33999999999999997),\n",
       " (0.86, 0.7612000000000001, 0.33999999999999997),\n",
       " (0.5688000000000001, 0.86, 0.33999999999999997),\n",
       " (0.33999999999999997, 0.86, 0.5012000000000001),\n",
       " (0.33999999999999997, 0.8287999999999999, 0.86),\n",
       " (0.33999999999999997, 0.43879999999999986, 0.86),\n",
       " (0.6311999999999998, 0.33999999999999997, 0.86),\n",
       " (0.86, 0.33999999999999997, 0.6987999999999996)]"
      ]
     },
     "execution_count": 128,
     "metadata": {},
     "output_type": "execute_result"
    }
   ],
   "source": [
    "sns.color_palette(\"hls\", 8)\n"
   ]
  },
  {
   "cell_type": "markdown",
   "metadata": {},
   "source": [
    "### Plot Consommation = f(Annee) --> Raw"
   ]
  },
  {
   "cell_type": "code",
   "execution_count": 137,
   "metadata": {},
   "outputs": [
    {
     "data": {
      "text/plain": [
       "<matplotlib.legend.Legend at 0x7f4caebc6c10>"
      ]
     },
     "execution_count": 137,
     "metadata": {},
     "output_type": "execute_result"
    },
    {
     "data": {
      "image/png": "[encoded data removed]",
      "text/plain": [
       "<Figure size 1000x600 with 1 Axes>"
      ]
     },
     "metadata": {},
     "output_type": "display_data"
    }
   ],
   "source": [
    "plt.style.use('seaborn')\n",
    "fig = plt.figure(layout=\"tight\", figsize=(10, 6))\n",
    "fig.suptitle(\"Consomation d'Energie en France\", fontsize=20)\n",
    "ax = fig.subplots()\n",
    "ax.plot(df_n.index, df_n['Consommation'])\n",
    "ax.plot(df_n[\"Consommation\"].resample(\"W\").mean(), color=\"r\")\n",
    "ax.plot(df_n[\"Consommation\"].resample(\"M\").mean(), color=\"g\")\n",
    "ax.set_xlabel(\"Années\", loc=\"center\", fontsize=15)\n",
    "ax.set_ylabel(\"Consommation\", loc=\"center\", fontsize=15)#, c=colors[color1])\n",
    "fig.legend([\"15mnn range\", \"Semaine\", \"Mois\"],loc=(0.82, 0.8))"
   ]
  },
  {
   "cell_type": "markdown",
   "metadata": {},
   "source": [
    "### Plot Consommation = f(Annee) --> Bar and bin size"
   ]
  },
  {
   "cell_type": "code",
   "execution_count": 138,
   "metadata": {},
   "outputs": [
    {
     "data": {
      "text/plain": [
       "<matplotlib.legend.Legend at 0x7f4caeed5a30>"
      ]
     },
     "execution_count": 138,
     "metadata": {},
     "output_type": "execute_result"
    },
    {
     "data": {
      "image/png": "[encoded data removed]",
      "text/plain": [
       "<Figure size 1000x600 with 1 Axes>"
      ]
     },
     "metadata": {},
     "output_type": "display_data"
    }
   ],
   "source": [
    "plt.style.use('seaborn')\n",
    "fig = plt.figure(layout=\"tight\", figsize=(10, 6))\n",
    "fig.suptitle(\"Consomation d'Energie en France\", fontsize=20)\n",
    "ax = fig.subplots()\n",
    "ax.plot(df_n[\"Consommation\"].resample(\"W\").sum(), color=\"r\")\n",
    "ax.plot(df_n[\"Consommation\"].resample(\"M\").sum(), color=\"g\")\n",
    "ax.set_xlabel(\"Années\", loc=\"center\", fontsize=15)\n",
    "ax.set_ylabel(\"Consommation\", loc=\"center\", fontsize=15)#, c=colors[color1])\n",
    "fig.legend([\"Semaine\", \"Mois\"],loc=(0.82, 0.8))"
   ]
  },
  {
   "cell_type": "markdown",
   "metadata": {},
   "source": [
    "#### consommation nationale en fonction du temps"
   ]
  },
  {
   "cell_type": "markdown",
   "metadata": {},
   "source": [
    "#### production des différentes sources"
   ]
  },
  {
   "cell_type": "markdown",
   "metadata": {},
   "source": [
    "#### production nucléaire, consommation et échanges aux frontières"
   ]
  },
  {
   "cell_type": "markdown",
   "metadata": {},
   "source": [
    "#### fonctionnement de base ou ponctuel ?"
   ]
  },
  {
   "cell_type": "markdown",
   "metadata": {},
   "source": [
    "### Dataset régional\n"
   ]
  },
  {
   "cell_type": "markdown",
   "metadata": {},
   "source": [
    "Attention à bien nuancer nos propos dans cette partie là : chaque région n'est pas égale en population, en superficie,...\n",
    "- https://www.ined.fr/fr/tout-savoir-population/chiffres/france/structure-population/regions-departements/\n",
    "- https://www.regions-departements-france.fr/regions-francaises.html"
   ]
  },
  {
   "cell_type": "markdown",
   "metadata": {},
   "source": [
    "#### Manipulation de notre dataframe avec les index : récupération de la consommation par région"
   ]
  },
  {
   "cell_type": "markdown",
   "metadata": {},
   "source": [
    "https://pandas.pydata.org/docs/reference/api/pandas.DataFrame.resample.html"
   ]
  },
  {
   "cell_type": "markdown",
   "metadata": {},
   "source": [
    "#### consommation en fonction du temps"
   ]
  },
  {
   "cell_type": "markdown",
   "metadata": {},
   "source": [
    "#### différences comportementales entre les régions"
   ]
  },
  {
   "cell_type": "markdown",
   "metadata": {},
   "source": [
    "#### les plus consommatrices"
   ]
  },
  {
   "cell_type": "markdown",
   "metadata": {},
   "source": [
    "#### production nucléaire"
   ]
  },
  {
   "cell_type": "markdown",
   "metadata": {},
   "source": [
    "#### production solaire / éolien"
   ]
  },
  {
   "cell_type": "markdown",
   "metadata": {},
   "source": [
    "\n",
    "## Comparaison des situations régionales\n",
    "\n",
    "**TODO**\n",
    "\n",
    "1. Autonomie électrique des régions : \n",
    "    - Afficher la 'consommation - sum(productions)' pour chaque région\n",
    "    - Quelles régions sont autonomes ? En excès ? En déficit ?\n",
    "    - Comparer ce résultat à la colonne 'Ech. physiques'\n",
    "    - Bonus: reconstruire les flux inter-régionaux ...\n",
    "\n",
    "    \n",
    "2. Etude de la production solaire :\n",
    "    - Quelle région produit le plus (en moyenne et au max) ? \n",
    "    - Quelle évolution sur les dernières années ?\n",
    "    - Quelle région a le meilleur taux 'énergie produite / puissance installée' ? (la puissance installée peut être assimilée au maximum produit, attention cette capacité peut augmenter dans le temps...)\n",
    "\n",
    "    \n",
    "3. Mêmes questions pour l'éolien\n",
    "    \n",
    "\n",
    "**Aide**\n",
    "\n",
    "\n",
    "- Les méthodes groupby, unstack, ou pivot sont très utiles pour manipuler des dataframes\n"
   ]
  },
  {
   "cell_type": "markdown",
   "metadata": {},
   "source": [
    "### Autonomie électrique des régions"
   ]
  },
  {
   "cell_type": "markdown",
   "metadata": {},
   "source": [
    "#### Afficher la 'consommation - sum(productions)' pour chaque région"
   ]
  },
  {
   "cell_type": "markdown",
   "metadata": {},
   "source": [
    "#### Quelles régions sont autonomes ? en exces ? en déficit ?"
   ]
  },
  {
   "cell_type": "markdown",
   "metadata": {},
   "source": [
    "#### Comparer ce résultat à la colonne 'Ech. physiques'"
   ]
  },
  {
   "cell_type": "markdown",
   "metadata": {},
   "source": [
    "#### Bonus : reconstruire les flux inter-régionaux ..."
   ]
  },
  {
   "cell_type": "markdown",
   "metadata": {},
   "source": [
    "### Etude de la production solaire"
   ]
  },
  {
   "cell_type": "markdown",
   "metadata": {},
   "source": [
    "### Mêmes questions pour l'éolien"
   ]
  },
  {
   "cell_type": "markdown",
   "metadata": {
    "extensions": {
     "jupyter_dashboards": {
      "version": 1,
      "views": {
       "grid_default": {
        "col": 4,
        "height": 4,
        "hidden": false,
        "row": 12,
        "width": 4
       },
       "report_default": {
        "hidden": false
       }
      }
     }
    }
   },
   "source": [
    "## Etude des consommations \n",
    "\n",
    "**TODO**\n",
    "\n",
    "\n",
    "1. Afficher les moyennes des consommations régionales pour chaque année, avec et sans standardisation. Quelles informations visualisez vous ?\n",
    "    \n",
    "2. Faire pareil avec la moyenne de consommation selon le jour de la semaine.\n",
    "\n",
    "3. Tracer les consommations horaires (par heure) moyenne par région en décembre et en juin. Peut-on observer les différences d'ensoleillement entre les régions ?\n",
    "\n",
    "4. Tracer ces mêmes courbes, en ne sélectionnant que les jours de semaine, puis que les jours de week end. Quelles différences de comportement peut-on observer ?\n",
    "\n",
    "\n",
    "**Aide**\n",
    "\n",
    "- un DatetimeIndex possède de nombreux attributs et méthodes utiles: https://pandas.pydata.org/pandas-docs/stable/reference/api/pandas.DatetimeIndex.html\n",
    "- Regarder la doc des méthodes groupby, unstack, pivot...\n",
    "- Si besoin, utiliser la méthode seaborn.heatmap pour visualiser vos résultats (cmap=\"YlGnBu\")\n",
    "\n"
   ]
  },
  {
   "cell_type": "markdown",
   "metadata": {},
   "source": [
    "#### moyennes des consommations régionales pour chaque année, avec et sans standardisation"
   ]
  },
  {
   "cell_type": "markdown",
   "metadata": {},
   "source": [
    "#### moyenne de consommation selon le jour de la semaine"
   ]
  },
  {
   "cell_type": "markdown",
   "metadata": {},
   "source": [
    "#### consommations décembre vs juin"
   ]
  },
  {
   "cell_type": "markdown",
   "metadata": {},
   "source": [
    "#### consommation semaine vs week end"
   ]
  },
  {
   "cell_type": "markdown",
   "metadata": {},
   "source": [
    "# Relation entre les features / variables"
   ]
  },
  {
   "cell_type": "markdown",
   "metadata": {},
   "source": [
    "## Liens productions / consommation"
   ]
  },
  {
   "cell_type": "markdown",
   "metadata": {},
   "source": [
    "**TODO**\n",
    "        \n",
    "- Afficher les correlations entre toutes les productions et la consommation\n",
    "- Quelles éléments sont corrélés parce que liés ? Quels éléments sont corrélés mais n'ont à priori pas de lien de cause à effet ?\n",
    "- Quel indice montre que la consommation 'cause' la production avec du gaz ?\n",
    "- Quels types de productions permettent de \"suivre\" la consommation ? Lesquels ne le permettent pas du tout (productions \"fatales\")\n",
    "- Choisissez une ou deux régions et observez ces mêmes corrélations.\n",
    "\n",
    "BONUS : Visualisation de la PCA :\n",
    "- La consommation nationale et la production nucléaire sont fortement correlées. Tracer un scatterplot de l'une en fct de l'autre.\n",
    "- Effectuer une PCA pour passer de deux dimensions à une seule, puis visualiser sur le plot précédent la composante obtenue."
   ]
  },
  {
   "cell_type": "markdown",
   "metadata": {},
   "source": [
    "Le nucléaire produit beaucoup, mais est peu pilotable. <br/>\n",
    "En revanche le gaz est allumé lorsqu'il y a beaucoup de demande : la demande cause la production de gaz."
   ]
  },
  {
   "cell_type": "markdown",
   "metadata": {},
   "source": [
    "### Au niveau national"
   ]
  },
  {
   "cell_type": "markdown",
   "metadata": {},
   "source": [
    "#### Afficher les correlations entre toutes les productions et la consommation"
   ]
  },
  {
   "cell_type": "markdown",
   "metadata": {},
   "source": [
    "#### Quels éléments sont corrélés parce que liés ? Quels éléments sont corrélés mais n'ont à priori pas de lien de cause à effet ?"
   ]
  },
  {
   "cell_type": "markdown",
   "metadata": {},
   "source": [
    "Les corrélations peuvent être dues à une relation de causalité, par exemple, une hausse rapide de la consommation va entrainer une hausse de la production avec du gaz. Ainsi on peut noter que la production de gaz suit une hausse de la consommation. Ce genre d'intuition est à l'origine de la notion de [causalité de Granger](https://en.wikipedia.org/wiki/Granger_causality)"
   ]
  },
  {
   "cell_type": "markdown",
   "metadata": {},
   "source": [
    "#### Quel indice montre que la consommation 'cause' la production avec du gaz?"
   ]
  },
  {
   "cell_type": "markdown",
   "metadata": {},
   "source": [
    "Ci dessous on vérifie que la production de gaz suit en moyenne la hausse de la consommation :<br/>\n",
    "An idea from: https://stackoverflow.com/questions/33171413/cross-correlation-time-lag-correlation-with-pandas"
   ]
  },
  {
   "cell_type": "markdown",
   "metadata": {},
   "source": [
    "#### Quels types de productions permettent de \"suivre\" la consommation ? Lesquels ne le permettent pas du tout (productions \"fatales\")"
   ]
  },
  {
   "cell_type": "markdown",
   "metadata": {},
   "source": [
    "### Au niveau régional"
   ]
  },
  {
   "cell_type": "markdown",
   "metadata": {},
   "source": [
    "## Prix de l'électricité"
   ]
  },
  {
   "cell_type": "markdown",
   "metadata": {},
   "source": [
    "On s'intéresse maintenant aux données dans le dossier \"data entsoe\".<br/>\n",
    "https://doc.opendatadsl.com/docs/company/ENTSOE#entsoe_el_tl_actcf"
   ]
  },
  {
   "cell_type": "markdown",
   "metadata": {},
   "source": [
    "**TODO**\n",
    "\n",
    "- Charger les prix de marché de l'électricité  (en France et en Allemagne)  <br/>\n",
    "- Chercher les liens (https://pandas.pydata.org/pandas-docs/stable/reference/api/pandas.DataFrame.corr.html) entre : \n",
    "    - Le prix de l'électricité et la consommation nationale ?\n",
    "    - Le prix de l'électricité et les sources de production ? \n",
    "    - Quelles sources semblent associées aux prix élevés ? aux prix faibles ?\n",
    "            \n",
    "**Aide:**\n",
    "\n",
    "- Attention aux timezone ! Les prix sont en UTC. Les méthodes **tz_localize('UTC') et tz_convert('Europe/Paris')** pourraient vous aider ...\n",
    "- On ne peut pas comparer timeserie \"localisée\" avec une autre qui ne l'est pas (\"naive\")\n",
    "- Pour associer le dataframe de conso/prod à une timezone : les changements d'heures ont mal été gérés (cherchez à comprendre le problème). Utliser **\"ambiguous = 'NaT', nonexistent='NaT'\"** pour le contourner.\n",
    "- Y a-t-il des **outliers** ?"
   ]
  },
  {
   "cell_type": "markdown",
   "metadata": {},
   "source": [
    "#### Charger les prix de marché de l'électricité (en France et en Allemagne)"
   ]
  },
  {
   "cell_type": "markdown",
   "metadata": {},
   "source": [
    "<details><summary>Code import données électricité</summary><br>\n",
    "def read_data_entsoe(file):<br/>\n",
    "    df = pd.read_csv(file)<br/>\n",
    "    df['start'], _ = df['MTU (UTC)'].str.split(' - ', 1).str<br/>\n",
    "    df.set_index('start', inplace=True)<br/>\n",
    "    df.index = pd.to_datetime(df.index, yearfirst=True)<br/>\n",
    "    df.drop(columns=['MTU (UTC)'], inplace=True)<br/>\n",
    "    return df<br/>\n",
    "    \n",
    "DATA_FILE = './data/data entsoe/France/'<br/>\n",
    "\n",
    "def get_prices(folder, col='fr'):<br/>\n",
    "    df_prices = []<br/>\n",
    "    for f in listdir(folder):<br/>\n",
    "        df = read_data_entsoe(folder + f)<br/>\n",
    "        df.columns = [col]<br/>\n",
    "        df_prices.append(df)<br/>\n",
    "    df_prices= pd.concat(df_prices, axis=0)<br/>\n",
    "    return df_prices<br/>\n",
    "\n",
    "df_prices = pd.concat((get_prices('./data/data entsoe/Electricity_price/France/', 'fr'),<br/>\n",
    "                         get_prices('./data/data entsoe/Electricity_price/Germany/', 'ger')), 1)<br/>\n",
    "</details>"
   ]
  },
  {
   "cell_type": "markdown",
   "metadata": {},
   "source": [
    "#### Recherche de liens"
   ]
  },
  {
   "cell_type": "markdown",
   "metadata": {},
   "source": [
    "## Emissions de CO2\n",
    "\n",
    "**TODO**\n",
    "\n",
    "- Quel lien entre le taux de C02 et les différentes sources de productions ?\n",
    "- Quelles sources semblent les plus émettrices ?"
   ]
  },
  {
   "cell_type": "markdown",
   "metadata": {},
   "source": [
    "## Caractéristation des échanges avec les frontières\n",
    "**TODO**\n",
    "\n",
    "- A quel moment les échanges ont-il principalement lieu ?\n",
    "- Quel est le prix payé par la France lorsqu'elle importe de l'électricité ? \n",
    "- Quel est le prix reçu lors des exportations ?"
   ]
  },
  {
   "cell_type": "markdown",
   "metadata": {},
   "source": [
    "\n",
    "` >0 = importation, <0 = exportation`"
   ]
  },
  {
   "cell_type": "markdown",
   "metadata": {},
   "source": [
    "#### A quel moment les échanges ont-il principalement lieu ?"
   ]
  },
  {
   "cell_type": "markdown",
   "metadata": {},
   "source": [
    "#### Quel est le prix payé par la France lorsqu'elle importe / exporte de l'électricité ?"
   ]
  },
  {
   "cell_type": "code",
   "execution_count": null,
   "metadata": {},
   "outputs": [],
   "source": []
  }
 ],
 "metadata": {
  "extensions": {
   "jupyter_dashboards": {
    "activeView": "report_default",
    "version": 1,
    "views": {
     "grid_default": {
      "cellMargin": 10,
      "defaultCellHeight": 20,
      "maxColumns": 12,
      "name": "grid",
      "type": "grid"
     },
     "report_default": {
      "name": "report",
      "type": "report"
     }
    }
   }
  },
  "kernelspec": {
   "display_name": "Python 3 (ipykernel)",
   "language": "python",
   "name": "python3"
  },
  "language_info": {
   "codemirror_mode": {
    "name": "ipython",
    "version": 3
   },
   "file_extension": ".py",
   "mimetype": "text/x-python",
   "name": "python",
   "nbconvert_exporter": "python",
   "pygments_lexer": "ipython3",
   "version": "3.9.13"
  },
  "toc": {
   "base_numbering": 1,
   "nav_menu": {},
   "number_sections": true,
   "sideBar": true,
   "skip_h1_title": false,
   "title_cell": "Table of Contents",
   "title_sidebar": "Contents",
   "toc_cell": false,
   "toc_position": {
    "height": "calc(100% - 180px)",
    "left": "10px",
    "top": "150px",
    "width": "353px"
   },
   "toc_section_display": true,
   "toc_window_display": true
  },
  "varInspector": {
   "cols": {
    "lenName": 16,
    "lenType": 16,
    "lenVar": 40
   },
   "kernels_config": {
    "python": {
     "delete_cmd_postfix": "",
     "delete_cmd_prefix": "del ",
     "library": "var_list.py",
     "varRefreshCmd": "print(var_dic_list())"
    },
    "r": {
     "delete_cmd_postfix": ") ",
     "delete_cmd_prefix": "rm(",
     "library": "var_list.r",
     "varRefreshCmd": "cat(var_dic_list()) "
    }
   },
   "types_to_exclude": [
    "module",
    "function",
    "builtin_function_or_method",
    "instance",
    "_Feature"
   ],
   "window_display": false
  }
 },
 "nbformat": 4,
 "nbformat_minor": 4
}
